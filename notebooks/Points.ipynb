{
 "cells": [
  {
   "cell_type": "markdown",
   "metadata": {
    "deletable": true,
    "editable": true
   },
   "source": [
    "Particle based simulation tutorial\n",
    "=================="
   ]
  },
  {
   "cell_type": "markdown",
   "metadata": {
    "deletable": true,
    "editable": true
   },
   "source": [
    "**Import LavaVu and create a Viewer object**"
   ]
  },
  {
   "cell_type": "code",
   "execution_count": null,
   "metadata": {
    "collapsed": false,
    "deletable": true,
    "editable": true,
    "scrolled": true
   },
   "outputs": [],
   "source": [
    "import lavavu\n",
    "lv = lavavu.Viewer()"
   ]
  },
  {
   "cell_type": "markdown",
   "metadata": {
    "deletable": true,
    "editable": true
   },
   "source": [
    "**Create an initial set of random points and velocities**"
   ]
  },
  {
   "cell_type": "code",
   "execution_count": null,
   "metadata": {
    "collapsed": false,
    "deletable": true,
    "editable": true,
    "scrolled": true
   },
   "outputs": [],
   "source": [
    "import random\n",
    "import math\n",
    "\n",
    "count = 1000 #Number of particles\n",
    "positions = []\n",
    "velocity = []\n",
    "\n",
    "for p in range(0,count):\n",
    "    #Random positions, with height offset of 3 added to y component\n",
    "    positions.append([random.uniform(-0.05,0.05), 3 + random.uniform(-0.05,.05), random.uniform(-0.05,0.05)])\n",
    "\n",
    "    #Random velocities for the points\n",
    "    velocity.append([random.gauss(0,0.04), random.gauss(0,0.04), random.gauss(0,0.04)])\n"
   ]
  },
  {
   "cell_type": "markdown",
   "metadata": {
    "deletable": true,
    "editable": true
   },
   "source": [
    "**Apply some global settings**"
   ]
  },
  {
   "cell_type": "code",
   "execution_count": null,
   "metadata": {
    "collapsed": false,
    "deletable": true,
    "editable": true,
    "scrolled": true
   },
   "outputs": [],
   "source": [
    "lv[\"gpucache\"] = True        #Enable caching all data on GPU for speed (don't use for very large datasets)\n",
    "lv[\"background\"] = \"#eeeeee\" #Set the plot background colour\n",
    "lv[\"axis\"] = False\n",
    "lv[\"border\"] = False\n",
    "\n",
    "#Here we can set a fixed bounding box\n",
    "#Without this the bounding box is elastic and calculated to fit the geometry\n",
    "#lv[\"min\"] = [-1.0, -1.0, -1.0]\n",
    "#lv[\"max\"] = [1.0, 1.0, 1.0]"
   ]
  },
  {
   "cell_type": "markdown",
   "metadata": {
    "deletable": true,
    "editable": true
   },
   "source": [
    "**Plot ground plane and axis lines as an example of some static data (not time-varying)**\n",
    "\n",
    "This data remains in the visualisation regardless of the time step and must be loaded first, before the time varying data."
   ]
  },
  {
   "cell_type": "code",
   "execution_count": null,
   "metadata": {
    "collapsed": false,
    "deletable": true,
    "editable": true,
    "scrolled": true
   },
   "outputs": [],
   "source": [
    "lines = lv.lines(colours=\"red green blue\")\n",
    "lines.vertices([[-1.0, 0, 0], [1.0, 0, 0], [0, -1.0, 0], [0, 1.0, 0], [0, 0, -1.0], [0, 0, 1.0]])\n",
    "\n",
    "ground = lv.quads(\"ground\", colour=\"darkgrey\", cullface=False, dims=[2,2]);\n",
    "gplane = [[-5, -5], [5, 5]]\n",
    "ground.vertices([[gplane[0][0], 0.0, gplane[0][1]], \n",
    "                 [gplane[1][0], 0.0, gplane[0][1]],\n",
    "                 [gplane[0][0], 0.0, gplane[1][1]],\n",
    "                 [gplane[1][0], 0.0, gplane[1][1]]])"
   ]
  },
  {
   "cell_type": "markdown",
   "metadata": {
    "deletable": true,
    "editable": true
   },
   "source": [
    "**Setup the particle drawing object**"
   ]
  },
  {
   "cell_type": "code",
   "execution_count": null,
   "metadata": {
    "collapsed": false,
    "deletable": true,
    "editable": true,
    "scrolled": true
   },
   "outputs": [],
   "source": [
    "#Plot time varying data: points\n",
    "points = lv.points(pointsize=10, pointtype=\"shiny\", opacity=0.75)\n",
    "\n",
    "#Apply a colourmap, cubeHelix() generates a map with monotonically increasing luminance\n",
    "cmap = points.colourmap(lavavu.cubeHelix()) #, range=[0,0.1])\n",
    "\n",
    "#Add a colour bar\n",
    "points.colourbar()\n"
   ]
  },
  {
   "cell_type": "markdown",
   "metadata": {
    "deletable": true,
    "editable": true
   },
   "source": [
    "**Advect the random particles and reload the positions for each time step**"
   ]
  },
  {
   "cell_type": "code",
   "execution_count": null,
   "metadata": {
    "collapsed": false,
    "deletable": true,
    "editable": true,
    "scrolled": true
   },
   "outputs": [],
   "source": [
    "#This is a very simple toy particle simulation for the sake of demonstration only\n",
    "steps = 300 #Number of steps to run for\n",
    "for s in range(steps):\n",
    "    values = []\n",
    "    #Loop through particles\n",
    "    for i in range(len(positions)):\n",
    "        p = positions[i]\n",
    "        v = velocity[i]\n",
    "        \n",
    "        for c in range(3):\n",
    "            #Advect\n",
    "            p[c] = p[c] + v[c]\n",
    "            \n",
    "            #Apply drag\n",
    "            v[c] *= 0.99\n",
    "\n",
    "        #Bounce off floor\n",
    "        if p[1] < 0:\n",
    "            p[1] = 0\n",
    "            v[1] = -0.9*v[1]\n",
    "                \n",
    "        #Gravity\n",
    "        v[1] -= 0.001\n",
    "\n",
    "        #Values for the points: velocity magnitude\n",
    "        #these values will be used to colour the points\n",
    "        values.append(math.sqrt(v[0]*v[0] + v[1]*v[1] + v[2]*v[2]))\n",
    "\n",
    "    #Add a new time step\n",
    "    lv.addstep()\n",
    "\n",
    "    #Load updated positions and values\n",
    "    points.vertices(positions)\n",
    "    points.values(values)\n"
   ]
  },
  {
   "cell_type": "markdown",
   "metadata": {
    "deletable": true,
    "editable": true
   },
   "source": [
    "**Get the timestep information**"
   ]
  },
  {
   "cell_type": "code",
   "execution_count": null,
   "metadata": {
    "collapsed": false,
    "deletable": true,
    "editable": true,
    "scrolled": true
   },
   "outputs": [],
   "source": [
    "lv.timestep(0)\n",
    "steps = lv.timesteps()\n",
    "print len(steps)\n",
    "print steps[0:10]"
   ]
  },
  {
   "cell_type": "markdown",
   "metadata": {
    "deletable": true,
    "editable": true
   },
   "source": [
    "**Filters allow elements to be filtered based on their data sets**"
   ]
  },
  {
   "cell_type": "code",
   "execution_count": null,
   "metadata": {
    "collapsed": false,
    "deletable": true,
    "editable": true,
    "scrolled": true
   },
   "outputs": [],
   "source": [
    "#Clear filters\n",
    "points[\"filters\"] = []\n",
    "\n",
    "#Filter to a range of values\n",
    "myfilter = points.includemap('default', (0.0, 1.0))"
   ]
  },
  {
   "cell_type": "markdown",
   "metadata": {
    "deletable": true,
    "editable": true
   },
   "source": [
    "**Build a control panel to view and modify the visualisation**"
   ]
  },
  {
   "cell_type": "code",
   "execution_count": null,
   "metadata": {
    "collapsed": false,
    "deletable": true,
    "editable": true,
    "scrolled": false
   },
   "outputs": [],
   "source": [
    "lv.control.Panel()\n",
    "lv.control.TimeStepper()\n",
    "points.control.Range(\"pointsize\", range=(1.,20), step=0.5, command=\"reload\")\n",
    "points.control.Filter(myfilter)\n",
    "lv.control.ObjectList()\n",
    "lv.control.show()"
   ]
  },
  {
   "cell_type": "markdown",
   "metadata": {
    "deletable": true,
    "editable": true
   },
   "source": [
    "**Get the current camera state**\n",
    "\n",
    "This outputs the commands necessary to restore the camera to its current settings, which can be copied and pasted to save a viewpoint for re-use"
   ]
  },
  {
   "cell_type": "code",
   "execution_count": null,
   "metadata": {
    "collapsed": false,
    "deletable": true,
    "editable": true
   },
   "outputs": [],
   "source": [
    "lv.camera()"
   ]
  },
  {
   "cell_type": "markdown",
   "metadata": {
    "deletable": true,
    "editable": true
   },
   "source": [
    "**Create a video animation**\n",
    "\n",
    "Before generating a video we change adjust the visualistion in the interactive view, or use a previously saved camera to set a nicer viewpoint as follows:"
   ]
  },
  {
   "cell_type": "code",
   "execution_count": null,
   "metadata": {
    "collapsed": false,
    "deletable": true,
    "editable": true,
    "scrolled": true
   },
   "outputs": [],
   "source": [
    "lv.translation(-0.0697407573461533, 0.569142580032349, -14.53618717193)\n",
    "lv.rotation(0.140467837452888, 0.303975164890289, 0.0171317551285028, 0.94210988283157)"
   ]
  },
  {
   "cell_type": "code",
   "execution_count": null,
   "metadata": {
    "collapsed": false,
    "deletable": true,
    "editable": true
   },
   "outputs": [],
   "source": [
    "lv.video(resolution=(500,400), fps=50)"
   ]
  },
  {
   "cell_type": "code",
   "execution_count": null,
   "metadata": {
    "collapsed": true,
    "deletable": true,
    "editable": true
   },
   "outputs": [],
   "source": []
  }
 ],
 "metadata": {
  "kernelspec": {
   "display_name": "Python 2",
   "language": "python",
   "name": "python2"
  },
  "language_info": {
   "codemirror_mode": {
    "name": "ipython",
    "version": 2
   },
   "file_extension": ".py",
   "mimetype": "text/x-python",
   "name": "python",
   "nbconvert_exporter": "python",
   "pygments_lexer": "ipython2",
   "version": "2.7.10"
  }
 },
 "nbformat": 4,
 "nbformat_minor": 0
}
