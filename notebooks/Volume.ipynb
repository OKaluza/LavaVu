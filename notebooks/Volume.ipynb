{
 "cells": [
  {
   "cell_type": "markdown",
   "metadata": {},
   "source": [
    "# Loading Volume Data\n",
    "\n",
    "#### Loading and viewing a sample volume dataset\n",
    "\n",
    "LavaVu includes built in support for loading several types of volume data.\n",
    "\n",
    " - Raw floating point data, must provide dimensions or assumes 256^3\n",
    " - Image stacks as PNG or JPG files\n",
    " - Image stacks as multi-page TIFF\n",
    " - Image mosaics containing slices as tiles in a single JPG/PNG image\n",
    "\n",
    "Of course, if the data format you use doesn't have built in support it is a simple matter to find a python library to load it and pass it directly to LavaVu via the numpy interface."
   ]
  },
  {
   "cell_type": "markdown",
   "metadata": {},
   "source": [
    "**Here we are using an example public domain data set downloaded from github**\n",
    "\n",
    "https://raw.githubusercontent.com/OKaluza/sharevol/master/data.jpg\n",
    "\n",
    "#### *Rotational C-arm x-ray scan of a human foot. Tissue and bone are present in the dataset, by Philips Research, Hamburg, Germany.* (Courtesy of http://volvis.org/)\n",
    "    \n",
    "This image contains 256x256x256 tiles, scaled 1:1:1 converted to a single 2d 4096x4096 jpeg image\n"
   ]
  },
  {
   "cell_type": "code",
   "execution_count": null,
   "metadata": {
    "collapsed": false,
    "scrolled": false
   },
   "outputs": [],
   "source": [
    "fn = 'foot_volume_mosaic.jpg'\n",
    "source = 'https://raw.githubusercontent.com/OKaluza/sharevol/master/data.jpg'\n",
    "import os\n",
    "import urllib\n",
    "if not os.path.exists(fn):\n",
    "    print(\"Downloading: \" + fn)\n",
    "    urllib.urlretrieve (source, fn)"
   ]
  },
  {
   "cell_type": "markdown",
   "metadata": {},
   "source": [
    "**Init LavaVu and load the volume**"
   ]
  },
  {
   "cell_type": "code",
   "execution_count": null,
   "metadata": {
    "collapsed": true,
    "scrolled": false
   },
   "outputs": [],
   "source": [
    "import lavavu\n",
    "lv = lavavu.Viewer()\n",
    "vol = lv.file(fn, isovalue=0.5)"
   ]
  },
  {
   "cell_type": "markdown",
   "metadata": {},
   "source": [
    "**Load a custom colour map**"
   ]
  },
  {
   "cell_type": "code",
   "execution_count": null,
   "metadata": {
    "collapsed": false
   },
   "outputs": [],
   "source": [
    "cmap = \"\"\"\n",
    "0.0000=rgba(0,0,0,0)\n",
    "0.0234=rgba(60,60,60,1)\n",
    "0.0469=rgba(18,15,0,1)\n",
    "0.0666=rgba(248,144,87,0.376471)\n",
    "0.1030=rgba(252,224,166,1)\n",
    "0.1460=rgba(255,81,0,1)\n",
    "0.2007=rgba(72,0,20,1)\n",
    "0.2361=rgba(246,245,122,1)\n",
    "0.3101=rgba(255,0,0,1)\n",
    "0.3550=rgba(255,255,255,0)\n",
    "0.8941=rgba(255,255,255,0)\n",
    "1.0000=rgba(255,255,255,1)\n",
    "\"\"\"\n",
    "\n",
    "#Load this colourmap and apply to the loaded volume\n",
    "vol.colourmap(cmap)\n",
    "\n",
    "#Add another colourmap, this one is loaded on the Viewer object to make it available for selection but not active\n",
    "lv.colourmap(\"cubehelix\", lavavu.cubeHelix());\n"
   ]
  },
  {
   "cell_type": "markdown",
   "metadata": {},
   "source": [
    "**Apply some viewer properties and initial view angle**"
   ]
  },
  {
   "cell_type": "code",
   "execution_count": null,
   "metadata": {
    "collapsed": true,
    "scrolled": false
   },
   "outputs": [],
   "source": [
    "lv[\"border\"] = False\n",
    "lv.rotation(0,90,0)\n",
    "lv.background(0.8)"
   ]
  },
  {
   "cell_type": "markdown",
   "metadata": {},
   "source": [
    "**Create an interactive control panel**"
   ]
  },
  {
   "cell_type": "code",
   "execution_count": null,
   "metadata": {
    "collapsed": false,
    "scrolled": false
   },
   "outputs": [],
   "source": [
    "vol.control.ColourMaps()\n",
    "lv.control.Panel()\n",
    "vol.control.Range('opacity', value=1.0)\n",
    "vol.control.Range('density', range=(0,100), value=5)\n",
    "vol.control.Range('power', range=(0.01,5), step=0.01, value=1.0)\n",
    "vol.control.Range('samples', range=(32,2048), step=1, value=256)\n",
    "vol.control.Range('isovalue', step=0.01, value=0.5)\n",
    "vol.control.Range('isoalpha', step=0.01, value=1.0)\n",
    "vol.control.Range('isosmooth', range=(0.01,3), step=0.01, value=0.1)\n",
    "vol.control.Checkbox('isowalls')\n",
    "vol.control.Range('dminclip', step=0.01, value=0.0)\n",
    "vol.control.Range('dmaxclip', step=0.01, value=1.0)\n",
    "lv.control.Range(command='background', range=(0,1), step=0.1, value=0.8)\n",
    "lv.control.show()"
   ]
  },
  {
   "cell_type": "markdown",
   "metadata": {},
   "source": [
    "** Get the camera state, this encapsulates the current view point and provides commands to restore it**"
   ]
  },
  {
   "cell_type": "code",
   "execution_count": null,
   "metadata": {
    "collapsed": false
   },
   "outputs": [],
   "source": [
    "lv.camera()"
   ]
  }
 ],
 "metadata": {
  "kernelspec": {
   "display_name": "Python 2",
   "language": "python",
   "name": "python2"
  },
  "language_info": {
   "codemirror_mode": {
    "name": "ipython",
    "version": 2
   },
   "file_extension": ".py",
   "mimetype": "text/x-python",
   "name": "python",
   "nbconvert_exporter": "python",
   "pygments_lexer": "ipython2",
   "version": "2.7.10"
  }
 },
 "nbformat": 4,
 "nbformat_minor": 1
}
