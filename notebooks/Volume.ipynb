{
 "cells": [
  {
   "cell_type": "markdown",
   "metadata": {
    "slideshow": {
     "slide_type": "slide"
    }
   },
   "source": [
    "# Loading Volume Data\n",
    "\n",
    "#### Loading and viewing a sample volume dataset\n",
    "\n",
    "LavaVu includes built in support for loading several types of volume data.\n",
    "\n",
    " - Raw floating point data, must provide dimensions or assumes 256^3\n",
    " - Image stacks as PNG or JPG files\n",
    " - Image stacks as multi-page TIFF\n",
    " - Image mosaics containing slices as tiles in a single JPG/PNG image\n",
    "\n",
    "Of course, if the data format you use doesn't have built in support it is a simple matter to find a python library to load it and pass it directly to LavaVu via the numpy interface."
   ]
  },
  {
   "cell_type": "markdown",
   "metadata": {
    "slideshow": {
     "slide_type": "slide"
    }
   },
   "source": [
    "**Here we are using an example public domain data set downloaded from github**\n",
    "\n",
    "https://raw.githubusercontent.com/OKaluza/sharevol/master/data.jpg\n",
    "\n",
    "#### *Rotational C-arm x-ray scan of a human foot. Tissue and bone are present in the dataset, by Philips Research, Hamburg, Germany.* (Courtesy of http://volvis.org/)\n",
    "    \n",
    "This image contains 256x256x256 tiles, scaled 1:1:1 converted to a single 2d 4096x4096 jpeg image\n"
   ]
  },
  {
   "cell_type": "markdown",
   "metadata": {
    "slideshow": {
     "slide_type": "slide"
    }
   },
   "source": [
    "**Download the source data**\n",
    "\n",
    "LavaVu includes a function to download a file and save it unless it already exists"
   ]
  },
  {
   "cell_type": "code",
   "execution_count": null,
   "metadata": {
    "scrolled": false,
    "slideshow": {
     "slide_type": "subslide"
    }
   },
   "outputs": [],
   "source": [
    "import lavavu\n",
    "fn = 'foot_volume_mosaic.jpg'\n",
    "source = 'https://raw.githubusercontent.com/OKaluza/sharevol/master/data.jpg'\n",
    "lavavu.download(source, fn)"
   ]
  },
  {
   "cell_type": "markdown",
   "metadata": {
    "slideshow": {
     "slide_type": "slide"
    }
   },
   "source": [
    "**Create a viewer instance and load the volume**"
   ]
  },
  {
   "cell_type": "code",
   "execution_count": null,
   "metadata": {
    "scrolled": false,
    "slideshow": {
     "slide_type": "fragment"
    }
   },
   "outputs": [],
   "source": [
    "lv = lavavu.Viewer()\n",
    "vol = lv.file(fn, isovalue=0.5)"
   ]
  },
  {
   "cell_type": "markdown",
   "metadata": {
    "slideshow": {
     "slide_type": "fragment"
    }
   },
   "source": [
    "**Load a custom colour map**"
   ]
  },
  {
   "cell_type": "code",
   "execution_count": null,
   "metadata": {
    "slideshow": {
     "slide_type": "fragment"
    }
   },
   "outputs": [],
   "source": [
    "cmap = \"\"\"0.0000=rgba(0,0,0,0)\n",
    " 0.0366=rgba(0,0,0,0)\n",
    " 0.0469=rgba(18,15,0,1)\n",
    " 0.0666=rgba(248,144,87,0.376471)\n",
    " 0.1030=rgba(252,224,166,1)\n",
    " 0.1460=rgba(255,81,0,1)\n",
    " 0.2007=rgba(72,0,20,1)\n",
    " 0.2361=rgba(246,245,122,1)\n",
    " 0.3550=rgba(255,255,255,0)\n",
    " 0.8941=rgba(255,255,255,0)\n",
    " 1.0000=rgba(255,255,255,1)\n",
    " \"\"\"\n",
    "#Load this colourmap and apply to the loaded volume\n",
    "vol.colourmap(cmap)"
   ]
  },
  {
   "cell_type": "code",
   "execution_count": null,
   "metadata": {},
   "outputs": [],
   "source": [
    "#Add another colourmap, this one is loaded on the Viewer object to make it available for selection but not active\n",
    "lv.colourmap(lavavu.cubeHelix());"
   ]
  },
  {
   "cell_type": "markdown",
   "metadata": {
    "slideshow": {
     "slide_type": "slide"
    }
   },
   "source": [
    "**Apply some viewer properties and initial view angle**"
   ]
  },
  {
   "cell_type": "code",
   "execution_count": null,
   "metadata": {
    "scrolled": false,
    "slideshow": {
     "slide_type": "fragment"
    }
   },
   "outputs": [],
   "source": [
    "lv[\"border\"] = False\n",
    "lv.rotation(0,90,0)\n",
    "lv.background(0.8)"
   ]
  },
  {
   "cell_type": "markdown",
   "metadata": {
    "slideshow": {
     "slide_type": "fragment"
    }
   },
   "source": [
    "**Create an interactive control panel**"
   ]
  },
  {
   "cell_type": "code",
   "execution_count": null,
   "metadata": {
    "scrolled": false,
    "slideshow": {
     "slide_type": "fragment"
    }
   },
   "outputs": [],
   "source": [
    "vol.control.ColourMaps()\n",
    "lv.control.Panel()\n",
    "vol.control('opacity')\n",
    "vol.control('density')\n",
    "vol.control('power')\n",
    "vol.control('samples')\n",
    "vol.control('isovalue')\n",
    "vol.control('isoalpha')\n",
    "vol.control('isosmooth')\n",
    "vol.control('isowalls')\n",
    "vol.control('minclip')\n",
    "vol.control('maxclip')\n",
    "lv.control('background')\n",
    "lv.control.show()"
   ]
  },
  {
   "cell_type": "code",
   "execution_count": null,
   "metadata": {
    "scrolled": false,
    "slideshow": {
     "slide_type": "subslide"
    }
   },
   "outputs": [],
   "source": [
    "lv.control.show()"
   ]
  },
  {
   "cell_type": "markdown",
   "metadata": {
    "slideshow": {
     "slide_type": "slide"
    }
   },
   "source": [
    "**Get the camera state, this encapsulates the current view point and provides commands to restore it**"
   ]
  },
  {
   "cell_type": "code",
   "execution_count": null,
   "metadata": {
    "slideshow": {
     "slide_type": "fragment"
    }
   },
   "outputs": [],
   "source": [
    "lv.camera()"
   ]
  },
  {
   "cell_type": "markdown",
   "metadata": {
    "slideshow": {
     "slide_type": "fragment"
    }
   },
   "source": [
    "**Get the full visualisation state, this encapsulates all properties as a json object that can be saved and restored**"
   ]
  },
  {
   "cell_type": "code",
   "execution_count": null,
   "metadata": {
    "slideshow": {
     "slide_type": "fragment"
    }
   },
   "outputs": [],
   "source": [
    "lv.save('state.json')"
   ]
  },
  {
   "cell_type": "markdown",
   "metadata": {
    "slideshow": {
     "slide_type": "fragment"
    }
   },
   "source": [
    "**Load a previously prepared state and update the viewer and controls**"
   ]
  },
  {
   "cell_type": "code",
   "execution_count": null,
   "metadata": {
    "slideshow": {
     "slide_type": "fragment"
    }
   },
   "outputs": [],
   "source": [
    "#lv.file('sample.json')\n",
    "#lv.redisplay()      #Update the image\n",
    "#lv.control.update() #Update the control values"
   ]
  },
  {
   "cell_type": "code",
   "execution_count": null,
   "metadata": {},
   "outputs": [],
   "source": [
    "#lv.webgl()"
   ]
  }
 ],
 "metadata": {
  "kernelspec": {
   "display_name": "Python 3",
   "language": "python",
   "name": "python3"
  },
  "language_info": {
   "codemirror_mode": {
    "name": "ipython",
    "version": 3
   },
   "file_extension": ".py",
   "mimetype": "text/x-python",
   "name": "python",
   "nbconvert_exporter": "python",
   "pygments_lexer": "ipython3",
   "version": "3.6.6"
  },
  "widgets": {
   "state": {},
   "version": "1.0.0"
  }
 },
 "nbformat": 4,
 "nbformat_minor": 1
}
