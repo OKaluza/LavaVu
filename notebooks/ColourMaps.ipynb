{
 "cells": [
  {
   "cell_type": "markdown",
   "metadata": {
    "scrolled": false
   },
   "source": [
    "Colour maps\n",
    "======\n",
    "Colour maps can be specified with the colourmap() function\n",
    "\n",
    "Calling colourmap() on a vis object loads a colourmap and applies it to that object in a single command.\n",
    "\n",
    "It can also be called from the viewer object which just loads a colourmap and returns its id, which can be saved and used to set the \"colourmap\" property of a one or more or objects.\n",
    "\n"
   ]
  },
  {
   "cell_type": "code",
   "execution_count": 1,
   "metadata": {
    "collapsed": true
   },
   "outputs": [],
   "source": [
    "#First set up a basic vis so we can display the colourmaps\n",
    "import lavavu\n",
    "lv = lavavu.Viewer(border=False, axis=False, background=\"gray90\", quality=1)"
   ]
  },
  {
   "cell_type": "markdown",
   "metadata": {},
   "source": [
    "**Specifying colour maps**\n",
    "\n",
    "Maps can be loaded as strings or lists of colours, positions can optionally be provided in range [0,1] to set where on the scale the colour will be placed, eg:  \n",
    "```\n",
    "\"red white blue\"\n",
    "\"0.0=red 0.25=white 1.0=blue\"\n",
    "[(0.0, 'red'), (0.25, 'white'), (1.0, 'blue')]\n",
    "['red', 'white', 'blue']  \n",
    "```\n",
    "To provide specific values for colours in their original scale (rather than positions normalized to [0,1] range), place the value in parenthesis instead, eg:  \n",
    "```\n",
    "\"red (100)white (200)blue\"\n",
    "```  \n",
    "\n",
    "When specifying colours you can use either:\n",
    " 1. colour names from https://en.wikipedia.org/wiki/X11_color_names eg: 'red'\n",
    " 2. RGB hex values such as '#ff0000'\n",
    " 3. HTML style rgb(a) values, eg: 'rgb(255,0,0)' or 'rgba(255,0,0,1)'\n",
    "\n",
    "Colour order and positions can be reversed by passing *reverse=True*.  \n",
    "Pass *discrete=True* to produce a discrete colour map instead of a continuously varying one.  \n",
    "*log=True* will apply a logarithmic scale.  \n",
    "Addional properties to the colour map can be passed, for details see: https://github.com/OKaluza/LavaVu/wiki/Property-Reference#colourmap\n",
    "\n",
    "**Colour bars**  \n",
    "\n",
    "The colourbar() function creates a colour bar plot, it can be called from an object and uses that objects colour map, if called on the viewer it must have its map specified at some point with colourmap(data).\n",
    "\n",
    "There are several properties that specify how the colour bar is displayed, see: https://github.com/OKaluza/LavaVu/wiki/Property-Reference#colourbar"
   ]
  },
  {
   "cell_type": "code",
   "execution_count": 2,
   "metadata": {
    "scrolled": false
   },
   "outputs": [
    {
     "data": {
      "text/plain": [
       "'colourbar_colourmap'"
      ]
     },
     "execution_count": 2,
     "metadata": {},
     "output_type": "execute_result"
    }
   ],
   "source": [
    "#Create colour bar then load a colourmap into it\n",
    "cbar1 = lv.colourbar(size=[0.95,15], align=\"top\")\n",
    "cbar1.colourmap([(0, 'green'), (0.75, 'yellow'), (1, 'red')], reverse=True)\n"
   ]
  },
  {
   "cell_type": "code",
   "execution_count": 4,
   "metadata": {},
   "outputs": [
    {
     "data": {
      "text/plain": [
       "'colourbar1_colourmap'"
      ]
     },
     "execution_count": 4,
     "metadata": {},
     "output_type": "execute_result"
    }
   ],
   "source": [
    "#Create another colour bar and load a map, this time with a log scale\n",
    "cbar2 = lv.colourbar(size=[0.95,15], align=\"top\", tickvalues=[20,50,100,200,500])\n",
    "cbar2.colourmap('black (100)goldenrod (101)khaki white', range=[10,1000], logscale=True)\n"
   ]
  },
  {
   "cell_type": "code",
   "execution_count": 5,
   "metadata": {},
   "outputs": [
    {
     "data": {
      "text/html": [
       "<img src='data:image/png;base64,iVBORw0KGgoAAAANSUhEUgAAAoAAAABQCAYAAACJbMQlAAAEPklEQVR4nO3dS3biOBQGYKlPZrUETbo2UYuuVdVEy+jjHgApv/ErJvh+3yCAje0rKfj8AYvkWmsCACCOf15dAAAA5xIAAQCCEQABAIIRAAEAghEAAQCCEQABAIIRAAEAghEAAQCCEQABAIIRAAEAghEAAQCCEQABAIIRAAEAghEAAQCCEQABAIIRAAEAgvnYs3EppTmqEAAAlqu15q3b7gqAKaXU5HR7H/Fxe/Z9x77m8Vq/V4+/MprUvT91e8ZzrnKM71KHtqrj3Y+hDm09/Tmbo9+Nj4ABAIIRAAEAghEAAQCCEQABAIIRAAEAghEAAQCCEQABAIIRAAEAghEAAQCCEQABAIIRAAEAghEAAQCCEQABAIIRAAEAgvnYu4PcpJT+O6ASAABOsTsA1lrzEYUAALBMKaXZs72PgAEAghEAAQCCEQABAILJtdZX1wAAwIk2vwNYSmn2XoAIAMB6L5kEUkppaq251pqFQACA8xyRvVwDCADwRo74Cj4BEAAgGAEQACAYARAAIJhN/wquPfnDv4IDAHgvvgcQACAYHwEDAAQjAAIABCMAAgAEs2kSyIP/AgIA8Bp7JuLuCoAPOaeU77e3x7l1v7/u9jjl/Ln89rh3/3Nd7jz+3EfnuU+O165rtJaR403W/Vien9TdbeN43Y91ef54E20cHm9bG0f3c2/joE/Hxnq27mEbx+sejvV0bXlQy9M+nejffhvHxz7P1NLe/3gbB8ebrbs33pP7menTwViMvNYG/TJs4/jYL2zjRC39Ns7XveB4I22cPN7I7/OPf3+lHz9/pfte7nLrJn8uy/31qbv+7+I887y/9x/1zO6zvSxPPa+1z9FtlteUejXlqeetqKm9bLzNM8sm958HP7v1L6xp9xg/a0e7zQu3yfPru20+aoxntl+0/y1j3N7/9Ppjx3hin4tr2jLGy2pq3z4f43s7On29no+AAQCCEQABAIIRAAEAghEAAQCCEQABAIIRAAEAghEAAQCCEQABAIIRAAEAghEAAQCCEQABAIIRAAEAghEAAQCCEQABAIL5OGInTZNSk9L9R+fO3FZHHBpghz8ppd+vLgLgdLsDYK01H1EIz5VSGv19bcb4XPr7PPr6+ozxuUopu95J8xEwAEAwAiAAQDACIABAMLnW+uoaAAA40epJIP2LPB8XIbrw83hTfavPr6F/Aa/X1ddZet7S7/us7Vf9/V62nLOM8TZ7z1lL+n1VAOwPfrtAs3+ONdW3+vxaxsbPGB9r6XlLv++ztl/193tac84yxtvsPWct7fdV1wAavPPo6xhKKc3eqfzM81o6h36OwTnr6531Wjrki6D5Ov5quq7+2/vGmSvwu3xdzlnXYhbwN+YFBrwT5yx4HwLgN+VEen0+RuFKnLOuzznrWlZ/DYxZwOcwQzQGM+fOYRbw1zNDNAYzvc9xxixg3wMIABDM/5/ppAy0kuf3AAAAAElFTkSuQmCC'>"
      ],
      "text/plain": [
       "<IPython.core.display.HTML object>"
      ]
     },
     "metadata": {},
     "output_type": "display_data"
    }
   ],
   "source": [
    "lv.display(resolution=[640,80], transparent=True)"
   ]
  },
  {
   "cell_type": "code",
   "execution_count": 6,
   "metadata": {},
   "outputs": [
    {
     "name": "stdout",
     "output_type": "stream",
     "text": [
      "align=\"top\"\n",
      "colourbar=true\n",
      "colourmap=\"colourbar_colourmap\"\n",
      "name=\"colourbar\"\n",
      "size=[0.95, 15]\n",
      "visible=true\n"
     ]
    }
   ],
   "source": [
    "print(cbar1)"
   ]
  },
  {
   "cell_type": "markdown",
   "metadata": {},
   "source": [
    "**CubeHelix**\n",
    "\n",
    "Custom [cube helix](https://www.mrao.cam.ac.uk/~dag/CUBEHELIX/) maps can be generated with cubeHelix(), these will always have monotonically varying intensity values to be when printed in greyscale\n"
   ]
  },
  {
   "cell_type": "code",
   "execution_count": 7,
   "metadata": {},
   "outputs": [
    {
     "data": {
      "text/html": [
       "<img src='data:image/png;base64,iVBORw0KGgoAAAANSUhEUgAAAoAAAABQCAYAAACJbMQlAAAE50lEQVR4nO3dW3LiSgwAUMk1u/D+l+Z1+H7EhnbTgAlMUnN1DpWyrVarDWSCJjySy7IEAAB1TL99AgAA/CwNIABAMRpAAIBiNIAAAMVoAAEAitEAAgAUowEEAChGAwgAUIwGEACgGA0gAEAxGkAAgGI0gAAAxWgAAQCK0QACABSjAQQAKEYDCABQzJ93Js/zvH7qRAAAOG9Zlvzu3LcawF12l4iMzD6ag8wuli/kNnPGudPXthmPnJr9Z/HpmLONZUzN/h6fupxH8WvddrsOYtftNqcbG87J+2tc5jwby7jUXrfjyIw1mrHta424nv8h75i7512vazxf75K3H0fsN+d6mRfncjKa8z+OX2P7eT7J2f+5ZcSa62X85vhMTkas8WQ810uthzmXNfex9etrFMuIiDa2bUexS+6J2GG9Yyy3+rnFc5ufca13b+ww9y/U2r5rt/2vOcP9fe693EGteFDr8bpxGZ/yup8RMbX7Xf40nNscR1crx3Uz1jtz99w8GYtofnJeY+sgNspr6j6O9T/9c/sWzCb3uH9dr5m7Phk/uc7HL4PH1O9ebh8fj4+B7b3Qxy63eh6v7eFxdK/ZPh4OYrePp4PHrnY/p+64zbkz1s99NDZcs9le9mN83OZldPOaOf3xsOagRnece51v8hQwAEAxGkAAgGI0gAAAxWgAAQCK0QACABSjAQQAKEYDCABQjAYQAKAYDSAAQDEaQACAYjSAAADFaAABAIrRAAIAFKMBBAAo5s8niqzbpQt+pxDwP7V2WwB+z9sN4LIs+YkTAQDgnHme3/r/tKeAAQCK0QACABSjAQQAKCaXZfntcwAA4Ad9+zeA8zyv774AEQCA1/3Km0DmeV6XZcllWVITCADwcz7Re3kNIADAP+QTH8GnAQQAKEYDCABQjAYQAKCYb/0puPbNH/4UHADAv8XnAAIAFOMpYACAYjSAAADFaAABAIr51ptAdv4KCADA73jnjbhvNYC7jIjMr200+6PjzGZOf/wXajzaRj7PObt9pdbxit2Pn8rpYvmgxtmctR/bjte8jb00p88/PSe3WA6PH429evzq3MiM9XIH5W3sEI/TuV+xeCG3q3vYTsfjy/70MDcf1djnn1lvy83hfkZGu2a3/nac2e9vddr9vuaw/vV6ZzMvm/E9/xLf1sx9jXYsp2Pew/jU1GrHruc+qvX2Jd+u0N8a3f5tbHAL3uRNea7e4Fa/yZuaHxn7P5tj3v5d0o6Nv67ndecrm1rRrXOvdh9vjuNETm5Jz2rGyXWj3b8bW69rNrVvYnmm3jqeO4hFtvvrdY32xoqIzPUQ22sdxptYxrHGYfzsuqM74nBFoxt7cEc/rdndUIPcvJzw93gKGACgGA0gAEAxGkAAgGI0gAAAxWgAAQCK0QACABSjAQQAKEYDCABQjAYQAKAYDSAAQDEaQACAYjSAAADFaAABAIrRAAIAFPPnE0XWiFjXLgAfs3ZbAOAdbzeAy7LkJ04EAIBz5nl+67cingIGAChGAwgAUIwGEACgmFyW5bfPAQCAH/TybwD7Fx3O87y++0JEAAC+nO21Xo23XmoARye0LEsuy5KaQACA95zttV6N915qAH3kCwDA3/NTvZY3gQAAFKMBBAAoRgMIAFDMW38Krn2BodcHAgB81r1e69V4z+cAAgAU8x+OgUWcyLeVCwAAAABJRU5ErkJggg=='>"
      ],
      "text/plain": [
       "<IPython.core.display.HTML object>"
      ]
     },
     "metadata": {},
     "output_type": "display_data"
    },
    {
     "data": {
      "text/html": [
       "<img src='data:image/png;base64,iVBORw0KGgoAAAANSUhEUgAAAoAAAABQCAYAAACJbMQlAAAC2ElEQVR4nO3da46bMBiG0brKLrz/pX3roD+qSEk6MwXsANF7zh8yXBxrbnoUIGlV9QsAgBy/z54AAADHEoAAAGEEIABAGAEIABBGAAIAhBGAAABhBCAAQBgBCAAQRgACAIQRgAAAYQQgAEAYAQgAEEYAAgCEEYAAAGEEIABAGAEIABDmNnJw732ZNREAANarqrb32KEAvGut/bP8at2Z+/w01637zBpv5rZ3PM8nLa8y1tX2ueJyzePR7Xv3fX28d9uMMbZ+PXLsyFhX+X5d9fFP6/Zue9dYe/dNGutKy9e/ja2cAgYACCMAAQDCCEAAgDACEAAgjAAEAAgjAAEAwghAAIAwAhAAIIwABAAIIwABAMIIQACAMAIQACCMAAQACCMAAQDC3GYMsizL0xIAgOsaDsCqajMmAgDAOr33oVfdnAIGAAgjAAEAwghAAIAwrarOngMAAAfa/Qpg730ZvQARAIDtTrkJpPe+VFWrqiYCAQCOM6O9XAMIAPBBZrwFnwAEAAgjAAEAwghAAIAwuz4K7vHmDx8FBwDwWbwPIABAGKeAAQDCCEAAgDACEAAgzK6bQO58CggAwDlGbsQdCsC71trT8qt1e/aZPZ557Rtv5JgjxrL8rN+v/+139L5bxvrUx2c999k/x5F17xz76vPau+3dY+1ZN3vsWf8HZ4z3+je+lVPAAABhBCAAQBgBCAAQRgACAIQRgAAAYQQgAEAYAQgAEEYAAgCEEYAAAGEEIABAGAEIABBGAAIAhBGAAABhBCAAQJjbjEGWZXlaAgBwXcMBWFVtxkQAAFin9z70qptTwAAAYQQgAEAYAQgAEKZV1dlzAADgQJtfAXy96LD3voxeiAgAwF9rW2vr+kebAvCrCVVVq6omAgEAxqxtra3rX20KQG/5AgDwPke1lptAAADCCEAAgDACEAAgzNBHwT1eYOj6QACAub5rra3rX3kfQACAMH8Alk+Wj1n69gcAAAAASUVORK5CYII='>"
      ],
      "text/plain": [
       "<IPython.core.display.HTML object>"
      ]
     },
     "metadata": {},
     "output_type": "display_data"
    }
   ],
   "source": [
    "cbar1.colourmap(lavavu.cubeHelix(samples=16, start=0.5, rot=-0.9, sat=1.0, gamma=1.0, alpha=False))\n",
    "cbar2.colourmap(lavavu.cubeHelix(samples=16, start=1.0, rot=0.9, sat=0.75, gamma=1.0, alpha=False), logscale=False)\n",
    "cbar2[\"tickvalues\"] = []\n",
    "\n",
    "lv.display(resolution=[640,80], transparent=True)\n",
    "\n",
    "#Display in greyscale\n",
    "cbar1.colourmap(lavavu.cubeHelix(samples=16, start=0.5, rot=-0.9, sat=1.0, gamma=1.0, alpha=False), monochrome=True)\n",
    "cbar2.colourmap(lavavu.cubeHelix(samples=16, start=1.0, rot=0.9, sat=0.75, gamma=1.0, alpha=False), monochrome=True)\n",
    "lv.display(resolution=[640,80], transparent=True)"
   ]
  },
  {
   "cell_type": "markdown",
   "metadata": {},
   "source": [
    "**Getting data**\n",
    "\n",
    "Colourmap data can be retreived with .getcolourmap() on an object, which returns the map formatted as a string, .getcolourmap(string=False) returns a python list of (position, colour) tuples instead. Either of these formats are supported when creating a colourmap so the data can be modified and passed to a new colour map."
   ]
  },
  {
   "cell_type": "code",
   "execution_count": 8,
   "metadata": {},
   "outputs": [
    {
     "name": "stdout",
     "output_type": "stream",
     "text": [
      "\n"
     ]
    }
   ],
   "source": [
    "print(cbar1.getcolourmap())"
   ]
  },
  {
   "cell_type": "markdown",
   "metadata": {},
   "source": [
    "**CPT colour tables**\n",
    "\n",
    "Most files in the Generic Map Tools CPT format can be imported.  \n",
    "A large library of these can be found at [cpt-city](http://soliton.vm.bytemark.co.uk/pub/cpt-city/index.html)\n",
    "\n",
    "The *positions=False* argument can be passed to ignore the position data and load only the colours."
   ]
  },
  {
   "cell_type": "code",
   "execution_count": 9,
   "metadata": {},
   "outputs": [
    {
     "data": {
      "text/html": [
       "<img src='data:image/png;base64,iVBORw0KGgoAAAANSUhEUgAAAoAAAABQCAYAAACJbMQlAAAFT0lEQVR4nO3dS44bNxAA0CrNeJMr9BW89UV8BPtcXvsw3nqXda+CBPAicQIDwyyk/qpbv5Y1MPgeMB6qySKLlASUR9JMtm0bAADUY/faCQAA8FgKQACAyigAAQAqowAEAKiMAhAAoDIKQACAyigAAQAqowAEAKiMAhAAoDIKQACAyigAAQAqowAEAKiMAhAAoDIKQACAyigAAQAqowAEAKjM85bgpmnKvRIBAOBybdvmrbGbCsCIiLfvPkZEREZEZA7tQytz3j5cyBzGde0cR8bxuGGmYZrxarnc7uaZ57kWszbPJe2zfUPik9z72zmNG+KHszyV59G+T+R3y34z86q4tX3dsu4lfd1jLPPCcxrfDwu5dg/Zrj3Ej68d59D3z2LzKHaYb8h7aJ9bK05ei6OcprdzIcfhDK7Jrzu0tb7r9rVwzuOH1Opj5XjMNXHzmNG2JmcyBE77Jl05DFp4Sk6G//3mz/jjt9/j+5u/4nmX8XQ4k11EPGXELjN2ub/9vIt9f2bsDmN2hzN6Go8ftbuxz7mP7ebadfd9KZEvL5Hlgv/PH8bkqN1fLyUySt8+GxMlouy/5+Hm4Z9J3Fr7+vnmfbO5l9YrZTiXcfun7CsO85VpfifXuqxvrZ3zva/se7q10rfHqZdR2svtMr1+KqZfa9o+1dfPVyJeRu0yW+to3RvWii3zLY2/IG7prN5/+BxbeAkYAKAyCkAAgMooAAEAKqMABACojAIQAKAyCkAAgMooAAEAKqMABACojAIQAKAyCkAAgMooAAEAKqMABACojAIQAKAyCkAAgMo8b53g65dP98gDAIAH2VwAtm2b90gEAIDLNE1TtsR7CRgAoDIKQACAyigAAQAqk23bvnYOAAA80M0/AWyapmx9AyIAANd7lQ+BNE1T2rbNtm1TEQgA8Dj3qL28BxAA4Bdyj1/BpwAEAKiMAhAAoDIKQACAytz0p+DGH/7wp+AAAH4tfg8gAEBlvAQMAFAZBSAAQGUUgAAAlbnpQyAdfwUEAOB1bPkg7qYCMCLi7buP0a+e2bcz+9bQ7voPt7vrS/GHyL6z6xnmnbYnsfP5Myftpfil9mr/qbzyOP7U98kezuRxKq/5Hk/uIWd7ODPv2pzLYy4fu3Re4/iMGG6P26Pvu27s+Nphb0Nc1z9e63je9T3EbM1RjkvtoznX2uf6l/Ja39fwNFu6H2Myz9Fj4szY7O6rmI6ZPA+Gp3nfOXt4T57fP/Lf+P70Lf7ZfYvvT/uvH7v/jvaU2a09yms0X2afwTTfrn+2duY0jxwlPY8bjx3HL82XkQt9x/POz2J13hg6zuWVo3Gn9ns2r9laa3n1j78TefUxq2stjC1lOqaUiFImfV1SZdSOeWw3du1aKZFR+vb5+BL7BafXY3HsUv9sD4e5cjTlfJ5+vjLkmTettZDrmRzOnuG5M1jaS5f/5AwiSn+2+2/lcLPMw/cjZ9emMUvX40z/y+GrlIiXG+e9Oa/uGEZ918z7/sPn2MJLwAAAlVEAAgBURgEIAFAZBSAAQGUUgAAAlVEAAgBURgEIAFAZBSAAQGUUgAAAlVEAAgBURgEIAFAZBSAAQGUUgAAAlVEAAgBU5nnrBF+/fLpHHgAAPMjmArBt27xHIgAAXKZpmrIl3kvAAACVUQACAFRGAQgAUJls2/a1cwAA4IGu/gng/E2HTdOUrW9EBABg79Ja69rrY1cVgEsJtW2bbdumIhAAYJtLa61rr89dVQD6lS8AAD/Po2otHwIBAKiMAhAAoDIKQACAymz6U3DjNxh6fyAAwH2t1VrXXp/zewABACrzP/JwNDGqaj4AAAAAAElFTkSuQmCC'>"
      ],
      "text/plain": [
       "<IPython.core.display.HTML object>"
      ]
     },
     "metadata": {},
     "output_type": "display_data"
    }
   ],
   "source": [
    "try:\n",
    "    #Check if file exists, if not download it from cpt-city\n",
    "    import os\n",
    "    fn = 'arctic.cpt'\n",
    "    if not os.path.isfile(fn):\n",
    "        import urllib\n",
    "        url = 'http://soliton.vm.bytemark.co.uk/pub/cpt-city/arendal/arctic.cpt'\n",
    "        urllib.urlretrieve(url, fn)\n",
    "        \n",
    "    #Load with positions calibrated\n",
    "    cbar1.colourmap(lavavu.loadCPT(fn))\n",
    "    #Load colour data only\n",
    "    cbar2.colourmap(lavavu.loadCPT(fn, positions=False))\n",
    "    \n",
    "    lv.display(resolution=[640,80], transparent=True)\n",
    "except:\n",
    "    pass"
   ]
  },
  {
   "cell_type": "markdown",
   "metadata": {},
   "source": [
    "**Predefined maps**\n",
    "\n",
    "There are a number of colour maps available for convenience which can be accessed by passing their name instead of a list of colours when creating a colour map."
   ]
  },
  {
   "cell_type": "code",
   "execution_count": 10,
   "metadata": {
    "scrolled": true
   },
   "outputs": [
    {
     "name": "stdout",
     "output_type": "stream",
     "text": [
      "['diverge', 'isolum', 'isorainbow', 'cubelaw', 'cubelaw2', 'smoothheat', 'coolwarm', 'spectral', 'drywet', 'elevation', 'dem1', 'dem2', 'dem3', 'dem4', 'ocean', 'bathy', 'seafloor', 'abyss', 'ibcso', 'gebco', 'topo', 'sealand', 'nighttime', 'world', 'geo', 'terra', 'relief', 'globe', 'earth', 'etopo1', 'cubhelix', 'hot', 'cool', 'copper', 'gray', 'split', 'polar', 'red2green', 'paired', 'categorical', 'haxby', 'jet', 'panoply', 'no_green', 'wysiwyg', 'seis', 'rainbow', 'nih']\n"
     ]
    }
   ],
   "source": [
    "#Get the list of colormap names\n",
    "#suggest: lv.colourmaps.(names)\n",
    "maps = lv.defaultcolourmaps()\n",
    "print(maps)"
   ]
  },
  {
   "cell_type": "markdown",
   "metadata": {},
   "source": [
    "The first eight maps are selected to vary evenly in luminance to reduce banding artifacts  \n",
    "Following these are further maps inspired by the default colour tables from the [Generic Mapping Tools](http://gmt.soest.hawaii.edu/)  \n",
    "Those maps that have fixed colour positions included can also be loaded without the position data by preceding the name with '@'\n",
    "\n",
    "The colourmap data can be retrieved for modification as follows:"
   ]
  },
  {
   "cell_type": "code",
   "execution_count": 11,
   "metadata": {},
   "outputs": [
    {
     "name": "stdout",
     "output_type": "stream",
     "text": [
      "#440088 #831bb9 #578ee9 #3db6b6 #6ce64d #afeb56 #ffff88\n"
     ]
    }
   ],
   "source": [
    "print(lv.defaultcolourmap('cubelaw'))"
   ]
  },
  {
   "cell_type": "markdown",
   "metadata": {},
   "source": [
    "**Plot of all built in maps**  \n",
    "Finally we will plot all the available built in colourmaps in continuous and discrete modes"
   ]
  },
  {
   "cell_type": "code",
   "execution_count": 12,
   "metadata": {
    "collapsed": true,
    "scrolled": false
   },
   "outputs": [],
   "source": [
    "#Clear the plot and create some new colour bars\n",
    "lv.clear()\n",
    "#Default continuous colour bar\n",
    "cbar1 = lv.colourbar(size=[0.95,15], align=\"top\")\n",
    "#Discrete colour bar with bin labels enabled\n",
    "cbar2 = lv.colourbar(size=[0.95,15], align=\"top\", binlabels=True)"
   ]
  },
  {
   "cell_type": "code",
   "execution_count": 13,
   "metadata": {
    "scrolled": false
   },
   "outputs": [
    {
     "name": "stdout",
     "output_type": "stream",
     "text": [
      "diverge\n"
     ]
    },
    {
     "data": {
      "text/html": [
       "<img src='data:image/png;base64,iVBORw0KGgoAAAANSUhEUgAAAoAAAABQCAYAAACJbMQlAAAEgUlEQVR4nO3dvXbTWBQG0KNZeQJalVBQ8mo8BwWvRklJcwuYB5jpNEXijPwTW5EUSydn77XIMjIW3726kb/EVtK11gIAgDr+2joAAAD3pQACABSjAAIAFKMAAgAUowACABSjAAIAFKMAAgAUowACABSjAAIAFKMAAgAUowACABSjAAIAFKMAAgAUowACABSjAAIAFKMAAgAU87DkwX3fD2sFAQBgutZaN/exiwpgRMTn7z+i6yIeEwzPt7t4/PB4exjdHm3vHvvj4+3DPg63h9Htl7d3T3d2T//3eH8vbf8/w3CS83j7+f5Ots8e9/G+po77fB+3x328jwXjvrSvGeOeelyPxj3xuJ6N+4XxjbdfPK43xv3i+Mbbz9bc24379FjMHvelfd1p3LM/j1cYdwxPX8cOzx9G207uO/o3J9tu3jfa37X7huF5bJfue3aW8do43ijrtYxXs17KcSPPpfxP93VX7lst6+RxXM9669jfzHot/8T57NbIOmkcC7PeGMflHOsf++5a/rWyzlgX3bdfsYSXgAEAilEAAQCKUQABAIpRAAEAilEAAQCKUQABAIpRAAEAilEAAQCKUQABAIpRAAEAilEAAQCKUQABAIpRAAEAilEAAQCKeVi6g59fv6yRAwCAO1lcAFtr3RpBAACYpu/7YcnjvQQMAFCMAggAUIwCCABQTNda2zoDAAB3NPs7gH3fD0vfgAgAwOttchFI3/dDa61rrXVKIADA/azRvbwHEAAgkTV+BJ8CCABQjAIIAFCMAggAUMysXwU3vvjDr4IDAMjFzwEEACjGS8AAAMUogAAAxSiAAADFzLoI5MBvAQEA2MaSC3EXFcCIiM/ffyzdxSY+fvhn6wizffzw79YRZpP9/rLmjoj4lDh7/P6zdYLZuj9/bx1hlqy5IyLid97smec9dfZvvxY93kvAAADFKIAAAMUogAAAxSiAAADFKIAAAMUogAAAxSiAAADFKIAAAMUogAAAxSiAAADFKIAAAMUogAAAxSiAAADFKIAAAMU8LN3Bz69f1shxdz+3DgAAsJHFBbC11q0R5N76vh9kvz/Z7y9r7gjZt5I1e9bcEbJvJXv2JY/3EjAAQDEKIABAMQogAEAxXWtt6wwAANxRiu8A9n0/LH2z4xYOubPmj1j+JtOtZJ/zzNm3zvAamec6It98H2Sd96y5DzJmz/48uufci68CfmuZr9CJyHuVdETOk0XE8ZrJtn6yZ986w2tknuuIfPN9kHXes+Y+yLpeIvI+j+59naT4DmBme27/79WeP+FukZ2pss633LyW59G3kaIAZj34rbXu8Cdb/r1/5TJF5jFkzg5TZF3jGXNnzHyQ+Xk0Yt/9ZXcF8NJkZTn4ez7Qt1zKfvj73sf00rxnXTNZTtaZ1zvbyrLGL8lwXrkky/n8vdlzf9ndewCznhQizrNnOsmd5sz0Xpf3NO+Zs8MUmdb4WNbcEbnO56cyZs5idwXw1Lg5Z1sEmbNnln3ex18pZsyfRfZ1klnGNW69bCPzvO89u58DCABQzH+yzfd37UIIPQAAAABJRU5ErkJggg=='>"
      ],
      "text/plain": [
       "<IPython.core.display.HTML object>"
      ]
     },
     "metadata": {},
     "output_type": "display_data"
    },
    {
     "name": "stdout",
     "output_type": "stream",
     "text": [
      "isolum\n"
     ]
    },
    {
     "data": {
      "text/html": [
       "<img src='data:image/png;base64,iVBORw0KGgoAAAANSUhEUgAAAoAAAABQCAYAAACJbMQlAAAEkElEQVR4nO3dvXLbRhQG0IuMWseZceMZvIBLv5qfw4VfzaVLN9skvSdxCqQJJQAiLYpLEbi658z4hyS4+LAEwU8iIQ2ttQAAoI7ftg4AAMBtKYAAAMUogAAAxSiAAADFKIAAAMUogAAAxSiAAADFKIAAAMUogAAAxSiAAADFKIAAAMUogAAAxSiAAADFKIAAAMUogAAAxSiAAADF3PXceRzH6VpBAAA4X2ttuPS+XQUwIuLDl68RETEMEREPfXBYRJoWl4f7v/6/bXH5ymNFRAzTWcsPi4Wm1eUXGCums5ZfbP4wrS6/0FhnLP+rx+WaYw0xzTZvWv47TQ+bOrtuuWzEcL/cbPlHy51Yz7Qa63651bqn1VgRj65brnc2xhPb8avMw7Qa64l1m6/lWIvnyCzXcplj2z0/Fhwfa7ncaj2zZU7eNtvGODZfi/8/LHP0tnnWI2M92o4TY117vtbb+Nrm6/FcxeL6xboe3b46Tt7fPn9OzG9fvT51rX+dv2f98+d37/qX1/et/9T8XrL+U/N7yfpPze9y/cPn79HDW8AAAMUogAAAxSiAAADFKIAAAMUogAAAxSiAAADFKIAAAMUogAAAxSiAAADFKIAAAMUogAAAxSiAAADFKIAAAMUogAAAxdz1DvDt08dr5AAA4Ea6C2BrbbhGEAAAzjOO49Rzf28BAwAUowACABSjAAIAFDO01rbOAADADV38HcBxHKfeDyACAPB8m5wEMo7j1FobWmuDEggAcDvX6F4+AwgAkMg1fgSfAggAUIwCCABQjAIIAFDMRb8Kbn7yh18FBwCQi58DCABQjLeAAQCKUQABAIpRAAEAirnoJJADvwUEAGAbPSfidhXAiIgPX772DrGJN2/+3jrCxTJn/z1x9vc//tw6wkXe//hr6wgXy5z97c+c+0tExNt/c877H0lzR0S8+yfvsfHdT9m3MHz+3nV/bwEDABSjAAIAFKMAAgAUowACABSjAAIAFKMAAgAUowACABSjAAIAFKMAAgAUowACABSjAAIAFKMAAgAUowACABSjAAIAFHPXO8C3Tx+vkQMAgBvpLoCtteEaQW5tHMdJ9tuT/fay5o6QfStZs2fNHSH7VrJn77m/t4ABAIpRAAEAilEAAQCKGVprW2cAAOCGUnwHcBzHqffDjls45M6aP6L/Q6ZbyT7nmbNvneE5Ms91RL75Psg671lzH2TMnv11dM+5u88CfmmZz9CJyHuWdETOg0XEcp/Jtv9kz751hufIPNcR+eb7IOu8Z819kHV/icj7Orr3/STFdwAz23P7f632/IR7iuycK+t8y81zeR19GSkKYNYHv7U2HP5ky7/3r1zOkXkbMmeHc2TdxzPmzpj5IPPraMS++8vuCuCxycry4O/5gX7KseyHy3vfplPznnWfyXKwzry/s60s+/gxGY4rx2Q5nr82e+4vu/sMYNaDQsTj7JkOcuucmT7r8prmPXN2OEemfXwua+6IXMfztYyZs9hdAVybN+dsO0Hm7Jlln/f5V4oZ82eRfT/JLOM+bn/ZRuZ533t2PwcQAKCY/wC4kLSfvdvlHAAAAABJRU5ErkJggg=='>"
      ],
      "text/plain": [
       "<IPython.core.display.HTML object>"
      ]
     },
     "metadata": {},
     "output_type": "display_data"
    },
    {
     "name": "stdout",
     "output_type": "stream",
     "text": [
      "isorainbow\n"
     ]
    },
    {
     "data": {
      "text/html": [
       "<img src='data:image/png;base64,iVBORw0KGgoAAAANSUhEUgAAAoAAAABQCAYAAACJbMQlAAAEvElEQVR4nO3dTZLTVhQG0CuqMwAqVQkZag2shR2wFtbClljDmyUZJBMSKlEGlImslv+kxtLte04VVY38JH96etgfbbu7a60FAAB1vNg6AAAA96UAAgAUowACABSjAAIAFKMAAgAUowACABSjAAIAFKMAAgAUowACABSjAAIAFKMAAgAUowACABSjAAIAFKMAAgAUowACABSjAAIAFPOwZue+74enCgIAwPVaa93SfVcVwIiI95+GiPjaA7+mGHfC4fy2brptPPbabRHd6Paz27rjHMfjLm07znHdtojoLszBo21XHPPM/d9yTqe3z8/zqdwREV13w9gbch9vvzxf53OfHzvNO81z3e2njrfw/ob52+9y3wvv7/zX43M7PvbZsTM5urPHPbff43wXxw7z+U5dk0vn8m3sieNO5/j//SY5h7ntc+cUJ+Z7uv/02py4fXLc+XOYP+5c1tn7uuK4j+fx2uNOr9Wp+147Zma+xn8f5m/rnnrMyXUy+no4d/2ma+i2MXM5DyMePXXMjj3s0c2PnTnGt6OfmJvZ7cMk17mxo/GPzvXUHAwzo4f5uTrePvpqnOXdh7k9r+YlYACAYhRAAIBiFEAAgGIUQACAYhRAAIBiFEAAgGIUQACAYhRAAIBiFEAAgGIUQACAYhRAAIBiFEAAgGIUQACAYhRAAIBiHtYe4OPb7ilyAABwJ6sLYGtNAwQAuKO+74c1+3sJGACgGAUQAKAYBRAAoJiutbZ1BgAA7mjxdwD7vh/WvgERAIDbbfIhkL7vh9Za11rrlEAAgPt5iu7lPYAAAIk8xY/gUwABAIpRAAEAilEAAQCKWfSr4MYf/vCr4AAAcvFzAAEAivESMABAMQogAEAxCiAAQDGLPgRy4LeAAABsY80HcVcVwIiI959ydsCX3a9bR1js1Yvfto6w2Mv4fesIi72OnPP+Y+I5//nfP7aOsNibf/7cOsJiv3z5a+sIi7z58mXrCIv99HfO59KIiNef876Y+OrzD1tHWKx792HV/nmvGgAAiyiAAADFKIAAAMUogAAAxSiAAADFKIAAAMUogAAAxSiAAADFKIAAAMUogAAAxSiAAADFKIAAAMUogAAAxSiAAADFPKw9wMe33VPkAADgTlYXwNZaygbY9/0g+/3Jfn9Zc0fIvpWs2bPmjpB9K9mzr9nfS8AAAMUogAAAxSiAAADFdK21rTMAAHBHKb4D2Pf9sPbNjls45M6aP2L9m0y3kn3OM2ffOsMtMs91RL75Psg671lzH2TMnv15dM+5V38K+HvL/AmdiLyfko7I+WARcbxmsq2f7Nm3znCLzHMdkW++D7LOe9bcB1nXS0Te59G9r5MU3wHMbM/t/7na8z+4S2TnWlnnW25u5Xn0+0hRALNe/NZad/iTLf/e/+dyjcznkDk7XCPrGs+YO2Pmg8zPoxH77i+7K4Bzk5Xl4u/5Ql8yl/3w972f06l5z7pmsjxYZ17vbCvLGp+T4XFlTpbH8+dmz/1ld+8BzPqgEPE4e6YHuWnOTO91eU7znjk7XCPTGh/Lmjsi1+P5VMbMWeyuAE6Nm3O2RZA5e2bZ5338P8WM+bPIvk4yy7jGrZdtZJ73vWf3cwABAIr5D5fjak18sfdEAAAAAElFTkSuQmCC'>"
      ],
      "text/plain": [
       "<IPython.core.display.HTML object>"
      ]
     },
     "metadata": {},
     "output_type": "display_data"
    },
    {
     "name": "stdout",
     "output_type": "stream",
     "text": [
      "cubelaw\n"
     ]
    },
    {
     "data": {
      "text/html": [
       "<img src='data:image/png;base64,iVBORw0KGgoAAAANSUhEUgAAAoAAAABQCAYAAACJbMQlAAAE70lEQVR4nO3dS27bVhQG4HPddFKgHQWoCw76GHUL7TiLyhKyqO6g3QZbINPMzQ4UynpQMiXapo7P9wGBRPHeq8Nrhvz1oN36vg8AAOq4W7sAAABelwAIAFCMAAgAUIwACABQjAAIAFCMAAgAUIwACABQjAAIAFCMAAgAUIwACABQjAAIAFCMAAgAUIwACABQjAAIAFCMAAgAUIwACABQzLslnbuuG56rEAAA5uv7vl3bd1EAjIj4EJ+iRYvWIiJabCrZLG+X2s7jmwei7bZuez0jvi5Pt31s9+T6nZp2x51af1TnuZomtm92TYfrJ2s6brvdjhPbt1dTixja/m20FkOLiLuvt+Py2XUHY92dGfsunlh3PPb4nFP9tv3vzq07MebOc06OfXbdiXmbmKNNu3PrDscaYvOKadgsx7Bp//XR7fo2vq66YH2LGHbaRUQMO+2263fGm71+HG93/Qs/30vO07byNkTEEO3EbbQh2u7tmbbn+z5cNNZR2xm3EQ8X93nsO1HLyT4PT/edOeb5tvF4XN7eb/uPt6k24/124vGp++Oxdk77NnPMscY2q+3ssbc1XrF9U23aJTU8noP22x6fa8d2e/1OtHs8H049dnx+29v+J9ptn+vwnPxGtqW1j7GEj4ABAIoRAAEAihEAAQCKEQABAIoRAAEAihEAAQCKEQABAIoRAAEAihEAAQCKEQABAIoRAAEAihEAAQCKEQABAIoRAAEAinm3dIC/4uPmznCw4nAZAICbsDgA9n3fnqMQAADm6bpu0VttPgIGAChGAAQAKEYABAAopvV9v3YNAAC8oqvfAey6blj6BUQAAC63ykUgXdcNfd+3vu+bEAgA8HqeI3v5DiAAQCLP8Sv4BEAAgGIEQACAYgRAAIBirvpTcLsXf/hTcAAAufg9gAAAxfgIGACgGAEQAKAYARAAoJirLgIZ+SsgAADrWHIh7qIAGBHxIT4tHWIVP39/v3YJV/vlh5/WLuFqn//IO++f/8xZ+5f3/65dwtW+vP9v7RKu9uP932uXcLX7+3/WLuEqv94tPqWt5rdvvl27hKv9/l3ec1Lm2lv7uKi/j4ABAIoRAAEAihEAAQCKEQABAIoRAAEAihEAAQCKEQABAIoRAAEAihEAAQCKEQABAIoRAAEAihEAAQCKEQABAIoRAAEAiml931/dueu64RlrAQBgpr7v27V936355Gvqum5Q++tT++vLWneE2teStfasdUeofS3Za1/S30fAAADFCIAAAMUIgAAAxSy6CAQAgHxSvAPYdd2Q8Yrjse6s9UfkvdI7+5xnrn3tGi6Rea4j8s33KOu8Z617lLH27OfRW6578VXALy3zFToRea+Sjsh5sIjY32ey7T/Za1+7hktknuuIfPM9yjrvWeseZd1fIvKeR299P0nxDmBmt5z+36pb/g/3FLUzV9b5VjeXch59GSkCYNYfft/3bfyXrf5bf+UyR+ZtyFw7zJF1H89Yd8aaR5nPoxG3nV9uLgBOTVaWH/4t/6CfMlX7uHzr23Rq3rPuM1kO1pn3d9aVZR+fkuG4MiXL8fytueX8cnPfAcx6UIg4rj3TQe6wzkzfdXlL8565dpgj0z6+K2vdEbmO54cy1pzFzQXAQ7vJOdtOkLn2zLLP++4rxYz1Z5F9P8ks4z5uf1lH5nm/9dr9HkAAgGL+BzC1nIvKUYqsAAAAAElFTkSuQmCC'>"
      ],
      "text/plain": [
       "<IPython.core.display.HTML object>"
      ]
     },
     "metadata": {},
     "output_type": "display_data"
    },
    {
     "name": "stdout",
     "output_type": "stream",
     "text": [
      "cubelaw2\n"
     ]
    },
    {
     "data": {
      "text/html": [
       "<img src='data:image/png;base64,iVBORw0KGgoAAAANSUhEUgAAAoAAAABQCAYAAACJbMQlAAAEvklEQVR4nO3dTXLTWBQG0Pu6qGbaDMJEOwCWwaKyBBbVi+kevA3Qc9SD2IniKFi2TKTLPafKFUfo59OzkL/YVtJ67wEAQB1/bB0AAIC3pQACABSjAAIAFKMAAgAUowACABSjAAIAFKMAAgAUowACABSjAAIAFKMAAgAUowACABSjAAIAFKMAAgAUowACABSjAAIAFKMAAgAU827NwsMwjLcKAgDAcr33du2yqwpgRMTX+BbRIsbWIlocbi3GY6Tj/cP0h3njYcJh+nTZx/uLl1223mgtxjjJd0mmx2V/vt4XmeLp/sWZXiw7+T5eGbfDfszu35JMJ8s+3T+z3vjJY7lg2Wf7dnIctDZGxHhYzfTreFj8+bSHh3F8mnc6XxsPUSf3n32d387jOg/rmpsWc+uc5jh8fbmd6bom/z6beel2Xtm32cwvtzM/hq+MzSvbedjHp3XNTTsdm9l9e7Gdyx73s9uZuS2bPj6fPl67nvPTz277Z/OPt8x0wXbPTR9vu92bjfd4230+HHgPd4/3Hxd6nCva9HlmOs/hfjuZP07mbyfzT+dpkwxz62+neRZmjtYms86vv12cedm2a4/XYV3tPtbwFjAAQDEKIABAMQogAEAxCiAAQDEKIABAMQogAEAxCiAAQDEKIABAMQogAEAxCiAAQDEKIABAMQogAEAxCiAAQDEKIABAMe/WruDvuI8Y4+EGAMDurS6Avfd2iyAAACwzDMOql968BQwAUIwCCABQjAIIAFBM671vnQEAgDd09SuAwzCMaz+ACADA5Ta5CGQYhrH33nrvTQkEAHg7t+hePgMIAJDILX4FnwIIAFCMAggAUIwCCABQzFV/Cm568Yc/BQcAkIvfAwgAUIy3gAEAilEAAQCKUQABAIq56iKQI38FBABgG2suxF1VACMivsa3tavYxPfPf20d4Wrfv+TN/t+XD1tHuNpw98/WEa4y3P27dYSrDR/zZv/048fWEa72acyZ/fOY9zWJP+/yntff3+U9r7//mDd7a/erlvcWMABAMQogAEAxCiAAQDEKIABAMQogAEAxCiAAQDEKIABAMQogAEAxCiAAQDEKIABAMQogAEAxCiAAQDEKIABAMQogAEAxrfd+9cLDMIw3zAIAwEK993btsu+23PiWhmEYZX97sr+9rLkjZN9K1uxZc0fIvpXs2dcs7y1gAIBiFEAAgGIUQACAYlZdBAIAQD4pXgEchmHMeMXxMXfW/BF5r/TOPuaZs2+d4RKZxzoi33gfZR33rLmPMmbP/jy659yrrwL+1TJfoROR9yrpiJwni4jnx0y24yd79q0zXCLzWEfkG++jrOOeNfdR1uMlIu/z6N6PkxSvAGa25/b/u9rzf7hzZGeprOMtN5fyPPprpCiAWR/83ns73rLl3/tPLktk3ofM2WGJrMd4xtwZMx9lfh6N2Hd/2V0BnBusLA/+nh/oc+ayH7/f+z69Nu5Zj5ksJ+vMxzvbynKMz8lwXpmT5Xz+u9lzf9ndZwCznhQiXmbPdJI7zZnpsy6/07hnzg5LZDrGp7Lmjsh1Pj+VMXMWuyuAp6bNOdtBkDl7ZtnHffqTYsb8WWQ/TjLLeIw7XraRedz3nt3vAQQAKOZ/zG5Ri1u2qN8AAAAASUVORK5CYII='>"
      ],
      "text/plain": [
       "<IPython.core.display.HTML object>"
      ]
     },
     "metadata": {},
     "output_type": "display_data"
    },
    {
     "name": "stdout",
     "output_type": "stream",
     "text": [
      "smoothheat\n"
     ]
    },
    {
     "data": {
      "text/html": [
       "<img src='data:image/png;base64,iVBORw0KGgoAAAANSUhEUgAAAoAAAABQCAYAAACJbMQlAAAE50lEQVR4nO3dUW7bRhQF0DeF0aBACrQfSYEyy8misoQsqptpgVlGy37EtCiakiXRMfXyzkGCWBI5vBoy1LVl2q33HgAA1PHT3gEAAHhbCiAAQDEKIABAMQogAEAxCiAAQDEKIABAMQogAEAxCiAAQDEKIABAMQogAEAxCiAAQDEKIABAMQogAEAxCiAAQDEKIABAMQogAEAxD1tWHoZhfK0gAABcrvfebl13UwGMiPgcX+Pb1tv0JyJaTIlaO2RrhyUj2uzj2fLRZutOj7b5krNH2sq40eKwyctyPHukHSVa5FiMu3jeZ8ed5bho+bZ8bsfP79kaL+Q4Wn4tR1t5bk85Vra4Nv9X7Ne1HIf9Op+zMSLGx6HHb3kW9x3+ffycpD2/7+ixo3FObCPGxTgr2zha9jDO0X3TOItcR/edyLW6jUWu1W083v+U+8w4T89/dZx4XGY+zoltTHNzbhvLfXZunJVc8/3YFrlObmOWa30/Ph1yp2/P5vrbdg6Prd0+O+azdcbVMS66fXJ747PtvzjmJfMwm4PrnuP67cM6Z/bFLfMyG/Pa5/jyNsYX5n5tzDYbp80emz6Iw2vUcpnHj9ti+Vgs3xbLz5eZv4aujd+WeS7M/HRePzN+uzrzZduuPV+PY7UvsYW3gAEAilEAAQCKUQABAIpRAAEAilEAAQCKUQABAIpRAAEAilEAAQCKUQABAIpRAAEAilEAAQCKUQABAIpRAAEAilEAAQCKedg6wF/x5XBjXFlg7T4AAHazuQD23ttrBAEA4DLDMGz6Epu3gAEAilEAAQCKUQABAIppvfe9MwAA8IZu/grgMAzj1m9ABADgertcBDIMw9h7b733pgQCALyd1+hevgcQACCR1/gRfAogAEAxCiAAQDEKIABAMTf9Krj5xR9+FRwAQC5+DiAAQDHeAgYAKEYBBAAoRgEEACjmpotAJn4LCADAPrZciLupAEZEfI6vW4fYxYdffts7ws1yZ/997wg3+/jp770j3CRr7oiIPz79s3eEm73/89+9I9zs/fDf3hFu8mvS3BERP3/Ie15/9yHvef3dx7zZW/uyaX1vAQMAFKMAAgAUowACABSjAAIAFKMAAgAUowACABSjAAIAFKMAAgAUowACABSjAAIAFKMAAgAUowACABSjAAIAFKMAAgAU03rvN688DMP4ilkAALhQ773duu7Dnhvf0zAMo+xvT/a3lzV3hOx7yZo9a+4I2feSPfuW9b0FDABQjAIIAFCMAggAUMymi0AAAMgnxVcAh2EYM15xPOXOmj8i75Xe2ec8c/a9M1wj81xH5JvvSdZ5z5p7kjF79tfRe869+Srg7y3zFToRea+Sjsh5sog4PmayHT/Zs++d4RqZ5zoi33xPss571tyTrMdLRN7X0Xs/TlJ8BTCze27/P6p7/g/3Etm5VNb5lptreR39PlIUwKw7v/fepr/Z8t/7Zy6XyPwcMmeHS2Q9xjPmzph5kvl1NOK++8vdFcC1ycqy8+95R79kLft0+96f06l5z3rMZDlZZz7e2VeWY3xNhvPKmizn8x/NPfeXu/sewKwnhYjn2TOd5JY5M32vy48075mzwyUyHeNzWXNH5DqfL2XMnMXdFcCleXPOdhBkzp5Z9nmff6aYMX8W2Y+TzDIe446XfWSe93vP7ucAAgAU8z8A0R6LSQhgFAAAAABJRU5ErkJggg=='>"
      ],
      "text/plain": [
       "<IPython.core.display.HTML object>"
      ]
     },
     "metadata": {},
     "output_type": "display_data"
    },
    {
     "name": "stdout",
     "output_type": "stream",
     "text": [
      "coolwarm\n"
     ]
    },
    {
     "data": {
      "text/html": [
       "<img src='data:image/png;base64,iVBORw0KGgoAAAANSUhEUgAAAoAAAABQCAYAAACJbMQlAAAFJ0lEQVR4nO3dMXLbRhQG4EWiIincujA8SeVTuHFvH9cHcOMZX8FF3CSbOskkjQshhQgSBEGKAmiCz+/7ZjwAicXujxUEPouE1NRaCwAAefywdgAAAK5LAQgAkIwCEAAgGQUgAEAyCkAAgGQUgAAAySgAAQCSUQACACSjAAQASEYBCACQjAIQACAZBSAAQDIKQACAZBSAAADJKAABAJJRAAIAJHO3ZOe2bbtLBQEA4Hy11mbuvosKwFJKef3uQ2mappSmPCzLw/JhdbNsmr1tfduHJoM2w8ebfbfty2CM7eNBm3K67S7HONdorEfaTueYOPamOdn2oO+JuZia1+nMU23Lps/95XD77rmye+7cfY+1m9y3ecIY43bNjH0Gcz1ud854Z4+xO+az9i2llNJtH5fSlX61Kd1uv9JNtj/Y1oz279eb0f7bDcP2g23NRJZt7om+mom+93Lu7zPVvs8/lbPPf9BXMxpv234iyzbnKMux9t1ue+m6wXx2m0PYbRvm2ms7sW37eNv/Ztxu1//e2HuPR2OfynLW2BNZjo7dH9uRLCfHe0qW42P327rBeplc7zaLXc7xenfk+cMxjrSbNcbgeDfr3ZHn+/XuyPP9+uRcLBpjel67iTG6veVuPvaW991mlxNtuq5094NxDvoeLe9P9DPZ52GbvT7vzzyeQX+PH/MZx3Ey42iMR4657/Ptv5/LEt4CBgBIRgEIAJCMAhAAIBkFIABAMgpAAIBkFIAAAMkoAAEAklEAAgAkowAEAEhGAQgAkIwCEAAgGQUgAEAyCkAAgGQUgAAAydwt7eDj+zcXiAEAwLUsLgBrrc0lggAAcJ62bbsl+3sLGAAgGQUgAEAyCkAAgGSaWuvaGQAAuKLZPwFs27Zb+gFEAACebpWbQNq27WqtTa21UQQCAFzPJWovnwEEAAjkEr+CTwEIAJCMAhAAIBkFIABAMrP+FNzw5g9/Cg4AIBa/BxAAIBlvAQMAJKMABABIRgEIAJDMrJtAev4KCADAOpbciLuoACyllNfvPiztYhUvX71YO8JsL1+1a0eY7ZcXP64dYbZf28XfLqt4/tNfa0eY7fnPcbM/+/uPtSPM9uyfmDcHfv3y29oRZvv65cvaEWarn35fO8Jsf36K+3369r/Pi/b3FjAAQDIKQACAZBSAAADJKAABAJJRAAIAJKMABABIRgEIAJCMAhAAIBkFIABAMgpAAIBkFIAAAMkoAAEAklEAAgAkowAEAEjmbmkHH9+/uUAMAACuZXEBWGttLhHk2tq27WS/PtmvL2ruUmRfS9TsUXOXIvtaomdfsr+3gAEAklEAAgAkowAEAEimqbWunQEAgCsK8RPAtm27pR92XEOfO2r+UpZ/yHQt0ec8cva1MzxF5LkuJd5896LOe9TcvYjZo7+O3nLuxXcBf2uR79ApJe5d0qXEvFiUsn/ORDt/omdfO8NTRJ7rUuLNdy/qvEfN3Yt6vpQS93X01s+TED8BjOyWq//v1S1/wz1Gds4Vdb7l5qm8jn4bIQrAqF/8WmvT/4uW/9b/53KOyMcQOTucI+o5HjF3xMy9yK+jpdx2/XJzBeDUZEX54t/yF/oxU9n7x7d+TMfmPeo5E+ViHfl8Z11RzvEpEa4rU6Jcz783t1y/3NxnAKNeFEo5zB7pIjfOGemzLt/TvEfODueIdI4PRc1dSqzr+VjEzFHcXAE4Nqyco50EkbNHFn3eh/9TjJg/iujnSWQRz3Hnyzoiz/utZ/d7AAEAkvkf/3CeLpZb4UwAAAAASUVORK5CYII='>"
      ],
      "text/plain": [
       "<IPython.core.display.HTML object>"
      ]
     },
     "metadata": {},
     "output_type": "display_data"
    },
    {
     "name": "stdout",
     "output_type": "stream",
     "text": [
      "spectral\n"
     ]
    },
    {
     "data": {
      "text/html": [
       "<img src='data:image/png;base64,iVBORw0KGgoAAAANSUhEUgAAAoAAAABQCAYAAACJbMQlAAAFDElEQVR4nO3dzW4bVRgG4O9ERUKAxJ4RrEBICCTgEnohXXBhXfQOegNcAGIBEvuuZlMWLFkgdVjE0/pn7Ngzqcdfv+dRKyfHc8Zvxif2mziTtL7vAwCAOu7WDgAAwHUpgAAAxSiAAADFKIAAAMUogAAAxSiAAADFKIAAAMUogAAAxSiAAADFKIAAAMUogAAAxSiAAADFKIAAAMUogAAAxSiAAADFKIAAAMU8WTK567rhsYIAAHC+vu/b3LmLCmBExPO7p9FaRGttc7n9/3AsDsZOz4sL9t1a22x/3r6n85yeFzu57vvv7vgQLfa2i2Hv/c122/Nis7+d97e2i+3Mw9427zlLG2/83TGOics2NX43c954e3cz5uzd9sXzdi733t6+I8brYmK7Y+NT87fvjNbe5Zjc7/4+DuefHj8y/3BB7S+cI+On5p2/v9aud1v784YYImLY/Bvejtxf3o8fjEVEDMPO6Ntthol9TG6/uRwm9rEZ39/H6e0fyj+MMTZbtXdvnzv2dvzysVgwd2dsO9tFYzGxv4g3J7Y5et0499R1D+R4Ew/seyLr0cyT+9kcv2H77TYurZ2xcbs4NifOmXM499j+Nkv4ogybT6vJOWPGNgzRhvvLGGLv7f3r7t+PIaLF9HVn72fzKXjyNo5c1+LCrFvXvXj5LJbwEjAAQDEKIABAMQogAEAxCiAAQDEKIABAMQogAEAxCiAAQDEKIABAMQogAEAxCiAAQDEKIABAMQogAEAxCiAAQDEKIABAMU+W7uCXN78+Rg4AAK5kcQHs+749RhAAAM7Tdd2wZL6XgAEAilEAAQCKUQABAIppfd+vnQEAgCua/R3AruuGpT+ACADA5VY5CaTruqHv+9b3fVMCAQCu5zG6l58BBABI5DF+BZ8CCABQjAIIAFCMAggAUMysPwW3ffKHPwUHAJCL3wMIAFCMl4ABAIpRAAEAilEAAQCKmXUSyMhfAQEAWMeSE3EXFcCIiOft6dJdrOKHnz9ZO8JsX33339oRZvv8x0/XjjDbRz99uXaEWdq3X68dYbb2xfdrR5jt739frR1htr/+yfni0G+vFz+lreb3Vx+vHWG2/o/P1o4w2zd/vl47wmwvXj5bND/nZzkAALMpgAAAxSiAAADFKIAAAMUogAAAxSiAAADFKIAAAMUogAAAxSiAAADFKIAAAMUogAAAxSiAAADFKIAAAMUogAAAxbS+72dP7rpueMQsAACcqe/7NnfukzVvfE1d1w2yX5/s15c1d4Tsa8maPWvuCNnXkj37kvleAgYAKEYBBAAoRgEEAChm0UkgAADkk+I7gF3XDRnPOB5zZ80fkfdM7+zHPHP2tTNcIvOxjsh3vEdZj3vW3KOM2bM/j95y7sVnAb9vmc/Qich7lnREzgeLiN01k239ZM++doZLZD7WEfmO9yjrcc+ae5R1vUTkfR699XWS4juAmd1y+/9Q3fIn3ENk51xZj7fcXMrz6PuRogBmvfP7vm/j/2z5b/0rl3Nk/hgyZ4dzZF3jGXNnzDzK/Dwacdv95eYK4NTBynLn3/Id/ZCp7OP7t/4xHTvuWddMlgfrzOuddWVZ41MyPK5MyfJ4/qG55f5ycz8DmPVBIeIwe6YHuf2cmX7W5UM67pmzwzkyrfFtWXNH5Ho835cxcxY3VwD3bTfnbIsgc/bMsh/37a8UM+bPIvs6ySzjGrde1pH5uN96dr8HEACgmP8BWM2GhvGsc0cAAAAASUVORK5CYII='>"
      ],
      "text/plain": [
       "<IPython.core.display.HTML object>"
      ]
     },
     "metadata": {},
     "output_type": "display_data"
    },
    {
     "name": "stdout",
     "output_type": "stream",
     "text": [
      "drywet\n"
     ]
    },
    {
     "data": {
      "text/html": [
       "<img src='data:image/png;base64,iVBORw0KGgoAAAANSUhEUgAAAoAAAABQCAYAAACJbMQlAAAEsElEQVR4nO3dP24bRxQH4DeGyyBA/jTBIhdwmeRCyWGS0kdKE5c+QipnShfuXHFSkCtTJGVTS1rLp/d9gMAlObvzOBotfyI1VOu9BwAAdbxYuwAAAJ6WAAgAUIwACABQjAAIAFCMAAgAUIwACABQjAAIAFCMAAgAUIwACABQjAAIAFCMAAgAUIwACABQjAAIAFCMAAgAUIwACABQjAAIAFDMy0t2nqZpXKsQAADO13tvS/e9KABGRPz1x6torUVrsbvc3z68vOZ99297sUoNx/e9WFD717hvtO2cGLG33SIiWoztRYyD7e3lrs283XZt4qFjPn0/c9tT/czHPtXPfJyjfh7o+5r9zG3nr80D21+6vvS+67Z9Po9ljIgx5sm2t735tH3v/s1x2zFa7Abl+Fibaxw/zjx+W6HPw+O3qxw/xog2tpexu2ybT9sxItoYd23vri9oG5sTfY2I2Bxc37U92n/EA/09ou1dfwe1fLa2U4/lof4e3/aoljZixIho2zPkaGN7gru7/fD6cbvt9e3t23Z7t+/tc3Tf3u3bc+puwrS41/en2z/f7rk8lo9vX8clvAUMAFCMAAgAUIwACABQjAAIAFCMAAgAUIwACABQjAAIAFCMAAgAUIwACABQjAAIAFCMAAgAUIwACABQjAAIAFCMAAgAUEzrvS/eeZqmccVaAAA4U++9Ld335ZqdAwDweJe+COctYACAYgRAAIBiBEAAgGIuWgQCAEA+i18BnKZpWAUMAPD0VlkEMk3T6L233nsTAgEAns41spe/AQQASOQaH8EnAAIAFCMAAgAUIwACABSz6F/B7S/+8K/gAABy8TmAAADFeAsYAKAYARAAoBgBEACgmEWLQGb+CwgAwDouWYh7UQCMiPjz91eXHmIVv/3689olLJa59nc/fLd2CYu9+/H7tUtY5O/4Ze0SFstc+/s3eT8g4f2bnG8OffPPf2uXsNi3b/IuyPzw079rl7BY5to/vn190f45f8oBAFhMAAQAKEYABAAoRgAEAChGAAQAKEYABAAoRgAEAChGAAQAKEYABAAoRgAEAChGAAQAKEYABAAoRgAEAChGAAQAKKb13hfvPE3TuGItAACcqffelu77cs3O1zRN01D701P708tad4Ta15K19qx1R6h9Ldlrv2R/bwEDABQjAAIAFCMAAgAUc9EiEAAA8knxCuA0TSPjiuO57qz1R+Rd6Z19zDPXvnYNj5F5rCPyjfcs67hnrXuWsfbsz6O3XPfFq4C/tswrdCLyrpKOyHmyiLg/Z7LNn+y1r13DY2Qe64h84z3LOu5Z655lnS8ReZ9Hb32epHgFMLNbTv/P1S3/wH2J2jlX1vFWN4/lefTrSBEAs37ze+9t/spW/63/5nKOzI8hc+1wjqxzPGPdGWueZX4ejbjt/HJzAfDUYGX55t/yN/pLTtU+X7/1x/TQuGedM1lO1pnnO+vKMsdPyXBeOSXL+fy5ueX8cnN/A5j1pBBxXHumk9xhnZn+1uU5jXvm2uEcmeb4vqx1R+Q6nx/KWHMWNxcAD+0n52yTIHPtmWUf9/3fFDPWn0X2eZJZxjluvqwj87jfeu0+BxAAoJj/AQrw9hSsDxZ1AAAAAElFTkSuQmCC'>"
      ],
      "text/plain": [
       "<IPython.core.display.HTML object>"
      ]
     },
     "metadata": {},
     "output_type": "display_data"
    },
    {
     "name": "stdout",
     "output_type": "stream",
     "text": [
      "elevation\n"
     ]
    },
    {
     "data": {
      "text/html": [
       "<img src='data:image/png;base64,iVBORw0KGgoAAAANSUhEUgAAAoAAAABQCAYAAACJbMQlAAAElklEQVR4nO3dQXLiVhQF0Pex293trsoGNMqopxlnR6msI5UtpLK/v4VkFjKwcWEhuoXAll6/c6psg/iCi/gW12DZrfceAADUsVs7AAAA70sBBAAoRgEEAChGAQQAKEYBBAAoRgEEAChGAQQAKEYBBAAoRgEEAChGAQQAKEYBBAAoRgEEAChGAQQAKEYBBAAoRgEEAChGAQQAKOb+mpWHYdjfKggAAPP13tvSda8qgBERv//9Z9zd38Xdh7u4u7+L3W4XrbXnj5g8vWst4viyiGjxPGbp6Yjn8zc4/Xzdu6Pr3rXT00+XP92Pl9PRXo99vvzl9Oi6d0f3YTfK8cp+omvvXz7NWDZavp8Y8N1lzwumav9+P5H5LfOdy3I+33nt1ZeJM6fL2sxxL2dnjIt4mgC3HBdtYvE31r3ZNhjf9ni9dmbcOEs7Wjpv3NOydmbcOMuScePMp/etTY77VuYL7ttondNLpx7LUa5vzYlXq0/N5dPl7fWn1FnbxPfW1LJLxp7O3be7rbcae4vbmnv5JeNueV3ZbvPz45dZ13+Ot4ABAIpRAAEAilEAAQCKUQABAIpRAAEAilEAAQCKUQABAIpRAAEAilEAAQCKUQABAIpRAAEAilEAAQCKUQABAIpRAAEAimm998UrD8Owv2EWAABm6r23pever3njAABc7toX4bwFDABQjAIIAFCMAggAUMxVB4EAAJDP4lcAh2HYOwoYAOD9rXIQyDAM+9576703JRAA4P3conv5HUAAgERu8Sf4FEAAgGIUQACAYhRAAIBiFv0ruOODP/wrOACAXPwdQACAYrwFDABQjAIIAFCMAggAUMyig0AO/BcQAIB1XHMg7lUFMCLit7/+uPYqVvHr15/XjrDYLx8f146w3D//rp1gsfZf0hfMPySeL59/WjvBYrvE2T98/LR2hEUePuXMHRHx+Jj3+/Th4WHtCItlzv758ctV6yd9RgMAYCkFEACgGAUQAKAYBRAAoBgFEACgGAUQAKAYBRAAoBgFEACgGAUQAKAYBRAAoBgFEACgGAUQAKAYBRAAoBgFEACgmNZ7X7zyMAz7G2YBAGCm3ntbuu79mje+pmEY9rK/P9nfX9bcEbKvJWv2rLkjZF9L9uzXrO8tYACAYhRAAIBiFEAAgGKuOggEAIB8UrwCOAzDPuMRx4fcWfNH5D3SO/s2z5x97QyXyLytI/Jt74Os2z1r7oOM2bM/j24599VHAb+1zEfoROQ9Sjoi584i4vWcyTZ/smdfO8MlMm/riHzb+yDrds+a+yDrfInI+zy69XmS4hXAzLbc/n9UW/6G+x7ZmSvr9pabS3kefRspCmDWB7/33g4f2fJv/SeXOTLfh8zZYY6sczxj7oyZDzI/j0Zsu79srgBObawsD/6WH+jvmcp+OL/1+3Ruu2edM1l21pnnO+vKMsenZNivTMmyP//RbLm/bO53ALPuFCJOs2fayY1zZvpdlx9pu2fODnNkmuPHsuaOyLU/H8uYOYvNFcCx4+acbRJkzp5Z9u1+/JNixvxZZJ8nmWWc4+bLOjJv961n93cAAQCK+R9nStv2Hnzh7gAAAABJRU5ErkJggg=='>"
      ],
      "text/plain": [
       "<IPython.core.display.HTML object>"
      ]
     },
     "metadata": {},
     "output_type": "display_data"
    },
    {
     "name": "stdout",
     "output_type": "stream",
     "text": [
      "dem1\n"
     ]
    },
    {
     "data": {
      "text/html": [
       "<img src='data:image/png;base64,iVBORw0KGgoAAAANSUhEUgAAAoAAAABQCAYAAACJbMQlAAAFJUlEQVR4nO3dQXLbZBgG4O93uoe9ZrrtDhY9QC8AWzgBPQbcg5t0CkfgDF2ALlEYi0WsRJGdxpHSyF++55nJRJYt/a//qPZb20pa3/cBAEAdu60DAADwvBRAAIBiFEAAgGIUQACAYhRAAIBiFEAAgGIUQACAYhRAAIBiFEAAgGIUQACAYhRAAIBiFEAAgGIUQACAYhRAAIBiFEAAgGIUQACAYl6t2bjruuGpggAAcL6+79vSbVcVwIiIt+8jWotorUVrETFZHtdHm90m7l6+3u4L20Qc7eOcbU7luXebuP8+PMU2N7d57DZxYh8PzG+LFq3tbr7vJsstDpdbixa76+vH626uv72utRa7uL2utXbY3+0+djfbHsaL2f6Pxm+T/c3Hn+1jmnlyu13M9jHNHG2SaX4fpnMyvw/TOZmPP52T+fjTOZmPP94uIobh+iv2EcMQw2R5uj5iiBgOt5ksX68/XJ4sD6fWz/Y7zMe4Z3m4J8dxpuMcJzN9YbyzM92T48E5mM3HqfGGw9d+iBj2h+V9zNZF7Ichhv3h+3T5Zt31bcfl/WG7O/s7te5mu8n403WzccftpuPu9+P9uB13zHZ3rMm6ozGO192MNRnjeN041ol5mo17d55mY0yzHL2scM7rDA/dZu31L2kfjx+jtRZtdxW73e4R33ex21195e+PyXN1/bh8kfdj4f25WlfhvAUMAFCMAggAUIwCCABQjAIIAFCMAggAUIwCCABQjAIIAFCMAggAUIwCCABQjAIIAFCMAggAUIwCCABQjAIIAFCMAggAUMyrtTv46/dxaZisHU7cEgDIZ4iI/7YOwRNbXQD7vm9PEQQAgPN0Xbfq1TZvAQMAFKMAAgAUowACABTT+r7fOgMAAM9o8SuAXdcNaz+ACADA421yEkjXdUPf963v+6YEAgA8n6foXj4DCACQyFP8Cj4FEACgGAUQAKAYBRAAoJhFfwpuevKHPwUHAJCL3wMIAFCMt4ABAIpRAAEAilEAAQCKWXQSyMhfAQEA2MaaE3FXFcCIiLfv1+5hG2+++2brCIu9+f7brSMs9u71T1tHWOzd65+3jrDI509/bB1hsX8//bl1hMU+fPx76wiLffj4z9YRFvq8dYAV8mb/4Zdft46w2I/vf9s6wmJtd7Vqe28BAwAUowACABSjAAIAFKMAAgAUowACABSjAAIAFKMAAgAUowACABSjAAIAFKMAAgAUowACABSjAAIAFKMAAgAUowACABTT+r5fvHHXdcMTZgEA4Ex937el277acvAtdV03yP78ZH9+WXNHyL6VrNmz5o6QfSvZs6/Z3lvAAADFKIAAAMUogAAAxaw6CQQAgHxSvALYdd2Q8YzjMXfW/BF5z/TOPueZs2+d4TEyz3VEvvkeZZ33rLlHGbNnfx695NyrzwL+2jKfoROR9yzpiJwPFhF3j5lsx0/27FtneIzMcx2Rb75HWec9a+5R1uMlIu/z6KUfJyleAczsktv/S3XJ/+AeIjvnyjrfcvNYnke/jhQFMOsPv+/7Nn5ly3/p/3M5R+b7kDk7nCPrMZ4xd8bMo8zPoxGX3V8urgCemqwsP/xL/kE/5FT28fKl36f75j3rMZPlwTrz8c62shzjp2R4XDkly+P5S3PJ/eXiPgOY9UEh4jh7pge5ec5Mn3V5SfOeOTucI9MxPpU1d0Sux/O5jJmzuLgCODdtztkOgszZM8s+79P/KWbMn0X24ySzjMe442Ubmef90rP7PYAAAMX8Dy6xicgo2tgbAAAAAElFTkSuQmCC'>"
      ],
      "text/plain": [
       "<IPython.core.display.HTML object>"
      ]
     },
     "metadata": {},
     "output_type": "display_data"
    },
    {
     "name": "stdout",
     "output_type": "stream",
     "text": [
      "dem2\n"
     ]
    },
    {
     "data": {
      "text/html": [
       "<img src='data:image/png;base64,iVBORw0KGgoAAAANSUhEUgAAAoAAAABQCAYAAACJbMQlAAAE20lEQVR4nO3dQW7rVBQG4HOTMEFCYoCQkIUQA6RO39sDYh3AutgCG3hiC0hMEBvwBphSxQxa9yVu2qZ2X53T831SVSexb/7cuMnfJG5b3/cBAEAdm7UDAADwuhRAAIBiFEAAgGIUQACAYhRAAIBiFEAAgGIUQACAYhRAAIBiFEAAgGIUQACAYhRAAIBiFEAAgGIUQACAYhRAAIBiFEAAgGIUQACAYnZLNu66bnipIAAAnK/v+zZ320UFMCKi/fpjbHfXsd1dx+az67vl7XaIXWux27TYbja3y5vYbdrR8rbdnrdpsbtbvll/e7A83XZ7tP7x8nYyzvGY9zOM225PZBiXt5MMm4gY9kMMw/7m+34fwzBEjMsHl8Xk9GPrDvt9xHBw/u26d+NMLnvOujfXOV7f0+Octe5h7um6j9z+B9cdhhgiYogWwxCT5XZ7OmIY2sfLjk6fuuyB9abjHixHtNg/dp2H2Z68/qev8+MPVIuIFjdntbvz2uF5d5edOK+NY7VorR2MeTD2qfMOxmlnjB0nxm5njD3NfS/jA2NPc7d78/RI3nGbs8a+P87JuT8jdztj7JNzfzTmdO5vxs389RZuw7hPrJ7jBe4L8mqb7aLtvQUMAFCMAggAUIwCCABQjAIIAFCMAggAUIwCCABQjAIIAFCMAggAUIwCCABQjAIIAFCMAggAUIwCCABQjAIIAFCMAggAUMxu6QDDbx/iOiKuXyAMfDQ8sAwALLW4APZ9314iCAAA5+m6btGrI94CBgAoRgEEAChGAQQAKKb1fb92BgAAXtHsVwC7rhuWfgARAIDnW+UgkK7rhr7vW9/3TQkEAHg9L9G9fAYQACCRl/gTfAogAEAxCiAAQDEKIABAMbP+FdzhwR/+FRwAQC7+DiAAQDHeAgYAKEYBBAAoRgEEAChm1kEgI/8FBABgHUsOxF1UACMi4uefFg+xhg+//LB2hNm++OuftSPM9vfvf6wdYbY///1q7Qiz/Pflt2tHmG379XdrR5jt82++XzvCbO/fv187wizv3r1bO8JsV1dXa0cgmbbZLtreW8AAAMUogAAAxSiAAADFKIAAAMUogAAAxSiAAADFKIAAAMUogAAAxSiAAADFKIAAAMUogAAAxSiAAADFKIAAAMUogAAAxbS+72dv3HXd8IJZAAA4U9/3be62uzWvfE1d1w2yvz7ZX1/W3BGyryVr9qy5I2RfS/bsS7b3FjAAQDEKIABAMQogAEAxiw4CAQAgnxSvAHZdN2Q84njMnTV/RN4jvbPPeebsa2d4jsxzHZFvvkdZ5z1r7lHG7NmfRy859+KjgD+1zEfoROQ9Sjoi54NFxPE+k23/yZ597QzPkXmuI/LN9yjrvGfNPcq6v0TkfR699P0kxSuAmV1y+3+rLvkH7imyc66s8y03z+V59NNIUQCz3vl937fxK1v+S//N5RyZb0Pm7HCOrPt4xtwZM48yP49GXHZ/ubgCeGqystz5l3xHP+VU9vH0pd+mh+Y96z6T5cE68/7OurLs46dkeFw5Jcvj+Vtzyf3l4j4DmPVBIeJ+9kwPctOcmT7r8pbmPXN2OEemffxQ1twRuR7PpzJmzuLiCuDUYXPOthNkzp5Z9nk//E0xY/4ssu8nmWXcx+0v68g875ee3d8BBAAo5n/UOga1wdPSbQAAAABJRU5ErkJggg=='>"
      ],
      "text/plain": [
       "<IPython.core.display.HTML object>"
      ]
     },
     "metadata": {},
     "output_type": "display_data"
    },
    {
     "name": "stdout",
     "output_type": "stream",
     "text": [
      "dem3\n"
     ]
    },
    {
     "data": {
      "text/html": [
       "<img src='data:image/png;base64,iVBORw0KGgoAAAANSUhEUgAAAoAAAABQCAYAAACJbMQlAAAE6klEQVR4nO3dwXLbVBQG4HNNJ0OB7mClp4A1rBmWHZ6kz9YtPEeXXWkNO1ghFraDpMjEkdNIp+f7ZjJVr62r3zeq/TeOktb3fQAAUMdh6wAAALwsBRAAoBgFEACgGAUQAKAYBRAAoBgFEACgGAUQAKAYBRAAoBgFEACgGAUQAKAYBRAAoBgFEACgGAUQAKAYBRAAoBgFEACgGAUQAKCYV7fs3HXd8FxBAAC4Xt/3be2+NxXAiIif3r+LFhGHaHGIOG3Hw7EW0U5/n97vmrGFudt8bP3c59uOGWdjo32ePNbaNPOtc7fleeZjLYaI4fgxDP8ct2OIOG8/Nn6//2g8/tt+dDxG85/HY3bc/xs/zbk0lvcxDTHEafP4GTptx2m73W/HcBqLNtp+bLxN7hOn+Ydoo+3z8drs2MuZluY9brcrM53mvZRpcrylTNc91muyTtdglKm1aK1FOxyitcN0+9Cmf07GxvddGhvvtzS2MP/FuR7PF59gzouP+eI6XJj/iY852vFZLO5f1k4bbfw6d759NHZ/+9r7j29/huPvMdNNxz9uT4daTLfGc43uHwv3fzD3/P5tNt3D+07vMj9Smw3PE7bZHwvzx3gJLsw/u305T5su/dK6zW5fXLc2PUq7u4tbeAsYAKAYBRAAoBgFEACgGAUQAKAYBRAAoBgFEACgGAUQAKAYBRAAoBgFEACgGAUQAKAYBRAAoBgFEACgGAUQAKAYBRAAoJjW9/3qnbuuG54xCwAAV+r7vq3d99WWBwcA4Olu/SKct4ABAIpRAAEAilEAAQCKuekiEAAA8ln9FcCu6wZXAQMAvLxNLgLpum7o+771fd+UQACAl/Mc3cv3AAIAJPIcP4JPAQQAKEYBBAAoRgEEAChm1a+CG1/84VfBAQDk4ucAAgAU4y1gAIBiFEAAgGIUQACAYlZdBHLmt4AAAGzjlgtxbyqAERE/vn936xSbeHv4eusIq739Im/2vz78tnWE1f7+8PvWEVb5+MfrrSOs9vHPr7aOsNr3P7/dOsJqP/zy69YR1vnm260TrPfmu60TrPbl3ZutI6z2OnH2dnd30/7eAgYAKEYBBAAoRgEEAChGAQQAKEYBBAAoRgEEAChGAQQAKEYBBAAoRgEEAChGAQQAKEYBBAAoRgEEAChGAQQAKEYBBAAopvV9v3rnruuGZ8wCAMCV+r5va/d9teXBt9R13SD7y5P95WXNHSH7VrJmz5o7QvatZM9+y/7eAgYAKEYBBAAoRgEEACjmpotAAADIJ8VXALuuGzJecXzOnTV/RN4rvbOveebsW2d4isxrHZFvvc+yrnvW3GcZs2d/Hd1z7puvAv7UMl+hE5H3KumInE8WEdNzJtv5kz371hmeIvNaR+Rb77Os654191nW8yUi7+vo3s+TFF8BzGzP7f9zted/cI+RnWtlXW+5eSqvo59GigKY9ZPf9307f2TLv/f/uVwj82PInB2ukfUcz5g7Y+azzK+jEfvuL7srgEuLleWTv+dP9GOWsp//vvfHdGnds54zWZ6sM5/vbCvLOb4kw/PKkizP55+bPfeX3X0PYNYnhYiH2TM9yc1zZvpel89p3TNnh2tkOsfHsuaOyPV8Ppcxcxa7K4Bz4+ac7STInD2z7Os+/p9ixvxZZD9PMst4jjtftpF53fee3c8BBAAo5l+UJu8F+hXR0QAAAABJRU5ErkJggg=='>"
      ],
      "text/plain": [
       "<IPython.core.display.HTML object>"
      ]
     },
     "metadata": {},
     "output_type": "display_data"
    },
    {
     "name": "stdout",
     "output_type": "stream",
     "text": [
      "dem4\n"
     ]
    },
    {
     "data": {
      "text/html": [
       "<img src='data:image/png;base64,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'>"
      ],
      "text/plain": [
       "<IPython.core.display.HTML object>"
      ]
     },
     "metadata": {},
     "output_type": "display_data"
    },
    {
     "name": "stdout",
     "output_type": "stream",
     "text": [
      "ocean\n"
     ]
    },
    {
     "data": {
      "text/html": [
       "<img src='data:image/png;base64,iVBORw0KGgoAAAANSUhEUgAAAoAAAABQCAYAAACJbMQlAAAEU0lEQVR4nO3dS3LbRhQF0G5K5XEyFfLxCpKqzOz9b6WX4EyRgQWFH0gCAYqNp3dOlcokKICXzTZ4+QFVW2sFAIA8Dr0DAABwXwogAEAyCiAAQDIKIABAMgogAEAyCiAAQDIKIABAMgogAEAyCiAAQDIKIABAMgogAEAyCiAAQDIKIABAMgogAEAyCiAAQDIKIABAMo9bVh6GYbxVEAAAlmut1bXrbiqAp+r86frK8iWnP+26Pa874Lq1XvdTPvj377XOquswXst/SqmlPp8dSy0vi1+WHWaWTacPL8uP1q2l1DKeXf7/smlbh5llx9s/2fbJ5T/XO8wsO9n27PbHs8svt3+Yu86jZYeZcZgdr5ntv36bzm/z5ZhGzfVzVtbnPdrluVKPz59cMvvvybL6zrbLG9uuc7+5cP1Xrvft/HO3d8ntvna83jg3e90Lt1W3Zn5rzTe29c54fXm+H9fyFjAAQDIKIABAMgogAEAyCiAAQDIKIABAMgogAEAyCiAAQDIKIABAMgogAEAyCiAAQDIKIABAMgogAEAyCiAAQDIKIABAMo+329Q4f3q8+MV1mwS4sbHYzQA5bS6ArbV6iyAAACwzDMOm56/eAgYASEYBBABIRgEEAEimttZ6ZwAA4I5WvwI4DMO49QOIAABcr8tBIMMwjK212lqrSiAAwP3conv5DCAAQCC3+Ao+BRAAIBkFEAAgGQUQACCZVX8K7vjgD38KDgAgFt8DCACQjLeAAQCSUQABAJJRAAEAkll1EMjEXwEBAOhjy4G4mwpgaA+/9E6w3sOvvROs9xg4+1//9E6wzt9Bc5cSOvu3P3/0jrDat68xs3//+m/vCKs9PfzWO8JqTw+/946w2tPjH70jrPalbvsSFm8BAwAkowACACSjAAIAJKMAAgAkowACACSjAAIAJKMAAgAkowACACSjAAIAJKMAAgAkowACACSjAAIAJKMAAgAkowACACRTW2urVx6GYbxhFgAAFmqt1bXrPva88p6GYRhlvz/Z7y9q7lJk7yVq9qi5S5G9l+jZt6zvLWAAgGQUQACAZBRAAIBkNh0EAgBAPCFeARyGYYx4xPGUO2r+UuIe6R19zCNn753hGpHHupR44z2JOu5Rc08iZo/+OLrn3JuPAv5okY/QKSXuUdKlxNxZlHI6Z6LNn+jZe2e4RuSxLiXeeE+ijnvU3JOo86WUuI+je58nIV4BjGzP7f+z2vN/uPfIzlJRx1turuVx9GOEKIBR7/zWWp1+ouXf+zOXJSLfhsjZYYmoczxi7oiZJ5EfR0vZd3/ZXQGcG6wod/6e7+j3zGWfzu/9Nr027lHnTJSddeT5Tl9R5vicCPuVOVH255/NnvvL7j4DGHWnUMpl9kg7ufOckT7r8pnGPXJ2WCLSHD8WNXcpsfbn5yJmjmJ3BfDccXOONgkiZ48s+rgfP1OMmD+K6PMksohz3HzpI/K47z277wEEAEjmPx4920RxRGlxAAAAAElFTkSuQmCC'>"
      ],
      "text/plain": [
       "<IPython.core.display.HTML object>"
      ]
     },
     "metadata": {},
     "output_type": "display_data"
    },
    {
     "name": "stdout",
     "output_type": "stream",
     "text": [
      "bathy\n"
     ]
    },
    {
     "data": {
      "text/html": [
       "<img src='data:image/png;base64,iVBORw0KGgoAAAANSUhEUgAAAoAAAABQCAYAAACJbMQlAAAFAUlEQVR4nO3dy27kRBQG4KoQCcSMEMqgGSELhg0SKxbsef8972AJNryCWaTdsR13p9sdUj5zvk8zuVTKrr+rq+2TvqX2fV8AAMjjrnUAAADelgIQACAZBSAAQDIKQACAZBSAAADJKAABAJJRAAIAJKMABABIRgEIAJCMAhAAIBkFIABAMgpAAIBkFIAAAMkoAAEAklEAAgAkowAEAEjm/paNu64bXisIAACX6/u+bt32pgJwVGstpdRSai318LmUxdfHz2W973Ifsz7lfN/lGI+hLur72F6u6LuS56JsJ8Y4Od5xcqczXcbpO3xY6bNlmzr/0fjN/7hNnW/84ja1LPts2Wb59WQ9Ttrm1+90u8l1M/lcj4PVRd9FW6Ixj7fBM22zMWa3j/NtzzIf255yPGU61zZmmI41n5+1tuNYa3Mzu2xrbefmYHrsWlx3x/7DIddwaBoOl2MYr47J18Nhf4c+ZbHtod/zfR62PdV38fPzY54Z58w+5z8/Mc60fbxs0/FnY748d+Px+HhcXrZNzxWn+pTnfZ6OddNz1Pq2l+zv8bJcMWY5MWa9csy1PvXlMcflWw+5aynlbnLTqIc1fjfr99h+V5+3ne27GOuyfqXcHfZ7bF9rO+aui22fLte836n2E9s/a5v3Xdvn+9l573oeAgYASEYBCACQjAIQACAZBSAAQDIKQACAZBSAAADJKAABAJJRAAIAJKMABABIRgEIAJCMAhAAIBkFIABAMgpAAIBkFIAAAMncv8ZOhmEopQzjPwAAduzmArDv+/oaQQAAuEzXdTfd5+YhYACAZBSAAADJKAABAJKpfd+3zgAAwBvafA9g13XDrU9ABADgek1eBNJ13dD3fe37vioCAQDezmvUXp4DCAAQyGu8BZ8CEAAgGQUgAEAyCkAAgGQ2/Sm46Ys//Ck4AIBYvA8gAEAyHgIGAEhGAQgAkIwCEAAgmU0vAhn5KyAAAG3c8kLcmwrAyB4+/d46wmbf/fBr6wib3b//vnWEzb5++LF1hE2++fi5dYTN3v30c+sIm73//LF1hM0efvm7dYRNPnyIe0r79NVvrSNs9seHh9YRNvuz+7Z1hM3e1dvehMVDwAAAySgAAQCSUQACACSjAAQASEYBCACQjAIQACAZBSAAQDIKQACAZBSAAADJKAABAJJRAAIAJKMABABIRgEIAJCMAhAAIJn71gFa+fefv1pH2CxydgCgvZsLwL7v62sEeWtd1w2yvz3Z317U3KXI3krU7FFzlyJ7K9Gz37K9h4ABAJJRAAIAJKMABABIpvZ93zoDAABvKMQ9gF3XDbc+2bGFMXfU/KXc/iTTVqLPeeTsrTNcI/JclxJvvkdR5z1q7lHE7NHPo3vOvfu3gYn8Cp1S4r5KupSYB4tS5msm2vqJnr11hmtEnutS4s33KOq8R809irpeSol7Ht37OglxD2Bke67+v1R7vsG9RHYuFXW+5eZazqP/jxAFYNQrv+/7Ov6Pln/vv7lcIvJliJwdLhF1jUfMHTHzKPJ5tJR91y+7KwDXJivKlb/nK/ola9nH7/d+mU7Ne9Q1E+VgHXm901aUNb4mwnFlTZTj+Zdmz/XL7p4DGPWgUMrz7JEOcsuckZ7r8iXNe+TscIlIa3wqau5SYh3PlyJmjmJ3BeDStHKOtggiZ48s+rxPf1OMmD+K6Osksohr3HppI/K87z279wEEAEjmP1VF4Oro8lvOAAAAAElFTkSuQmCC'>"
      ],
      "text/plain": [
       "<IPython.core.display.HTML object>"
      ]
     },
     "metadata": {},
     "output_type": "display_data"
    },
    {
     "name": "stdout",
     "output_type": "stream",
     "text": [
      "seafloor\n"
     ]
    },
    {
     "data": {
      "text/html": [
       "<img src='data:image/png;base64,iVBORw0KGgoAAAANSUhEUgAAAoAAAABQCAYAAACJbMQlAAAEvUlEQVR4nO3dXZLbRBQG0NswECge8kSgItgBlaKKXbCTrIidZEddUPDCDswD44ztkW1Zcka6uedUZexYUvdVu0f+/CNP670HAAB1fLF2AQAAvCwBEACgGAEQAKAYARAAoBgBEACgGAEQAKAYARAAoBgBEACgGAEQAKAYARAAoBgBEACgGAEQAKAYARAAoBgBEACgGAEQAKAYARAAoJiHJRsPw7C7VyEAAEzXe29zt10UACMi3seHx2stnlcxftvTz+NrY0vP3Xau9Vtvv62NdqHu0/Xbs5+3rrtrT4t3ERGtHd3+fPnjZbSj28a3aVeWP/V51Pa59aNdr+tKn2O1Xbw82c/xy/ExO7681M7I/l9Y9rR/z8dj9n62e+1nxG5SWxNr22qfLWJ3ep+OrPfxPjzbxklbF/scqf1w/4/6HF82OvdO+nocyv1wRYu2v+tHlsXTssf12sh6cdLW+LJt9HnYVpz02Ub6jJHarvZ5pq2xy/+3axfX+djn2BhN6DNGx7BdXmdyn5f2sY30e2bZhTbnju31fs7v56T9OdvvhNqutXX1d+P88nZ2bj+//vphv/Y83gIGAChGAAQAKEYABAAoRgAEAChGAAQAKEYABAAoRgAEAChGAAQAKEYABAAoRgAEAChGAAQAKEYABAAoRgAEAChGAAQAKOZhaQN/xO/3qIMxu5NLoLRdOBwA97E4APbe2z0KAQBgmmEYFj0f9BYwAEAxAiAAQDECIABAMa33vnYNAAC8oNmvAA7DsFv6AUQAAG63ykkgwzDseu+t996EQACAl3OP7OUzgAAAidzjK/gEQACAYgRAAIBiBEAAgGJm/Sm4w5M//Ck4AIBcfA8gAEAx3gIGAChGAAQAKEYABAAoZtZJIHv+CggAwDqWnIi7KABGRLyPD0ubWMU38e3aJczWXn23dgmz/fPjV2uXMNvfb1+tXcIsf73NO+Z//py39n9/+nrtEmb75U3O2t99n3e+vPsh55hHRPyW+Lj+65sv1y5httcPy76ExVvAAADFCIAAAMUIgAAAxQiAAADFCIAAAMUIgAAAxQiAAADFCIAAAMUIgAAAxQiAAADFCIAAAMUIgAAAxQiAAADFCIAAAMW03vvsjYdh2N2xFgAAJuq9t7nbPqzZ+ZqGYdip/eWp/eVlrTtC7WvJWnvWuiPUvpbstS/Z3lvAAADFCIAAAMUIgAAAxSw6CQQAgHxSvAI4DMMu4xnH+7qz1h+R90zv7GOeufa1a7hF5rGOyDfee1nHPWvdexlrz/44uuW6F58F/KllPkMnIu9Z0hE5DxYRx3Mm2/zJXvvaNdwi81hH5BvvvazjnrXuvazzJSLv4+jW50mKVwAz23L6/1xt+RfuGrUzVdbxVje38jj6aaQIgFnv/N572//LVv/Wn7lMkXkfMtcOU2Sd4xnrzljzXubH0Yht55fNBcCxwcpy52/5jr5mrPb9/7e+T+fGPeucyXKwzjzfWVeWOT4mw3FlTJbj+edmy/llc58BzHpQiHhee6aD3GmdmT7r8jmNe+baYYpMc/xQ1rojch3PT2WsOYvNBcBTh8k52yTIXHtm2cf98JlixvqzyD5PMss4x82XdWQe963X7nsAAQCK+Q8NPTQ2pffGYgAAAABJRU5ErkJggg=='>"
      ],
      "text/plain": [
       "<IPython.core.display.HTML object>"
      ]
     },
     "metadata": {},
     "output_type": "display_data"
    },
    {
     "name": "stdout",
     "output_type": "stream",
     "text": [
      "abyss\n"
     ]
    },
    {
     "data": {
      "text/html": [
       "<img src='data:image/png;base64,iVBORw0KGgoAAAANSUhEUgAAAoAAAABQCAYAAACJbMQlAAAE8klEQVR4nO3dTW7bRhgG4BnDRRex0aII0ABECjTtEXqGHrp36XJ23fUA6iISRcmURVKqyC/f8wBJGIqkXo7G0mvrx7W1VgAAyONp7QAAADyWAggAkIwCCACQjAIIAJCMAggAkIwCCACQjAIIAJCMAggAkIwCCACQjAIIAJCMAggAkIwCCACQjAIIAJCMAggAkIwCCACQjAIIAJDM8y07d123u1cQAACma63VpfveVAB7tZZaar9cSi21HjLV/eWDywbL/WX75XLYotZJx6717LJrxz5cNjz21Oudcew62G7uOU3Jem2MxzLcY7xmXe+13FPHq9T+cMfM/V+DYx2X+/O4sm09O/ab7ftjvc1xvu1xHC4dq0//NvPoOV6+/PjfsXOcOV799oN07133u+cyPub16vFm3CaD7Y/z9fr5XRyvejYnh3N6+HVQB+M0WP66/3G5H5tr2/dzfjj/y+nXzNTrG93/eB3Trm/C+ffDeTbHTm7+wXgPb9fBZf0xB/uc3mRn87aeHWMsx0Zz9UN/slwvrH9vuc7c/nguY9v0Q3OyXC+sf2+5ztx+fzYj6+vgmE/7Kfc0sq6W8nV5f5ynd9bVWvtjjK3r99uf+9M762qtZ9d1uu6Yd7DfhXX9+VxYd8xbT8ZhuO7lZHLO5ylgAIBkFEAAgGQUQACAZBRAAIBkFEAAgGQUQACAZBRAAIBkFEAAgGQUQACAZBRAAIBkFEAAgGQUQACAZBRAAIBkFEAAgGSe73KU3a7sym6/fPIPAAAbc3MBbK3VewQBAGCarutu+lmbp4ABAJJRAAEAklEAAQCSqa21tTMAAPBAi38C2HXd7tYXIAIAMN8qbwLpum7XWquttaoEAgA8zj26l9cAAgAEco+P4FMAAQCSUQABAJJRAAEAkln0q+CGb/7wq+AAAGLxOYAAAMl4ChgAIBkFEAAgGQUQACCZRW8COfBbQAAA1nHLG3FvKoCRvX78be0Ii0XO/vLx97UjLPbd609rR1gkau5SYmd/+fJl7QiLvX7+tHaERV5+/mHtCIv9+mPch+M/Pn2/doTF/vzlw9oRFvtQb/sQFk8BAwAkowACACSjAAIAJKMAAgAkowACACSjAAIAJKMAAgAkowACACSjAAIAJKMAAgAkowACACSjAAIAJKMAAgAkowACACTzvHaAtfz7z99rR1gscvZS/lo7AACkd3MBbK3VewR5tK7rdrI/nuyPFzV3KbKvJWr2qLlLkX0t0bPfsr+ngAEAklEAAQCSUQABAJKprbW1MwAA8EAhfgLYdd3u1hc7ruGQO2r+Um5/kelaoo955OxrZ5gj8liXEm+8D6KOe9TcBxGzR38c3XLuzX8MTOR36JQS913SpcS8syjldM5Emz/Rs6+dYY7IY11KvPE+iDruUXMfRJ0vpcR9HN36PAnxE8DIttz+v1Vb/oK7RnamijrecjOXx9H/R4gCGPXGb63Vw59o+bf+ncsUkc8hcnaYIuocj5g7YuaDyI+jpWy7v2yuAI4NVpQbf8s39DVj2Q//3/o5XRr3qHMmyp115PnOuqLM8TER7lfGRLk//9Zsub9s7jWAUe8USnmbPdKd3HnOSK91+ZbGPXJ2mCLSHB+KmruUWPfn5yJmjmJzBfDcsDlHmwSRs0cWfdyH3ylGzB9F9HkSWcQ5br6sI/K4bz27zwEEAEjmP+fHt8qtCBCCAAAAAElFTkSuQmCC'>"
      ],
      "text/plain": [
       "<IPython.core.display.HTML object>"
      ]
     },
     "metadata": {},
     "output_type": "display_data"
    },
    {
     "name": "stdout",
     "output_type": "stream",
     "text": [
      "ibcso\n"
     ]
    },
    {
     "data": {
      "text/html": [
       "<img src='data:image/png;base64,iVBORw0KGgoAAAANSUhEUgAAAoAAAABQCAYAAACJbMQlAAAE00lEQVR4nO3dTW7bRhgG4JnWMfoDJE1RA0W5yDarXCWHyclym2yzmGtUXbi0KYr6MamI/Pw9DxLYlsjhy/FYem1Jdm2tFQAA8vhp7QAAANyWAggAkIwCCACQjAIIAJCMAggAkIwCCACQjAIIAJCMAggAkIwCCACQjAIIAJCMAggAkIwCCACQjAIIAJCMAggAkIwCCACQjAIIAJDM3ZKdu67bXSsIAACXa63VufsuKoCllPLh4+dSSi3lKUIttT6+LU9v6tN1zxfX/euuvd0o0+O/02O8ZLtZ51hK+X/HwbGG+xxuV8f59sZ4fH9/jMNcdbzPxJzWqbEH2z1vfsV5m5iPwdEOznN8bucyP+86Psa8ed7PdmS7C9fGZXNRBxcfn/dBqqNj7G83PcYwx+S6HOWoZ8aYPM+JeXu6vj7ve7De6nCswfgnLq+jMScvH67dC8eYyrt3+TD709S8PG89sf04Qz0zfj2RZ/+4G8nRG62r8TLbn+/pfac2P7vv8Fwm968Tl/XvTpzHiX3reKNThz2IuyvjmMe3PXbd7uCwp/abHmc3OZ2XHb//eHdsWo+/f+KYoy/x49tNHPNgu4P5OVyTJzNckrVOXHYm65dP78sSHgIGAEhGAQQASEYBBABIRgEEAEhGAQQASEYBBABIRgEEAEhGAQQASEYBBABIRgEEAEhGAQQASEYBBABIRgEEAEhGAQQASOZu6QDfv329Rg4AAG5kcQFsrdVrBAEA4DJd1+2W7O8hYACAZBRAAIBkFEAAgGRqa23tDAAA3NDsnwB2Xbdb+gREAABebpUXgXRdt2ut1dZaVQIBAG7nGt3LcwABAAK5xq/gUwABAJJRAAEAklEAAQCSmfWn4IYv/vCn4AAAYvF7AAEAkvEQMABAMgogAEAyCiAAQDKzXgTS81dAAADWseSFuIsKYCmlfPj4eekQq3jz7q+1I8x2Hzj7m7dxs9+/e1g7wixvguYupZRfHv5cO8Jsv/39fu0Is739J2b2n3+9XzvCbL/fx/2FGn/c/bt2hNkeAs/7l0/Lvk49BAwAkIwCCACQjAIIAJCMAggAkIwCCACQjAIIAJCMAggAkIwCCACQjAIIAJCMAggAkIwCCACQjAIIAJCMAggAkIwCCACQzN3SAb5/+3qNHAAA3MjiAthaq9cIcmtd1+1kvz3Zby9q7lJkX0vU7FFzlyL7WqJnX7K/h4ABAJJRAAEAklEAAQCSqa21tTMAAHBDIX4C2HXdbumTHdfQ546av5TlTzJdS/Q5j5x97QwvEXmuS4k3372o8x41dy9i9uj3o1vOvfhVwD9a5FfolBL3VdKlxLyxKGV/zURbP9Gzr53hJSLPdSnx5rsXdd6j5u5FXS+lxL0f3fo6CfETwMi23P5fqy1/wZ0jO5eKOt9y81LuR3+MEAUw6ie/tVb7/9Hyb/07l0tEPofI2eESUdd4xNwRM/ci34+Wsu3+srkCODVZUT75W/5EnzOVvf946+d0bN6jrpkoN9aR1zvrirLGp0S4XZkS5fb8tdlyf9nccwCj3iiUcpg90o3cOGek57q8pnmPnB0uEWmND0XNXUqs2/OxiJmj2FwBHBs252iLIHL2yKLP+/A7xYj5o4i+TiKLuMatl3VEnvetZ/d7AAEAkvkPcTa1ci7jSX8AAAAASUVORK5CYII='>"
      ],
      "text/plain": [
       "<IPython.core.display.HTML object>"
      ]
     },
     "metadata": {},
     "output_type": "display_data"
    },
    {
     "name": "stdout",
     "output_type": "stream",
     "text": [
      "gebco\n"
     ]
    },
    {
     "data": {
      "text/html": [
       "<img src='data:image/png;base64,iVBORw0KGgoAAAANSUhEUgAAAoAAAABQCAYAAACJbMQlAAAEUUlEQVR4nO3dy27bRhQG4MPCQJtNk6AJUIBokfd/nr7C7LoIumjRFbuJUkaXWOLIGh6f7wOCSCQ9/DWmqd+6eWqtBQAAdfwwOgAAAI+lAAIAFKMAAgAUowACABSjAAIAFKMAAgAUowACABSjAAIAFKMAAgAUowACABSjAAIAFKMAAgAUowACABSjAAIAFKMAAgAUowACABTz1PPF8zwv9woCAMD1WmvT1q/tKoAREfF5ia97n+Lr5XWiaXp+2aYxjrb/7rJbx1ht/+yy1ZXj7L1jnIx35eXe9aPGeuR+I5bVsuUu66ZYTrbrW3d+3y+x7l7zsF7//+X1uuVou/Pbrsc4Xfft757rcU73dynLucy3jnHp9lwav+/2jLhcZZ+Xrm9Zfo8xXtM+py9Lpi9njGm11fGy0//Pr7m87vmxvjf+ca7TZYfr1y473fe9fJz6xvIUMABAMQogAEAxCiAAQDEKIABAMQogAEAxCiAAQDEKIABAMQogAEAxCiAAQDEKIABAMQogAEAxCiAAQDEKIABAMQogAEAxT90jvJtiWV1dLm4IAMAedBfA1tp0jyAAAFxnnueux9w8BQwAUIwCCABQjAIIAFDM1FobnQEAgAfa/AjgPM9L7wsQAQC43ZA3gczzvLTWptbapAQCADzOPbqX1wACACRyj4/gUwABAIpRAAEAilEAAQCK2fSn4NZv/vCn4AAAcvE5gAAAxXgKGACgGAUQAKAYBRAAoJhNbwI58FdAAADG6HkjblcBjIiIzzk74IefRifY7tcfRyfY7tPoAB1+j39GR9jkt/hrdITN3sffoyNs9jb+HR1hs/ejA2z08+gAHd6MDtDhl/gwOsJmbxJn/zj1fQiLp4ABAIpRAAEAilEAAQCKUQABAIpRAAEAilEAAQCKUQABAIpRAAEAilEAAQCKUQABAIpRAAEAilEAAQCKUQABAIpRAAEAinnqHuHddIcYj/fn6AAdMmf/Y3QAAKC/ALbWUjbAeZ4X2R9P9sfLmjtC9lGyZs+aO0L2UbJn7/l6TwEDABSjAAIAFKMAAgAUM7XWRmcAAOCBUjwCOM/z0vtixxEOubPmj+h/keko2ec8c/bRGW6Rea4j8s33QdZ5z5r7IGP27Peje87d/zEwLyzzO3Qi8r5LOiLnySLi22Mm2/GTPfvoDLfIPNcR+eb7IOu8Z819kPV4ich7P7r34yTFI4CZ7bn9v1Z7/oF7juxcK+t8y82t3I++jBQFMOs3v7U2Hf5ly7/331yukfk2ZM4O18h6jGfMnTHzQeb70Yh995fdFcBzk5Xlm7/nb/RzzmU/XN/7bbo071mPmSwn68zHO2NlOcbPyXBeOSfL+fy12XN/2d1rALOeFCJOs2c6yR3nzPRal9c075mzwzUyHeNrWXNH5DqfH8uYOYvdFcBj6+ac7SDInD2z7PO+/k0xY/4ssh8nmWU8xh0vY2Se971n9zmAAADF/AcXTdxqp9F49AAAAABJRU5ErkJggg=='>"
      ],
      "text/plain": [
       "<IPython.core.display.HTML object>"
      ]
     },
     "metadata": {},
     "output_type": "display_data"
    },
    {
     "name": "stdout",
     "output_type": "stream",
     "text": [
      "topo\n"
     ]
    },
    {
     "data": {
      "text/html": [
       "<img src='data:image/png;base64,iVBORw0KGgoAAAANSUhEUgAAAoAAAABQCAYAAACJbMQlAAAFRUlEQVR4nO3dT24jRRQH4FftDFFGGg3MAhbNAZBYsENCXII1F5kzcBE4BQtWcIRZg3rPblAgUyzinvhvYrczab+p75Na7i5XO8/lSvsX2+2UYRgCAIB2dHMXAADA0xIAAQAaIwACADRGAAQAaIwACADQGAEQAKAxAiAAQGMEQACAxgiAAACNEQABABojAAIANEYABABojAAIANAYARAAoDECIABAYwRAAIDGXJyyc9/39bEKAQDgcMMwlKn7nhQAIyJ+f/0m3kUctNQD+11efRKXV5f37jelrZaIKHH7uufm+mO0HXJ5aN/lUrqI6EpEN67fbo/r+9v27FNq1OWI3F7eRH2/vnl5s7N933WHLzcH9y1Ro4u6HJb6fgi32+rK8G621ZXhr2sP3yHL4oi+pd4t3bgeK+vjdUf0LauTeNfQTWlb/ulW63K1lqhbbRG1lu22lf7rbWO/st623D9q2W6L5c/YarvrX2tEXH0edXllXXa4vW67bety2W9X2y/Pv4ja3exd3pX/osa/UeN65fJ6rW1RbuLZoty7XJSH59Ou9vW2El3poosSi9JFF110ZWzrYlHKsq1b6bvRvlxfrPQpy9+IUu4OPGvrUSLWtuP99up14+3s2r6dReP66gFus994XazVcF99d9uxu6Y992XrfuytfVyP2Fv7vvouX8Ru5d7NB/vf2/XYPHBP/51XHXP7ZefqpFp2dptYy0E/csI4HrXLA53L3o271qMf63XeAgYAaIwACADQGAEQAKAxAiAAQGMEQACAxgiAAACNEQABABojAAIANEYABABojAAIANAYARAAoDECIABAYwRAAIDGCIAAAI25OPUGvvvpq8eoAwCAJ3JyAByGoTxGIQAAHKbv+3rK/t4CBgBojAAIANAYARAAoDFlGIa5awAA4AlNfgWw7/t66gcQAQA43iwngfR9X4dhKMMwFCEQAODpPEb28hlAAIBEHuMr+ARAAIDGCIAAAI0RAAEAGjPpX8GtnvzhX8EBAOTiewABABrjLWAAgMYIgAAAjREAAQAaM+kkkJH/AgIAMI9TTsQ9KQBGRPzx+s2pNzGL3758MXcJkz37YTF3CZO9ffnz3CVM9uP127lLmOT5r3lf6P/r71dzlzDZP9/+OXcJk3396vu5S5jk05ffzF3CdFefzV3BdIuTo8R8Fs/mrmCyUk77Epa8zwwAAEwiAAIANEYABABojAAIANAYARAAoDECIABAYwRAAIDGCIAAAI0RAAEAGiMAAgA0RgAEAGiMAAgA0BgBEACgMQIgAEBjyjAMk3fu+74+Yi0AABxoGIYydd+LOX/4nPq+r2p/emp/elnrjlD7XLLWnrXuCLXPJXvtp+zvLWAAgMYIgAAAjREAAQAac9JJIAAA5JPiFcC+72vGM47HurPWH5H3TO/sY5659rlrOEbmsY7IN96jrOOete5RxtqzP4+ec90nnwX8oWU+Qyci71nSETkPFhHrcybb/Mle+9w1HCPzWEfkG+9R1nHPWvco63yJyPs8eu7zJMUrgJmdc/r/WJ3zL9xD1M6hso63ujmW59EPI0UAzPrgD8NQxiVb/ef+l8shMt+HzLXDIbLO8Yx1Z6x5lPl5NOK888vZBcBdg5XlwT/nB/ohu2oft8/9Pu0b96xzJsvBOvN8Z15Z5vguGY4ru2Q5nn9szjm/nN1nALMeFCK2a890kNusM9NnXT6mcc9cOxwi0xxflbXuiFzH800Za87i7ALgptXknG0SZK49s+zjvvqXYsb6s8g+TzLLOMfNl3lkHvdzr933AAIANOZ/QQXDQ3KNVKEAAAAASUVORK5CYII='>"
      ],
      "text/plain": [
       "<IPython.core.display.HTML object>"
      ]
     },
     "metadata": {},
     "output_type": "display_data"
    },
    {
     "name": "stdout",
     "output_type": "stream",
     "text": [
      "sealand\n"
     ]
    },
    {
     "data": {
      "text/html": [
       "<img src='data:image/png;base64,iVBORw0KGgoAAAANSUhEUgAAAoAAAABQCAYAAACJbMQlAAAEIklEQVR4nO3dQXIaRxQG4NcpLROtvHH1JpskPoD3PoDL1/BlnOPkMvHSVX2NTBYOkYyxDTOInqf3fVWqkcSM+Gma4Rcw0MYYAQBAHT/NDgAAwG0pgAAAxSiAAADFKIAAAMUogAAAxSiAAADFKIAAAMUogAAAxSiAAADFKIAAAMUogAAAxSiAAADFKIAAAMUogAAAxSiAAADFKIAAAMXcbdm4975cKwgAAOcbY7S1224qgBERH94vsUTEPxFnLy9Zd4mIpUVEi8+PV567vGTd7y1vtc1TX5at63x1GZcLr8VbLjOex3W2abFMu6lkvDm+ijcPQxlHy4y/8zf29zeiRbT28H20z4top0+/ZN0vTv/v960drf+d0y9Z92SWa/98y/OKh+//X1zr9DhxWa5/Xu31fWzhKWAAgGIUQACAYhRAAIBiFEAAgGIUQACAYhRAAIBiFEAAgGIUQACAYhRAAIBiFEAAgGIUQACAYhRAAIBiFEAAgGIUQACAYtoYY/XGvfflilkAADjTGKOt3fZu5pkDAHC5rQ/CeQoYAKAYBRAAoBgFEACgmE0HgQAAkM/qRwB774ujgAEAbm/KQSC992WM0cYYTQkEALida3QvrwEEAEjkGm/BpwACABSjAAIAFKMAAgAUs+qj4B4f/OGj4AAAcvE+gAAAxXgKGACgGAUQAKAYBRAAoJhVB4Ec+BQQAIA5thyIu6kARkT8+T5nB/z4++wEG7ydHWCDV3/PTrDBX7MDrPJbfJwdYbV3swNs8MenN7MjrPdpdoCVsuaOiPjl19kJ1vv55ewE692/mJ1gtfb6ftP2ngIGAChGAQQAKEYBBAAoRgEEAChGAQQAKEYBBAAoRgEEAChGAQQAKEYBBAAoRgEEAChGAQQAKEYBBAAoRgEEAChGAQQAKKaNMVZv3HtfrpgFAIAzjTHa2m3vZp75TL33Rfbbk/32suaOkH2WrNmz5o6QfZbs2bds7ylgAIBiFEAAgGIUQACAYjYdBAIAQD4pHgHsvS8Zjzg+5M6aPyLvkd7Zxzxz9tkZLpF5rCPyjfdB1nHPmvsgY/bs96N7zr35KOCnlvkInYi8R0lH5NxZRHw5Z7LNn+zZZ2e4ROaxjsg33gdZxz1r7oOs8yUi7/3o3udJikcAM9tz+3+u9nyD+xHZOVfW8ZabS7kffRopCmDWK3+M0Q5f2fLv/T+Xc2S+DJmzwzmyzvGMuTNmPsh8Pxqx7/6yuwJ4arCyXPl7vqJ/5FT2w897v0zfGvescybLzjrzfGeuLHP8lAz7lVOy7M+fmz33l929BjDrTiHi6+yZdnLHOTO91uU5jXvm7HCOTHP8say5I3Ltz49lzJzF7grgscfNOdskyJw9s+zj/vg/xYz5s8g+TzLLOMfNlzkyj/ves3sfQACAYv4FSkCaBTCBTj8AAAAASUVORK5CYII='>"
      ],
      "text/plain": [
       "<IPython.core.display.HTML object>"
      ]
     },
     "metadata": {},
     "output_type": "display_data"
    },
    {
     "name": "stdout",
     "output_type": "stream",
     "text": [
      "nighttime\n"
     ]
    },
    {
     "data": {
      "text/html": [
       "<img src='data:image/png;base64,iVBORw0KGgoAAAANSUhEUgAAAoAAAABQCAYAAACJbMQlAAAE30lEQVR4nO3dMXLbVhQF0IeMCieNizCFB6myGC8i28wKvIHs4o8bz6RVxxQyJRACQYqgCDy9c2Y8Y0EieP/jF3UlklLXWgsAAOr4Ze0AAADclwIIAFCMAggAUIwCCABQjAIIAFCMAggAUIwCCABQjAIIAFCMAggAUIwCCABQjAIIAFCMAggAUIwCCABQjAIIAFCMAggAUIwCCABQzMOSC/d9v79VEAAALtda66697KICGBHxKb5EdE/X30U8///nG5PHXg5108dGl+lidPkTx56v8eSxwXmjG/x3ML9ulHl4bOI8x+s7PYenQ5fN4Xl9zxG6k8deZnx+DtNrvmIOE7fT1G33XnM4yjxc82BNw9vp5UPn1twNTn9+DifXPMo/t1+P99TUmt95DpPHfp534Rzu8nl7Zg6nPm+Ha/66++fourvnjxlf3/H6D5d5Onq8r1+db3CO2fMNzvH0ccfvG65nOPOn6zte6+T5xmsbnm9ubd3RSk7Oavp9g5xdd+a6xvOem+N43nNzPD7H/BzH856b43jeZ9Z2NO9LZvXGtQ3nOzerubW9mtVgbWdndTjHJbOaWNuZfXDZvp2b4zjT3BzH856b43jec3Mc76W5OY7n/fp8Xd/HEh4CBgAoRgEEAChGAQQAKEYBBAAoRgEEAChGAQQAKEYBBAAoRgEEAChGAQQAKEYBBAAoRgEEAChGAQQAKEYBBAAoRgEEACjmYekJHuN7xH5wYH/yQwE25dvaAQBWsrgAtta6WwQBAOAyfd8v+pGbh4ABAIpRAAEAilEAAQCK6Vpra2cAAOCOrv4JYN/3+6VPQAQA4O1WeRFI3/f71lrXWuuUQACA+7lF9/IcQACARG7xK/gUQACAYhRAAIBiFEAAgGKu+lNwwxd/+FNwAAC5+D2AAADFeAgYAKAYBRAAoBgFEACgmKteBHLgr4AAAKxjyQtxFxXAiIhP8WXpKVbx6+73tSNcTfZ1ZM2eNXdExG+73doRrvb3X/+uHeFqu89/rh3hKrvP/doRrvZH0plH5N0vEbnn3vXL9ruHgAEAilEAAQCKUQABAIpRAAEAilEAAQCKUQABAIpRAAEAilEAAQCKUQABAIpRAAEAilEAAQCKUQABAIpRAAEAilEAAQCKeVh6gsf4foscd/f4I2fuiIj/fqydADjn29oBAGYsLoCtte4WQe6t7/u97Pcn+/1lzR0h+1qyZs+aO0L2tWTPvuTyHgIGAChGAQQAKEYBBAAopmutrZ0BAIA7SvETwL7v90uf7LiGQ+6s+SOWP8l0Ldlnnjn72hneIvOsI/LN+yDr3LPmPsiYPfvX0S3nXvwq4PeW+RU6EXlfJR2R884i4njPZNs/2bOvneEtMs86It+8D7LOPWvug6z7JSLv19Gt75MUPwHMbMvt/6Pa8ifcObJzqazzlpu38nX0faQogFlv/NZad/iXLf/Wv3O5ROY1ZM4Ol8i6xzPmzpj5IPPX0Yht95fNFcCpYWW58bd8Q58zlf3w9tbXdGruWfdMljvrzPuddWXZ41My3K9MyXJ//tFsub9s7jmAWe8UIl5nz3QnN86Z6bkuH2numbPDJTLt8aGsuSNy3Z+PZcycxeYK4NiwOWfbBJmzZ5Z97sPvFDPmzyL7Psks4x63X9aRee5bz+73AAIAFPM/mmW5gjDBgXIAAAAASUVORK5CYII='>"
      ],
      "text/plain": [
       "<IPython.core.display.HTML object>"
      ]
     },
     "metadata": {},
     "output_type": "display_data"
    },
    {
     "name": "stdout",
     "output_type": "stream",
     "text": [
      "world\n"
     ]
    },
    {
     "data": {
      "text/html": [
       "<img src='data:image/png;base64,iVBORw0KGgoAAAANSUhEUgAAAoAAAABQCAYAAACJbMQlAAAE9klEQVR4nO3dsW7bVhQG4ENS3lqkQLsELLJkyeylD9ClRadufYN27tBn6JNk6Et06CsU6NSRyJpuDSqJHSwliiwjEun48vh+HyBYJnXlX/Q19csSpWYYhgAAoB5t6QAAADwsBRAAoDIKIABAZRRAAIDKKIAAAJVRAAEAKqMAAgBURgEEAKiMAggAUBkFEACgMgogAEBlFEAAgMoogAAAlVEAAQAqowACAFRGAQQAqMxqzuC+78f7CgIAwPmGYWimjp1VACMi4nWeDvj8SekE5+sj4svSIS5wHa9KRzjbJ/FvfBpvSsc427PSAS7wsf7EvoinF4+5OiPNtz810XZNtO3B1zZuLeu6o+Vv192+7K3lR8u6U5c9Wta1bXTNVXTtKlbtVXTNKrr2Kla7ZafX3XztmqtYtfvzR5d5O/bw8sfrVrufczB+t65tmohxGzGOMY7b3fnt22URN+fH/feH6+PUuPG99SfH7a73znHjNsY4MWY8yBKnr/fdujvGHdymW+PuuN7D27DdbmO9GWOz3sZ6PcZ6c/N1s75Zvt4t32zerd+sd8t36zcH4z64fr2Nzebd+rt+7na7v98+vP+ec/5+rqtp2mi77ubUrhZ1vltIjvfOd1cxh6eAAQAqowACAFRGAQQAqIwCCABQGQUQAKAyCiAAQGUUQACAyiiAAACVUQABACqjAAIAVEYBBACojAIIAFAZBRAAoDIKIABAZVazr+Gz5h5iPIy/Swe4QKasEREvSweAycbdCShruzv9VzpIFWYXwGEY8jRAAIBHoO/7WY9cPQUMAFAZBRAAoDIKIABAZZphGEpnAADgAU3+D2Df9+PcFyACAHC5IgeB9H0/DsPQDMPQKIEAAA/nPrqX1wACACRyH2/BpwACAFRGAQQAqIwCCABQmUkfBXd48IePggMAyMX7AAIAVMZTwAAAlVEAAQAqowACAFRm0kEgez4FBACgjDkH4s4qgBER8TpnB3z+pHSC6b4qHWCG63hVOsJkT+Of0hEmeVY6wAwv4kXpCJP9/tcPpSNM9v3n35SOMMmbP1+WjjDZz7/8UTrCZNdff1c6wmQ//vpb6QiTNW03a7yngAEAKqMAAgBURgEEAKiMAggAUBkFEACgMgogAEBlFEAAgMoogAAAlVEAAQAqowACAFRGAQQAqIwCCABQGQUQAKAyCiAAQGWaYRgmD+77frzHLAAAnGkYhmbq2FXJH15S3/ej7A9P9oeXNXeE7KVkzZ41d4TspWTPPme8p4ABACqjAAIAVEYBBACozKyDQAAAyCfFfwD7vh8zHnG8z501f0TeI72zb/PM2UtnuETmbR2Rb3vvZd3uWXPvZcye/X50yblnHwX8sWU+Qici71HSETl3FhHvz5ls8yd79tIZLpF5W0fk2957Wbd71tx7WedLRN770aXPkxT/Acxsye3/sVryH9yHyM65sm5vubmU+9GPI0UBzPrLH4ah2Z+y5V/6I5dzZL4NmbPDObLO8Yy5M2bey3w/GrHs/rK4AnhqY2X55S/5F/0hp7Lvv1/6bbpru2edM1l21pnnO2VlmeOnZNivnJJlf/7YLLm/LO41gFl3ChG3s2fayR3nzPRal8e03TNnh3NkmuOHsuaOyLU/P5YxcxaLK4DHDptztkmQOXtm2bf74SPFjPmzyD5PMss4x82XMjJv96Vn9z6AAACV+R/p0+O/lfMiPgAAAABJRU5ErkJggg=='>"
      ],
      "text/plain": [
       "<IPython.core.display.HTML object>"
      ]
     },
     "metadata": {},
     "output_type": "display_data"
    },
    {
     "name": "stdout",
     "output_type": "stream",
     "text": [
      "geo\n"
     ]
    },
    {
     "data": {
      "text/html": [
       "<img src='data:image/png;base64,iVBORw0KGgoAAAANSUhEUgAAAoAAAABQCAYAAACJbMQlAAAFZUlEQVR4nO3dsXLjVBQG4HOlLBtomFkaQB0zsB0dFMzO0AANJdU+Ae/Ae9BT8EIMz6AnoNliY1HYSmTHu1HkbOST+30zHktXutLJtSL9ia2k9H0fAADUo1m7AAAAHpcACABQGQEQAKAyAiAAQGUEQACAygiAAACVEQABACojAAIAVEYABACojAAIAFAZARAAoDICIABAZQRAAIDKCIAAAJURAAEAKiMAAgBU5uKUzl3XDQ9VCAAA8/V9X5b2PSkAbpUopUSUEqU02+fYPZcSUZooMVk2aYvS7Peds140N8smbXv7LyUimjvrmrW/mevF7LrGZSWixPX8dh+T+TIZ24N1t5PlHfNH+h3b/m5ZuZ6//3qz9v2Omsft3D0Ok+Or2Y1jMxnnZjK+x9qbyWs2a/l72ptmv57d63QzH3vP2y/x+LK9vtfrnb6tcfVSIprdWG6n42C6zGq/WV6OrHvXfibtJaItJdoS0ZaIppRom5u2ZrqsGafLwbrbtr1tNdO+5aD/wbJmfz9tKfHp7z/Fs8s38ezjN/H8o6u4bNt43rZxedHuppvr6cu2jecXzWR6bG8O5vfXu7zYbed6etveRsRwdRWbt1exubran949b96O7ZsZ64zb2dxuO1x3t82719lNb4bYDCU2USbPcbxtb37bNhy2vWfdw7bhyLkgdt/zN+eUybl4uk5M+zUHy8vedeLYdo/3a2J6Lj/sN15/bu1r73pxe7vloObpdvdq3NXVNM3sx33XX/I4x32M59enqjTtSf29BQwAUBkBEACgMgIgAEBlBEAAgMoIgAAAlREAAQAqIwACAFRGAAQAqIwACABQGQEQAKAyAiAAQGUEQACAygiAAACVEQABACpzcfomhhiGIWKIGOLq9M0BPKKriHgTEf+tXcjZG3YP4Ck4OQD2fV8eohAAAObpuu6kn8i8BQwAUBkBEACgMgIgAEBlSt/3a9cAAMAjWvwbwK7rhlM/gAgAwP2tchNI13VD3/el7/siBAIAPJ6HyF4+AwgAkMhD/Ak+ARAAoDICIABAZQRAAIDKLPpXcNObP/wrOACAXPwdQACAyngLGACgMgIgAEBlBEAAgMosuglk5L+AAACs45QbcU8KgJl98fKXtUtY7MVX361dwmKffPn12iUs9vmPP6xdwiLfvnyxdgmL/fH9Z2uXsNi/f/68dgmL/f3XP2uXsMjmm1drl7DYq19/W7uExV6/fr12CVUqTXtSf28BAwBURgAEAKiMAAgAUBkBEACgMgIgAEBlBEAAgMoIgAAAlREAAQAqIwACAFRGAAQAqIwACABQGQEQAKAyAiAAQGUEQACAypS+7xd37rpueMBaAACYqe/7srTvxZo7X1PXdYPaH5/aH1/WuiPUvpastWetO0Lta8le+yn9vQUMAFAZARAAoDICIABAZU66CQQAgHxS/Aaw67oh4x3HY91Z64/Ie6d39jHPXPvaNdxH5rGOyDfeo6zjnrXuUcbas19Hz7nuk+8C/tAy36ETkfcu6YicJ4uI/WMm2/GTvfa1a7iPzGMdkW+8R1nHPWvdo6zHS0Te6+i5HycpfgOY2Tmn/6fqnL/h7qJ25so63urmvlxHP4wUATDri9/3fRkf2eo/959c5sj8NWSuHebIeoxnrDtjzaPM19GI884vZxcAjw1Wlhf/nF/ouxyrfZw/96/pXeOe9ZjJcrLOfLyzrizH+DEZzivHZDmfPzXnnF/O7jOAWU8KEbdrz3SSO6wz02ddntK4Z64d5sh0jE9lrTsi1/n8UMaaszi7AHhompyzHQSZa88s+7hPf1LMWH8W2Y+TzDIe446XdWQe93Ov3d8BBACozP8Ibnw2uQhUogAAAABJRU5ErkJggg=='>"
      ],
      "text/plain": [
       "<IPython.core.display.HTML object>"
      ]
     },
     "metadata": {},
     "output_type": "display_data"
    },
    {
     "name": "stdout",
     "output_type": "stream",
     "text": [
      "terra\n"
     ]
    },
    {
     "data": {
      "text/html": [
       "<img src='data:image/png;base64,iVBORw0KGgoAAAANSUhEUgAAAoAAAABQCAYAAACJbMQlAAAFU0lEQVR4nO3dv47cVBQH4HM9i8ImURSlQEimpaFEQuIZKHiPlPS8AE9AyyvQ5CFo6CmR/AY0FGQo1p54vJ7MrGd2PSf3+6SJ7et/x3cd+7cz693SdV0AAFCPZu0CAAB4WgIgAEBlBEAAgMoIgAAAlREAAQAqIwACAFRGAAQAqIwACABQGQEQAKAyAiAAQGUEQACAygiAAACVEQABACojAAIAVEYABACojAAIAFCZm3NWbtt2e6lCAAA4Xdd1Zem6ZwXAiIi38S5KDPsfxu4P51oPjR9um84vM+v0bSViWyK2pfTD/tVMpvv50RxYfratX6efjuiHpcS2P9y54SnLxLDt+FgN/XjzsfYDx3Lg+PfWaT7Mfz9efrS/99N9NEe2Oanj7vjKpG9GfTHtj4PLlf11ytxxlHg/7a/ReJSIpkQ0pfTDu1eZadtNx/w6m0PLH5x++D6O7afv1n5YJtNzw2PL7M8f73Mzewylr3HU3uxPD+ttJtO7bTaHjvN+29wye684PO/n336JZ7fP4uazm2iaEk3TxKYfNk3p6+1ffV81UXa17sZjWO6uv4blx+tuSolNv/wmyuz0x+aViIjt6HvuYXy7++fD+G6x0fjsutsPV9tLbzv6/5i7QVnWFnF34t3b5kxbf+1f1FbG8w63lTLdRpksN93m8bZSJvPG+55r25U+uluO5pWZ4yt7NYzap9st+3fg8XbKZJtR9u/Xuz6a1nNk/Nz5j7WtsWtsu33+4t68h/ARMABAZQRAAIDKCIAAAJURAAEAKiMAAgBURgAEAKiMAAgAUBkBEACgMgIgAEBlBEAAgMoIgAAAlREAAQAqIwACAFRGAAQAqMzNuRv4NX64RB2Xt+1fcIL/+hcA1ODsANh1XblEIQAAnKZt27Pe5vIRMABAZQRAAIDKCIAAAJUpXdetXQMAAE9o8TuAbdtuz/0BRAAAHm6Vh0Datt12XVe6ritCIADA07lE9vIzgAAAiVziV/AJgAAAlREAAQAqIwACAFRm0Z+CGz/84U/BAQDk4vcAAgBUxkfAAACVEQABACojAAIAVGbRQyADfwUEAGAd5zyIe1YAjIh4G+/O3cQqbl59sXYJi/31ze3aJSz25/cv1i5hsa++fbl2CYv8+PXna5ew2E/f5T1f/v7j97VLWKz88+/aJSzz6su1K1js2eu896TXb96sXcJiL1/mvK5HRNw+P+/66CNgAIDKCIAAAJURAAEAKiMAAgBURgAEAKiMAAgAUBkBEACgMgIgAEBlBEAAgMoIgAAAlREAAQAqIwACAFRGAAQAqIwACABQmdJ13eKV27bdXrAWAABO1HVdWbruzZo7X1Pbtlu1Pz21P72sdUeofS1Za89ad4Ta15K99nPW9xEwAEBlBEAAgMoIgAAAlTnrIRAAAPJJ8Q5g27bbjE8cD3VnrT8i75Pe2fs8c+1r1/AQmfs6Il9/D7L2e9a6Bxlrz34fvea6z34K+LFlfkInIu9T0hE5LxYR++dMtvMne+1r1/AQmfs6Il9/D7L2e9a6B1nPl4i899FrP09SvAOY2TWn/0/VNf+HO0btnCprf6ubh3IffRwpAmDWL37XdWV4Zav/2r9zOUXmY8hcO5wi6zmese6MNQ8y30cjrju/XF0AnOusLF/8a/5CHzNX+zB97cd0qN+znjNZLtaZz3fWleUcn5PhujIny/X8U3PN+eXqfgYw60Uh4n7tmS5y0zoz/azLp9TvmWuHU2Q6x8ey1h2R63o+lbHmLK4uAE6Nk3O2kyBz7Zll7/fxd4oZ688i+3mSWcZz3Pmyjsz9fu21+z2AAACV+R9SL1UyzzZ/0AAAAABJRU5ErkJggg=='>"
      ],
      "text/plain": [
       "<IPython.core.display.HTML object>"
      ]
     },
     "metadata": {},
     "output_type": "display_data"
    },
    {
     "name": "stdout",
     "output_type": "stream",
     "text": [
      "relief\n"
     ]
    },
    {
     "data": {
      "text/html": [
       "<img src='data:image/png;base64,iVBORw0KGgoAAAANSUhEUgAAAoAAAABQCAYAAACJbMQlAAAElElEQVR4nO3dsXLjVBQG4HOVhR3aLWhUwVBRMmzFDAXMtjT0dLwAFY/Ba+yD3YZ3YEQRe+J447Usey2dPd+X0cSWLOWPciP/sS2n9d4DAIA6hrUDAABwXwogAEAxCiAAQDEKIABAMQogAEAxCiAAQDEKIABAMQogAEAxCiAAQDEKIABAMQogAEAxCiAAQDEKIABAMQogAEAxCiAAQDEKIABAMa+uWXkcx+lWQQAAmK/33paue1UBfNJ2U0S0g8txdLmdmP9s3XPLr9n2BnK1FjEMj1Mbni4fTqfmf7Dsltu6Yv4nzNWGFkOb4qHtNzvF0CIe2nR0PWLYzXvYzXu6/nR5aNPu+kduP+fr7LY5K9c9t9VaPPs4vh7DvGUXL//4usPJ5Ufzzy2LFq2dmL+//Qe5Ty/77e8f42GKeJgihqPPcy4/mxfxuP0WMQzPP7fWHod2a0eXz93Wtubc9vEwe8lxfcax+47bamtvayv3j4dTe2HeuWUH89sNt7X77T67rTZrW/NyzdlWa9c9iespYACAYhRAAIBiFEAAgGIUQACAYhRAAIBiFEAAgGIUQACAYhRAAIBiFEAAgGIUQACAYhRAAIBiFEAAgGIUQACAYhRAAIBiXt1mM9Nuevp08mZwgSki/ttNAMBtXF0Ae+/tFkEAAJhnHMerHlbzFDAAQDEKIABAMQogAEAxrfe+dgYAAO5o8SOA4zhO174AEQCAy61yEsg4jlPvvfXemxIIAHA/t+heXgMIAJDILd6CTwEEAChGAQQAKEYBBAAoZtG/gjs8+cO/ggMAyMX7AAIAFOMpYACAYhRAAIBiFEAAgGIWnQSy57+AAACs45oTca8qgKl9+c3aCZb74Ze1Eyz3x59rJ1jsr5//XTvCIr9/92btCIu9ff3T2hEWe//Pr2tHWOzdu3HtCIu8+TrvcX344tu1Iyz3+vu1Eyz28NXbtSMs1tp1b8LiKWAAgGIUQACAYhRAAIBiFEAAgGIUQACAYhRAAIBiFEAAgGIUQACAYhRAAIBiFEAAgGIUQACAYhRAAIBiFEAAgGIUQACAYlrvffHK4zhON8wCAMBMvfe2dN1Xa37xNY3jOMl+f7LfX9bcEbKvJWv2rLkjZF9L9uzXrO8pYACAYhRAAIBiFEAAgGKuOgkEAIB8UjwCOI7jlPGM433urPkj8p7pnX2fZ86+doZLZN7XEfn2917W/Z41917G7NnvR7ec++qzgD+1zGfoROQ9Szoi58Ei4vmYyTZ+smdfO8MlMu/riHz7ey/rfs+aey/reInIez+69XGS4hHAzLbc/j9XW/6FO0d25sq6v+XmUu5HP40UBTDrD7/33vZTtvxb/8tljszfQ+bsMEfWMZ4xd8bMe5nvRyO23V82VwBf2llZfvhb/kGf81L2/fWtf0+n9nvWMZPlYJ15vLOuLGP8JRmOKy/Jcjz/3Gy5v2zuNYBZDwoRH2bPdJA7zpnptS6f037PnB3myDTGD2XNHZHreH4sY+YsNlcAjx0252yDIHP2zLLv98O/FDPmzyL7OMks4xg3XtaReb9vPbv3AQQAKOZ/sDPyPxpYemoAAAAASUVORK5CYII='>"
      ],
      "text/plain": [
       "<IPython.core.display.HTML object>"
      ]
     },
     "metadata": {},
     "output_type": "display_data"
    },
    {
     "name": "stdout",
     "output_type": "stream",
     "text": [
      "globe\n"
     ]
    },
    {
     "data": {
      "text/html": [
       "<img src='data:image/png;base64,iVBORw0KGgoAAAANSUhEUgAAAoAAAABQCAYAAACJbMQlAAAE8ElEQVR4nO3dsW7bVhQG4ENVThwUaRCjRYtyiudmClB07tateY4+Qp8kQJ+jex8gc6eOnDqkWzLYvh0s2ZIiIzJlmzo53wcooiVe69cVQ/2WTLkbhiEAAKhjNnUAAAAelgIIAFCMAggAUIwCCABQjAIIAFCMAggAUIwCCABQjAIIAFCMAggAUIwCCABQjAIIAFCMAggAUIwCCABQjAIIAFCMAggAUIwCCABQzHyfwX3ft7sKAgDA7oZh6MaO3asARkS8iXwd8N3z8WM/HEe8fzLNbWcc+/444kPC+eq/nGbs06OIrx5Nc9vfT3Sf73u+nh5FPL1hnZ9/P4k4PY04PY1vv/kuXh4/i5fHz6KfP4nHbR7H7Whxvr78uB3FvEW0dr52iouzkZedRbu4Xo7l5ReL6+5qbLuIi4g4by3O2+X5WYs4j8uvz1q7vi4W162sexER0Vq05W6/tYgW0S7/2VhuV6tcDVisf7m4XL4eu1xuV+uvj20b623LErGy3ubYm9Zb/X6bt7t22+v3Y1vOq/vVWkR8EV17FNEeRbc4xdX5UXSxedn1el03j242237qupuvW5xi5XxteTH2o8s3xm1+n25l7LbrltevrhMrWWPbuK776Ht0XRez2Sxmt1zuuu7GU0SMvn6XsVPZ9/a9BQwAUIwCCABQjAIIAFCMAggAUIwCCABQjAIIAFCMAggAUIwCCABQjAIIAFCMAggAUIwCCABQjAIIAFCMAggAUIwCCABQTDcMw+jBfd+3O8wCAMCOhmHoxo6dT3njAADc3r4vwnkLGACgGAUQAKAYBRAAoJi9DgIBACCf0a8A9n3fHAUMAPDwJjkIpO/7NgxDNwxDpwQCADycu+hefgcQACCRu/gIPgUQAKAYBRAAoBgFEACgmFF/Cm714A9/Cg4AIBefAwgAUIy3gAEAilEAAQCKUQABAIoZdRDIkr8CAgAwjX0OxN2rAEZEvImcHfDd86kTjPf21dQJxsuc/eufpk4wzq8vpk4w3m8/TJ1gvP/+/GXqCKP99ffbqSOM8v6ff6eOMNqLH/+YOsJor16/njrCaCcnJ1NHGK3r9vsQFm8BAwAUowACABSjAAIAFKMAAgAUowACABSjAAIAFKMAAgAUowACABSjAAIAFKMAAgAUowACABSjAAIAFKMAAgAUowACABTTDcMwenDf9+0OswAAsKNhGLqxY+dT3viU+r5vsj882R9e1twRsk8la/asuSNkn0r27PuM9xYwAEAxCiAAQDEKIABAMXsdBAIAQD4pXgHs+75lPOJ4mTtr/oi8R3pnn/PM2afOcBuZ5zoi33wvZZ33rLmXMmbP/jx6yLn3Pgr4vmU+Qici71HSETl3FhHr20y27Sd79qkz3EbmuY7IN99LWec9a+6lrNtLRN7n0UPfTlK8ApjZIbf/z9Uh/4f7FNnZVdb5lpvb8jx6P1IUwKwP/jAM3fKULf+h/+Syi8z3IXN22EXWbTxj7oyZlzI/j0Ycdn85uAK4bbKyPPiH/EB/yrbsy68P/T7dNO9Zt5ksO+vM2zvTyrKNb5Nhv7JNlv355+aQ+8vB/Q5g1p1CxMfZM+3kNnNm+l2Xz2neM2eHXWTaxldlzR2Ra3++KWPmLA6uAG5abc7ZNoLM2TPLPu+rPylmzJ9F9u0ks4zbuO1lGpnn/dCz+xxAAIBi/gf4du8Fd80U1gAAAABJRU5ErkJggg=='>"
      ],
      "text/plain": [
       "<IPython.core.display.HTML object>"
      ]
     },
     "metadata": {},
     "output_type": "display_data"
    },
    {
     "name": "stdout",
     "output_type": "stream",
     "text": [
      "earth\n"
     ]
    },
    {
     "data": {
      "text/html": [
       "<img src='data:image/png;base64,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'>"
      ],
      "text/plain": [
       "<IPython.core.display.HTML object>"
      ]
     },
     "metadata": {},
     "output_type": "display_data"
    },
    {
     "name": "stdout",
     "output_type": "stream",
     "text": [
      "etopo1\n"
     ]
    },
    {
     "data": {
      "text/html": [
       "<img src='data:image/png;base64,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'>"
      ],
      "text/plain": [
       "<IPython.core.display.HTML object>"
      ]
     },
     "metadata": {},
     "output_type": "display_data"
    },
    {
     "name": "stdout",
     "output_type": "stream",
     "text": [
      "cubhelix\n"
     ]
    },
    {
     "data": {
      "text/html": [
       "<img src='data:image/png;base64,iVBORw0KGgoAAAANSUhEUgAAAoAAAABQCAYAAACJbMQlAAAFU0lEQVR4nO3dT2/jRBgH4JmwQkIcVkhoxcoCCaHVHrhy5ADf/3P4ygWJE8gcWv93tqnTrf3u+zxVlXZm7LyZOJNfk7qtbdsWAADyuBxdAAAAr0sABABIRgAEAEhGAAQASEYABABIRgAEAEhGAAQASEYABABIRgAEAEhGAAQASEYABABIRgAEAEhGAAQASEYABABIRgAEAEhGAAQASObNPRs3TdO9VCEAANyubdu6d9u7AmCvlofrr7WOXy/a+o++bbzc6qvDZVn01WXfYl+l1FLqtIbt8eVaW62b+yp1MXbZV7fHP/Rtjb/S9rhdN3xdNq5nbOuG7dbj531lso+yGDfZfnLzNvtm+yqr8X1bNx079HWrqRvHdPPv+/Gzsd2qbzo94/hu+H6cknVbf511uCyr8cN2pd+uK7VOvx7H1+l2paz7rowf+sq1vuldPN/Xdt/1tsv0cmv8ZMz0rn9oq9f3tdk3bauz8ZfNvjrZrq76Hg6T+onxdT1+ta/l6Me2bt3+9MfW3tYfpVwe1671+DK0jTMyrnFjX7myr2EGJ+OH2V+0rdfBy+O+L8O6M+tbrYOX8d7b6lutg5fF91t9l8d1ajFuWAev9NXHR8xy3ORB3F0dX1bju9V2Zb2vOllTV/sq6zW7fqKvLNfI+b6Gz2Vb+UTfsn9j/E19Zbys/To7aa+LMfM1dXIT5zd3ts5uXc/QtNpufd1PjV/19Z9bfbXO+mc3batvNuV1GDe7nmlbnT6yF33DHtZt8+029lVrGfPIPt4CBgBIRgAEAEhGAAQASEYABABIRgAEAEhGAAQASEYABABIRgAEAEhGAAQASEYABABIRgAEAEhGAAQASEYABABIRgAEAEjmzUvspCvdw2XXbXUCAHAidwfAtm3rSxQCAMBtmqa56yU2bwEDACQjAAIAJCMAAgAkU9u2PboGAABe0e5XAJum6e79BUQAAJ7vkJNAmqbp2ratbdtWIRAA4PW8RPbyO4AAAIG8xJ/gEwABAJIRAAEAkhEAAQCS2fWv4KYnf/hXcAAAsfg7gAAAyXgLGAAgGQEQACAZARAAIJldJ4H0/BcQAIBj3HMi7l0BMLIf3n48uoT9fvr56Ap2++/DV0eXsNu7H/86uoRdfvv2n6NL2O2P7v3RJez26+X3o0vY7Zvv/zy6hF3+/iXuuv7vh6+PLmG3d+//PbqE3T6+/e7oEnar9b4/wuItYACAZARAAIBkBEAAgGQEQACAZARAAIBkBEAAgGQEQACAZARAAIBkBEAAgGQEQACAZARAAIBkBEAAgGQEQACAZARAAIBkatu2uzdumqZ7wVoAALhR27Z177ZvjrzyIzVN06n99an99UWtuxS1HyVq7VHrLkXtR4le+z3bewsYACAZARAAIBkBEAAgmbtOAgEAIJ4QrwA2TdNFPOO4rztq/aXEPdM7+pxHrv3oGp4j8lyXEm++e1HnPWrdvYi1R38ePXPdd58F/LlFPkOnlLhnSZcSc7EoZX7MRDt+otd+dA3PEXmuS4k3372o8x617l7U46WUuM+jZz9OQrwCGNmZ0/+X6swPuKeonVtFnW9181yeRz+PEAEw6p3ftm3tP6PVf/afXG4R+TZErh1uEfUYj1h3xJp7kZ9HSzl3fjldANyarCh3/pnv6Kds1d5/f/bbdG3eox4zURbryMc7x4pyjG+JsK5sibKef2nOnF9O9zuAUReFUta1R1rklnVG+l2XL2neI9cOt4h0jE9FrbuUWOv5UsSaozhdAFyaJudoB0Hk2iOLPu/TnxQj1h9F9OMksojHuOPlGJHn/ey1+zuAAADJ/A9eNv9EKRamIgAAAABJRU5ErkJggg=='>"
      ],
      "text/plain": [
       "<IPython.core.display.HTML object>"
      ]
     },
     "metadata": {},
     "output_type": "display_data"
    },
    {
     "name": "stdout",
     "output_type": "stream",
     "text": [
      "hot\n"
     ]
    },
    {
     "data": {
      "text/html": [
       "<img src='data:image/png;base64,iVBORw0KGgoAAAANSUhEUgAAAoAAAABQCAYAAACJbMQlAAADrElEQVR4nO3dXW4yRxQE0DuWd9HJPpJ9JNn/Sy8jIg8JkuM4Mqb53FPccyQkW2KGommG4qfhmHMWAAB9vOwOAADA91IAAQCaUQABAJpRAAEAmlEAAQCaUQABAJpRAAEAmlEAAQCaUQABAJpRAAEAmlEAAQCaUQABAJpRAAEAmlEAAQCaUQABAJpRAAEAmnld2XiMcXlUEAAAbjfnPO7ddqkAVlUdn5xeHnCeTvtIyflM+0jJedN5lncQdGVNjufcR0rOm87z9kwvG/522c95eX//fRwvtWJtawAA4iiAAADNKIAAAM0ogAAAzSiAAADNKIAAAM0ogAAAzSiAAADNKIAAAM0ogAAAzSiAAADNKIAAAM0ogAAAzSiAAADNvK7u4PLPCTgBd0g4kUtV/bk7BHxouQDOOY9HBAEA4DZjjKWn+94CBgBoRgEEAGhGAQQAaOaYc+7OAADAN7r7FcAxxmX1A4gAAHzdlkUgY4zLnPOYcx5KIADA93lE9/IZQACAII/4Cj4FEACgGQUQAKAZBRAAoJm7fgru7eIPPwUHAJDF9wACADTjLWAAgGYUQACAZhRAAIBm7loEcuVXQAAA9lhZiLtUAJP9sjvAgl93B1iQnD11zvz80+4EC0yYPVLHPTV3VVX9tjvAgj92B1jw++4AdzuOtS9h8RYwAEAzCiAAQDMKIABAMwogAEAzCiAAQDMKIABAMwogAEAzCiAAQDMKIABAMwogAEAzCiAAQDMKIABAMwogAEAzCiAAQDPHnPPujccYlwdmAQDgRnPO495tX3de+E5jjIvs30/275eau0r2XVKzp+aukn2X9Owr23sLGACgGQUQAKAZBRAAoJmlRSAAAOSJeAVwjHFJXHF8zZ2avyp3pXf6mCdn353hK5LHuipvvK9Sxz0191Vi9vTH0TPnXl4F/KMlr9Cpyl0lXZV5sKj695xJmz/p2Xdn+Irksa7KG++r1HFPzX2VOl+qch9Hzz5PIl4BTHbm9v+sznyH+4zs3Cp1vOXmqzyO/hgRBTD1xp9zHtdTWv6zP3O5RfJ1SM4Ot0id44m5EzNfJT+OVp27v5yuAH40WCk3/plv6M98lP36/9mv0/+Ne+qcSTlYJ8939kqZ4x9JOK58JOV4/mzO3F9O9xnA1INC1X+zJx3k3udM+qzLM417cna4RdIcfys1d1XW8fy9xMwpTlcA33vbnNMmQXL2ZOnj/vaZYmL+FOnzJFniHDdf9kge97Nn9z2AAADN/AWj6rhCPqu9RgAAAABJRU5ErkJggg=='>"
      ],
      "text/plain": [
       "<IPython.core.display.HTML object>"
      ]
     },
     "metadata": {},
     "output_type": "display_data"
    },
    {
     "name": "stdout",
     "output_type": "stream",
     "text": [
      "cool\n"
     ]
    },
    {
     "data": {
      "text/html": [
       "<img src='data:image/png;base64,iVBORw0KGgoAAAANSUhEUgAAAoAAAABQCAYAAACJbMQlAAADpUlEQVR4nO3dS3LaQBQF0KeUt+BMtP+l9SRZhDJSFXFwBRCmdf3OqXL5B+i6aYsL+rCMMQoAgD5+zA4AAMBrKYAAAM0ogAAAzSiAAADNKIAAAM0ogAAAzSiAAADNKIAAAM0ogAAAzSiAAADNKIAAAM0ogAAAzSiAAADNKIAAAM0ogAAAzSiAAADNvB258rqu27OCAABwuzHG8uh1DxXAqqratlouauD+9cfPV3+2VS2f/e7e27rz8s+8Lcu2bMu2bMu2bMu27Lsuv9WhDrTUw92vqmwCBgBoRwEEAGhGAQQAaEYBBABoRgEEAGhGAQQAaEYBBABoRgEEAGhGAQQAaEYBBABoRgEEAGhGAQQAaEYBBABoRgEEAGjm7fAtLEttF99un14QAIAzOFwAxxjLM4IAAHCbdV0PveZmEzAAQDMKIABAMwogAEAzyxhjdgYAAF7o4VcA13Xdju6ACADA/aYcBLKu6zbGWMYYixIIAPA6z+he9gEEAAjyjFPwKYAAAM0ogAAAzSiAAADNPPRWcJcHf3grOACALM4DCADQjE3AAADNKIAAAM0ogAAAzTx0EMjOu4AAAMxx5EDcQwWwqqq2zA74/mt2gse9/56d4HHJ2X+GZjfX50jObq6/XvJ8Sc6eOterqpY6dhIWm4ABAJpRAAEAmlEAAQCaUQABAJpRAAEAmlEAAQCaUQABAJpRAAEAmlEAAQCaUQABAJpRAAEAmlEAAQCaUQABAJpRAAEAmnk7fAvL8oQYr/d7doADkrMDAPMdLoBjjMgGuK7rJvvryf56qbmrZJ8lNXtq7irZZ0nPfuT6NgEDADSjAAIANKMAAgA0s4wxZmcAAOCFIl4BXNd1O7qz4wx77tT8Vcd3Mp0lfcyTs8/OcI/ksa7KG+9d6rin5t4lZk9/HD1z7uOngfliyUfoVOUeJV2VubKo+nvOpM2f9OyzM9wjeayr8sZ7lzruqbl3qfOlKvdx9OzzJOIVwGRnbv/f1Zn/4f5Hdm6VOt5ycy+Po18jogCm3vljjGX/SMt/9mcut0j+G5Kzwy1S53hi7sTMu+TH0apz95fTFcBrg5Vy55/5jv6fa9n378/+N3027qlzJmVlnTzfmStljl+TsF65JmV9/t2cub+cbh/A1JVC1b/Zk1ZyH3Mm7evyncY9OTvcImmOX0rNXZW1Pv8oMXOK0xXAjy6bc9okSM6eLH3cL58pJuZPkT5PkiXOcfNljuRxP3t25wEEAGjmD7Y5uIVzzQ+WAAAAAElFTkSuQmCC'>"
      ],
      "text/plain": [
       "<IPython.core.display.HTML object>"
      ]
     },
     "metadata": {},
     "output_type": "display_data"
    },
    {
     "name": "stdout",
     "output_type": "stream",
     "text": [
      "copper\n"
     ]
    },
    {
     "data": {
      "text/html": [
       "<img src='data:image/png;base64,iVBORw0KGgoAAAANSUhEUgAAAoAAAABQCAYAAACJbMQlAAAEMklEQVR4nO3dsXLbRhQF0LcZVU7jtMaP+PP8s5s6VVqmiOAhacgCAYiLp3fO2GMZBuDLxQq8IkGy9d4DAIA6/hgdAACA51IAAQCKUQABAIpRAAEAilEAAQCKUQABAIpRAAEAilEAAQCKUQABAIpRAAEAilEAAQCKUQABAIpRAAEAilEAAQCKUQABAIpRAAEAinnZs/E0TZejggAAsF7vvW3ddlcBnLWIiNZiTtHavLzF66/XdV6X3ayztG27Wn9e3n6uv7T/t7dtd//XbYal/b+97fJtfHP/R+5rw3j97ng8Ol6/Ox6rch65r5XHdu1tXjN/l3P+mmHN/F07Rx7e1weP15r5u3a83p2/R+7rgfFa870wdLx27OuI8+W8fM/58j7D5nPckfv6oPFac2zXjtea+XujXS1pV19cr9iu/vFm+f22a9ZZ2v8ZMixtuzXD0rbjMrTvP2IPTwEDABSjAAIAFKMAAgAUowACABSjAAIAFKMAAgAUowACABSjAAIAFKMAAgAUowACABSjAAIAFKMAAgAUowACABSjAAIAFPNyxE4uERGXy/9//lxw8wUAACexuwD23tsRQQAAWGeapl2PsnkKGACgGAUQAKAYBRAAoJjWex+dAQCAJ9r8COA0TZe9FyACAPC4IS8Cmabp0ntvvfemBAIAPM8R3cs1gAAAiRzxFnwKIABAMQogAEAxCiAAQDGbPgru+sUfPgoOACAX7wMIAFCMp4ABAIpRAAEAilEAAQCK2fQikJlPAQEAGGPPC3F3FcDMvn39MjrCZtNff46OsJlxf76suSPMl1GyZs88X74mHfOIiJB9iPb9x67tPQUMAFCMAggAUIwCCABQjAIIAFCMAggAUIwCCABQjAIIAFCMAggAUIwCCABQjAIIAFCMAggAUIwCCABQjAIIAFCMAggAUMzL6ACj/P3Pv6MjbJY5OwAw3u4C2HtvRwR5tmmaLrI/n+zPlzV3hOyjZM2eNXeE7KNkz75ne08BAwAUowACABSjAAIAFNN676MzAADwRCkeAZym6bL3YscR5txZ80fsv8h0lOxjnjn76AyPyDzWEfnGe5Z13LPmnmXMnv1+9My5T/82MJlfoROR91XSETlPFhG3cybb/MmefXSGR2Qe64h84z3LOu5Zc8+yzpeIvPejZ58nKR4BzOzM7f+zOvM33HtkZ62s4y03j3I/+jFSFMCsB7/33ubf2fKf/SeXNTLfhszZYY2sczxj7oyZZ5nvRyPO3V9OVwCXBivLwT/zgX7PUvb572e/TW+Ne9Y5k+VknXm+M1aWOb4kw3llSZbz+Wdz5v5yumsAs54UIn7Nnukkd58z07Uun2ncM2eHNTLN8WtZc0fkOp/fy5g5i9MVwHvXzTnbJMicPbPs4379k2LG/FlknyeZZZzj5ssYmcf97Nm9DyAAQDH/AaoStzCQM3pKAAAAAElFTkSuQmCC'>"
      ],
      "text/plain": [
       "<IPython.core.display.HTML object>"
      ]
     },
     "metadata": {},
     "output_type": "display_data"
    },
    {
     "name": "stdout",
     "output_type": "stream",
     "text": [
      "gray\n"
     ]
    },
    {
     "data": {
      "text/html": [
       "<img src='data:image/png;base64,iVBORw0KGgoAAAANSUhEUgAAAoAAAABQCAYAAACJbMQlAAADgklEQVR4nO3dS27bMBQFUKrIFpIJ9780jrIIdSTATVzUllxRN+8cIMgHsHlDM/KN9fEyxmgAANTxa3YAAADOpQACABSjAAIAFKMAAgAUowACABSjAAIAFKMAAgAUowACABSjAAIAFKMAAgAUowACABSjAAIAFKMAAgAUowACABSjAAIAFKMAAgAU83bkxr339VVBAAB43Bhj2XvbQwVwsyzLt6+/fn70Z4n3ZWxjG9vYxja2sY195ti33+9hFzAAQDEKIABAMQogAEAxCiAAQDEKIABAMQogAEAxCiAAQDEKIABAMQogAEAxCiAAQDEKIABAMQogAEAxCiAAQDEKIABAMW+vuJN1Xe9+DQDA9RwugGOM5RVBAAB4TO/90CtudgEDABSjAAIAFKMAAgAUs4wxZmcAAOBEu18B7L2vRw9ABADgeVNOAum9r2OMZYyxKIEAAOd5RfdyDCAAQJBXXIJPAQQAKEYBBAAoRgEEAChm11vB3Z784a3gAACyuA4gAEAxdgEDABSjAAIAFKMAAgAUs+skkI13AQEAmOPIibiHCmCy9/f32RF2k32Oj4+P2RF2SZ5z2eew1s8n+xypa7211pbl2EVY7AIGAChGAQQAKEYBBAAoRgEEAChGAQQAKEYBBAAoRgEEAChGAQQAKEYBBAAoRgEEAChGAQQAKEYBBAAoRgEEAChGAQQAKOZtdoBZPj8/Z0fYLTk7ADDf4QI4xlheEeRsvfdV9vPJfr7U3K3JPktq9tTcrck+S3r2I7e3CxgAoBgFEACgGAUQAKCYZYwxOwMAACeKeAWw974ePdhxhi13av7Wjh9kOkv6nCdnn53hGclz3VrefG9S5z019yYxe/rz6JVzX/4yMMln6LSWe5Z0a5kbi9b+XDNp6yc9++wMz0ie69by5nuTOu+puTep66W13OfRq6+TiFcAk125/f9UV/6D+xfZeVTqfMvNszyP/h8RBTD1wR9jLNtHWv6r/+fyiOTfITk7PCJ1jSfmTsy8SX4ebe3a/eVyBfDeZKU8+Fd+oP/lXvbt+6v/Tn+b99Q1k7KxTl7vzJWyxu9J2K7ck7I9/2mu3F8udwxg6kahte/ZkzZyX3MmHevyk+Y9OTs8ImmN30rN3VrW9vyrxMwpLlcAv7ptzmmLIDl7svR5v/1PMTF/ivR1kixxjVsvcyTP+9Wzuw4gAEAxvwHCtbcaoK7mugAAAABJRU5ErkJggg=='>"
      ],
      "text/plain": [
       "<IPython.core.display.HTML object>"
      ]
     },
     "metadata": {},
     "output_type": "display_data"
    },
    {
     "name": "stdout",
     "output_type": "stream",
     "text": [
      "split\n"
     ]
    },
    {
     "data": {
      "text/html": [
       "<img src='data:image/png;base64,iVBORw0KGgoAAAANSUhEUgAAAoAAAABQCAYAAACJbMQlAAAD90lEQVR4nO3d0XGjSBQF0MeWs+gM7CSVpJxBx8F+eKnV2MhGwAie3zlV+pimQNftHnQtCWnovQcAAHX8c3QAAACeSwEEAChGAQQAKEYBBAAoRgEEAChGAQQAKEYBBAAoRgEEAChGAQQAKEYBBAAoRgEEAChGAQQAKEYBBAAoRgEEAChGAQQAKEYBBAAo5mXLzq21ca8gAAAs13sf1u67qQBGRFwuY4zj11tEzI5/bNpn/ON+lo7veazvx79uWz/+57Zt4/9vuze+57GWj3+3Xj6MM7d742v2cazKxxpmbvfGv9vmWI41Oz4MX253x4fhY989xme23Rvf81g/jn/atmn8Ztvm8f+23Rvf81gPjX+zXobLJbbwEjAAQDEKIABAMQogAEAxCiAAQDEKIABAMQogAEAxCiAAQDEKIABAMQogAEAxCiAAQDEKIABAMQogAEAxCiAAQDEKIABAMUPvffXOrbVxxywAACzUex/W7vty5J0DAPC4rU/CeQkYAKAYBRAAoBgFEACgmE0XgQAAkM/qZwBba6OrgAEAnu+Qi0Baa2Pvfei9D0ogAMDz7NG9vAcQACCRPT6CTwEEAChGAQQAKEYBBAAoZtVXwd1e/OGr4AAAcvE5gAAAxXgJGACgGAUQAKAYBRAAoJhVF4FMfAsIAMAxtlyIu6kARkRcLjk74PV6PTrCatfr+9ERVnt/z5s9IuuayZo7IiLvenk9OsAGb0cHWClr7oiI19e8K+b1Le/MvyXOPlwum/b3EjAAQDEKIABAMQogAEAxCiAAQDEKIABAMQogAEAxCiAAQDEKIABAMQogAEAxCiAAQDEKIABAMQogAEAxCiAAQDEKIABAMUPvffXOrbVxxywAACzUex/W7vty5J0fqbU2yv58sj9f1twRsh8la/asuSNkP0r27Fv29xIwAEAxCiAAQDEKIABAMZsuAgEAIJ8UzwC21saMVxxPubPmj8h7pXf2Oc+c/egMj8g81xH55nuSdd6z5p5kzJ79cfTMuTdfBfy3Zb5CJyLvVdIROU8WEX+umWzrJ3v2ozM8IvNcR+Sb70nWec+ae5J1vUTkfRw9+zpJ8QxgZmdu/7/Vmf/D/UR2lso633LzKI+jf0eKApj1l997H6Zbtvxn/8tlicw/Q+bssETWNZ4xd8bMk8yPoxHn7i+nK4Bzk5Xll3/mX/RP5rJP/z77z3Rv3rOumSwn68zrnWNlWeNzMpxX5mQ5n/82Z+4vp3sPYNaTQsTX7JlOcp9zZnqvy2+a98zZYYlMa/xW1twRuc7nn2XMnMXpCuBnt8052yLInD2z7PN++5dixvxZZF8nmWVc49bLMTLP+9mz+xxAAIBi/gWRXsQU1VzLqAAAAABJRU5ErkJggg=='>"
      ],
      "text/plain": [
       "<IPython.core.display.HTML object>"
      ]
     },
     "metadata": {},
     "output_type": "display_data"
    },
    {
     "name": "stdout",
     "output_type": "stream",
     "text": [
      "polar\n"
     ]
    },
    {
     "data": {
      "text/html": [
       "<img src='data:image/png;base64,iVBORw0KGgoAAAANSUhEUgAAAoAAAABQCAYAAACJbMQlAAADo0lEQVR4nO3d3W3bMBgFUKrIFtwg3X+UZAPOoT4EAtI4bWzJMXXznQP4oQYkXdOsfGP9eBljNAAA6vg1OwAAAI+lAAIAFKMAAgAUowACABSjAAIAFKMAAgAUowACABSjAAIAFKMAAgAUowACABSjAAIAFKMAAgAUowACABSjAAIAFKMAAgAUowACABTzdGTh3vt6ryAAAFxvjLHsXfZQAXyztmVpF4/WLp/73/N7lrnX87Zt24nbsO37rKut6+Xj1uf3LGPb59/2T399th297W0XtpdDwAAAxSiAAADFKIAAAMUogAAAxSiAAADFKIAAAMUogAAAxSiAAADFKIAAAMUogAAAxSiAAADFKIAAAMUogAAAxSiAAADFPB1fxdLWtbV1Pb4mAAC+3+ECOMZY7hEEAIDr9N4PffXmEDAAQDEKIABAMQogAEAxyxhjdgYAAB5o9zeAvff16AmIAADcbspFIL33dYyxjDEWJRAA4HHu0b2cAwgAEOQet+BTAAEAilEAAQCKUQABAIrZ9VNw7y/+8FNwAABZ3AcQAKAYh4ABAIpRAAEAilEAAQCK2XURyMavgAAAzHHkQtxDBfBNZgd8fp6dYL/fv2cn2M+4P54xn+TlZXaC/V5fZyfYx5jPYdynOHoLFoeAAQCKUQABAIpRAAEAilEAAQCKUQABAIpRAAEAilEAAQCKUQABAIpRAAEAilEAAQCKUQABAIpRAAEAilEAAQCKUQABAIp5Or6K5fgqJnh9nZ1gv+TsAMB8hwvgGCOyAfbeV9kfT/bHS83dmuyzpGZPzd2a7LOkZz+yvEPAAADFKIAAAMUogAAAxSxjjNkZAAB4oIhvAHvv69GTHWfYcqfmb+34SaazpI95cvbZGW6RPNat5Y33JnXcU3NvErOnf46eOfcdbgPzvZKv0Gkt9yrp1jJ3Fq39PWfS5k969tkZbpE81q3ljfcmddxTc29S50truZ+jZ58nEd8AJjtz+/+pzvwf7iuyc63U8ZabW/kc/R4RBTD1zR9jLNsjLf/Z/3K5RvJrSM4O10id44m5EzNvkj9HWzt3fzldAfxssFLe/DO/0V/5LPv277O/pn+Ne+qcSdlZJ8935kqZ459J2K98JmV//tOcub+c7hzA1J1Ca5fZk3ZyH3Mmnevyk8Y9OTtcI2mOv5eau7Ws/flHiZlTnK4AfvS+OadNguTsydLH/f1fion5U6TPk2SJc9x8mSN53M+e3X0AAQCK+QP727kScJSH4wAAAABJRU5ErkJggg=='>"
      ],
      "text/plain": [
       "<IPython.core.display.HTML object>"
      ]
     },
     "metadata": {},
     "output_type": "display_data"
    },
    {
     "name": "stdout",
     "output_type": "stream",
     "text": [
      "red2green\n"
     ]
    },
    {
     "data": {
      "text/html": [
       "<img src='data:image/png;base64,iVBORw0KGgoAAAANSUhEUgAAAoAAAABQCAYAAACJbMQlAAADoElEQVR4nO3dUW7aQBQF0Ocqu/AO2v0vpdnBrMP9aJHSlKpgU8aXd07ER5AcX4aJfcE2LGOMAgCgjy+zAwAA8FwKIABAMwogAEAzCiAAQDMKIABAMwogAEAzCiAAQDMKIABAMwogAEAzCiAAQDMKIABAMwogAEAzCiAAQDMKIABAMwogAEAzCiAAQDNvRxZe13V7VBAAAG43xlj2LnuoAFZVbVVVy/Ln7d779yxj3dZ91nW/+uN7oXVvV37uvX/PMtZ9/nW/+uOz7vB1/9q07eUQMABAMwogAEAzCiAAQDMKIABAMwogAEAzCiAAQDMKIABAMwogAEAzCiAAQDMKIABAMwogAEAzCiAAQDMKIABAMwogAEAzb0f/wFJVtW0/bwAAnN7hAjjGWB4RBACA26zreuidN4eAAQCaUQABAJpRAAEAmlnGGLMzAADwRLvfAVzXdTt6AiIAAPebchHIuq7bGGMZYyxKIADA8zyiezkHEAAgyCM+gk8BBABoRgEEAGhGAQQAaGbXV8F9vPjDV8EBAGTxOYAAAM04BAwA0IwCCADQjAIIANDMrotALnwLCADAHEcuxD1UAKuqYhvg16+zE+z37dvsBPsZ9+cz5lN8r++zI+z2Xu+zI+xizOcw7pMc/AwWh4ABAJpRAAEAmlEAAQCaUQABAJpRAAEAmlEAAQCaUQABAJpRAAEAmlEAAQCaUQABAJpRAAEAmlEAAQCaUQABAJpRAAEAmnk7+geWR6SY4f19doL9krMDANMdLoBjjMgOuK7rJvvzyf58qbmrZJ8lNXtq7irZZ0nPfmR5h4ABAJpRAAEAmlEAAQCaWcYYszMAAPBEEe8Aruu6HT3ZcYZL7tT8VcdPMp0lfcyTs8/OcI/ksa7KG++L1HFPzX2RmD19P3rm3IevAv7fkq/Qqcq9Sroqc2NR9fucSZs/6dlnZ7hH8lhX5Y33Req4p+a+SJ0vVbn70bPPk4h3AJOduf2/qjP/w/2L7Nwqdbzl5l72o/9HRAFMffLHGMvllpb/7K9cbpH8GJKzwy1S53hi7sTMF8n70apz95fTFcBrg5Xy5J/5if6Xa9kvv5/9Mf1t3FPnTMrGOnm+M1fKHL8mYbtyTcr2/NWcub+c7hzA1I1C1Z/ZkzZyn3MmnevySuOenB1ukTTHP0rNXZW1Pf8sMXOK0xXAzz4257RJkJw9Wfq4f3ylmJg/Rfo8SZY4x82XOZLH/ezZfQ4gAEAzPwD3mrkSHszE2gAAAABJRU5ErkJggg=='>"
      ],
      "text/plain": [
       "<IPython.core.display.HTML object>"
      ]
     },
     "metadata": {},
     "output_type": "display_data"
    },
    {
     "name": "stdout",
     "output_type": "stream",
     "text": [
      "paired\n"
     ]
    },
    {
     "data": {
      "text/html": [
       "<img src='data:image/png;base64,iVBORw0KGgoAAAANSUhEUgAAAoAAAABQCAYAAACJbMQlAAAFjUlEQVR4nO3dMY7r1hUG4ENqAFdZAeFFBIYBr8JZgPsgXTrXKbKENFmAnTpJ5QW4cJEgCAw4MFLFYJcAbpIige5NIeqJ0khvNNS8oc673wcQpMh7L89QHOqfkTjTjeMYAAC0o1+7AAAAXpcACADQGAEQAKAxAiAAQGMEQACAxgiAAACNEQABABojAAIANEYABABojAAIANAYARAAoDECIABAYwRAAIDGCIAAAI0RAAEAGiMAAgA05uGWzsMw1JcqBACA643j2C3te1MAjIj44k8/xLbWKKUe5qVGqTVKiYvbtiWm+b7tvM3xtqP5xW1xPMY0f7SvR20ONZ5ui4jY9DU2fY2+r7Hp4rDc19j0MVuu0Xe7dRfbdDX6/mTMffvuMM6jcfuITXemz7x9V8+P+2bfx2NG1Ci17L7eWo6XS4ltLbvnpR4v77bN+8zaldM+ZTruh+W3bTusn/Zxdtu0XMrF+rsasYk+HqJ/M3+o/cm67rBtv+5Rm+Pl0zbnxrq8vzP9zu6ve3J/fY2opURst7v5yXLdlogyPd5O68o2YlumNtupTXkzzmF5ajsb57B8Os7pfs+Pc36/21lts3Eiott9o12cx6aL7oXmu3Ffcqy3zLuIqOXxVM6sm63vntl+N20X9Jnt68r2h6mL2j1M02a2fGZdXFg/TTFf/0Tby2NvpnGW13G0rnZRSo06vU6UbT1+XOaPyxPb5/3L4+0X+5Yr9r3fXq7Y924eXY3NJmLzENFP80eP37ZtE9HP1p8+Pm5Xbx7jOXVFV6Nud9evcjJ/J+uma9xr7e/TL7+7Kb95CxgAoDECIABAYwRAAIDGCIAAAI0RAAEAGiMAAgA0RgAEAGiMAAgA0BgBEACgMQIgAEBjBEAAgMYIgAAAjREAAQAaIwACADTm4dYBPvvow5eoA4C0akT8d5qADG4OgOM4di9RCAAA1xmGod7S31vAAACNEQABABojAAIANKYbx3HtGgAAeEWLfwM4DEO99QOIAAA83yo3gQzDUMdx7MZx7IRAAIDX8xLZy2cAAQASeYk/wScAAgA0RgAEAGiMAAgA0JhF/wpufvOHfwUHAJCLvwMIANAYbwEDADRGAAQAaIwACADQmEU3gez5LyAAAOu45UbcmwJgRMSXf/7h1iFW8evff7t2CYv98tPv1y5hsa/+8Ye1S1js5//66dolLPLxH/++dgmLbT7899olLPaTT/63dgmL/fjPD9YuYZGvH361dgmL/eWbv65dwmKf/+Y/a5ew2Fe/+O3aJSz2s9/97ab+3gIGAGiMAAgA0BgBEACgMQIgAEBjBEAAgMYIgAAAjREAAQAaIwACADRGAAQAaIwACADQGAEQAKAxAiAAQGMEQACAxgiAAACN6cZxXNx5GIb6grUAAHClcRy7pX0f1tz5moZhqGp/fWp/fVnrjlD7WrLWnrXuCLWvJXvtt/T3FjAAQGMEQACAxgiAAACNuekmEAAA8knxG8BhGGrGO473dWetPyLvnd7Zj3nm2teu4TkyH+uIfMd7L+txz1r3Xsbas7+O3nPdN98F/K5lvkMnIu9d0hE5LxYRx+dMtvMne+1r1/AcmY91RL7jvZf1uGetey/r+RKR93X03s+TFL8BzOye0//76p6/4Z6idq6V9Xirm+fyOvpupAiAWZ/8cRy7/ZSt/nv/yeUamb+GzLXDNbKe4xnrzljzXubX0Yj7zi93FwDPHawsT/49P9FPOVf7/vG9f02XjnvWcybLxTrz+c66spzj52S4rpyT5Xr+vrnn/HJ3nwHMelGIeFx7povcaZ2ZPuvyPh33zLXDNTKd43NZ647IdT0/lbHmLO4uAJ6aJ+dsJ0Hm2jPLftznPylmrD+L7OdJZhnPcefLOjIf93uv3d8BBABozP8B4emuJMw5iGUAAAAASUVORK5CYII='>"
      ],
      "text/plain": [
       "<IPython.core.display.HTML object>"
      ]
     },
     "metadata": {},
     "output_type": "display_data"
    },
    {
     "name": "stdout",
     "output_type": "stream",
     "text": [
      "categorical\n"
     ]
    },
    {
     "data": {
      "text/html": [
       "<img src='data:image/png;base64,iVBORw0KGgoAAAANSUhEUgAAAoAAAABQCAYAAACJbMQlAAAMSElEQVR4nO3dT2wbZ2LG4R8lUtJ4QtvjSB7TpOx4EkuKGcVJ6GIhqGv7wEsCCMECjosu4D304KuBnlr0oBpogRooCizQk6++FIovhordPQjo2oCqZhsm2XAZS8p6Yosc07RsjWyKokzqTw+t0TROd23JMTWe9xF00GGgV998M/OKw28Y8TwPEREREQmPtlYHEBEREZEXSwVQREREJGRUAEVERERCRgVQREREJGRUAEVERERCRgVQREREJGRUAEVERERCRgVQREREJGRUAEVERERCRgVQREREJGRUAEVERERCRgVQREREJGRUAEVERERCRgVQREREJGRUAEVERERCRgVQREREJGSiW9k4mUxuPK8gIiIiIvL0PM+LbHbbLRVAAP7tJJwf5eSvYZTz9By5y+XTpxk7dYq9Vj+juTonV2bBmaCwluPytMvYjMtXX3ZBLkOq1s1QqsZQb42HyRRjiSx7/aOMTiY42bkDPmjA+02ofAMXJpmLzTM5upu5vv2QcyDnUPV9ynsmWH5QIJb36cj7HHqzzPCoS5/jY03Cw99Dvvbf342bfTi5EcxmH7V+qA3A8qFZ6olx5vwquckM5TkDcAEXx4mTzQ6z4hiMUQC/ymnX4pRrkY5akLa41axxNTfNtdwMu429nMmexj9yiPOWz0z7K2Rq/RyrDdBjdlN3wPNr5Ccq5Ccq7Jr9d0bql+iN11l0Rmh7513s4zb2CRsztgy5AquTs9QnXBZu+5QsKFrQvnoEp/wRqaSN/eE09oczrK99RvnyJJ8UmoyRodl9jPf73+ODgQzdh+ZxE5f4asHj06sD5K71s9fr5IxR5kddr2AZGXbte4jZfwVz4AqlG+tM/HwEOEL2nEH9x00umz5j5iLGvRnO5iY5ePc+0zGbmQ6bYueb+MYwS4UV6pfG2X2/Sv9QhoGhDAvvHmA8bdDWs86H1PiQGm/9ug3jvEXzt7P4ziXK3ddxYyZuh4nV/gZZhrEsA9cp8EXHI65WerlWSXGrtghMcqR9kdOxFKc6eol1rjFuuMzVq+wpGzyI9JBPOeR7Hfbd6eHMuEFydpEZpplmhrWjNs6ZU8QP7Kfuumzg0uG4xByXW6v7mSicouuTGKcnxjnofk7lf752HHiD9PAZeg/0YJHDIkeux+dC2mKp5wBnSPOjtX1YjRhWs4PZRY9L5Um+idwnlbLp7bWJLJmUc1Cfn8MwJoks36VRtGiWLGIPl7AoEGuPfnHg5E+JmN3xhRuxojd/onclsf91azhHLfoF07k8M7k8a0seTqLOkaNRMlkLxz6MVRnCqgyxlO+kMFFgee0G9vEi9okS0/caXLxoUY/u5fS5BO+82YZZrGCWKrz6sIMEDvH4AUgkeLhjlWLDpdR06cxXSY8Z3L2V5LI9yJg9yFdt98D/mPjKJyQo80ZXL4PWaQatU+w42k95pE7n+g36r1xl4Mo1flf5HeedMrlogkR5hLcib3M8ZXGi12LnTnDxqUbnMYwyj5rrVHybim9zZ96jXB6nWb2ORQOLJum+R2RH6lStOJcKDtcXBjBjg5gdg7y1sJORgk807jKRzTGRzWElVjjrO2SMDDhZKvcOkv9Fg/wvm9xc+w1+9iJ+1MefzLLumZixPGZHnoHUm2Qzo6wNvMcvUkV+2Vvi68X/gMkx+mZdRhYs3i6/guXGsNwO9h41SYxaRH98GL8xhN8cYun6MvXxcXJVuJQZ4bfGHnCnwZ0hs1ribGKBk/E4CdI8WHuNqabNVMPmTnIdY7jM+vIytSsxalc6eM2sMHI2x9s9BtZkluY3NsVGhVKzQuee66TTk+yK3qXmWtRci7bVeazEJPP7YTIxzN2NN7CKJlbJhPab+M44X1bLjE8mWLifpN9OMWD3crjzEU69wMOeOFczWa5lsnQaPYy4Zd6+DdZigqb5gGL/FKWBKR6an4NfYO33bTSmBmlODXKnzaYwDPuPdnHGsTjU0U2xYlOq2Czv/Bwjc4GmX8S/PAxTPVhFnz0ln0OHymTOuDR76lzNWVzLWXjFOEbdoKcnipOBna930Nxt0rBM9sSTpI00O6I9VIAK8OrtLoZzFtZqkXJ6nMXX52mkHJq9Dp/di3JpokzXXIFzxiR9y3dwiyZuySTenWQ4m2Zfe5TaVZfaNRdvOUohnWa1rw/Hcei2dxIzG3SYTXbbj0g4debWFrg8XWRspkS8VOHcgo8Tj1FIJ6juiWI1fKymT3wxhlFO4M/1UHAtlrtewz42iP3eIG1LX+OPX+DWskt+KEN+6BiVB8DHn3J01ueMYfHqoyZTlSJTlRJ2m8nZRIbD0V0U/Qolv8LGyk4SZDAycepny3ipKvk85PNwv1LFoEzf6hGy9XMcPnCMWLZBR7ZJw/kanwnuugWKEz6lCR/v9hJlqw77+0g4H7Hq2LjONK4zA34RZ8LnoNtOCptebA5i4gCrUZ+C4fIo0kGqOUhvY5BIJEnZMJh55S456zPa799jaMpkaMpkudbBuAM33+nCPG5hnrBY27OCX3aJz1RJf2bw+r19pMx+es0Bvqzd4oJ7ka9KPk4li1PJkvmTObKj57l9oMqFibO4vxkkM10jM1PjaOwm6UyO6EkXd8TH3WHjTp3AnTpO164dZE4VsO0NGtP9NGcGyC/dYsy6yOpKgRHX4jXfoAbUgFf7IDMC7dH/vX7frycxjo1wF4vcpwX8h1Us28Ky97C6DOXCAtWeOHyUZue7O0iZFXrNCpGaTdnNss9P8D4+H+CTclfwJ+Cq6/NzXKoHS5w+UeHU8QrzS3c4/3GZ/3Qj2FYK2+pl6tK/bKm+6RawiIiISMioAIqIiIiEjAqgiIiISMioAIqIiIiEzNYXgYjIcxePx5mZnWG9s8L6fZuV1XqrI4mIyEtErwCKiIiIhIwKoIiIiEjI/CAF8A89HVpPjg427T/RHBB5ko4LCZofpAD+ocdSb/qR1bItaP+J5oDIk3RcSNBoEYjINlStVunP9BMxu1m4EcObN1hpdSgREXlp6BawPBPtP9EcEHmSjgsJGt0Clmei/SeaAyJP0nEhQaNVwCIiIiIhowIoIiIiEjIRz/M2vXEymdTbHkRERERawPO8Tb/7YMurgLfyy0VERETk2W31RTjdAhYREREJGRVAERERkZBRARQREREJmS0tAhERERGR4Nn0K4DJZHJDq4BFREREXryWLAJJJpMbnudFPM+LqASKiIiIvDjPo3vpPYAiIiIiAfI8HsGnAigiIiISMiqAIiIiIiGjAigiIiISMpv6KLhvL/7QR8GJiIiIBIueAygiIiISMroFLCIiIhIyKoAiIiIiIaMCKCIiIhIym1oE8pg+BURERESkNbayEHdLBRCAgFbAf/67v2x1hE072v9JqyNsWuLjn7Q6wqb9WSaY4/6P/3Co1RE2bfVvf9bqCJsW/dVKqyNs2ie/+qtWR9iUE38z0+oIm/b3zT9vdYRNG/2Lf211hE3763/601ZH2LSJixe3tL1uAYuIiIiEjAqgiIiISMioAIqIiIiEjAqgiIiISMioAIqIiIiEjAqgiIiISMioAIqIiIiEjAqgiIiISMioAIqIiIiEjAqgiIiISMioAIqIiIiEjAqgiIiISMioAIqIiIiEjAqgiIiISMhEPM/b9MbJZHLjOWYRERERkafkeV5ks9tGW/nLWymZTG4o+4un7C9eUHODsrdKULMHNTcoe6sEPftWttctYBEREZGQUQEUERERCRkVQBEREZGQ2dIiEBEREREJnkC8AphMJjeCuOL4ce6g5ofgrvQO+pgHOXurMzyLII81BG+8HwvquAc192NBzB706+h2zr3lVcA/tCCv0IHgrpKGYJ4s4P/OmaDNn6Bnb3WGZxHksYbgjfdjQR33oOZ+LKjzBYJ7Hd3u8yQQrwAG2XZu/y+r7XzA/THKLk8rqOOt3PKsdB39YQSiAAZ153ueF3n8HbT82/0/l6cR5L8hyNlFnkZQ53gQcwcx82NBvo7C9u4v264Aft9gBWXnb+cd/cd8X/bHP2/3v+n/G/egzpmgnKyDPN+ltYIyx79PEM4r3yco5/OXzXbuL9vuPYBBPSnAk9mDdJL7bs4gvdflZRr3IGcXeRpBmuPfFtTcEKzz+XcFMXNQbLsC+F3fbs5BmwRBzh5kQR/3b/+nGMT8QRH0eRJkQZzjmi+tEeRx3+7Z9RxAERERkZD5L+KuP9/1LjoqAAAAAElFTkSuQmCC'>"
      ],
      "text/plain": [
       "<IPython.core.display.HTML object>"
      ]
     },
     "metadata": {},
     "output_type": "display_data"
    },
    {
     "name": "stdout",
     "output_type": "stream",
     "text": [
      "haxby\n"
     ]
    },
    {
     "data": {
      "text/html": [
       "<img src='data:image/png;base64,iVBORw0KGgoAAAANSUhEUgAAAoAAAABQCAYAAACJbMQlAAAFeElEQVR4nO3dzW7jVBgG4O84lUYCoZFY4jUrBAsGiT1CcD0s4QK4F66CawCWrL1HQuxmYhaOG+enbWpn6nxznkfKnOPf+WqfOG+Tui1d1wUAAPVo1i4AAICXJQACAFRGAAQAqIwACABQGQEQAKAyAiAAQGUEQACAygiAAACVEQABACojAAIAVEYABACojAAIAFAZARAAoDICIABAZQRAAIDKCIAAAJW5W7Jx27b9tQoBAOByXdeVudsuCoARER/HL1GiRBNNNPe903b67/llJSKa6KNEX8rQXnV6148SfZn0j6cPljWTfZWIUiJKDG1M+iV209Pl47Lp8sm8iKvurzQRZVOibEo0mxLlbtduhvnNXdkvv+/H0br7+X0p0Q+nZNIf2mn/3Ly+lN12+37ZDDWO/aGNKE2J2MRQ/31/qOFg3XEfJQ4eTSybLken4aF5x6frwW1LRCl9NKXft00cTpc+muN5Z9YZ9xXR79qIKMNoHNrHp4eap9tPR/32gv7Dy+KB/smyctl6JfpoSty3TRz1Sx/NMMROpodnapxsfzo9HKNheji+Y7/ZncfmeL+7tvT9k21cvN72dP4T+xhO7fZg3ftlfeza4XG2v+2HIfHQ8rG/jaNtDpft+9N9x9F6p9uM8862jy07aCP6bURsS/TvYjdddvOGfmzjYNm4zeGy/Tb3++zLZP9x2H9i2b4fUUqJErvr1EFbds/Pff+xdYfB2ezbx/pz15s9b3hNjTJt42h6eEJdtt7+az5pYzrdPDD/qL1/7cz8OHlROfsozSaW8BEwAEBlBEAAgMoIgAAAlREAAQAqIwACAFRGAAQAqIwACABQGQEQAKAyAiAAQGUEQACAygiAAACVEQABACojAAIAVEYABACozN3SHfwXv16jjkP9E9Oc6GN/mN6tWQgAcPMWB8Cu68o1CgEA4DJt2y56e8xHwAAAlREAAQAqIwACAFSmdF23dg0AALyg2e8Atm3bL/0BRAAAnm+Vm0Datu27ritd1xUhEADg5Vwje/kZQACARK7xK/gEQACAygiAAACVEQABACoz60/BTW/+8KfgAABy8XsAAQAq4yNgAIDKCIAAAJURAAEAKjPrJpCRvwICALCOJTfiLgqAEREfxc9Ld7GK7avv1y5htrdffL52CbN9+lO7dgmzffvV27VLmOXLz/5Yu4TZvnv999olzPbNP3+uXcJsr3//a+0SZvn3t1drlzDbJz/8uHYJ8715s3YF8735eu0KZivNZtH2PgIGAKiMAAgAUBkBEACgMgIgAEBlBEAAgMoIgAAAlREAAQAqIwACAFRGAAQAqIwACABQGQEQAKAyAiAAQGUEQACAygiAAACVKV3Xzd64bdv+irUAAHChruvK3G3v1vzP19S2ba/2l6f2l5e17gi1ryVr7VnrjlD7WrLXvmR7HwEDAFRGAAQAqIwACABQmUU3gQAAkE+KdwDbtu0z3nE81p21/oi8d3pnP+aZa1+7hufIfKwj8h3vUdbjnrXuUcbas7+O3nLdi+8Cft8y36ETkfcu6YicF4uIwzGTbfxkr33tGp4j87GOyHe8R1mPe9a6R1nHS0Te19FbHycp3gHM7JbT/4fqlp9wT1E7l8p6vNXNc3kdfT9SBMCsJ7/rujI+stV/69+5XCLz15C5drhE1jGese6MNY8yv45G3HZ+ubkAeO5gZTn5t3yin3Ku9nH61r+mh4571jGT5WKdebyzrixj/JwM15VzslzPPzS3nF9u7mcAs14UIk5rz3SRO64z08+6fEjHPXPtcIlMY3wqa90Rua7nxzLWnMXNBcBj0+ScbRBkrj2z7Md9+p1ixvqzyD5OMss4xo2XdWQ+7rdeu98DCABQmf8B1xM13FOqxIAAAAAASUVORK5CYII='>"
      ],
      "text/plain": [
       "<IPython.core.display.HTML object>"
      ]
     },
     "metadata": {},
     "output_type": "display_data"
    },
    {
     "name": "stdout",
     "output_type": "stream",
     "text": [
      "jet\n"
     ]
    },
    {
     "data": {
      "text/html": [
       "<img src='data:image/png;base64,iVBORw0KGgoAAAANSUhEUgAAAoAAAABQCAYAAACJbMQlAAAD1UlEQVR4nO3d0XHbRhQF0AeNukAHVj2uJ0o9qcfpYMuwkA+ZHkVRxhRBc3H5zpnRkPoAcLlcgVckl1zGGAUAQB8PswMAAHBbCiAAQDMKIABAMwogAEAzCiAAQDMKIABAMwogAEAzCiAAQDMKIABAMwogAEAzCiAAQDMKIABAMwogAEAzCiAAQDMKIABAMwogAEAzj3s2Xtd1u1YQAADON8ZYLt12VwF89VyvTyQuPy73Xr/zfS3LdWPNHBLHPs7xfk6vrR7qpZZ6vbz19dsf+6UeJt3WmceedR8v21b1UlVbvV7e+vq9H6/5sa89ve59X8+1z8PO7QEACKMAAgA0owACADSjAAIANKMAAgA0owACADSjAAIANKMAAgA0owACADSjAAIANKMAAgA0owACADSjAAIANKMAAgA087h/F8/7d9HJVlXfZ4fgXpleAJxjdwEcYyzXCAIAwHnWdd32bO8lYACAZhRAAIBmFEAAgGaWMcbsDAAA3NDFzwCu67rtfQMiAACfN2URyLqu2xhjGWMsSiAAwO1co3t5DyAAQJBrfASfAggA0IwCCADQjAIIANDMRV8F93bxh6+CAwDI4nMAAQCa8RIwAEAzCiAAQDMKIABAMxctAjnxLSAAAHPsWYi7qwC++mP/Lqb4OjvA5b48zU5wueBhT83+5enb7AgX+1p/zY5wseTsT9/+nh3hMrlDHp09dbpURQ97/blzey8BAwA0owACADSjAAIANKMAAgA0owACADSjAAIANKMAAgA0owACADSjAAIANKMAAgA0owACADSjAAIANKMAAgA0owACADSzjDEu3nhd1+2KWQAAONMYY7l028eZB59pXddN9tuT/fZSc1fJPktq9tTcVbLPkp59z/ZeAgYAaEYBBABoRgEEAGhm1yIQAADyRDwDuK7rlrji+JQ7NX9V7krv9DFPzj47w2ckj3VV3nifpI57au6TxOzpj6NHzr17FfDvlrxCpyp3lXRV5smi6t9zJm3+pGefneEzkse6Km+8T1LHPTX3Sep8qcp9HD36PIl4BjDZkdv/vTryH9yvyM65Usdbbj7L4+jvEVEAU+/8McZy+knLf/T/XM6RfBuSs8M5Uud4Yu7EzCfJj6NVx+4vhyuAHw1Wyp1/5Dv6Vz7Kfvr96Lfp/8Y9dc6knKyT5ztzpczxjyScVz6Scj6/N0fuL4d7D2DqSaHqv9mTTnLvcya91+Wexj05O5wjaY6/lZq7Kut8/l5i5hSHK4DvvW3OaZMgOXuy9HF/+59iYv4U6fMkWeIcN1/mSB73o2f3OYAAAM38A5LtOuCGTrh0AAAAAElFTkSuQmCC'>"
      ],
      "text/plain": [
       "<IPython.core.display.HTML object>"
      ]
     },
     "metadata": {},
     "output_type": "display_data"
    },
    {
     "name": "stdout",
     "output_type": "stream",
     "text": [
      "panoply\n"
     ]
    },
    {
     "data": {
      "text/html": [
       "<img src='data:image/png;base64,iVBORw0KGgoAAAANSUhEUgAAAoAAAABQCAYAAACJbMQlAAAEpklEQVR4nO3dwW7jVBQG4HOjSogNrMFihwRsEM/BlieAB+CpEA/BhqdAmgULNneNZj1DzSap0kzauHYa+8z5PimKndrO39vb5G8Tt633HgAA1LFbOwAAALelAAIAFKMAAgAUowACABSjAAIAFKMAAgAUowACABSjAAIAFKMAAgAUowACABSjAAIAFKMAAgAUowACABSjAAIAFKMAAgAUowACABRzt2TnYRjGawUBAGC63nubu++iAhgRcff5m2itRdu1iF17WG67FjFhubX9fsfLVz1eRNtFtLa/3kXE0fLhY0u2+2Db/XJM3O5h+cJld7z+zD67546zm7jduUvs8++n28Xbjj526bbWTj4ej485+ba4nOXiNs9cn72vKdvEfpsz6w/L7WibC7efPe7EYzyX5ZD/3PrxPk+tPxqHJ9aP7/Op9fP3fx8t3kWL9w/Xu5P1Fu9id7L+1HZtfD9528nHjP8ixvuIGPfX90fX4+P1KdtcXN8fZ8o2D9dx3Utc+XjHl/tn1p9avsV29yfL11i/1TE3cNv4CtPwNafeNZavfbwxIn6OZbwEDABQjAIIAFCMAggAUIwCCABQjAIIAFCMAggAUIwCCABQjAIIAFCMAggAUIwCCABQjAIIAFCMAggAUIwCCABQjAIIAFDM3dIDvH/77TVyAABwI4sLYO+9XSMIAADTDMMwLtnfS8AAAMUogAAAxSiAAADFtN772hkAALih2b8BHIZhXPoGRAAAXm6Vk0CGYRh776333pRAAIDbuUb38h5AAIBErvEn+BRAAIBiFEAAgGIUQACAYmb9K7jjkz/8KzgAgFz8HUAAgGK8BAwAUIwCCABQjAIIAFDMrJNADvwXEACAdSw5EXdRAYyIuPvszdJDrOLrn75ZO8Js3/+4doL5vvt27QTzfTWsnWCeLz9dO8F8P3zy29oRZvvi7a9rR5jvr3/XTjDPH2sHWOD3tQPM98/fayeY78+1Ayzwy8L9vQQMAFCMAggAUIwCCABQjAIIAFCMAggAUIwCCABQjAIIAFCMAggAUIwCCABQjAIIAFCMAggAUIwCCABQjAIIAFCMAggAUEzrvc/eeRiG8YpZAACYqPfe5u57t+adr2kYhlH225P99rLmjpB9LVmzZ80dIftasmdfsr+XgAEAilEAAQCKUQABAIpZdBIIAAD5pPgN4DAMY8Yzjg+5s+aPyHumd/Yxz5x97QwvkXmsI/KN90HWcc+a+yBj9uzPo1vOvfgs4NeW+QydiLxnSUfkfLCIeDxnss2f7NnXzvASmcc6It94H2Qd96y5D7LOl4i8z6NbnycpfgOY2Zbb/8dqy99wl8jOVFnHW25eyvPo60hRALN+8Xvv7XDJln/rP7lMkflzyJwdpsg6xzPmzpj5IPPzaMS2+8vmCuC5wcryxd/yF/qSc9kP61v/nJ4a96xzJsuDdeb5zrqyzPFzMjyunJPl8fxjs+X+srn3AGZ9UIj4MHumB7nTnJne6/IxjXvm7DBFpjl+LGvuiFyP56cyZs5icwXw1HFzzjYJMmfPLPu4H/+kmDF/FtnnSWYZ57j5so7M47717P4OIABAMf8DzxETfVwwLFEAAAAASUVORK5CYII='>"
      ],
      "text/plain": [
       "<IPython.core.display.HTML object>"
      ]
     },
     "metadata": {},
     "output_type": "display_data"
    },
    {
     "name": "stdout",
     "output_type": "stream",
     "text": [
      "no_green\n"
     ]
    },
    {
     "data": {
      "text/html": [
       "<img src='data:image/png;base64,iVBORw0KGgoAAAANSUhEUgAAAoAAAABQCAYAAACJbMQlAAAEbklEQVR4nO3dsXLjVBQG4KPstgwPoCb9tgyvQMFLQM870cOr8AA0zEBxKxoKOjYRBdHEeO21Iym+OjnfN6OJbUn2b/lG/mNbztBaCwAA6rjrHQAAgNtSAAEAilEAAQCKUQABAIpRAAEAilEAAQCKUQABAIpRAAEAilEAAQCKUQABAIpRAAEAilEAAQCKUQABAIpRAAEAilEAAQCKUQABAIp5v2blcRynrYIAAHC91tqwdN1VBTAi4v77KWKI/15LvIvn08c/e807NcWF8x2WmYaIKZ6mnV02nJvuNrh8i+sYIu6G8w/3uelzQ2Tr9Zbe1i2nW96vZbf1GHfx8Wn65+D0x3h35vJzy8+Xvbt62efLP13nefkhHiKmx4h4mqbHiHg4OP14Yv58+uHC/KPlzs6fLzuRZZoOfrmfpsfY9rIt1p9fWjg+ffzzpfO2vq5zyyw5/1rrXjr9kmVf4/o+97hvMW/p9c3jc56Ozx9Pl+ZvcR1H84f5PizkLWAAgGIUQACAYhRAAIBiFEAAgGIUQACAYhRAAIBiFEAAgGIUQACAYhRAAIBiFEAAgGIUQACAYhRAAIBiFEAAgGIUQACAYt6vvYLffxy2yMGOTU8TAPA2rC6ArTUNEADghsZxXPXajLeAAQCKUQABAIpRAAEAihlaa70zAABwQ4tfARzHcVr7AUQAAF6uy0Eg4zhOrbWhtTYogQAAt7NF9/IZQACARLb4Cj4FEACgGAUQAKAYBRAAoJhF/wru8OAP/woOACAX3wMIAFCMt4ABAIpRAAEAilEAAQCKWXQQyMx/AQEA6GPNgbirCmBExP13STvgN70DLPfXfe8Ey335oXeC5b7+oneCZb7qHWCFb+On3hEW+/D3D70jLPfLn70TLPNH7wAr/NY7wAq/9g6wws+9Ayy39itYvAUMAFCMAggAUIwCCABQjAIIAFCMAggAUIwCCABQjAIIAFCMAggAUIwCCABQjAIIAFCMAggAUIwCCABQjAIIAFCMAggAUMzQWlu88jiO04ZZAAC4UmttWLru+5433tM4jpPstyf77WXNHSF7L1mzZ80dIXsv2bOvWd9bwAAAxSiAAADFKIAAAMWsOggEAIB8UrwCOI7jlPGI4zl31vwReY/0zr7NM2fvneElMm/riHzbe5Z1u2fNPcuYPfvz6J5zrz4K+LVlPkInIu9R0hE5dxYR/x8z2cZP9uy9M7xE5m0dkW97z7Ju96y5Z1nHS0Te59G9j5MUrwBmtuf2/1bt+RfuEtm5VtbtLTcv5Xn0daQogFkf/NbaME/Z8u/9L5drZL4PmbPDNbKO8Yy5M2aeZX4ejdh3f9ldATy1sbI8+Ht+oC85lX0+v/f7dG67Zx0zWXbWmcc7fWUZ46dk2K+ckmV//tbsub/s7jOAWXcKEZ9mz7STO86Z6bMub2m7Z84O18g0xg9lzR2Ra39+LGPmLHZXAI8dNudsgyBz9syyb/fDvxQz5s8i+zjJLOMYN176yLzd957d9wACABTzL6h8AuaiMsnVAAAAAElFTkSuQmCC'>"
      ],
      "text/plain": [
       "<IPython.core.display.HTML object>"
      ]
     },
     "metadata": {},
     "output_type": "display_data"
    },
    {
     "name": "stdout",
     "output_type": "stream",
     "text": [
      "wysiwyg\n"
     ]
    },
    {
     "data": {
      "text/html": [
       "<img src='data:image/png;base64,iVBORw0KGgoAAAANSUhEUgAAAoAAAABQCAYAAACJbMQlAAAEGUlEQVR4nO3dPXJjRRQG0Nsab4CAqAMgmJgqyIhcrIAlEM0m2AmksA2KiEWQNwlbYPwIZlRljKmRX8vud+eeU9WBg5Y/tVpPn36e1MYYAQBAHafVAQAAeFkKIABAMQogAEAxCiAAQDEKIABAMQogAEAxCiAAQDEKIABAMQogAEAxCiAAQDEKIABAMQogAEAxCiAAQDEKIABAMQogAEAxCiAAQDE3M5N779u1ggAAcLkxRts7d6oARkTcxrfvL2bN2NqruDudJkabmr+d2rvXUVeNtna0FnFaONri6798xBYRdxNjdv7biPh72Whxt/Tul3202flbvNtCq8bM1jXmRpwiTjcLx6uI02litCvMj+e7c11wGe2LFjNOU7MBAEhHAQQAKEYBBAAoRgEEAChGAQQAKEYBBAAoRgEEAChGAQQAKEYBBAAoRgEEAChGAQQAKEYBBAAoRgEEAChGAQQAKOZm9gJ+i1+vkWO/LSLevh+8OMsPAPlMF8AxRrtGEAAALtN732bmewsYAKAYBRAAoBgFEACgmDbGWJ0BAIAXtPsVwN77NvsBRAAAnm7JSSC9922M0cYYTQkEAHg51+hePgMIAJDINb6CTwEEAChGAQQAKEYBBAAoZtdPwd0/+cNPwQEA5OJ7AAEAivEWMABAMQogAEAxCiAAQDG7TgI58ysgAABrzJyIO1UAIyJu43b2Ipb44/XPqyPs9uf3fXWE3b78enWC/T75anWCnT79fXWC3T6LH1ZH2O3N6gATvvlrdYKdflkdYMJPqwNM+O7H1Qn2e/N6dYLd2udzX8LiLWAAgGIUQACAYhRAAIBiFEAAgGIUQACAYhRAAIBiFEAAgGIUQACAYhRAAIBiFEAAgGIUQACAYhRAAIBiFEAAgGIUQACAYtoYY/fk3vt2xSwAAFxojNH2zr1Z+c9X6r1vsr882V9e1twRsq+SNXvW3BGyr5I9+8x8bwEDABSjAAIAFKMAAgAUM3USCAAA+aR4BbD3vmU84/icO2v+iLxnemdf88zZV2d4isxrHZFvvc+yrnvW3GcZs2d/HD1y7umzgJ9b5jN0IvKeJR2R82AR8e89k23/ZM++OsNTZF7riHzrfZZ13bPmPsu6XyLyPo4efZ+keAUwsyO3/4/Vke9wHyI7l8q63nLzVB5Hn0eKApj1xh9jtPPIlv/oz1wukfk6ZM4Ol8i6xzPmzpj5LPPjaMSx+8vhCuBji5Xlxj/yDf0hj2U//3306/R/6551z2Q5WGfe76yVZY8/JsNx5TFZjucfmyP3l8N9BjDrQSHiv9kzHeQe5sz0WZePad0zZ4dLZNrj92XNHZHreP5QxsxZHK4APnS/OWfbBJmzZ5Z93e8/U8yYP4vs+ySzjHvcflkj87ofPbvvAQQAKOYf5yehyaqFONgAAAAASUVORK5CYII='>"
      ],
      "text/plain": [
       "<IPython.core.display.HTML object>"
      ]
     },
     "metadata": {},
     "output_type": "display_data"
    },
    {
     "name": "stdout",
     "output_type": "stream",
     "text": [
      "seis\n"
     ]
    },
    {
     "data": {
      "text/html": [
       "<img src='data:image/png;base64,iVBORw0KGgoAAAANSUhEUgAAAoAAAABQCAYAAACJbMQlAAAEXUlEQVR4nO3dQW7bRhQG4EfBN+iSLZBNTxCgaA/Sfc9UIJdIN71EVz1EV3OFbgqLXTREZJmqZZHW8Pl9HyBYZkb0r/GE+mWJ9tBaCwAA6jj0DgAAwH0pgAAAxSiAAADFKIAAAMUogAAAxSiAAADFKIAAAMUogAAAxSiAAADFKIAAAMUogAAAxSiAAADFKIAAAMUogAAAxSiAAADFKIAAAMU8rLnxOI7TVkEAALhea2249barCmBExG8RMbxwObzxv2fax7B6B4nu7D32kSXne9pHlpxXjJmGiGMMcYyIx/h6/evHiMeFbccYzsafbnu+ny32/XT80/1d93W32PcQ03yZ/vu4tO3J9ovbDk+3n4y7tG2KIY6L2w5XjZums7yL2w7/e99ec3+n6RBxPLs8Ds+3PRszX39h7OPp5xfGPi7ddmHs4rizsRfHnI19cdyleRgipunLJdZdP26wj/n6caP9bJ1r+hhreAkYAKAYBRAAoBgFEACgGAUQAKAYBRAAoBgFEACgGAUQAKAYBRAAoBgFEACgGAUQAKAYBRAAoBgFEACgGAUQAKAYBRAAoJiHtTv4eYsUlUxfLsBOTBeuA7xfqwtga23YIggAANcZx3HVM1YvAQMAFKMAAgAUowACABQztNZ6ZwAA4I5u/gngOI7T2jcgAgDwel1OAhnHcWqtDa21QQkEALifLbqX9wACACSyxa/gUwABAIpRAAEAilEAAQCKuelPwZ2e/OFPwQEA5OL3AAIAFOMlYACAYhRAAIBiFEAAgGJuOglk5q+AAAD0seZE3FUFMCLi89oddPJj7wArfPdt7wQr/NQ7wApZF03mOU+c/df4pneEm33+5/veEW7yx98/9I5wu0+/9E5wu98/9E5wuz//6p1ghY+rbu0lYACAYhRAAIBiFEAAgGIUQACAYhRAAIBiFEAAgGIUQACAYhRAAIBiFEAAgGIUQACAYhRAAIBiFEAAgGIUQACAYhRAAIBihtbazTcex3HaMAsAAFdqrQ233vah5xfvaRzHSfb7k/3+suaOkL2XrNmz5o6QvZfs2dfc3kvAAADFKIAAAMUogAAAxaw6CQQAgHxS/ARwHMcp4xnHc+6s+SPynumdfc4zZ++d4TUyz3VEvvmeZZ33rLlnGbNnfxzdc+7VZwG/tcxn6ETkPUs6IufBIuLpmsm2frJn753hNTLPdUS++Z5lnfesuWdZ10tE3sfRva+TFD8BzGzP7f+92vN/uJfIzrWyzrfcvJbH0beRogBm/ea31ob5ki3/3p+5XCPzfcicHa6RdY1nzJ0x8yzz42jEvvvL7grg0mRl+ebv+Rv9kqXs8+d7v0+X5j3rmslysM683ukryxpfkuG4siTL8fy92XN/2d17ALMeFCKeZ890kDvPmem9Lu9p3jNnh2tkWuOnsuaOyHU8P5cxcxa7K4DnTptztkWQOXtm2ef99JlixvxZZF8nmWVc49ZLH5nnfe/Z/R5AAIBi/gUIhC65k93AYgAAAABJRU5ErkJggg=='>"
      ],
      "text/plain": [
       "<IPython.core.display.HTML object>"
      ]
     },
     "metadata": {},
     "output_type": "display_data"
    },
    {
     "name": "stdout",
     "output_type": "stream",
     "text": [
      "rainbow\n"
     ]
    },
    {
     "data": {
      "text/html": [
       "<img src='data:image/png;base64,iVBORw0KGgoAAAANSUhEUgAAAoAAAABQCAYAAACJbMQlAAAD1ElEQVR4nO3dUXLbNhQF0EfXu8Bi2k1kE+162p21O8BPuoaE/Wg546jyRCYUAU/vnBl+OENG1xBEXVOCtPXeAwCAOl5mBwAA4LEUQACAYhRAAIBiFEAAgGIUQACAYhRAAIBiFEAAgGIUQACAYhRAAIBiFEAAgGIUQACAYhRAAIBiFEAAgGIUQACAYhRAAIBiFEAAgGJeRw5ure33CgIAwO1679vZY4cKYETE19jja8Q325eLn69t99rn2W9vhUz7Fv9eK77cfnrn3+279r7v7b/tV+79Z5rJs29vfqYt9mWnpX0XeCif3d++U/bdBi/BvYwdDgBANgogAEAxCiAAQDEKIABAMQogAEAxCiAAQDEKIABAMQogAEAxCiAAQDEKIABAMQogAEAxCiAAQDEKIABAMQogAEAxr6P/wUts98jByvaI+PLfBqTloQwchgtg710DBAB4oNbaPnK8l4ABAIpRAAEAilEAAQCK2XrvszMAAPBAp68Attb20TcgAgDwcVMWgbTW9t771nvflEAAgMe5R/fyHkAAgETu8RF8CiAAQDEKIABAMQogAEAxp74K7u3iD18FBwCQi88BBAAoxkvAAADFKIAAAMUogAAAxZxaBHLwLSAAAHOMLMQdKoAREXvk7IC/zw4w4I/ZAQb89fPsBAN+mx3gpE+fZycYkHm2583+Kf6eHeGUX2cHGPDLn7MTDMg71VNnH/0IFi8BAwAUowACABSjAAIAFKMAAgAUowACABSjAAIAFKMAAgAUowACABSjAAIAFKMAAgAUowACABSjAAIAFKMAAgAUowACABSz9d5PH9xa2++YBQCAG/Xet7PHvs688Zlaa7vsjyf742XNHSH7LFmzZ80dIfss2bOPHO8lYACAYhRAAIBiFEAAgGKGFoEAAJBPiiuArbU944rjI3fW/BF5V3pnH/PM2Wdn+IjMYx2Rb7wPWcc9a+5DxuzZn0dXzj28CvhHy7xCJyLvKumInCeLiG/nTLb5kz377AwfkXmsI/KN9yHruGfNfcg6XyLyPo+uPk9SXAHMbOX2/6xWfsB9j+zcKut4y81HeR79MVIUwKx3fu99O7Zs+Vf/y+UWmX+HzNnhFlnneMbcGTMfMj+PRqzdX5YrgNcGK8udv/Id/T3Xsh8/r/47vTfuWedMlpN15vnOXFnm+DUZzivXZDmfP5uV+8ty7wHMelKI+H/2TCe5y5yZ3uvyTOOeOTvcItMcfytr7ohc5/NLGTNnsVwBvPS2OWebBJmzZ5Z93N/+pZgxfxbZ50lmGee4+TJH5nFfPbvPAQQAKOYfb7ksXfpxYwwAAAAASUVORK5CYII='>"
      ],
      "text/plain": [
       "<IPython.core.display.HTML object>"
      ]
     },
     "metadata": {},
     "output_type": "display_data"
    },
    {
     "name": "stdout",
     "output_type": "stream",
     "text": [
      "nih\n"
     ]
    },
    {
     "data": {
      "text/html": [
       "<img src='data:image/png;base64,iVBORw0KGgoAAAANSUhEUgAAAoAAAABQCAYAAACJbMQlAAAE5klEQVR4nO3dMXLrVBQG4CM7VBQ0dJqhZQFsiIaGGRZBxwaYYSssgIqhoadDLRXNe2CLIlKwHTt2JMfyyfm+N3csyVfKyfV98h/bSpqu6wIAgDpWSxcAAMBtCYAAAMUIgAAAxQiAAADFCIAAAMUIgAAAxQiAAADFCIAAAMUIgAAAxQiAAADFCIAAAMUIgAAAxQiAAADFCIAAAMUIgAAAxQiAAADFPMzZuW3b/lqFAABwua7rmqn7zgqAERFNrGIdn8RqaOu924eb3hfRxDa2sYlNbA/+HW67RZ/HdLx6av3TcrO3ff++560/0v/l/Zozx1xfsO0GfZomYtUM5TbD3c3Ot3C47WD9ad9j207te+p4/WNbbyNW22F9WF7vLD/1ObZtZ/vJPi8cd2+/sZ5xOXa2xUGf3fU4vt/c4zR9RLMZ2vb4cpzY/gZ9muiftdWL2+LCfv/3Pd/vsa2HGT22h2gO1nfvbw7Wd+9vjvQf15sTx3v+9dbRx7p/bKt+u7Pcx3pYX8XOcn9i+ek422H7keWjffa/btP3EduIGB7avXa47ZZ9Xmqv6Tv3GP3Qji2fu//affuIfryNg9vh5Z6923P9rnGcK7RrHWcTEf9ExMehnVt+Td8p+21iHm8BAwAUIwACABQjAAIAFCMAAgAUIwACABQjAAIAFCMAAgAUIwACABQjAAIAFCMAAgAUIwACABQjAAIAFCMAAgAUIwACABTzMPcAfWzj3/gQER+uUA6l9BGxWboIMuqHBsA0swNg13XNNQoBAOAybdvO+jnYW8AAAMUIgAAAxQiAAADFNF3XLV0DAAA3NPkVwLZt+7kfQAQA4PUWuQikbdu+67qm67pGCAQAuJ1rZC+fAQQASOQav4JPAAQAKEYABAAoRgAEAChm0p+C2734w5+CAwDIxe8BBAAoxlvAAADFCIAAAMUIgAAAxUy6CGTkr4AAACxjzoW4swJgZl/FD0uXMNlv8enSJUz32ddLVzDdN38uXcE03/26dAWTff7FT0uXMNn38ffSJUz27S+/L13CND8uXcB0m5+XrmC6P/5auoLpvly6gAV5CxgAoBgBEACgGAEQAKAYARAAoBgBEACgGAEQAKAYARAAoBgBEACgGAEQAKAYARAAoBgBEACgGAEQAKAYARAAoBgBEACgmKbrusk7t23bX7EWAAAu1HVdM3XfhyW/+JLatu3Vfntqv72sdUeofSlZa89ad4Tal5K99jn7ewsYAKAYARAAoBgBEACgmFkXgQAAkE+KVwDbtu0zXnE81p21/oi8V3pnH/PMtS9dw2tkHuuIfOM9yjruWeseZaw9+/PoPdc9+yrgt5b5Cp2IvFdJR+Q8WUTsz5ls8yd77UvX8BqZxzoi33iPso571rpHWedLRN7n0XufJyleAczsntP/e3XP/+HOUTuXyjre6ua1PI++jRQBMOuD33VdM7Zs9d/7Ty6XyPw9ZK4dLpF1jmesO2PNo8zPoxH3nV/uLgAeG6wsD/49P9DnHKt9XL/37+nUuGedM1lO1pnnO8vKMsePyXBeOSbL+fy9uef8cnefAcx6Uoh4Xnumk9xhnZk+6/Kexj1z7XCJTHN8V9a6I3Kdzw9lrDmLuwuAh3aTc7ZJkLn2zLKP++5PihnrzyL7PMks4xw3X5aRedzvvXa/BxAAoJj/AACTsk0rMxbSAAAAAElFTkSuQmCC'>"
      ],
      "text/plain": [
       "<IPython.core.display.HTML object>"
      ]
     },
     "metadata": {},
     "output_type": "display_data"
    }
   ],
   "source": [
    "#Plot each map in the list\n",
    "for name in maps:\n",
    "    print(name)\n",
    "    #Load as continuous colourmap\n",
    "    cbar1.colourmap(name)\n",
    "    #Load as discrete colourmap\n",
    "    cbar2.colourmap(name, discrete=True, range=[-6,6])\n",
    "    lv.display(resolution=[640,80], transparent=True)"
   ]
  },
  {
   "cell_type": "code",
   "execution_count": null,
   "metadata": {
    "collapsed": true
   },
   "outputs": [],
   "source": []
  }
 ],
 "metadata": {
  "kernelspec": {
   "display_name": "Python 3",
   "language": "python",
   "name": "python3"
  },
  "language_info": {
   "codemirror_mode": {
    "name": "ipython",
    "version": 3
   },
   "file_extension": ".py",
   "mimetype": "text/x-python",
   "name": "python",
   "nbconvert_exporter": "python",
   "pygments_lexer": "ipython3",
   "version": "3.6.3"
  },
  "widgets": {
   "state": {},
   "version": "1.0.0"
  }
 },
 "nbformat": 4,
 "nbformat_minor": 1
}
