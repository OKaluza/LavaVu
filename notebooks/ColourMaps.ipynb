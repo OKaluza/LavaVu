{
 "cells": [
  {
   "cell_type": "markdown",
   "metadata": {
    "collapsed": false,
    "deletable": true,
    "editable": true,
    "scrolled": false
   },
   "source": [
    "Colour maps\n",
    "======\n",
    "Colour maps can be specified with the colourmap() function\n",
    "\n",
    "Calling colourmap() on a vis object loads a colourmap and applies it to that object in a single command.\n",
    "\n",
    "It can also be called from the viewer object which just loads a colourmap and returns its id, which can be saved and used to set the \"colourmap\" property of a one or more or objects.\n",
    "\n"
   ]
  },
  {
   "cell_type": "code",
   "execution_count": 5,
   "metadata": {
    "collapsed": false,
    "deletable": true,
    "editable": true
   },
   "outputs": [],
   "source": [
    "#First set up a basic vis so we can display the colourmaps\n",
    "import lavavu\n",
    "lv = lavavu.Viewer(border=False, axis=False, background=\"gray90\", quality=1)"
   ]
  },
  {
   "cell_type": "markdown",
   "metadata": {
    "deletable": true,
    "editable": true
   },
   "source": [
    "**Specifying colour maps**\n",
    "\n",
    "Maps can be loaded as strings or lists of colours, positions can optionally be provided in range [0,1] to set where on the scale the colour will be placed, eg:  \n",
    "```\n",
    "\"red white blue\"\n",
    "\"0.0=red 0.25=white 1.0=blue\"\n",
    "[(0.0, 'red'), (0.25, 'white'), (1.0, 'blue')]\n",
    "['red', 'white', 'blue']  \n",
    "```\n",
    "To provide specific values for colours in their original scale (rather than positions normalized to [0,1] range), place the value in parenthesis instead, eg:  \n",
    "```\n",
    "\"red (100)white (200)blue\"\n",
    "```  \n",
    "\n",
    "When specifying colours you can use either:\n",
    " 1. colour names from https://en.wikipedia.org/wiki/X11_color_names eg: 'red'\n",
    " 2. RGB hex values such as '#ff0000'\n",
    " 3. HTML style rgb(a) values, eg: 'rgb(255,0,0)' or 'rgba(255,0,0,1)'\n",
    "\n",
    "Colour order and positions can be reversed by passing *reverse=True*.  \n",
    "Pass *discrete=True* to produce a discrete colour map instead of a continuously varying one.  \n",
    "*log=True* will apply a logarithmic scale.  \n",
    "Addional properties to the colour map can be passed, for details see: https://github.com/OKaluza/LavaVu/wiki/Property-Reference#colourmap\n",
    "\n",
    "**Colour bars**  \n",
    "\n",
    "The colourbar() function creates a colour bar plot, it can be called from an object and uses that objects colour map, if called on the viewer it must have its map specified at some point with colourmap(data).\n",
    "\n",
    "There are several properties that specify how the colour bar is displayed, see: https://github.com/OKaluza/LavaVu/wiki/Property-Reference#colourbar"
   ]
  },
  {
   "cell_type": "code",
   "execution_count": 6,
   "metadata": {
    "collapsed": false,
    "deletable": true,
    "editable": true
   },
   "outputs": [
    {
     "data": {
      "text/html": [
       "<img src='data:image/png;base64,iVBORw0KGgoAAAANSUhEUgAAAoAAAABQCAYAAACJbMQlAAADfUlEQVR4nO3dUZKiOhQG4KS7d+Bj0vtfWJNlOLkPc5lxLHsKCaLM+b4XU4pwgCL1CwRzay0BABDH27MLAABgXwIgAEAwAiAAQDACIABAMAIgAEAwAiAAQDACIABAMAIgAEAwAiAAQDACIABAMAIgAEAwAiAAQDACIABAMAIgAEAwAiAAQDACIABAMB8jXy6l9K0KAQBgudZaXvvdoQCYUko9p5/nEefXvduW/dyaHr2MnNL8K6OnP9vfva797EjLeJU6rOv+tUZa1z3X5wjLUEfcdb05zero95NLwAAAwQiAAADBCIAAAMEIgAAAwQiAAADBCIAAAMEIgAAAwQiAAADBCIAAAMEIgAAAwQiAAADBCIAAAMEIgAAAwQiAAADBfIzOIPeU0nmDSgAA2MVwAGyt5S0KAQBgmVJKH/m+S8AAAMEIgAAAwQiAAADB5Nbas2sAAGBHq88A1lrPtVbjfwEAdjaawVaNAq61nr++vt7n9jRN7yNFAACwTK313Hsfuo1v1Zd7728555RzTqMFAACw3HwSboTwBgBwIDmPP4JZAAQACEYABAAIZtUgkNZanv+CxF/BAQAci+cAAgAE4xIwAEAwAiAAQDACIABAMKsGgczmgSAAAOxrZCDuUACcXT6Q8FZ7zeePmOe/WNMRa37Fmo5Y8ysu8xk1j9R0Op3S6XTaZN73TLfFsiK1H73t712W9mO2/ZJlaf9uX++De7kEDAAQjAAIABCMAAgAEIwACAAQjAAIABCMAAgAEIwACAAQjAAIABCMAAgAEIwACAAQjAAIABCMAAgAEIwACAAQjAAIABDMxxYz6b3fbAMA8HqGA2BrLW9RCMDeSildHwbbcDztq5QydMbNJWAAgGAEQACAYARAAIBgcmvt2TUAALCju88AXt90WErpozciAjzS0n5Lfwa39d5/HR+llF5rPV9+7pjaTu89Ldm+8z65nva76a/dNQr4Vic6j/gx+gd4RUv7Lf0Z/F3O+cc0Te/X7zumtvN/+Os55x/ze7e2Y+89fX5+nud2rfU875ul2/2uM4B2HnA0+i3YRu/97bszTmwj55ymadqlz9rkQdAAwL8r5/zrx9T1GSeOyShgAIBgBEAA4K9uDUzg2O5+DMz1DYXzDdbuswFe1dJ+S38G37scoHB9+dcxtZ15gMflNr61Hdfsj0ueAwgAEMx/724i/DtGa24AAAAASUVORK5CYII='>"
      ],
      "text/plain": [
       "<IPython.core.display.HTML object>"
      ]
     },
     "metadata": {},
     "output_type": "display_data"
    }
   ],
   "source": [
    "#Create colour bar then load a colourmap into it\n",
    "cbar1 = lv.colourbar(size=[0.95,15], align=\"top\")\n",
    "cbar1.colourmap([(0, 'green'), (0.75, 'yellow'), (1, 'red')], reverse=True)\n",
    "\n",
    "#Create another colour bar and load a map, this time with a log scale\n",
    "cbar2 = lv.colourbar(size=[0.95,15], align=\"top\", tickvalues=[100, 500])\n",
    "cbar2.colourmap('black (100)gray45 (101)gray60 white', range=[10,1000], logscale=True)\n",
    "\n",
    "lv.display(resolution=[640,80], transparent=True)"
   ]
  },
  {
   "cell_type": "markdown",
   "metadata": {
    "deletable": true,
    "editable": true
   },
   "source": [
    "**CubeHelix**\n",
    "\n",
    "Custom [cube helix](https://www.mrao.cam.ac.uk/~dag/CUBEHELIX/) maps can be generated with cubeHelix(), these will always have monotonically varying intensity values to allow them to still be useful when printed in greyscale\n"
   ]
  },
  {
   "cell_type": "code",
   "execution_count": 7,
   "metadata": {
    "collapsed": false,
    "deletable": true,
    "editable": true
   },
   "outputs": [
    {
     "data": {
      "text/html": [
       "<img src='data:image/png;base64,iVBORw0KGgoAAAANSUhEUgAAAoAAAABQCAYAAACJbMQlAAAFZklEQVR4nO3dW3bbOAwAUMDpLuTuf2G2lpHhfESSKZl+xHLTM8N7fXokgSDEOm6Exo/kOI4BAEA/Dn97AQAA/CwNIABAZzSAAACd0QACAHRGAwgA0BkNIABAZzSAAACd0QACAHRGAwgA0BkNIABAZzSAAACd0QACAHRGAwgA0BkNIABAZzSAAACd0QACAHTm157JwzCUdy0EAIDnjeOYr87d1QDOcnOLyMjcRrORuYnlN3KrOe3cw9e2Go88VPuP4od1zjSWcaj25/hhk/M4HtW5IjNKtX+9ndayGWvOqfO352jmbuplRmQstUvGkvs1P9Z59fqn3Ou8jBJVnYznzpdfj+s5VqblXmpPY8/kLGutjpc1V/MjHufM/9wyomRZxq+On8nJiBIPxrMstZ7LKdV2jj+KTdtoxG7lR/lGLCKn+jnFc8rNuORlzrFYjS2501qer3U9tpo71ZoetY39r/n1/ry+W+OZ61pxK/fhuWIZP+RlPyPiEOucQ1b727mr+tNxXSvv1P16yK9rLbn5ZCxi+c5Z1rE69zInX4xtvvuXrPLWV5D1+asrTLmX28iPjEO5nz9HG1ev12+N6+ujW6yOWtemyzWz/spcYvU9n1Ff3+prW97IWb5iWa9nez1tXLvq/ca1c53Tvvat5jbHqkfWvWvxsh/t4yVve5wxfSNoHz9Vc4pVxznXeZGngAEAOqMBBADojAYQAKAzGkAAgM5oAAEAOqMBBADojAYQAKAzGkAAgM5oAAEAOqMBBADojAYQAKAzGkAAgM5oAAEAOqMBBADozK93FCnTbRN8pRDwP1U2WwD+nt0N4DiO+Y6FAADwnGEYdv1/2lPAAACd0QACAHRGAwgA0Jkcx/FvrwEAgB/08k8Aj8fj5/F4/HznYgAAeGxvD/bSu4CPx+Pn6XT6mPfP5/PHnkUAAPCc4/H4WUrZ9TK+lyaXUg6ZGZkZexcAAMDz5h/C7aF5AwD4D8nc/xHMGkAAgM5oAAEAOvPSm0DGccz5V5D4VXAAAP8tPgcQAKAzngIGAOiMBhAAoDMaQACAzrz0JpDZ/EYQAAB+1p434u5qAGcZEZlf26j2W8fzZxc2j/9AjXvbyMc5z26/U2v9F7sd3+5n3B9fzrEzp2zHpuOS7fxX5pQbddpzcopl8/je2NPH0x383bmRGWX5IuZ1rIpfzvNE7vwFv5X7YP719tCOXeWu8/JG/HbN27lZ163OnVWd9f7lHJnb/ffVzJjjX7GM2/G51jI21V/yopqfuYkfNrUua73U2s558y2/kx1XR4fmWFzFDo1Y4x66xLJd5yrv7vmqP/M/nyVvfsRsxxt/slGvUXudk41zt9ZzHYtbOdVxPBhf8h7l5Lpe3I2Vpd4qLy+1nqsTEVmu1hc36tXxyLKqV98hmWV1B2ZrvIot4/N66ppzjWp8Oe/VuTd36tVf/kbuMtbIbdas78h27t4Pg/YUMABAZzSAAACd0QACAHRGAwgA0BkNIABAZzSAAACd0QACAHRGAwgA0BkNIABAZzSAAACd0QACAHRGAwgA0BkNIABAZzSAAACd+fWOIiUiStkE4G3KZgsA7LG7ARzHMd+xEAAAnjMMw66fingKGACgMxpAAIDOaAABADqT4zj+7TUAAPCDvv0TwO2LDodhKHtfiAgAQEQpJY7H42cda/VapZQYhqFsc2/lb32rAWw1f+M45jiOqQkEAHjd1Pw97LVKKfH79+/PcRzzdDp91E3gs73ZtxpAH/kCAPBnZGacz+cf6bW8CQQAoDMaQACAzmgAAQA6s+tXwdUvMPT6QACA92r1WpkZp9PpYxiGkpn/nM/nj3v5LT4HEACgM/8C/eJbmve7rCgAAAAASUVORK5CYII='>"
      ],
      "text/plain": [
       "<IPython.core.display.HTML object>"
      ]
     },
     "metadata": {},
     "output_type": "display_data"
    }
   ],
   "source": [
    "cbar1.colourmap(lavavu.cubeHelix(samples=16, start=0.5, rot=-0.9, sat=1.0, gamma=1.0, alpha=False))\n",
    "cbar2.colourmap(lavavu.cubeHelix(samples=16, start=1.0, rot=0.9, sat=0.75, gamma=1.0, alpha=False), logscale=False)\n",
    "cbar2[\"tickvalues\"] = []\n",
    "\n",
    "lv.display(resolution=[640,80], transparent=True)"
   ]
  },
  {
   "cell_type": "markdown",
   "metadata": {
    "deletable": true,
    "editable": true
   },
   "source": [
    "**Getting data**\n",
    "\n",
    "Colourmap data can be retreived with .getcolourmap() on an object, which returns the map formatted as a string, .getcolourmap(string=False) returns a python list of (position, colour) tuples instead. Either of these formats are supported when creating a colourmap so the data can be modified and passed to a new colour map."
   ]
  },
  {
   "cell_type": "code",
   "execution_count": 8,
   "metadata": {
    "collapsed": false
   },
   "outputs": [
    {
     "name": "stdout",
     "output_type": "stream",
     "text": [
      "\"\"\"0.0000=rgba(0,0,0,1); 0.0625=rgba(31,3,38,1); 0.1250=rgba(44,15,83,1); 0.1875=rgba(41,36,124,1); 0.2500=rgba(26,66,151,1); 0.3125=rgba(9,100,160,1); 0.3750=rgba(0,134,151,1); 0.4375=rgba(0,165,129,1); 0.5000=rgba(18,187,101,1); 0.5625=rgba(53,201,77,1); 0.6250=rgba(101,206,65,1); 0.6875=rgba(154,205,72,1); 0.7500=rgba(202,202,97,1); 0.8125=rgba(239,203,136,1); 0.8750=rgba(255,211,183,1); 0.9375=rgba(255,228,226,1); 1.0000=rgba(255,255,255,1); \"\"\"\n",
      "\n"
     ]
    }
   ],
   "source": [
    "print cbar1.getcolourmap()"
   ]
  },
  {
   "cell_type": "markdown",
   "metadata": {
    "deletable": true,
    "editable": true
   },
   "source": [
    "**CPT colour tables**\n",
    "\n",
    "Most files in the Generic Map Tools CPT format can be imported.  \n",
    "A large library of these can be found at [cpt-city](http://soliton.vm.bytemark.co.uk/pub/cpt-city/index.html)\n",
    "\n",
    "The *positions=False* argument can be passed to ignore the position data and load only the colours."
   ]
  },
  {
   "cell_type": "code",
   "execution_count": 9,
   "metadata": {
    "collapsed": false,
    "deletable": true,
    "editable": true
   },
   "outputs": [
    {
     "data": {
      "text/html": [
       "<img src='data:image/png;base64,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'>"
      ],
      "text/plain": [
       "<IPython.core.display.HTML object>"
      ]
     },
     "metadata": {},
     "output_type": "display_data"
    }
   ],
   "source": [
    "try:\n",
    "    #Check if file exists, if not download it from cpt-city\n",
    "    import os\n",
    "    fn = 'arctic.cpt'\n",
    "    if not os.path.isfile(fn):\n",
    "        import urllib\n",
    "        url = 'http://soliton.vm.bytemark.co.uk/pub/cpt-city/arendal/arctic.cpt'\n",
    "        urllib.urlretrieve(url, fn)\n",
    "        \n",
    "    #Load with positions calibrated\n",
    "    cbar1.colourmap(lavavu.loadCPT(fn))\n",
    "    #Load colour data only\n",
    "    cbar2.colourmap(lavavu.loadCPT(fn, positions=False))\n",
    "    \n",
    "    lv.display(resolution=[640,80], transparent=True)\n",
    "except:\n",
    "    pass"
   ]
  },
  {
   "cell_type": "markdown",
   "metadata": {
    "deletable": true,
    "editable": true
   },
   "source": [
    "**Predefined maps**\n",
    "\n",
    "There are a number of colour maps available for convenience which can be accessed by passing their name instead of a list of colours when creating a colour map."
   ]
  },
  {
   "cell_type": "code",
   "execution_count": 10,
   "metadata": {
    "collapsed": false,
    "deletable": true,
    "editable": true,
    "scrolled": true
   },
   "outputs": [
    {
     "name": "stdout",
     "output_type": "stream",
     "text": [
      "['diverge', 'isolum', 'isorainbow', 'cubelaw', 'cubelaw2', 'smoothheat', 'coolwarm', 'spectral', 'drywet', 'elevation', 'dem1', 'dem2', 'dem3', 'dem4', 'ocean', 'bathy', 'seafloor', 'abyss', 'ibcso', 'gebco', 'topo', 'sealand', 'nighttime', 'world', 'geo', 'terra', 'relief', 'globe', 'earth', 'etopo1', 'cubhelix', 'hot', 'cool', 'copper', 'gray', 'split', 'polar', 'red2green', 'paired', 'categorical', 'haxby', 'jet', 'panoply', 'no_green', 'wysiwyg', 'seis', 'rainbow', 'nih']\n"
     ]
    }
   ],
   "source": [
    "#Get the list of colormap names\n",
    "maps = lv.defaultcolourmaps()\n",
    "print maps"
   ]
  },
  {
   "cell_type": "markdown",
   "metadata": {
    "deletable": true,
    "editable": true
   },
   "source": [
    "The first eight maps are selected to vary evenly in luminance to reduce banding artifacts  \n",
    "Following these are further maps inspired by the default colour tables from the [Generic Mapping Tools](http://gmt.soest.hawaii.edu/)  \n",
    "Those maps that have fixed colour positions included can also be loaded without the position data by preceding the name with '@'\n",
    "\n",
    "The colourmap data can be retrieved for modification as follows:"
   ]
  },
  {
   "cell_type": "code",
   "execution_count": 11,
   "metadata": {
    "collapsed": false,
    "deletable": true,
    "editable": true
   },
   "outputs": [
    {
     "name": "stdout",
     "output_type": "stream",
     "text": [
      "#440088 #831bb9 #578ee9 #3db6b6 #6ce64d #afeb56 #ffff88\n"
     ]
    }
   ],
   "source": [
    "print lv.defaultcolourmap('cubelaw')"
   ]
  },
  {
   "cell_type": "markdown",
   "metadata": {
    "deletable": true,
    "editable": true
   },
   "source": [
    "**Discrete maps and colour bars**  \n",
    "When loading a colour map, pass *discrete=True* to produce a discrete colour map instead of a contuously varying one.\n",
    "\n",
    "The colourbar() function creates a colour bar plot, it can be called from an object and uses that objects colour map, if called on the viewer it must have its map specified at some point with colourmap(data).\n",
    "\n",
    "There are several properties that specify how the colour bar is displayed, see: https://github.com/OKaluza/LavaVu/wiki/Property-Reference#colourbar"
   ]
  },
  {
   "cell_type": "code",
   "execution_count": 12,
   "metadata": {
    "collapsed": false,
    "deletable": true,
    "editable": true,
    "scrolled": false
   },
   "outputs": [],
   "source": [
    "#Clear the plot and create some new colour bars\n",
    "lv.clear()\n",
    "#Default continuous colour bar\n",
    "cbar1 = lv.colourbar(size=[0.95,15], align=\"top\")\n",
    "#Discrete colour bar with bin labels enabled\n",
    "cbar2 = lv.colourbar(size=[0.95,15], align=\"top\", binlabels=True)"
   ]
  },
  {
   "cell_type": "code",
   "execution_count": 13,
   "metadata": {
    "collapsed": false,
    "deletable": true,
    "editable": true,
    "scrolled": false
   },
   "outputs": [
    {
     "name": "stdout",
     "output_type": "stream",
     "text": [
      "diverge\n"
     ]
    },
    {
     "data": {
      "text/html": [
       "<img src='data:image/png;base64,iVBORw0KGgoAAAANSUhEUgAAAoAAAABQCAYAAACJbMQlAAAFCElEQVR4nO3dvXbTSBgG4G8IV0ArUbEFJbfGdVBwa5SUnBOrgL2A3SbMFlis7diOkBzLX+Z5zgEcOVLekcb26x+FMgxDAADQjldrBwAA4LoUQACAxiiAAACNUQABABqjAAIANEYBBABojAIIANAYBRAAoDEKIABAYxRAAIDGKIAAAI1RAAEAGqMAAgA0RgEEAGiMAggA0BgFEACgMa+XrNx1Xb1UEAAAphuGocxdd1EBjIh4//lLlIgoJSKiRikRY5rxcoka8fty7FzeWb63Xn20jVPLy3ZB2f7s7ebPLv/15fGssf0Z+9v49bMfb/vxuE+O71nGXU/kOTPusr1uL8/+8nPj2892qeO9vW7C8qnH+2zWE+PeXX50/x7Z1qTj/QfHdXfcU4/rvHGfmuenxz3puB6Me3e7U+f57HGfGN/+cX18O466fR5bf/+1s+zguqPfc3Dd76fFh8t2rqv14Hse/8xy5rr/11+Y9WT+c+OYmmPCdZP35xP7uo5zamHWc3nOff+ieXEs4/Me+3I2zwWznst/wWP/ZNbZ+/PXv+VSWRfeJzya85++xRLeAgYAaIwCCADQGAUQAKAxCiAAQGMUQACAxiiAAACNUQABABqjAAIANEYBBABojAIIANAYBRAAoDEKIABAYxRAAIDGKIAAAI15vXQDXz9+uEQOAACuZHEBHIahXCIIAADTdF1Xl6zvLWAAgMYogAAAjVEAAQAaU4ZhWDsDAABXNPsVwL7vH/q+f7hkGAAAnra0g806C7jv+4f7+/u78fJms7lbEgIAgGn6vn+otS76GN+slWutr0opUUqJpQEAAJhufBFuCeUNACCRUpb/CmYFEACgMQogAEBjZp0EMgxDGf8LEv8VHABALn4PIABAY7wFDADQGAUQAKAxCiAAQGNmnQQyGk8EAQDgupaciLuoAEZEvP/8ZekmVvHuzT9rR5jt3Zt/144wm+zXlzV3RMRfibPH9x9rJ5it/Ph77QizZM0dERHf82bPvN9TZ//0bdH63gIGAGiMAggA0BgFEACgMQogAEBjFEAAgMYogAAAjVEAAQAaowACADRGAQQAaIwCCADQGAUQAKAxCiAAQGMUQACAxiiAAACNeb10A18/frhEjqv7unYAAICVLC6AwzCUSwS5tq7rquzXJ/v1Zc0dIftasmbPmjtC9rVkz75kfW8BAwA0RgEEAGiMAggA0JgyDMPaGQAAuKIUrwB2XVeXfthxDWPurPkjln/IdC3Z93nG7LXW6Pv+Ye0cfyLrvh5lzZ5xv9dao+u6mm2O78q2zyPyP47ecu7FZwE/t8xn6ETkPUs6IuedRcT+nMk2f7Jm35a/Wkr5uXaWqbLu65Hb5/XUWuPt27cPwzCU8YnOZrO5WzvXn8g6XyLyPo7e+vxO8QpgZrfc/l+qW77BPSVr9lJKbDablNmzyjpXMubezu9Uhe8l8Tj6PFIUwKwHfxiGMv7Jlv/Wn7lMkXkMmbPDFBnn+PhKYLYymHFfjzI/jkbcdn+5uQJ4bGdlOfi3fKCfciz7+PWtj+nUfs86Z7LcWWee76wryxw/VEqJ+/v7u4yfA8xyf/7S3HJ/ubnPAGa8UxgdZs90J3eYM9NndF7Sfs+cHabINMdHWV/5G2W6Pz+UMXMWN1cAD+0252yTIHP2zLLv991nihnzZ5F9nmSWbY6Pr/x1XVdLKT+zFsGMMt9Obz273wMIANCY/wBSEBeHX8oLhQAAAABJRU5ErkJggg=='>"
      ],
      "text/plain": [
       "<IPython.core.display.HTML object>"
      ]
     },
     "metadata": {},
     "output_type": "display_data"
    },
    {
     "name": "stdout",
     "output_type": "stream",
     "text": [
      "isolum\n"
     ]
    },
    {
     "data": {
      "text/html": [
       "<img src='data:image/png;base64,iVBORw0KGgoAAAANSUhEUgAAAoAAAABQCAYAAACJbMQlAAAFZElEQVR4nO3dQW/TSBgG4JktV5aVuCDZ3Dny1/gdHPhrHDkiNb7s3tEuqzJ72DqxHadN4zTO13keCYQz9vjzeOK8TeKSu65LAADU47e1CwAA4LIEQACAygiAAACVEQABACojAAIAVEYABACojAAIAFAZARAAoDICIABAZQRAAIDKCIAAAJURAAEAKiMAAgBURgAEAKiMAAgAUBkBEACgMq+WbNw0TTlXIQAAHK/runzqtosCYEopffjyNaWUUs4ppbTLg3lUUhkt5+1fZbI8bH+mvkbtZbS8fTiXyfIDfQ32P1zelVDGy9u+yn7fT+1r214my8P2Q31N2kbt5aj1Hzovu/YD5/EJfeVU7g99eF7K/amYf2y7fL/Kbtsy6XO8/txj4z7n6in9IY37SinlMqkvpZTKpK9H1xu0lXKgvrljO+N4Teo7pubtMZaZsR+M1/Hj8Dzjdej8j9eZW294LZj29f++D7ZNztW0bfQ8HNS8N79m15s5V8Nay279vbYDfc0fx3nGa1vrI+M17Ouh8dqN6Vzb4N9743DgOPbm1cxxlOk5m643XGfw2LDGkmbah+Mzs82wn70xnrbP7393DNP9T14HF+1/+JyfbDe6Vuzvf9TX3vyetu9vMzqWvf2P+5rb/+Rla3+b4XHMHN/Dx19m+h8//tD+8+fvaQkfAQMAVEYABACojAAIAFAZARAAoDICIABAZQRAAIDKCIAAAJURAAEAKiMAAgBURgAEAKiMAAgAUBkBEACgMgIgAEBlBEAAgMq8WtrBt08fz1EHAAAXsjgAdl2Xz1EIAADHaZqmLNneR8AAAJURAAEAKiMAAgBUJnddt3YNAABc0MnvALZte9e27d05iwEA4HFLM9hJdwG3bXt3e3t70/97s9ncLCkCAIDjtG17V0pZ9DW+kzYupfyWc04557S0AAAAjte/CbeE8AYAEEjOy38FswAIAFAZARAAoDIn3QTSdV3u/wsS/xUcAEAsfg8gAEBlfAQMAFAZARAAoDICIABAZU66CaTX3wgCAMBlLbkRd1EATCmlD1++Lu1iFa9f/712CSeLXPvvgWt/9+PPtUs4ybsff61dwski1/7mZ8z5klJKb/6NOe5/BK07pZTe/hP32vj2p9rXkD9/X7S9j4ABACojAAIAVEYABACojAAIAFAZARAAoDICIABAZQRAAIDKCIAAAJURAAEAKiMAAgBURgAEAKiMAAgAUBkBEACgMgIgAEBlXi3t4Nunj+eoAwCAC1kcALuuy+co5NKapilqvzy1X17UulNS+1qi1h617pTUvpbotS/Z3kfAAACVEQABACojAAIAVCZ3Xbd2DQAAXFCIdwCbpilLv+y4hr7uqPWntPxLpmuJPuYRay+lpLZt79au4ymijnUvau0Rx72UkpqmKdHm+FC0MU8p/uvoNde9+C7g5xb5Dp2U4t4lnVLMi0VK4zkTbf5Erf0+/JWc86+1azlW1LHueX5eTiklvX///q7rutz/oLPZbG7Wruspos6XlOK+jl77/A7xDmBk15z+X6prfsI9JmrtOee02WxC1h5V1LkSse77+R0q8L0kXkefR4gAGPXkd12X+z/R6r/2n1yOEfkYItcOx4g4x/t3AqOFwYhj3Yv8OprSdeeXqwuAc4MV5eRf84l+zFzt/fK1H9OhcY86Z6JcrCPPd9YVZY5P5ZzT7e3tTcTvAUa5nr8015xfru47gBEvCr1p7ZEuctM6I31H5yWNe+Ta4RiR5ngv6jt/vUjX86mINUdxdQFwapico02CyLVHFn3chz8pRqw/iujzJLJoc7x/569pmpJz/hU1CEYU+Xl67bX7PYAAAJX5D1fz1KByyDAWAAAAAElFTkSuQmCC'>"
      ],
      "text/plain": [
       "<IPython.core.display.HTML object>"
      ]
     },
     "metadata": {},
     "output_type": "display_data"
    },
    {
     "name": "stdout",
     "output_type": "stream",
     "text": [
      "isorainbow\n"
     ]
    },
    {
     "data": {
      "text/html": [
       "<img src='data:image/png;base64,iVBORw0KGgoAAAANSUhEUgAAAoAAAABQCAYAAACJbMQlAAAFQUlEQVR4nO3dTZLTRhgG4G6GLIBKVUKWEkfgLNyAs3AWrsQRxtolWSQbEsp0FoyCJcszsjRY/qafpyopT09Let3W2O/4Z8hd1yUAAOrxbOsAAABclgIIAFAZBRAAoDIKIABAZRRAAIDKKIAAAJVRAAEAKqMAAgBURgEEAKiMAggAUBkFEACgMgogAEBlFEAAgMoogAAAlVEAAQAqowACAFTm+ZqNm6YpjxUEAID5uq7LS7ddVQBTSun9p5JS+tYDv6XoO+HU2LfLg7E8MTaYN9znvLGU8ijH/2P51LzDzHPHhjlOjo2Oec71Pd7n/ZlOj89fp1NzT+UeZMwTY6fmrsg9fw1PjR+Pjfc3zjPv+6f2d+bxypLjnZNneNs/7lp8//pw3uExcjlj7uTl8XZ325bv+5maO32c4X7y+HqVU9sNj3POMQ7XYNbcwX4Pxsp4fGpdDn8sp/b18H6nc6WD2/G+/ZbR3Pn7Pfn9w7yTa3C83fB6jW+r0eVy6njj/dw3577cd19PrMlZOWZneWBOeWA95mR9IO/4e/2Mo4fHieMNZk+OH+8j9/+fHB/OH47l4dipuQfzj67XxHp/H8tHcycb3GD84NJhlncfpraczUvAAACVUQABACqjAAIAVEYBBACojAIIAFAZBRAAoDIKIABAZRRAAIDKKIAAAJVRAAEAKqMAAgBURgEEAKiMAggAUBkFEACgMs/X7uDj2/wYOQAAuJDVBbDrOg0QAOCCmqYpa7b3EjAAQGUUQACAyiiAAACVyV3XbZ0BAIALWvwMYNu2+7Zt948ZBgCAh63tYIs+Bdy27f729vamv7zb7W7WhAAAYJ62bfellFVv41u0cSnlWc455ZzT2gAAAMzXPwm3hvIGABBIzuv/BLMCCABQGQUQAKAyiz4E0nVd7v8JEv8UHABALP4OIABAZbwEDABQGQUQAKAyCiAAQGUWfQik138QBACAy1rzQdxVBTCllN5/itkBX+Tft46w2Mtnf2wdYbEX6c+tIyz2KsVc958Dr/mvX//aOsJir/d/bx1hsd++/LN1hEVef/mydYTFfvk35mNpSim9+hz3xcSXn3/aOsJi+d2HVdvHvdUAAFhEAQQAqIwCCABQGQUQAKAyCiAAQGUUQACAyiiAAACVUQABACqjAAIAVEYBBACojAIIAFAZBRAAoDIKIABAZRRAAIDKPF+7g49v82PkAADgQlYXwK7rQjbApmmK7Jcn++VFzZ2S7FuJmj1q7pRk30r07Gu29xIwAEBlFEAAgMoogAAAlcld122dAQCACwrxDGDTNGXtmx230OeOmj+l9W8y3Ur0NY+YvZSS2rbdb53jHFHXuhc1e8R1L6WkpmlKtHP8ULQ1Tyn+4+g15179KeAfLfIndFKK+ynplGLeWaQ0PGeinT9Rs9+Vv5Jz/rp1lrmirnXPz+fllFLSmzdv9l3X5f4Xnd1ud7N1rnNEPV9Sivs4eu3nd4hnACO75vb/VF3zD9xDombPOafdbhcye1RRz5WIue/O71CF7ynxOPpjhCiAUW/8ruty/1+0/Nf+m8scka9D5OwwR8RzvH8mMFoZjLjWvciPoyldd3+5ugI4tVhRbvxrvqEfMpW9//rar9OpdY96zkS5s458vrOtKOf4WM453d7e3kR8H2CU+/On5pr7y9W9BzDinUJvnD3Sndw4Z6T36DyldY+cHeaIdI73oj7z14t0fz4WMXMUV1cAxw6bc7STIHL2yKKv++FvihHzRxH9PIks2jneP/PXNE3JOX+NWgQjivxzeu3Z/R1AAIDK/Ac7PopOQ27gJAAAAABJRU5ErkJggg=='>"
      ],
      "text/plain": [
       "<IPython.core.display.HTML object>"
      ]
     },
     "metadata": {},
     "output_type": "display_data"
    },
    {
     "name": "stdout",
     "output_type": "stream",
     "text": [
      "cubelaw\n"
     ]
    },
    {
     "data": {
      "text/html": [
       "<img src='data:image/png;base64,iVBORw0KGgoAAAANSUhEUgAAAoAAAABQCAYAAACJbMQlAAAFeElEQVR4nO3dT27bRhQH4Dd2uinQrgLUBRX0z6pXaNc5VI6QQ/UG7S0stkC2WdvThURbYihLFlNTz/N9SEBJnKEeRzT5EyXape/7AACgHVdLFwAAwMsSAAEAGiMAAgA0RgAEAGiMAAgA0BgBEACgMQIgAEBjBEAAgMYIgAAAjREAAQAaIwACADRGAAQAaIwACADQGAEQAKAxAiAAQGMEQACAxryZ07nruvq1CgEA4HR935dz+84KgBER7+NjlChRSkREiU0lm/sP98rO45vJps9U283Mx/mjvqU83js6f6em3eXuzz9Q51M1TazfVE0nzd/8m71+ezWViFqmp3FVom4WtJ3u3i5Rr0b3t9MoEfVqvMyn5u1MDyyzbuuZ7rdd9tXhdRmec3LZVzu1jZY5Xsepeh/G64t6n5p3YNwe2tfYvGOq2xd9e79s30dNzd9OIyLqTruH3uWx/dD7Yf7Qfnf+1PKOzZ96vpn11J12J43DM8bpYf5Jz1ejHJhGqVHi6TZH+5YaJe5n9D02vT+jz/50spbJtvdP9zlpGaf2HfaLsXO7TD9eYuLxMur71O2y9/j08mYsuxxrc2T9xrfLc2s4oX05PB7jx8fHqKlj7WnttrfKfpvY9t1dVsTj8e1Qu3GN+2P65TH9qXbjdYlRPVN177ebty5T7R5q2m1XPsQcPgIGAGiMAAgA0BgBEACgMQIgAEBjBEAAgMYIgAAAjREAAQAaIwACADRGAAQAaIwACADQGAEQAKAxAiAAQGMEQACAxgiAAACNeTN3AX/Gh82NOpoxvg8AwEWYHQD7vi9foxAAAE7Tdd2sU20+AgYAaIwACADQGAEQAKAxpe/7pWsAAOAFnX0GcLVa3a1Wq7uvWQwAAMfNzWBnXQW8Wq3ubm9vr4fb6/X6ek4RAACcZrVa3dVaZ32N76zOtdarUkqUUmJuAQAAnG44CTeH8AYAkEgp838FswAIANAYARAAoDFnXQTS930Z/gSJPwUHAJCL3wMIANAYHwEDADRGAAQAaIwACADQmLMuAhkMF4IAAPCy5lyIOysARkS8j49zF7GIn767WbqEs/38/Y9Ll3C2T7/nHfdPf+Ss/fPbf5Yu4Wyf3/67dAln++Hmr6VLONvNzd9Ll3CWX65mH9IW8+v1N0uXcLbfvs17TMpceykfZvX3ETAAQGMEQACAxgiAAACNEQABABojAAIANEYABABojAAIANAYARAAoDECIABAYwRAAIDGCIAAAI0RAAEAGiMAAgA0RgAEAGhM6fv+7M5d19WvWAsAACfq+76c2/fNkk++pK7rqtpfntpfXta6I9S+lKy1Z607Qu1LyV77nP4+AgYAaIwACADQGAEQAKAxsy4CAQAgnxRnALuuqxmvOB7qzlp/RN4rvbOPecbaa62xWq3ulq7jObKO9SBr7RnHvdYaXdfVbNv4rmxjHpH/OHrJdc++Cvj/lvkKnYi8V0lH5NxZROxvM9m2n6y1b8NfLaXcL13LqbKO9cDP58uptca7d+/u+r4vwxud9Xp9vXRdz5F1e4nIexy99O07xRnAzC45/b9Wl/wDd0zW2kspsV6vU9aeVdZtJWPd2+07VeB7TRxH/x8pAmDWF7/v+zL8z1b/pb9zOUXmdchcO5wi4zY+nAnMFgYzjvUg83E04rLzy8UFwKnByvLiX/ILfcxU7cP9S1+nQ+OedZvJsrPOvL2zrCzb+FgpJW5vb68zfg8wy/78tbnk/HJx3wHMuFMYjGvPtJMb15npOzqvadwz1w6nyLSND7Ke+Rtk2p+PZaw5i4sLgGO7yTnbRpC59syyj/vuO8WM9WeRfTvJLNs2Ppz567qullLuswbBjDL/nF567X4PIABAY/4DOBm8jHWIJIwAAAAASUVORK5CYII='>"
      ],
      "text/plain": [
       "<IPython.core.display.HTML object>"
      ]
     },
     "metadata": {},
     "output_type": "display_data"
    },
    {
     "name": "stdout",
     "output_type": "stream",
     "text": [
      "cubelaw2\n"
     ]
    },
    {
     "data": {
      "text/html": [
       "<img src='data:image/png;base64,iVBORw0KGgoAAAANSUhEUgAAAoAAAABQCAYAAACJbMQlAAAFQElEQVR4nO3dQXKbSBQG4NdxarKdWTgbyAWSHCOHyhFyqDnMTFlcILO2exYWtoQVSwLH6Lm/r0olCUPzaNroNxJyGYYhAABox7u1CwAA4HUJgAAAjREAAQAaIwACADRGAAQAaIwACADQGAEQAKAxAiAAQGMEQACAxgiAAACNEQABABojAAIANEYABABojAAIANAYARAAoDECIABAY94vWbjruvpShQAAcLphGMrcZRcFwIiIb/EjokTUUiJK7D+OiCgl6nZ6bKfXEvcTpvM/u+zO8xntRilRY9LOOTVFzGs3Hh8/WTb2t++5dh9qPLvdM5aNZ/bHsXafW/a5/bVddre+6f4opUZE3Zawe7//+H72nfuo2+brto14vD807cl6dtva+fnDerbzHlnPfs3nrWevzV9Mm7b/0OYvtu1p+9v7Q324t42PbR1ez25bT7ft8HomtR/ZL6esZ7pfju6rA7eTptd63vwvNv3Ieuv56zh3vWdvQ12yzQvWe2x6PX3d57Y//uz+wf2zMj7e/eFDI2Vn1rK/7Pi0PCw4NvYwTzkwf+zMX8rhNiPK42zTeR5m/T01P8622+ZjW0v6q0y2/5z+Kgfmn99f+/M915d723xg3dO+LOV7LOEtYACAxgiAAACNEQABABojAAIANEYABABojAAIANAYARAAoDECIABAYwRAAIDGCIAAAI0RAAEAGiMAAgA0RgAEAGiMAAgA0Jj3Sxv4O75H1Li/AQBw8RYHwGEYyksUAgDAabquW3TqzVvAAACNEQABABojAAIANKYMw7B2DQAAvKLZZwD7vr/t+/72JYsBAOC4pRls1lXAfd/f3tzcXI2PN5vN1ZIiAAA4Td/3t7XWRR/jm7VwrfVdKSVKKbG0AAAATjeehFtCeAMASKSU5V/BLAACADRGAAQAaMysi0CGYSjjvyDxr+AAAHLxPYAAAI3xFjAAQGMEQACAxgiAAACNmXURyGi8EAQAgNe15ELcRQEwIuJb/FjaxCp+fvlz7RJm+/k1b+3/ff1r7RJm667/WbuEWbrrf9cuYbbuY97aP9/drV3CbJ9rztq/1LznJP64zntc/3Cd97j+4WPe2kv5vmh5bwEDADRGAAQAaIwACADQGAEQAKAxAiAAQGMEQACAxgiAAACNEQABABojAAIANEYABABojAAIANAYARAAoDECIABAYwRAAIDGlGEYZi/cdV19wVoAADjRMAxl7rLv11z5mrquq2p/fWp/fVnrjlD7WrLWnrXuCLWvJXvtS5b3FjAAQGMEQACAxgiAAACNWXQRCAAA+aQ4A9h1Xc14xfFYd9b6I/Je6Z29zzPWXmuNvu9v167jHFn7epS19oz9XmuNrutqtjG+K1ufR+R/Hb3kuhdfBfy7Zb5CJyLvVdIROQ8WEftjJtv4yVr7NvzVUsrd2rWcKmtfj/x+vp5aa3z69Ol2GIYy/qGz2Wyu1q7rHFnHS0Te19FLH98pzgBmdsnp/6265F+4Y7LWXkqJzWaTsvasso6VjHVvx3eqwPeWeB39PVIEwKw7fxiGMt6y1X/pf7mcIvM2ZK4dTpFxjI9nArOFwYx9Pcr8Ohpx2fnl4gLgoc7KsvMveUcfc6j28fmlb9Ov+j3rmMlysM483llXljE+VUqJm5ubq4yfA8xyPH9rLjm/XNxnADMeFEbT2jMd5KZ1ZvqMzlvq98y1wykyjfFR1jN/o0zH86mMNWdxcQFwajc5ZxsEmWvPLHu/7/6lmLH+LLKPk8yyjfHxzF/XdbWUcpc1CGaU+ff00mv3PYAAAI35HyudcYzTwCshAAAAAElFTkSuQmCC'>"
      ],
      "text/plain": [
       "<IPython.core.display.HTML object>"
      ]
     },
     "metadata": {},
     "output_type": "display_data"
    },
    {
     "name": "stdout",
     "output_type": "stream",
     "text": [
      "smoothheat\n"
     ]
    },
    {
     "data": {
      "text/html": [
       "<img src='data:image/png;base64,iVBORw0KGgoAAAANSUhEUgAAAoAAAABQCAYAAACJbMQlAAAFSklEQVR4nO3dXW7bRhQF4Dtx0KBACrQPSYGS2U0WlSVkUd1Ma3EZzuQhovUTyqZJx9T1fB/yI1nk8HBES8eSaZdhGAIAgHa82ToAAAAvSwEEAGiMAggA0BgFEACgMQogAEBjFEAAgMYogAAAjVEAAQAaowACADRGAQQAaIwCCADQGAUQAKAxCiAAQGMUQACAxiiAAACNUQABABrzds3KXdfV5woCAMB8wzCUpeuuKoAREZ/ja/zYehn/RESJ+0TlcLkclowoR5cfW/5w4+ltZWLcCznKYZDHc5STRLNynCU42Y95OSa2OTVulPscs5Z/JMfJvzPGPbllavkn3K9zc5RSI6Luc+z/33/sx7KH/6PU/X4f31aPxtnftmKck9su5Dr52IXxTseZyjW1jcOy9/v0wDj3+zSR9ae5eWgb53M0tY2fxnuucQ65ju/Hk7m+uI2jebywjfvj+3CA7sc6v15PljlfZ/b1k/HrA9t72vUf8zBerrPWmbx+cR/qwn18JHM8cV5njXmYgyVjXL5+NK9PyDxeKeV4gbPLpRwtWk7Xvc9xv+Ih1H6ZMrH80ZPWYd2JDOV8+bMM5RdlPix2POZhrDXzVc72/ynzVSaWXz5fp8s9NJcn+zyx7fO5LOVLrOEtYACAxiiAAACNUQABABqjAAIANEYBBABojAIIANAYBRAAoDEKIABAYxRAAIDGKIAAAI1RAAEAGqMAAgA0RgEEAGiMAggA0Ji3awf4N74crtSJBaY+BgDAZlYXwGEYynMEAQBgnq7rVr3E5i1gAIDGKIAAAI1RAAEAGlOGYdg6AwAAL2jxK4B939/1fX/3nGEAAHjc2g626Czgvu/vbm9vb8bLu93uZk0IAADm6fv+rta66tv4Fq1ca31TSolSSqwNAADAfOOLcGsobwAAiZSy/kcwK4AAAI1RAAEAGrPoJJBhGMr4K0j8KjgAgFz8HEAAgMZ4CxgAoDEKIABAYxRAAIDGLDoJZDSeCAIAwMtacyLuqgIYEfE5vq4dYhMffv9z6wiL5c7+19YRFvvY/7d1hEWy5o6I+Lv/f+sIi73/J++vSn/ffds6wiJ/JM0dEfHbh7yP6+8+5H1cf/cxb/ZSvqxa31vAAACNUQABABqjAAIANEYBBABojAIIANAYBRAAoDEKIABAYxRAAIDGKIAAAI1RAAEAGqMAAgA0RgEEAGiMAggA0BgFEACgMWUYhsUrd11XnzELAAAzDcNQlq77dsuNb6nruir7y5P95WXNHSH7VrJmz5o7QvatZM++Zn1vAQMANEYBBABojAIIANCYVSeBAACQT4pXALuuqxnPOB5zZ80fkfdM7+xznjF7rTX6vr/bOsdTZJ3rUdbsGee91hpd19Vsx/ixbHMekf959Jpzrz4L+FfLfIZORN6zpCNyPlhEnB4z2Y6frNn35a+WUr5tnWWurHM98vn5cmqt8enTp7thGMr4hc5ut7vZOtdTZD1eIvI+j1778Z3iFcDMrrn9v1bX/An3mKzZSymx2+1SZs8q67GSMff++E5V+F4Tz6O/RooCmPXOH4ahjH+z5b/2r1zmyLwPmbPDHBmP8fGVwGxlMONcjzI/j0Zcd3+5ugI4NVlZ7vxrvqMfM5V9vH7t+3Rp3rMeM1kerDMf72wryzF+rpQSt7e3Nxm/DzDL4/lrc8395eq+BzDjg8LoPHumB7nznJm+R+c1zXvm7DBHpmN8lPWVv1Gmx/NzGTNncXUF8Nxxc852EGTOnln2eT/+SjFj/iyyHyeZZTvGx1f+uq6rpZRvWYtgRpk/T689u58DCADQmO8MDT6MZEEVQgAAAABJRU5ErkJggg=='>"
      ],
      "text/plain": [
       "<IPython.core.display.HTML object>"
      ]
     },
     "metadata": {},
     "output_type": "display_data"
    },
    {
     "name": "stdout",
     "output_type": "stream",
     "text": [
      "coolwarm\n"
     ]
    },
    {
     "data": {
      "text/html": [
       "<img src='data:image/png;base64,iVBORw0KGgoAAAANSUhEUgAAAoAAAABQCAYAAACJbMQlAAAFkklEQVR4nO3dsXLTSBgH8F1CcVfQUiBxV/EUNPTwuDwADTO8AsXRxLr67uauYSbZK2LZsiwnxgqWv+zvN8PIlla7n9ay849thdx1XQIAoB7Pli4AAIDzEgABACojAAIAVEYABACojAAIAFAZARAAoDICIABAZQRAAIDKCIAAAJURAAEAKiMAAgBURgAEAKiMAAgAUBkBEACgMgIgAEBlBEAAgMo8n7Nz0zTlsQoBAOB4XdflU/edFQBTSunth08p55xSTnfLdLe8u7leTt7P6W7VYF3ab7vpOw3GGN0fjnuo7eE6RmM90Pa+OnZqmDyeA/P0wFxMH99u2/2+02a5Hn6wzLvbB7cP7zMc6/52O/1NjHf0vv0c9dsP7Dvdd57u+4hxD+577Lwe2jellFLZbk9lvUwpr9dvbg/a59H6zbY82r+/nUf7bzYcaj9Ry2D9Xl95opaDdU4f71T7zfh5tP/E8e7UOzrebfv9uZw63pRKuutiPW4pg2Mo64dsu23nGEvZ9lW2++zd3/Q/6u+sY/f379t2Qi2DY7tv7L22D4zdH9/dYjt3m/7XbcrO+sHtQbtSxv0eM8b29sEx9toMjnF0uxxYf1ybsh7qscfYn5cytb7067fb+zkrw223h9vsLG8Hj8te3+P+pvvZG+P2wFiTfd5fYyklpdv7j3mzvD3iOEpZtztU42iMybb7fb7/92uaw0fAAACVEQABACojAAIAVEYABACojAAIAFAZARAAoDICIABAZQRAAIDKCIAAAJURAAEAKiMAAgBURgAEAKiMAAgAUBkBEACgMs/ndvD547tHKAMAgHOZHQC7rsuPUQgAAMdpmqbM2d9HwAAAlREAAQAqIwACAFQmd123dA0AAJzRye8Atm1707btzWMWAwDAw+ZmsJOuAm7b9ub6+vqqv71ara7mFAEAwHHatr0ppcz6Gt9JO5dSnuWcU845zS0AAIDj9W/CzSG8AQAEkvP8P8EsAAIAVEYABACozEkXgXRdl/v/gsR/BQcAEIu/AwgAUBkfAQMAVEYABACojAAIAFCZky4C6fUXggAAcF5zLsSdFQBTSunth09zu1hE++bV0iWcrH3TLF3CyX57Ffd/Dfy9mf10WcTLX/5auoSTvfw1bu0v/l4tXcLJXvwT8+LA79/+WLqEk33/9m3pEk7WfbleuoST/fkl7vP0/X9fZ+3vI2AAgMoIgAAAlREAAQAqIwACAFRGAAQAqIwACABQGQEQAKAyAiAAQGUEQACAygiAAACVEQABACojAAIAVEYABACojAAIAFCZ53M7+Pzx3SOUAQDAucwOgF3X5cco5NyapilqPz+1n1/UulNS+1Ki1h617pTUvpTotc/Z30fAAACVEQABACojAAIAVCZ3Xbd0DQAAnFGIdwCbpilzv+y4hL7uqPWnNP9LpkuJPucRay+lpLZtb5au40dEnete1NojznspJTVNU6Kd40PR5jyl+D9HL7nu2VcB/2yRr9BJKe5V0inFfLFIafeciXb+RK19Hf5Kzvl26VqOFXWue56f51NKSa9fv77pui73v+isVqurpev6EVHPl5Ti/hy99PM7xDuAkV1y+n+qLvkJ95Coteec02q1Cll7VFHPlYh1r8/vUIHvKfFz9OcIEQCjPvhd1+X+X7T6L/03l2NEPobItcMxIp7j/TuB0cJgxLnuRf45mtJl55eLC4BTkxXlwb/kB/ohU7X39y/9mA7Ne9RzJsqLdeTznWVFOcfHcs7p+vr6KuL3AKO8nj81l5xfLu47gBFfFHrj2iO9yI3rjPQdnac075Frh2NEOsd7Ud/560V6PR+LWHMUFxcAx4bJOdpJELn2yKLP+/A3xYj1RxH9PIks2jnev/PXNE3JOd9GDYIRRX6eXnrt/g4gAEBl/geCr74vfhi8NwAAAABJRU5ErkJggg=='>"
      ],
      "text/plain": [
       "<IPython.core.display.HTML object>"
      ]
     },
     "metadata": {},
     "output_type": "display_data"
    },
    {
     "name": "stdout",
     "output_type": "stream",
     "text": [
      "spectral\n"
     ]
    },
    {
     "data": {
      "text/html": [
       "<img src='data:image/png;base64,iVBORw0KGgoAAAANSUhEUgAAAoAAAABQCAYAAACJbMQlAAAFmUlEQVR4nO3dz47jWBUH4HOrGwkxSOxxelagkRBIwCPMg8yCB5vFvMG8AA+AZgES+1lUvBkWLFmgqsui7JC4XZWUXR3n9P0+VSnOta99yrlxfvnjVOn7PgAAaMfd1gUAAHBdAiAAQGMEQACAxgiAAACNEQABABojAAIANEYABABojAAIANAYARAAoDECIABAYwRAAIDGCIAAAI0RAAEAGiMAAgA0RgAEAGiMAAgA0Jj3azp3XVffqhAAAC7X931Z2ndVAIyI+Pbu6yglht9yNP3x9bhgmeO2eHG5+X4v9zlti1eu+7jP0+VT/j1tr1FislzUyfVhueN+Mazv5PrRcjHZ7mE989t901rKsPHhskyuv9h+N94mHy8/329m3t2F2yqTbd0Nf8zdK/udXB5Nx7R9ciNM+8y1x/n+5bX9Z2t7oT3O9D8d5NPBNx1Qz7S/1O/j9jK3vjfZ1vl+NWpE1OGnHlqeLp/aD9NHc6NO24ZrdWYdEVGH9vPLD5d1fH492U6dWUfUofnl+uuwueHIdZg+XH7KtkN7GXf36bK1vG3bXD2T7T7OzTta5vG5eWPfF/o/TrZ1Oq/M1jPbf2aZZ+sapw+/43bKoS0O0+V0uZN5x/PHeUf7dNX6nqYj5vvUOoyP52p4ZntRI0p9eswrww4p9Xi6zl6f7zfOG/ucWU/EmW08v56I//c5qeeC9Xz3/TexhreAAQAaIwACADRGAAQAaIwACADQGAEQALiSsnUBDARAAIDGCIAAAI0RAAEAGiMAAgA0RgAEAGiMAAgA0BgBEACgMQIgAEBjBEAAgMa8X7uCvzz+9S3qAADgSlYHwL7v/V8XAIAr6rqurunvLWAAgMYIgAAAjREAAQAaU/q+37oGAACuaPErgLvd7mG32z28ZTEAAJy3NoMtOgt4t9s93N/fvxun9/v9uzVFAABwmd1u91BrXfUxvkWda613pZQopcTaAgAAuNz4ItwawhsAQCKlrP8KZgEQAKAxAiAAQGMWnQTS930Z/wWJfwUHAJCL7wEEAGiMt4ABABojAAIANEYABABozKKTQEbjiSAAAFzXmhNxVwXAiIhvy9drV7GJP/z5F1uXsNiXv/vv1iUs9qs/frF1CYv97E8fti5hkfLVb7YuYbHy699vXcJi//rPj1uXsNg//53zzaG//bT6IW0zP/z4861LWKz/+y+3LmGx3/7jp61LWOy7779Z1T/nvRwAgMUEQACAxgiAAACNEQABABojAAIANEYABABojAAIANAYARAAoDECIABAYwRAAIDGCIAAAI0RAAEAGiMAAgA0RgAEAGhM6ft+ceeu6+ob1gIAwIX6vi9L+77fcuNb6rquqv361H59WeuOUPtWstaete4ItW8le+1r+nsLGACgMQIgAEBjBEAAgMasOgkEAIB8UrwC2HVdzXjG8Vh31voj8p7pnX2fZ6y91hq73e5h6zpeI+u+HmWtPeN+r7VG13U12xg/lm2fR+R/HL3lulefBfypZT5DJyLvWdIROQ8WEadjJtv4yVr7EP5qKeVx61oulXVfj9w/r6fWGh8+fHjo+76MT3T2+/27ret6jazjJSLv4+itj+8UrwBmdsvp/3N1y3e4c7LWXkqJ/X6fsvasso6VjHUP4ztV4PuceBz9NFIEwKw3ft/3ZfzNVv+tP3O5ROa/IXPtcImMY3x8JTBbGMy4r0eZH0cjbju/3FwAnNtZWW78W76hz5mrfbx+63/Tc/s965jJcrDOPN7ZVpYxPlVKifv7+3cZPweY5Xj+ubnl/HJznwHMeFAYTWvPdJCb1pnpMzqf037PXDtcItMYH2V95W+U6Xg+lbHmLG4uAE4dJ+dsgyBz7Zll3+/HzxQz1p9F9nGSWbYxPr7y13VdLaU8Zg2CGWW+n9567b4HEACgMf8D7d2miKdElQ0AAAAASUVORK5CYII='>"
      ],
      "text/plain": [
       "<IPython.core.display.HTML object>"
      ]
     },
     "metadata": {},
     "output_type": "display_data"
    },
    {
     "name": "stdout",
     "output_type": "stream",
     "text": [
      "drywet\n"
     ]
    },
    {
     "data": {
      "text/html": [
       "<img src='data:image/png;base64,iVBORw0KGgoAAAANSUhEUgAAAoAAAABQCAYAAACJbMQlAAAFUklEQVR4nO3dP3LbRhQH4LeSy0xm8qfJALqAyyQX8mXc+khp4tJHSEWidJHOjbgpSMQkRUkUIAl82u+b8YAEsYsHcAn+BBJ0GYYhAABox9XSBQAA8LoEQACAxgiAAACNEQABABojAAIANEYABABojAAIANAYARAAoDECIABAYwRAAIDGCIAAAI0RAAEAGiMAAgA0RgAEAGiMAAgA0BgBEACgMe/mNO66rj5XIQAAnG8YhjK17awAGBHx8cP7KKVEKRFXpUS52t4e5x1OX/6xq1daz2OPXU3u83lqqBFRy3Zc/D+NiChl91hERNnNi6hRdtPD2xFlt+y2nzHxn+r7+7y7fZ9az9j3fl339/lM6znantht7915e32e2le79Z+7r8b9WqPEZjc95/5zLfuUfu5vG69Ww8ssG3ceq7VErePAiu3tzd7tvWls4u6yB22O+jrq5yn9n9Xm3v5PbNND/W8e2qbTtTzef5nVf9QapW6nUWvEJqLUultuOy27+Qf3x2U2++2ftmzUGmVzdH98fLPffq+/zananrDsXn0HtZyq7eS2RJzeT4fb8vCyY20ntrtGRKlRo8b28Fejlt2TVmI3v24PeCeXi93jdXeMrHeX27u9fex0m+0x9fS6v89/eLnL35bzlvv25VPM4SNgAIDGCIAAAI0RAAEAGiMAAgA0RgAEAGiMAAgA0BgBEACgMQIgAEBjBEAAgMYIgAAAjREAAQAaIwACADRGAAQAaIwACADQmDIMw+TGXdfVZ6wFAIAzDcNQprZ9t+TKAQB4urkn4XwEDADQGAEQAKAxAiAAQGNmXQQCAEA+k88A9n1/2/f97XMWAwDA4+ZmsElXAfd9f7tara7H2+v1+npOEQAAnKfv+9ta66yv8U1qXGu9KqVEKSXmFgAAwPnGk3BzCG8AAImUMv8nmAVAAIDGCIAAAI2ZdBHIMAxl/C9I/FdwAAC5+B1AAIDG+AgYAKAxAiAAQGMEQACAxky6CGQ0XggCAMDrmnMh7qwAGBHx8cP7uV0s4s8/bpYuYbLMta9++WnpEiZb/frz0iVM8lf8vnQJk2Wu/evnvD+Q8PVzzg+Hfvh7vXQJk/34Oe8Fmf/+9s/SJUyWufZvXz7Nap/zVQ4AwGQCIABAYwRAAIDGCIAAAI0RAAEAGiMAAgA0RgAEAGiMAAgA0BgBEACgMQIgAEBjBEAAgMYIgAAAjREAAQAaIwACADSmDMMwuXHXdfUZawEA4EzDMJSpbd8tufIldV1X1f761P76stYdofalZK09a90Ral9K9trntPcRMABAYwRAAIDGCIAAAI2ZdREIAAD5pDgD2HVdzXjF8Vh31voj8l7pnX2fZ6y91hp9398uXcdTZN3Xo6y1Z9zvtdbouq5mG+P7su3ziPzvo5dc9+yrgF9a5it0IvJeJR2R82ARcThmso2frLXvwl8tpWyWruVcWff1yOvz9dRa4+bm5nYYhjL+obNer6+Xruspso6XiLzvo5c+vlOcAczsktP/W3XJL7jHZK29lBLr9Tpl7VllHSsZ696N71SB7y3xPvoyUgTArE/+MAxl/Jet/kv/y+Ucmbchc+1wjoxjfDwTmC0MZtzXo8zvoxGXnV8uLgCe2llZnvxLfqIfc6r28f6lb9N9+z3rmMlysM483llWljF+rJQSq9XqOuP3ALMcz9+aS84vF/cdwIwHhdFx7ZkOcsd1ZvqOzlva75lrh3NkGuOjrGf+RpmO58cy1pzFxQXAY/vJOdsgyFx7Ztn3+/5fihnrzyL7OMks2xgfz/x1XVdLKZusQTCjzK/TS6/d7wACADTmPzpcFiQ9CIvKAAAAAElFTkSuQmCC'>"
      ],
      "text/plain": [
       "<IPython.core.display.HTML object>"
      ]
     },
     "metadata": {},
     "output_type": "display_data"
    },
    {
     "name": "stdout",
     "output_type": "stream",
     "text": [
      "elevation\n"
     ]
    },
    {
     "data": {
      "text/html": [
       "<img src='data:image/png;base64,iVBORw0KGgoAAAANSUhEUgAAAoAAAABQCAYAAACJbMQlAAAFIklEQVR4nO3dQVLjRhQG4Nc2w8yQqlxAmkVW2WadG6VyjlSukMr1cF8hWTHKxmIYIwchAfKjv68KypZb9m+5bf/ICEqtNQAAaMdu6wAAALwtBRAAoDEKIABAYxRAAIDGKIAAAI1RAAEAGqMAAgA0RgEEAGiMAggA0BgFEACgMQogAEBjFEAAgMYogAAAjVEAAQAaowACADRGAQQAaMzVmpW7rhteKggAAPPVWsvSdVcVwIiI3//+M/ZX+9h/2Mf+ah+73S5KKcevmDy9KyViPB/Hy2I8H98vm3s64nj+eadjPH28/d3U6Sixe7De7uzlE6cf3K/dg9y7B7nH696d5Ls33H+bsexk+TAx4MllxwVT9X6YWDiRpUzlOzP2/3M/574cF8zNfa9MnJx6Ti0Yd392xriIcVK+3Lgo04tnj125HaYuf7Q9Tm+3nB1XZo2Lie1zLsvMcY/GlpMhj6+zzBz3dMaJLCfjH186/biXsys8fkzL9MDJPN9in3svOpf17B1Yn/XM41i+//b4dqfuQymToyfHnlk+uex43UvXf62xr3Vb3y6LOLf9517Hc8e95HVtcZtTc+XzzQ+zrv8cHwEDADRGAQQAaIwCCADQGAUQAKAxCiAAQGMUQACAxiiAAACNUQABABqjAAIANEYBBABojAIIANAYBRAAoDEKIABAYxRAAIDGlFrr4pW7rhteMAsAADPVWsvSda+2vHEAAJ5v7U44HwEDADRGAQQAaIwCCADQmFUHgQAAkM/iPYB939/1fX/3kmEAAHja2g626Cjgvu/vbm9v9+Ppw+GwXxMCAIB5+r6/G4Zh1a/xLVp5GIZdKSVKKbE2AAAA84074dZQ3gAAEill/Z9gVgABABqjAAIANGbRQSC11jL+CxL/Cg4AIBd/BxAAoDE+AgYAaIwCCADQGAUQAKAxiw4CGY0HggAA8LbWHIi7qgBGRPz21x9rr2ITv/7809YRFvvl483WEZb759+tEyxWvibdYf4h8Xz5/OPWCRbbJc7+4eOnrSMscv0pZ+6IiJubvM/T6+vrrSMsljn755sfVq2f9B0NAIClFEAAgMYogAAAjVEAAQAaowACADRGAQQAaIwCCADQGAUQAKAxCiAAQGMUQACAxiiAAACNUQABABqjAAIANEYBBABoTKm1Ll6567rhBbMAADBTrbUsXfdqyxvfUtd1g+xvT/a3lzV3hOxbyZo9a+4I2beSPfua9X0EDADQGAUQAKAxCiAAQGNWHQQCAEA+KfYAdl03ZDzieMydNX9E3iO9s2/zjNmHYYi+7++2zvEcWbf1KGv2jNt9GIboum7INscfyrbNI/K/j15y7tVHAb+2zEfoROQ9Sjoi54tFxPdzJtv8yZr9WP6GUsrXrbPMlXVbjzw/384wDPHly5e7WmsZf9A5HA77rXM9R9b5EpH3ffTS53eKPYCZXXL7f68u+Qn3lKzZSylxOBxSZs8q61zJmPs4v1MVvvfE++jrSFEAsz74tdYyfmXLf+k/ucyR+T5kzg5zZJzj457AbGUw47YeZX4fjbjs/nJxBXBqY2V58C/5gX7KVPbx/KXfp3PbPeucyfJinXm+s60sc/xUKSVub2/3GX8PMMvr+Xtzyf3l4n4HMOOLwug0e6YXudOcmX5H5z1t98zZYY5Mc3yUdc/fKNPr+amMmbO4uAJ46mFzzjYJMmfPLPt2f/iTYsb8WWSfJ5llm+Pjnr+u64ZSytesRTCjzM/TS8/u7wACADTmP4JS+/c4TAtaAAAAAElFTkSuQmCC'>"
      ],
      "text/plain": [
       "<IPython.core.display.HTML object>"
      ]
     },
     "metadata": {},
     "output_type": "display_data"
    },
    {
     "name": "stdout",
     "output_type": "stream",
     "text": [
      "dem1\n"
     ]
    },
    {
     "data": {
      "text/html": [
       "<img src='data:image/png;base64,iVBORw0KGgoAAAANSUhEUgAAAoAAAABQCAYAAACJbMQlAAAFeUlEQVR4nO3dTXbbVBgG4O8qncNcbqedwaAL6AZgCiugy4B9sJOewhJYA4NYmyjEl0EsojhO40hp5C/3ec7JiSzr55Ws2G9kKynDMAQAAO3o1g4AAMDzUgABABqjAAIANEYBBABojAIIANAYBRAAoDEKIABAYxRAAIDGKIAAAI1RAAEAGqMAAgA0RgEEAGiMAggA0BgFEACgMQogAEBjFEAAgMa8WjJz3/f1qYIAAHC6YRjK3HkXFcCIiHcfIkqJKKVEKRExGR7Hx2S4RNy+PXOe6/numSemyz11nvvzHJ0nvrwNh/OU/UP01PMc7quIiK6UKKXb74cuuslwif3tUqJEd33/eN//99/cV0qJbhyeTHc97tRlTO7fz9dNhm8yTTIfLv/ONkyXd7j+6fKPb8Px9U+3Z3/7ibanRETUev0Vu4hao06Gp+MjakTdTzMZjnuG706zvx03y62H67hn+N5M02m+mOn6do2H1zcr0xf3wcF2Hwwfy1T3X7saUXf74V0cjIvY1Rp1N37f3zcdt592dzhuuryDZU3XcWv903EnrHe3G7cjbtZxdF33r/f2NtzOPV3H3XE32e7up9vr3R3Md3tdN/ur3jmtcMp5hoemWXr/S1rG49dRSonSXUTXdY/43kXXXXzl712U8thc57gdk+15TL6LZRXOW8AAAI1RAAEAGqMAAgA0RgEEAGiMAggA0BgFEACgMQogAEBjFEAAgMYogAAAjVEAAQAaowACADRGAQQAaIwCCADQGAUQAKAxr5Yu4K/fx6E6GVuPTAkA5FMj4t+1Q/DEFhfAYRjKUwQBAOA0fd8vOtvmLWAAgMYogAAAjVEAAQAaU4ZhWDsDAADPaPYZwM1mc7XZbK6eMgwAAA9b2sFmXQW82WyuLi8vL8bh7XZ7sSQEAACn2Ww2V7XWRR/jmzVzrbUrpUQpJZYGAADgdONJuCWUNwCAREpZ/ieYFUAAgMYogAAAjZl1EcgwDGX8FyT+FRwAQC7+DiAAQGO8BQwA0BgFEACgMQogAEBjZl0EMhovBAEA4HktuRB3UQGMiHj3YekS1vH2u2/WjjDb2++/XTvCbO/f/LR2hNnev/l57QizfP77j7UjzPbP33+uHWG2j58u144w28dP27UjzPR57QAL5M3+wy+/rh1hth8//LZ2hNlKt+yfgXgLGACgMQogAEBjFEAAgMYogAAAjVEAAQAaowACADRGAQQAaIwCCADQGAUQAKAxCiAAQGMUQACAxiiAAACNUQABABqjAAIANKYMwzB75r7v6xNmAQDgRMMwlLnzvlpz5Wvq+77K/vxkf35Zc0fIvpas2bPmjpB9LdmzL5nfW8AAAI1RAAEAGqMAAgA0ZtFFIAAA5JPiDGDf9zXjFcdj7qz5I/Je6Z19n2fMXmuNzWZztXaOx8i6r0dZs2fc77XW6Pu+ZjvGp7Lt84j8r6PnnHvxVcBfW+YrdCLyXiUdkfPJIuL2MZPt+MmafV/+aillt3aWU2Xd1yM/n8+n1hqvX7++GoahjL/obLfbi7VzPUbW4yUi7+vouR/fKc4AZnbO7f+lOucfuIdkzV5Kie12mzJ7VlmPlYy598d3qsL3kngd/TpSFMCsD/4wDGX8ypb/3H9zOUXmbcicHU6R8RgfzwRmK4MZ9/Uo8+toxHn3l7MrgMd2VpYH/5wf6Iccyz7ePvdtum+/Zz1msjxZZz7eWVeWY/xQKSUuLy8vMn4OMMvz+Utzzv3l7D4DmPFJYXSYPdOT3GHOTJ/ReUn7PXN2OEWmY3yU9czfKNPz+aGMmbM4uwJ4aNqcsx0EmbNnln2/T39TzJg/i+zHSWbZjvHxzF/f97WUsstaBDPK/HN67tn9HUAAgMb8ByJJqcnJKBOuAAAAAElFTkSuQmCC'>"
      ],
      "text/plain": [
       "<IPython.core.display.HTML object>"
      ]
     },
     "metadata": {},
     "output_type": "display_data"
    },
    {
     "name": "stdout",
     "output_type": "stream",
     "text": [
      "dem2\n"
     ]
    },
    {
     "data": {
      "text/html": [
       "<img src='data:image/png;base64,iVBORw0KGgoAAAANSUhEUgAAAoAAAABQCAYAAACJbMQlAAAFXklEQVR4nO3dQW7jZBgG4O9PwgYJiQVCQs4IsUCa7cwdEOcAzsUVuADiCkhsEPvGF2BLm59F4zb1pNOMPVPn6/88UlXHif+8cZzkrROnpe/7AACgHaulAwAA8LwUQACAxiiAAACNUQABABqjAAIANEYBBABojAIIANAYBRAAoDEKIABAYxRAAIDGKIAAAI1RAAEAGqMAAgA0RgEEAGiMAggA0BgFEACgMZs5C3ddVz9WEAAAztf3fZm67KwCGBFRfvkh1pvrWG+uY/XZ9d30el1jU0psViXWq9VhehWbVXkwvS6HeasSm7vp28uvj6bHy65H42yOxlmPxnk45ijDgyynx9uUw/UdzS8REfsate6j7mvU/e3vqPfTw3kxOl33+6i13i5/4rx3xq31iXHevWzd7x9muTvvMP74Ok9c9v76Hp536jbe537fOGesq1qjRkSNErXGaLocTkfUWu7Pe3D61HmPXG487tF0RIn9+67zONuT1//0dd4/oEpElLidVe7mleN5d+edmFeGscphubifN4x9at7R9ZXxvEfGHo9Tzhj7nXnjjI+MPc79TsZHxr4f8/Z3OWPs8Tgn1/2Jsce5y/tuyyP3YXlq7MNtz/yT8jYc7rvFc3yC+4K8ymo9a3lvAQMANEYBBABojAIIANAYBRAAoDEKIAC8j+MleIEUQACAxiiAcIIvuATgJVMAAQAaowACADRGAQQAaIwCCADQGAUQAKAxCiAAQGMUQACAxmzmDlB//T2uI+L6I4SBe/WRaQBgrtkFsO97/yQHAOAZdV03a++It4ABABqjAAIANEYBBABoTOn7fukMAAA8o8l7ALfb7c12u735mGEAAHja3A426Sjg7XZ7c3V1tR6md7vdek4IAADOs91ub2qtsz7GN2nhWuuqlBKllJgbAACA8w074eZQ3gAAEill/lcwK4AAAI1RAAEAGjPpIJC+78vwL0j8KzgAgFx8DyAAQGO8BQwA0BgFEACgMQogAEBjJh0EMhgOBAEA4HnNORB3VgGMiIiffpw9xBJ+//n7pSNM9sVf/ywdYbK/f/tj6QiT/fnvV0tHmOS/L18tHWGy9dffLh1hss+/+W7pCJO9fft26QiTvHnzZukIk71+/XrpCCRTVvP+GYi3gAEAGqMAAgA0RgEEAGiMAggA0BgFEACgMQogAEBjFEAAgMYogAAAjVEAAQAaowACADRGAQQAaIwCCADQGAUQAKAxCiAAQGNK3/eTF+66rn7ELAAAnKnv+zJ12c2SV76kruuq7M9P9ueXNXeE7EvJmj1r7gjZl5I9+5zlvQUMANAYBRAAoDEKIABAY2YdBAIAQD4p9gB2XVczHnE85M6aPyLvkd7Z13nG7LXW2G63N0vn+BBZ1/Uga/aM673WGl3X1Wzb+LFs6zwi/+voJeeefRTwp5b5CJ2IvEdJR+R8soh4uM1k236yZj+Uv1pK2S+d5VxZ1/XA4/P51Frj1atXN33fl+EPnd1ut14614fIur1E5H0dvfTtO8UewMwuuf2/VJf8gHtK1uyllNjtdimzZ5V1W8mY+7B9pyp8L4nX0U8jRQHMeuf3fV+Gn2z5L/0vl3Nkvg2Zs8M5Mm7jw57AbGUw47oeZH4djbjs/nJxBfDUyspy51/yHf2UU9mH05d+mx5b71m3mSxP1pm3d5aVZRsfK6XE1dXVOuPnALM8n780l9xfLu4zgBmfFAbj7Jme5MY5M31G5yWt98zZ4RyZtvFB1j1/g0zP52MZM2dxcQVw7Lg5Z9sIMmfPLPt6P/5LMWP+LLJvJ5ll28aHPX9d19VSyj5rEcwo8+P00rP7HkAAgMb8D+zLJrazosyUAAAAAElFTkSuQmCC'>"
      ],
      "text/plain": [
       "<IPython.core.display.HTML object>"
      ]
     },
     "metadata": {},
     "output_type": "display_data"
    },
    {
     "name": "stdout",
     "output_type": "stream",
     "text": [
      "dem3\n"
     ]
    },
    {
     "data": {
      "text/html": [
       "<img src='data:image/png;base64,iVBORw0KGgoAAAANSUhEUgAAAoAAAABQCAYAAACJbMQlAAAFhklEQVR4nO3dsXLjRBgH8G+dmwwHXAeVfA8BNdQM5Q1Pcs9GC89BSRGrhg6a3FLYSmTHcRwpRP5uf7+ZzMhr7eqTvLb/ka2k9H0fAAC0Y7V0AQAAvC4BEACgMQIgAEBjBEAAgMYIgAAAjREAAQAaIwACADRGAAQAaIwACADQGAEQAKAxAiAAQGMEQACAxgiAAACNEQABABojAAIANEYABABozJs5nbuuqy9VCAAA5+v7vkztOysARkT8+OvHKLE9lbiKcrdcdrfvlyNKOdK2u326rYy2MRq7xOntnRj7WM334x1u77DPmW3lie0d2b/j+zFqK6dq2I5TokbU7U+tn+6WIz49bI8aUQ/a7/qf0T4aM0Zj7m1313e/bdw+HvN+O8fGuLR9Or/Oul2MGB6hbfN27ai1jJaH9rIdatd+v3ysveytE7txapTR8tBe7pfvtnespvv2/e2VM2vab39Q08G+Ptz2eft6uv1hrbHb1nb3SpRSoqxWUcpqf3lVHm9bjduPtR3c/5wxH217fKx4MNZT/R9pO3UcTtV3ap9PHYfVavcYjMffvorF3dvabqGM3+eG+0dtd/efWv8Fx5s0xvj+UzU9d/2J+/CserfL+yWU2Lu5N9bB+nFk/bJ/74P1y4nxh/X3Ozwc6eCYHY44LB5Wurf+g+NwZP1yYvyI3bw+VuddASdGv9+X8VbK9XXM4SNgAIDGCIAAAI0RAAEAGiMAAgA0RgAEAGiMAAgA0BgBEACgMQIgAEBjBEAAgMYIgAAAjREAAQAaIwACADRGAAQAaIwACADQmNL3/eTOXdfVF6wFAIAz9X1fpvZ9s+TGAQB4vrkn4XwEDADQGAEQAKAxAiAAQGNmXQQCAEA+k88Artfr2/V6ffuSxQAA8LS5GWzSVcDr9fr25ubmaljebDZXc4oAAOA86/X6ttY662t8kzrXWlellCilxNwCAAA433ASbg7hDQAgkVLm/wlmARAAoDECIABAYyZdBNL3fRn+BYl/BQcAkIu/AwgA0BgfAQMANEYABABojAAIANCYSReBDIYLQQAAeF1zLsSdFQAjIn749ePcIRbxYfXV0iVM9uEqb+3//PHb0iVM9u8fvy9dwiR//vV26RIm+/PvL5cuYbLvfvqwdAmTff/zL0uXMM3X3yxdwXTvvl26gsm+uH63dAmTvU1ce7m+ntXfR8AAAI0RAAEAGiMAAgA0RgAEAGiMAAgA0BgBEACgMQIgAEBjBEAAgMYIgAAAjREAAQAaIwACADRGAAQAaIwACADQGAEQAKAxpe/7yZ27rqsvWAsAAGfq+75M7ftmyY0vqeu6qvbXp/bXl7XuCLUvJWvtWeuOUPtSstc+p7+PgAEAGiMAAgA0RgAEAGjMrItAAADIJ8UZwK7rasYrjoe6s9YfkfdK7+zHPGPttdZYr9e3S9fxHFmP9SBr7RmPe601uq6r2eb4WLZjHpH/ffSS6559FfD/LfMVOhF5r5KOyPliEbE/Z7LNn6y178JfLaV8WrqWc2U91gPPz9dTa43379/f9n1fhl90NpvN1dJ1PUfW+RKR93300ud3ijOAmV1y+v9cXfIT7ilZay+lxGazSVl7VlnnSsa6d/M7VeD7nHgf/X+kCIBZH/y+78vwk63+S//N5RyZ9yFz7XCOjHN8OBOYLQxmPNaDzO+jEZedXy4uAB47WFke/Et+oJ9yrPbh9qXv02PHPeucyfJinXm+s6wsc/xQKSVubm6uMn4PMMvr+efmkvPLxX0HMOOLwuCw9kwvcod1ZvqOzud03DPXDufINMcHWc/8DTK9nh/KWHMWFxcAD42Tc7ZJkLn2zLIf9/FvihnrzyL7PMks2xwfzvx1XVdLKZ+yBsGMMj9PL712fwcQAKAx/wGnsg8VwhXzGAAAAABJRU5ErkJggg=='>"
      ],
      "text/plain": [
       "<IPython.core.display.HTML object>"
      ]
     },
     "metadata": {},
     "output_type": "display_data"
    },
    {
     "name": "stdout",
     "output_type": "stream",
     "text": [
      "dem4\n"
     ]
    },
    {
     "data": {
      "text/html": [
       "<img src='data:image/png;base64,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'>"
      ],
      "text/plain": [
       "<IPython.core.display.HTML object>"
      ]
     },
     "metadata": {},
     "output_type": "display_data"
    },
    {
     "name": "stdout",
     "output_type": "stream",
     "text": [
      "ocean\n"
     ]
    },
    {
     "data": {
      "text/html": [
       "<img src='data:image/png;base64,iVBORw0KGgoAAAANSUhEUgAAAoAAAABQCAYAAACJbMQlAAAE2UlEQVR4nO3d3VLbRhgG4F3M5Lg9jUSbK0hnepbe/51gXUJ7RrYHsRLsyCAkgvTxPc8Mg7G90mt5kV//COowDAUAgDxutg4AAMDbUgABAJJRAAEAklEAAQCSUQABAJJRAAEAklEAAQCSUQABAJJRAAEAklEAAQCSUQABAJJRAAEAklEAAQCSUQABAJJRAAEAklEAAQCSuV0zuOu69lpBAACYbxiGunTsqgJ4rk6frlfOn3P6XY3dct1Rxl65Xq0v+yq/+Pp7XUct+8y1ZB0vHTd53efnTi31dLL9uPr3Ya3cnJ3Xzi6/mTjv2+n26PLz8x4v6/zy8ww3V9b5feyVddZyGntlneeXP3GbrmT/sT0ulz33Nk2P+57r4rzH1735aVu0i8tn3I8Tub7drolc4/34ZK4n7ovx/NN+7Pz76ac6denU9c/H1fJt4ZPLnPx+cU59fh1PLmdy/Myf6stv7/T2emGG+vO42RlWZ35qiz6xrGfmx4fT/bCUt4ABAJJRAAEAklEAAQCSUQABAJJRAAEAklEAAQCSUQABAJJRAAEAklEAAQCSUQABAJJRAAEAklEAAQCSUQABAJJRAAEAkrl9vUW16dPtpysuWyTAK2vFbgbIaXUBHIahvkYQAADm6bpu1fNXbwEDACSjAAIAJKMAAgAkU4dh2DoDAABvaPErgH3fP/R9//CaYQAAeN7aDrboKOC+7x/u7+8P4+nj8XhYEwIAgHn6vn9ora36GN+iwa21m1prqbWWtQEAAJhvfBFuDeUNACCQWtf/CWYFEAAgGQUQACCZRQeBDMNQx39B4l/BAQDE4u8AAgAk4y1gAIBkFEAAgGQUQACAZBYdBDIaDwQBAOBtrTkQd1UBDO3w29YJljv8vnWC5W4DZ//899YJlvkraO5SQmf/8ue/W0dY7MunmNn/+fTf1hEW+3jot46w2MfD3dYRFvt4+8fWERb7sPKPQXsLGAAgGQUQACAZBRAAIBkFEAAgGQUQACAZBRAAIBkFEAAgGQUQACAZBRAAIBkFEAAgGQUQACAZBRAAIBkFEAAgGQUQACCZOgzD4sFd17VXzAIAwEzDMNSlY2+3XPmWuq5rsr892d9e1NylyL6VqNmj5i5F9q1Ez75mvLeAAQCSUQABAJJRAAEAkll1EAgAAPGEeAWw67oW8YjjMXfU/KXEPdI7+jaPmL21Vvq+f9g6x0tE3dajqNkjbvfWWum6rkWb449F2+alxH8c3XPu1UcB/2qRj9ApJe5R0qXE3FmUcj5nos2fqNlP5a/VWr9unWWuqNt65Pfz7bTWyt3d3cMwDHV8onM8Hg9b53qJqPOllLiPo3uf3yFeAYxsz+3/vdrzL9xzomavtZbj8Rgye1RR50rE3Kf5HarwvSceR3+NEAUw6p0/DEMdv6Ll3/szlzki34bI2WGOiHN8fCUwWhmMuK1HkR9HS9l3f9ldAZzaWFHu/D3f0c+Zyj7+vPfbdG27R50zUXbWkec724oyxy/VWsv9/f0h4ucAo+zP35s995fdfQYw4k5hdJk90k7uMmekz+i8p+0eOTvMEWmOj6K+8jeKtD+/FDFzFLsrgJceN+dokyBy9siib/fHzxQj5o8i+jyJLNocH1/567qu1Vq/Ri2CEUX+Pd17dn8HEAAgmf8BJdX7RdmVlNEAAAAASUVORK5CYII='>"
      ],
      "text/plain": [
       "<IPython.core.display.HTML object>"
      ]
     },
     "metadata": {},
     "output_type": "display_data"
    },
    {
     "name": "stdout",
     "output_type": "stream",
     "text": [
      "bathy\n"
     ]
    },
    {
     "data": {
      "text/html": [
       "<img src='data:image/png;base64,iVBORw0KGgoAAAANSUhEUgAAAoAAAABQCAYAAACJbMQlAAAFhElEQVR4nO3dy27bRhQG4BnbQIsmKAqnSFCQbrop0FUX3ff9930Fi0C66Rs47EKiLhRlyaQj8ni+D4kl00PO4WhE/tbNuWmaBABAOW7mLgAAgOsSAAEACiMAAgAURgAEACiMAAgAUBgBEACgMAIgAEBhBEAAgMIIgAAAhREAAQAKIwACABRGAAQAKIwACABQGAEQAKAwAiAAQGEEQACAwtxNWbmqqva1CgEA4HJN0+Sx604KgJ2cc0opp5RzypvLlHrXt5dpuG1/Gwdt0vNte/2tuzjT9mB5ekHbgXrO1pb29n/z87P9bQd3f6RTN3ybLwNtxqyTD3/UffMN18l7Xy9f56DD59fZLjrRpj8f95btbt+u/269vdtm7/Kg7d713F9/tj538+9afeZu3cFlA328YNlRzQPLdjU9t2xvXIb25WjZwDg8u6w31r15MLQs58Mx395222Xt5urucr2dtvfzzfXN5bq7dlPjps1mneN1+9vcrXuybbftoz57/VzY/+HPT+zn0L7tLx/s8/TYdeed3XEmHy3bHsfTdmO9Nnvnk22b3rJ83ObZPtOJPvPpPi/Z3nq+DfXxTJ9D+5lP7OfmspvSeTN+OaV0s7ubrNvk9dOReWj5hW0P2637Om6X0k3u15TSzWa7J9c/03Z4m7v93bXb7cNRu6Nlh21v9urq2r3vn/tfyFPAAACFEQABAAojAAIAFEYABAAojAAIAFAYARAAoDACIABAYQRAAIDCCIAAAIURAAEACiMAAgAURgAEACiMAAgAUBgBEACgMHevsZG2bVNKbfcPAIAFmxwAm6bJr1EIAACXqapq0mNungIGACiMAAgAUBgBEACgMLlpmrlrAADgikY/AljX9VNd10+vWQwAAOdNzWCj3gVc1/XT4+PjbXd9tVrdTikCAIDL1HX91LbtpJfxjVq5bdubnHPKOaepBQAAcLnuQbgphDcAgEBynv4RzAIgAEBhBEAAgMKMehNI0zS5+xMk/hQcAEAsPgcQAKAwngIGACiMAAgAUBgBEACgMKPeBNLp3ggCAMB1TXkj7qQAGNn9pz/nLmG0H3/+fe4SRrt7/9PcJYz23f0vc5cwyvcfP89dwmjvHn6du4TR3n/+OHcJo93/9mXuEkb58CHuKe3T7R9zlzDaXx/u5y5htL+rH+YuYbR3Ez8M2lPAAACFEQABAAojAAIAFEYABAAojAAIAFAYARAAoDACIABAYQRAAIDCCIAAAIURAAEACiMAAgAURgAEACiMAAgAUBgBEACgMHdzFzCX//79Z+4SRotcOwAwv8kBsGma/BqFXFtVVa3ar0/t1xe17pTUPpeotUetOyW1zyV67VPW9xQwAEBhBEAAgMIIgAAAhclN08xdAwAAVxTiEcCqqtqpL3acQ1d31PpTmv4i07lEH/OItbdtm+q6fpq7jpeIOtadqLVHHPe2bVNVVW20Ob4v2pinFP88uuS6F/8xMJHfoZNS3HdJpxTzYJHS4ZyJNn+i1r4Jf23O+evctVwq6lh33D+vp23b9PDw8NQ0Te5+0VmtVrdz1/USUedLSnHPo0uf3yEeAYxsyen/rVryHe6cqLXnnNNqtQpZe1RR50rEujfzO1Tge0ucR7+NEAEw6o3fNE3u/kerf+m/uVwi8j5Erh0uEXGOd48ERguDEce6E/k8mtKy88viAuDQYEW58Zd8Q58zVHv3/dL36dS4R50zUQ7Wkec784oyx/tyzunx8fE24usAoxzP35ol55fFvQYw4kGh06890kGuX2ek1+i8pXGPXDtcItIc70R95K8T6XjeF7HmKBYXAPv2k3O0SRC59siij/v+b4oR648i+jyJLNoc7x75q6qqzTl/jRoEI4p8P1167T4HEACgMP8DRNkA+u8irPQAAAAASUVORK5CYII='>"
      ],
      "text/plain": [
       "<IPython.core.display.HTML object>"
      ]
     },
     "metadata": {},
     "output_type": "display_data"
    },
    {
     "name": "stdout",
     "output_type": "stream",
     "text": [
      "seafloor\n"
     ]
    },
    {
     "data": {
      "text/html": [
       "<img src='data:image/png;base64,iVBORw0KGgoAAAANSUhEUgAAAoAAAABQCAYAAACJbMQlAAAFQklEQVR4nO3dXXLbVBgG4HOaQGG4gBsKUyk7YDrMsAt20hWxk24o1sDADRtIxQVR4h/ZUSQ38pfveWZaO9aR9OnoWH79I7t2XVcAAMjjzdoFAADwsgRAAIBkBEAAgGQEQACAZARAAIBkBEAAgGQEQACAZARAAIBkBEAAgGQEQACAZARAAIBkBEAAgGQEQACAZARAAIBkBEAAgGQEQACAZK6XzNw0TX+uQgAAmK7rujp33kUBsJRSPpZP99dqOayibv1/7LbTU4/ddmyN57p9fJ37LevRKae3c3w5+237+vhn/3BZHxqOT7+/snXbdtvdeQ6XdWqdJ5dX6sFtU+s/bF93t+dg+4a29XibnXqP19bvTT+c/7CWU9N2+2h3Px5e1iPrPKzhYb4pbZ5a54Q+e9hPE9qca50P+2HpOsf2z0i7x2kjfTc2Dk6uc2QsjIyxU9OmbG993C2P1+/r373t8fL/afVw2vb0rWUdnfal1rnX7tQ6h9vKkeWOLmusxlPrPNJm7LJs1/VE2+3lHdR/Yp1bd8XDvji2vJH+GF/niW08uf1PbfPj9Ll9O2k9z+n//XZH206obVJdh9dH9+Xe/MfH7O71Ukv54fp+hpm8BQwAkIwACACQjAAIAJCMAAgAkIwACACQjAAIAJCMAAgAkIwACACQjAAIAJCMAAgAkIwACACQjAAIAJCMAAgAkIwACACQzPXSBfxRfj9HHYzp9y6B1PricACcx+IA2HVdPUchAABM0zTNoueD3gIGAEhGAAQASEYABABIpnZdt3YNAAC8oNmvALZte9e27d05iwEA4GlLM9iss4Dbtr27vb29Gq5vNpurJUUAADBN27Z3fd8v+hjfrJn7vn9Tay211rK0AAAAphtehFtCeAMACKTW5V/BLAACACQjAAIAJDPrJJCu6+rwEyR+Cg4AIBbfAwgAkIy3gAEAkhEAAQCSEQABAJKZdRLIYDgRBACAl7XkRNxFAbCUUj6WT0sXsYpvyrdrlzBbffvd2iXM9s/PX61dwmx/v3+7dgmz/PU+bp//eRO39n/br9cuYbZf3sWs/cOPccfLh59i9nkppfwW+Lj+67u4v2T7/fWyL2HxFjAAQDICIABAMgIgAEAyAiAAQDICIABAMgIgAEAyAiAAQDICIABAMgIgAEAyAiAAQDICIABAMgIgAEAyAiAAQDICIABAMrXrutkzN03Tn7EWAAAm6rquzp33es2Vr6lpml7tL0/tLy9q3aWofS1Ra49adylqX0v02pfM7y1gAIBkBEAAgGQEQACAZBadBAIAQDwhXgFsmqaPeMbxUHfU+kuJe6Z39D6PWHvf96Vt27u163iOqH09iFp7xH7v+740TdNHG+PbovV5KfEfRy+57sVnAX9pkc/QKSXuWdKlxDxYlLI7ZqKNn6i134e/vtb6ee1apora1wP3z5fT9325ubm567quDk90NpvN1dp1PUfU8VJK3MfRSx/fIV4BjOyS0/9rdcl3uKdErb3WWjabTcjao4o6ViLWfT++QwW+18Tj6JcRIgBG3fld19XhX7T6L/2ZyxSRtyFy7TBFxDE+vBIYLQxG7OtB5MfRUi47v1xcABzrrCg7/5J39FPGah/+vvRtOtbvUcdMlIN15PHOuqKM8X211nJ7e3sV8XOAUY7nr80l55eL+wxgxIPCYL/2SAe5/TojfUbnNfV75NphikhjfBD1lb9BpOP5vog1R3FxAXDfdnKONggi1x5Z9H7ffqYYsf4ooo+TyKKN8eGVv6Zp+lrr56hBMKLI99NLr933AAIAJPMfAMVUNxYqoEIAAAAASUVORK5CYII='>"
      ],
      "text/plain": [
       "<IPython.core.display.HTML object>"
      ]
     },
     "metadata": {},
     "output_type": "display_data"
    },
    {
     "name": "stdout",
     "output_type": "stream",
     "text": [
      "abyss\n"
     ]
    },
    {
     "data": {
      "text/html": [
       "<img src='data:image/png;base64,iVBORw0KGgoAAAANSUhEUgAAAoAAAABQCAYAAACJbMQlAAAFgElEQVR4nO3dwW6jRhgH8Jlkqx42q1bVSl0JUqnbPkKfoQ/dd+kp5tZbz1l6iLHBsY0NqeHL/H7SKgTD8Gc84C/YeHPTNAkAgHLcLR0AAIDbUgACABRGAQgAUBgFIABAYRSAAACFUQACABRGAQgAUBgFIABAYRSAAACFUQACABRGAQgAUBgFIABAYRSAAACFUQACABRGAQgAUBgFIABAYT7MWbmqqvatggAAcLmmafLUdWcVgDs5p5zybjqlnHLuMuXt473HetO7x7bTqVsi54vazvngsbG2u8f6beduqyPbvaLt3Fvu2n26JOtYHx/LMN5f3ZzTGV7a2Ge4vI+vy/p6nbTfh27z+5m9ZdMw08iy+aDtV8vv2nqd43DZ/T6damuX/nXm0X082HYebPXMPl7QX72289H2ju/3+L70eu7Mvh5ub/Q56W1vP/bG9+9kf+WD46I/PvtjOu+3k3vTL+vvp3d9M7Z8/7jrTQ+O9f754ej2jix/Lv8l2zu7frfawXgdDPtef/ePtX7mrs3BU9RrMx+M28HTdiJHf0yeaefiXLsfw1yD1Qe/93P1HhtG7k3nE/PPTY+1eWw6X7X87ux5sNunpo/uy8RM/Z9323H+Mv2yxl1Or+bl3E2/PHZ3Zt5uvZzTXUqv5u3bPT5v0FZO2zZ6bfXm7ds4Pm+3P127Z+bt2xjOexic567nLWAAgMIoAAEACqMABAAojAIQAKAwCkAAgMIoAAEACqMABAAojAIQAKAwCkAAgMIoAAEACqMABAAojAIQAKAwCkAAgMIoAAEACvPhTVpp29Smdjs9+AEAwMrMLgCbpslvEQQAgMtUVTXrWpu3gAEACqMABAAojAIQAKAwuWmapTMAAHBDk68A1nX9XNf181uGAQBg3NwabNJdwHVdPz89Pd1305vN5n5OCAAALlPX9XPbtrM+xjdp5bZt73LOKeec5gYAAOBy3UW4ORRvAACB5Dz/K5gVgAAAhVEAAgAUZtJNIE3T5O6/IPFfwQEAxOJ7AAEACuMtYACAwigAAQAKowAEACjMpJtAOt2NIAAA3NacG3FnFYCRffr829IRJouc/eHz70tHmOy7Tz8tHWGSqLlTip394evXpSNM9unxy9IRJnn4+YelI0z2649xX47/+PL90hEm+/OXj0tHmOzjzC+D9hYwAEBhFIAAAIVRAAIAFEYBCABQGAUgAEBhFIAAAIVRAAIAFEYBCABQGAUgAEBhFIAAAIVRAAIAFEYBCABQGAUgAEBhFIAAAIX5sHSApfz7z99LR5gscvaU/lo6AAAUb3YB2DRNfosgt1ZVVSv77cl+e1FzpyT7UqJmj5o7JdmXEj37nPW9BQwAUBgFIABAYRSAAACFyU3TLJ0BAIAbCnEFsKqqdu6HHZfQ5Y6aP6X5HzJdSvQ+j5i9bdtU1/Xz0jmuEbWvO1GzR+z3tm1TVVVttDHeF63PU4r/Orrm3Kv/GpjId+ikFPcu6ZRinixSGo6ZaOMnavZt8dfmnL8tneVSUfu64/i8nbZt0+Pj43PTNLn7Q2ez2dwvnesaUcdLSnFfR9c+vkNcAYxszdX/e7XmA25M1Ow557TZbEJmjyrqWImYezu+QxV874nX0f9HiAIw6pPfNE3u/kXLv/a/XC4ReR8iZ4dLRBzj3ZXAaMVgxL7uRH4dTWnd9cvqCsBjnRXlyV/zEz3mWPbu97Xv06l+jzpmopysI493lhVljB/KOaenp6f7iJ8DjHI+f2/WXL+s7jOAEU8KncPskU5yhzkjfUbnPfV75OxwiUhjvBP1yl8n0vn8UMTMUayuADzUr5yjDYLI2SOL3u/9vxQj5o8i+jiJLNoY7678VVXV5py/RS0EI4p8nK49u+8BBAAozH/HZ9fLFjyR5AAAAABJRU5ErkJggg=='>"
      ],
      "text/plain": [
       "<IPython.core.display.HTML object>"
      ]
     },
     "metadata": {},
     "output_type": "display_data"
    },
    {
     "name": "stdout",
     "output_type": "stream",
     "text": [
      "ibcso\n"
     ]
    },
    {
     "data": {
      "text/html": [
       "<img src='data:image/png;base64,iVBORw0KGgoAAAANSUhEUgAAAoAAAABQCAYAAACJbMQlAAAFQ0lEQVR4nO3d3W7TSBgG4Blaqv2RYFkt0mptxClH3AoXw5VxN5yixpdRvAfg1nGdJo1LnK/f80iINLXHb6aT5G3+WruuKwAA5PFi7QAAAJyWAggAkIwCCACQjAIIAJCMAggAkIwCCACQjAIIAJCMAggAkIwCCACQjAIIAJCMAggAkIwCCACQjAIIAJCMAggAkIwCCACQjAIIAJDM5ZKdm6bpnyoIAACH67quHrvvogJYSinvP3wqpdRSbiPUUuuP/8vtf/X2e4/drt6eHl3Gesh228e6+3L/ePWE2WsZfX9rzNF3xvvMbHcXa3677TFm5mDrMs9vd7f5Q/P7yHnbkXlflnvbzWQZH6POrJfD5vl+ztnLOMm5e21sH+PBudg5Z/OXdXYN7Nzu4fm6W1P353ya45Dr1M75GOa0jscYHX8u/2ib8Xhz59fJmHfRJlnq7vNnx9hxfp1sszVHR+StD4wznbNp9un49YE828c9RY79496arKvpMhuFvm963XjMvuPLMrt/nTlvkvSBTNvH2Z9pusnd1/39q95B+22PMZfj8HH6rW88/vg/Mkyndte2907vOOZ4vHvnTberM+cdcIy703Vr/mbHeeByHZx1cozPH9+UJTwFDACQjAIIAJCMAggAkIwCCACQjAIIAJCMAggAkIwCCACQjAIIAJCMAggAkIwCCACQjAIIAJCMAggAkIwCCACQjAIIAJDM5dIBvn398hQ5AAA4kcUFsOu6+hRBAAA4TNM0/ZL9PQUMAJCMAggAkIwCCACQTO26bu0MAACc0NGPALZte9O27c1ThgEAYL+lHeyodwG3bXtzfX19MZzebDYXS0IAAHCYtm1v+r5f9DK+o3bu+/5FrbXUWsvSAAAAHG54EG4J5Q0AIJBal38EswIIAJCMAggAkMxRbwLpuq4Of4LEn4IDAIjF5wACACTjKWAAgGQUQACAZBRAAIBkjnoTyGB4IwgAAKe15I24iwpgKaW8//Bp6RCrePn6n7UjHO0qcPaXr+Jmv3r9du0IR3kZNHcppfz29u+1Ixztj3/frB3haK/+i5n94vertSMc7c+ruB+o8dfl97UjHO1t4Hn//HHZ9dRTwAAAySiAAADJKIAAAMkogAAAySiAAADJKIAAAMkogAAAySiAAADJKIAAAMkogAAAySiAAADJKIAAAMkogAAAySiAAADJXC4d4NvXL0+RAwCAE1lcALuuq08R5NSapullPz3ZTy9q7lJkX0vU7FFzlyL7WqJnX7K/p4ABAJJRAAEAklEAAQCSqV3XrZ0BAIATCvEIYNM0/dIXO65hyB01fynLX2S6luhzHjF73/elbdubtXM8RtS5HkTNHnHe+74vTdP00db4WLQ5LyX+/eg55178LuBfLfI7dEqJ+y7pUmLeWJSyvWairZ+o2X+Wv77W+n3tLIeKOtcD18/T6fu+vHv37qbrujr8orPZbC7WzvUYUddLKXHvR899fYd4BDCyc27/z9U5X+H2iZq91lo2m03I7FFFXSsRc/9c36EK33PifvTXCFEAo/7wu66rw79o+c/9N5dDRL4MkbPDISKu8eGRwGhlMOJcDyLfj5Zy3v3l7Arg3GRF+eGf8w96n7nsw9fnfpl2zXvUNRPlxjryemddUdb4VK21XF9fX0R8HWCU2/Pn5pz7y9m9BjDijcJgmj3Sjdw0Z6TX6DyneY+cHQ4RaY0Poj7yN4h0ez4VMXMUZ1cAp8bNOdoiiJw9sujzPv5NMWL+KKKvk8iirfHhkb+mafpa6/eoRTCiyNfTc8/ucwABAJL5H1jW1XOGZXd2AAAAAElFTkSuQmCC'>"
      ],
      "text/plain": [
       "<IPython.core.display.HTML object>"
      ]
     },
     "metadata": {},
     "output_type": "display_data"
    },
    {
     "name": "stdout",
     "output_type": "stream",
     "text": [
      "gebco\n"
     ]
    },
    {
     "data": {
      "text/html": [
       "<img src='data:image/png;base64,iVBORw0KGgoAAAANSUhEUgAAAoAAAABQCAYAAACJbMQlAAAEuUlEQVR4nO3dwW7bRhQF0Jk4QJtNm6AJUIB00f//nv6BxV0XQRctunCmmzCRZLmWObLI53cOEEQaUtQ1PZauKVGu0zQVAADyeLN2AAAArksBBABIRgEEAEhGAQQASEYBBABIRgEEAEhGAQQASEYBBABIRgEEAEhGAQQASEYBBABIRgEEAEhGAQQASEYBBABIRgEEAEhGAQQASOZtz42HYWiXCgIAwPmmaapLb9tVAEsppXxu5du91/Lt8n6iWk+MPbZ+xzb+d+y529hb/8mxvSvnfD3P2caD2555uXd5hm2V0vbG2gsvO71e3GVtb53DZfvL99cpR9s7XNYerFv3xo/XPdzm4boPl102y9LtXzbL45efs27P5dd2P2XB2KXGX3Lba9znw3lf9/7/fu3U2OP/H46cGuu7n8MZN6//cGy+fmrs+7L65Fi/T7VvW14CBgBIRgEEAEhGAQQASEYBBABIRgEEAEhGAQQASEYBBABIRgEEAEhGAQQASEYBBABIRgEEAEhGAQQASEYBBABIRgEEAEjmbfcW3tfS9q62R1cEAGALugvgNE31EkEAADjPMAxdx9y8BAwAkIwCCACQjAIIAJBMnaZp7QwAAFzR4iOA4zjej+N4f8kwAAA8rbeDLToLeBzH+7u7u5v58m63u+kJAQDAecZxvG+tdb2Nb9GNW2tvaq2l1lp6AwAAcL75IFwP5Q0AIJBa+z+CWQEEAEhGAQQASGbRSSDTNNX5T5D4U3AAALH4HEAAgGS8BAwAkIwCCACQjAIIAJDMopNAZvOJIAAAXFfPibhdBbCUUsrnmB3w449rJ1ju1x/WTrDc72sH6PBb+WftCIvclr/WjrDYh/L32hEW+7n8u3aExT6sHWChn9YO0OHd2gE6/FI+rh1hsXeBs3/q/DBoLwEDACSjAAIAJKMAAgAkowACACSjAAIAJKMAAgAkowACACSjAAIAJKMAAgAkowACACSjAAIAJKMAAgAkowACACSjAAIAJPO2ewvv6wViXN+fawfoEDn7H2sHAAD6C+A0TSEb4DAMTfbrk/36ouYuRfa1RM0eNXcpsq8levae23sJGAAgGQUQACAZBRAAIJk6TdPaGQAAuKIQRwCHYWi9b3Zcw5w7av5S+t9kupbo+zxi9tZaGcfxfu0czxF1X8+iZo+431trZRiGFm2O74u2z0uJ/zy65dz9HwPzwiKfoVNK3LOkS4n5YFHK4ZyJNn+iZv9a/lqt9cvaWc4VdV/P/HxeT2ut3N7e3k/TVOdfdHa73c3auZ4j6nwpJe7z6Nbnd4gjgJFtuf2/Vlv+gXtK1Oy11rLb7UJmjyrqXImY++v8DlX4XhPPoy8jRAGM+s2fpqnO/6Ll3/pvLueI/DVEzg7niDjH5yOB0cpgxH09i/w8Wsq2+8vmCuCpnRXlm7/lb/RTTmWfr2/9a3psv0edM1EerCPPd9YVZY4fq7WWu7u7m4jvA4zyeP7abLm/bO49gBEfFGbH2SM9yB3njPQende03yNnh3NEmuOzqEf+ZpEez49FzBzF5grgsf3mHG0SRM4eWfT9vv+bYsT8UUSfJ5FFm+Pzkb9hGFqt9UvUIhhR5J/TrWf3OYAAAMn8Bxcp/Gs77eNmAAAAAElFTkSuQmCC'>"
      ],
      "text/plain": [
       "<IPython.core.display.HTML object>"
      ]
     },
     "metadata": {},
     "output_type": "display_data"
    },
    {
     "name": "stdout",
     "output_type": "stream",
     "text": [
      "topo\n"
     ]
    },
    {
     "data": {
      "text/html": [
       "<img src='data:image/png;base64,iVBORw0KGgoAAAANSUhEUgAAAoAAAABQCAYAAACJbMQlAAAFuklEQVR4nO3dMZLjxhUG4NfgrrdWVbZsBXYAbu4qB85c5fIlHPsiOoMvIp1CgSPpCIo9RK5MKsncdjDEDMnlLElgNODb/r4aFEA0QLwBm+BPkJgpwzAEAADt6JYuAACAlyUAAgA0RgAEAGiMAAgA0BgBEACgMQIgAEBjBEAAgMYIgAAAjREAAQAaIwACADRGAAQAaIwACADQGAEQAKAxAiAAQGMEQACAxgiAAACNeTVn5b7v63MVAgDA5YZhKFPXnRUAIyK+/fL7eB9x8VAvWObN29/Em7dvzq5zPP/ccrVExDh0T4znzLtk/NT9nJq/u126iOjKbjzOK3ttV7SXGnW3Z2ps96ZPjQ/bP9Z22aO/vaKn3A8lanRRd7uixuOvWHe7qh7cPj2v7u3m+sFuv3RYXbBMqY9DN07H0e163bJlv2Of2oVT5u3eutV6P9xPl8d5cb/MfVs5Me9++Yd5e201ysO8Wvfby+O8ONru/vIPdT3WE2//GHXX+DA+mo5aT45Ptu3W/fqzP0Xttk8O78v/osYvUePn3fDLB+NV2cbrVXl66Eq86s73o1PzD+eV6EqJLrpYlS666B5ud+V+ejVOR9mNu1gdLTNOr3bLlN0zopTHA0+JErF/+2E6Dto+WO64LcruZ++gVvbbykHb/naebjvebjzZtr+dw7Y4XcOJ9R5rONzOR+vbbSPe/C5OKx+9eXb5s4tekwk+suzJpmvzRjkYTa7l5GITa7lokxPu+6pVzixcnrzxOLdcW+MhHwEDADRGAAQAaIwACADQGAEQAKAxAiAAQGMEQACAxgiAAACNEQABABojAAIANEYABABojAAIANAYARAAoDECIABAYwRAAIDGvJp7B3//95+fow4AAF7I7AA4DEN5jkIAALhM3/d1zvo+AgYAaIwACADQGAEQAKAxZRiGpWsAAOAFTT4DuF6vt+v1evucxQAAcN7cDDbpKuD1er29u7tbjdObzWY1pwgAAC6zXq+3tdZZX+ObtHKttSulRCkl5hYAAMDlxpNwcwhvAACJlDL/TzALgAAAjREAAQAaM+kikGEYyvgvSPwrOACAXPwdQACAxvgIGACgMQIgAEBjBEAAgMZMughkNF4IAgDAy5pzIe6sABgR8d2X38+9i0X8Z/3bpUuY7PU/8/7nvR8//2rpEib7188/Ll3CJJ99k/dE/90PXyxdwmQ//e2/S5cw2V+++MfSJUzy+8//unQJ0739w9IVTLeaHSWWs3q9dAWTzf1j0HlfGQAAmEQABABojAAIANAYARAAoDECIABAYwRAAIDGCIAAAI0RAAEAGiMAAgA0RgAEAGiMAAgA0BgBEACgMQIgAEBjBEAAgMaUYRgmr9z3fX3GWgAAuNAwDGXquq+W3PiS+r6van95an95WeuOUPtSstaete4ItS8le+1z1vcRMABAYwRAAIDGCIAAAI2ZdREIAAD5pDgD2Pd9zXjF8Vh31voj8l7pnX2fZ6y91hrr9Xq7dB3XyLqvR1lrz7jfa63R933N1sf3ZdvnEflfR2+57tlXAf/aMl+hE5H3KumInAeLiMM+k63/ZK19F/5qKeX90rVcKuu+Hnl+vpxaa7x79247DEMZ3+hsNpvV0nVdI2t/icj7Onrr/TvFGcDMbjn9f6pu+Ql3TtbaSymx2WxS1p5V1r6Sse5d/04V+D4lXkd/HSkCYNYHfxiGMg7Z6r/1dy6XyPw7ZK4dLpGxj49nArOFwYz7epT5dTTitvPLzQXAUzsry4N/yw/0OadqH2/f+u/01H7P2meyHKwz93eWlaWPHyulxN3d3Srj9wCzHM8/NbecX27uO4AZDwqj49ozHeSO68z0HZ1Pab9nrh0ukamPj7Ke+RtlOp4fy1hzFjcXAI/tJ+dsnSBz7Zll3+/77xQz1p9F9n6SWbY+Pp756/u+llLeZw2CGWV+nt567f4OIABAY/4PTJ3jRIYB7ZUAAAAASUVORK5CYII='>"
      ],
      "text/plain": [
       "<IPython.core.display.HTML object>"
      ]
     },
     "metadata": {},
     "output_type": "display_data"
    },
    {
     "name": "stdout",
     "output_type": "stream",
     "text": [
      "sealand\n"
     ]
    },
    {
     "data": {
      "text/html": [
       "<img src='data:image/png;base64,iVBORw0KGgoAAAANSUhEUgAAAoAAAABQCAYAAACJbMQlAAAEmklEQVR4nO3dQW7bVhQF0PfjDNuMOinIAJ20zQIyzwKKbiObaZfTzTTDWH8ZNjuo2ThqDMukLPL5nQMYlCVRvv76oq4o0W699wAAoI5XWwcAAOCyFEAAgGIUQACAYhRAAIBiFEAAgGIUQACAYhRAAIBiFEAAgGIUQACAYhRAAIBiFEAAgGIUQACAYhRAAIBiFEAAgGIUQACAYhRAAIBiXq9ZeRiG6VxBAAA4Xe+9LV13VQGMiPjj4xRTRNxG/G85n37o/FOXU4uIFv/urzx1eXzeQ+c/tnyu665ZPte6TxrPb92zWy1fws84zzotps0eKpeYwude5118+DKUcbR8Keft5TbOcbt7+V2ecv1oEa19OR1x93174PJ2d9EDlz943fu3/djl929vyXUv9f1z3fbxOMW+L//v7K+v296/iTW8BQwAUIwCCABQjAIIAFCMAggAUIwCCABQjAIIAFCMAggAUIwCCABQjAIIAFCMAggAUIwCCABQjAIIAFCMAggAUIwCCABQTOu9L155GIbpjFkAADhR770tXff1lj8cAICnW7sTzlvAAADFKIAAAMUogAAAxaw6CAQAgHwW7wEcx/FmHMebc4YBAOBxazvYoqOAx3G8ub6+vppPHw6HqzUhAAA4zTiON9M0rfoY36KVp2l61VqL1lqsDQAAwOnmnXBrKG8AAIm0tv5PMCuAAADFKIAAAMUsOgik997mf0HiX8EBAOTi7wACABTjLWAAgGIUQACAYhRAAIBiFh0EMpsPBAEA4LLWHIi7qgBGRPz5MWcH/PTL1glW+G3rACu8+3vrBCv8tXWARX6OT1tHWOz3rQOs8OvnD1tHWO7z1gEWypo7IuL7n7ZOsNx3P26dYLk3P2ydYLH2/s2q9b0FDABQjAIIAFCMAggAUIwCCABQjAIIAFCMAggAUIwCCABQjAIIAFCMAggAUIwCCABQjAIIAFCMAggAUIwCCABQjAIIAFBM670vXnkYhumMWQAAOFHvvS1d9/WWP3xLwzBMsl+e7JeXNXeE7FvJmj1r7gjZt5I9+5r1vQUMAFCMAggAUIwCCABQzKqDQAAAyCfFHsBhGKaMRxzPubPmj8h7pHf2Mc+YfZqmGMfxZuscT5F1rGdZs2cc92maYhiGKdscvy/bmEfkfx7dc+7VRwE/t8xH6ETkPUo6IufGIuLrOZNt/mTNflf+ptba7dZZTpV1rGcen5czTVO8ffv2pvfe5hc6h8PhautcT5F1vkTkfR7d+/xOsQcwsz23/5dqzw+4x2TN3lqLw+GQMntWWedKxtx38ztV4XtJPI8+jxQFMOud33tv81e2/Ht/5XKKzL9D5uxwioxzfN4TmK0MZhzrWebn0Yh995fdFcBvDVaWO3/Pd/RjvpV9/n7vv9ND4551zmTZWGee72wryxw/1lqL6+vrq4yfA8yyPX9p9txfdvcZwIwbhdlx9kwbueOcmT6j85LGPXN2OEWmOT7Luudvlml7fixj5ix2VwCP3W/O2SZB5uyZZR/3+68UM+bPIvs8ySzbHJ/3/A3DMLXWbrMWwYwyP073nt3fAQQAKOYfRii6BrJ/WKYAAAAASUVORK5CYII='>"
      ],
      "text/plain": [
       "<IPython.core.display.HTML object>"
      ]
     },
     "metadata": {},
     "output_type": "display_data"
    },
    {
     "name": "stdout",
     "output_type": "stream",
     "text": [
      "nighttime\n"
     ]
    },
    {
     "data": {
      "text/html": [
       "<img src='data:image/png;base64,iVBORw0KGgoAAAANSUhEUgAAAoAAAABQCAYAAACJbMQlAAAFQUlEQVR4nO3dO3LbVhQG4HMtF04aF1EKD+Ami8kiss2swBvIJkSMG8+kdaMghQUKBJ8iZAJH9/tmPJYxIvjfwyvqFx9y6bouAACox7ulAwAAcFsKIABAZRRAAIDKKIAAAJVRAAEAKqMAAgBURgEEAKiMAggAUBkFEACgMgogAEBlFEAAgMoogAAAlVEAAQAqowACAFRGAQQAqIwCCABQmfdzLtw0Tf9aQQAAuFzXdeXay84qgBERH+JTRPlx/SVi+/HTPw4eez5UDh8bf27ZnuXsse01Hj02yhJl9OFofmWSeXzswHl213d8Dj8OXTaH7fq2EcrRY/PXfMUcdrJes+b9Yy9b8yjzmTlcvuYyOv35OTz/VU4cm6xjbw67a9qfw+nZHJvDsf36/KknbrvZa55kPjeHE/v17B4eX35yO55a8/jYn/d/78y77HxOGV3f7ky2n1HKdu1lL/fzeZ5nNDnfZC5lZ5271zXONZ75j+u74Hzbcxw433Rt23PMWNvBWb1wbU/zPb+2U3M8Nu9DczyW6dAc9zPtre3Ivjq956bzPjXHW63t1B55pbXtzXF6viNrOzjvGbM6uTdfYd9Ocx6d47F5P19HaZqYw1PAAACVUQABACqjAAIAVEYBBACojAIIAFAZBRAAoDIKIABAZRRAAIDKKIAAAJVRAAEAKqMAAgBURgEEAKiMAggAUBkFEACgMu/nnuB7fI3oRwf6o58KsCpflg4AsJDZBbDruvIaQQAAuEzTNLMecvMUMABAZRRAAIDKKIAAAJUpXdctnQEAgBu6+hHAtm0f27Z9fM0wAACcN7eDXfUu4LZtHx8eHu6Gjzebzd2cEAAAXKZt28e+72e9jO+qC/d9/66UEqWUmBsAAIDLDQ/CzaG8AQAkUsr8X8GsAAIAVEYBBACozFVvAum6rgz/BYn/Cg4AIBe/BxAAoDKeAgYAqIwCCABQGQUQAKAyV70JZDC8EQQAgNua80bcWQUwIuJDfJp7ikX8cv/b0hGuJvsysmbPmjsi4tf7+6UjXO2vP/5ZOsLV7j+2S0e4yv3HZukIV/s96cwj8u6XiNxzL828/e4pYACAyiiAAACVUQABACqjAAIAVEYBBACojAIIAFAZBRAAoDIKIABAZRRAAIDKKIAAAJVRAAEAKqMAAgBURgEEAKiMAggAUJn3c0/wPb6+Ro6b+/4tZ+6IiH+/LZ0AOOfL0gEATphdALuuK68R5Naapullvz3Zby9r7gjZl5I1e9bcEbIvJXv2OZf3FDAAQGUUQACAyiiAAACVKV3XLZ0BAIAbSvEIYNM0/dwXOy5hyJ01f8T8F5kuJfvMM2bv+z7atn1cOsdLZJ31IGv2jHPv+z6apumz7fGxbDOPyP99dM25Z78L+GfL/A6diLzvko7IeWcRsbtnsu2frNmfyl9fSvlv6SyXyjrrga/P2+n7Pj5//vzYdV0ZftDZbDZ3S+d6iaz7JSLv99G17+8UjwBmtub2/1at+QvunKzZSymx2WxSZs8q617JmPtpf6cqfG+J76M/R4oCmPXG77quDH+y5V/7Ty6XyLyGzNnhEhn3+PBIYLYymHHWg8zfRyPW3V9WVwAPDSvLjb/mG/qcQ9mHf699TcfmnnXPZLmzzrzfWVaWPT5VSomHh4e7jK8DzHJ//tasub+s7jWAGe8UBtPsme7kpjkzvUbnLc09c3a4RKY9Psj6yN8g0/35VMbMWayuAE6Nm3O2TZA5e2bZ5z7+STFj/iyy75PMsu3x4ZG/pmn6Usp/WYtgRpm/Ttee3e8BBACozP951dmDdU4V+wAAAABJRU5ErkJggg=='>"
      ],
      "text/plain": [
       "<IPython.core.display.HTML object>"
      ]
     },
     "metadata": {},
     "output_type": "display_data"
    },
    {
     "name": "stdout",
     "output_type": "stream",
     "text": [
      "world\n"
     ]
    },
    {
     "data": {
      "text/html": [
       "<img src='data:image/png;base64,iVBORw0KGgoAAAANSUhEUgAAAoAAAABQCAYAAACJbMQlAAAFeElEQVR4nO3dsXLj1hUG4HMBqXPGmYkbD7hu3LjeJg+QJhlX6fIGce3Cz+An2SIvkSKvkJlUqUSMW6eLJyRvChG7tFYaUYBW4NH9vhkOQYIAf0GX5E+QkMo4jgEAQDu6tQMAAPCyFEAAgMYogAAAjVEAAQAaowACADRGAQQAaIwCCADQGAUQAKAxCiAAQGMUQACAxiiAAACNUQABABqjAAIANEYBBABojAIIANAYBRAAoDFXSxYehqE+VxAAAM43jmOZu+yiAhgRET/n6YBff752gvMNEbFZO8QTvI2f1o5wts/iv/Gb+GXtGGf7au0AT/CpHmJfxJdPXub6jDR/+q5E15foupPzLj66ru+P13d3b//xbbtHbtufcdu+66Iv19F3V3F1PO+76w/T07zuOvoyzbs978t1XHXT9AO3eb/ek3mn6z25nw/ruo6ulIh6iKiHqLW+n7491YiY5h0v/2r+ISLqcd6d5eohIh5a7vZyjXuWmbLEPfc1LXdc93156sl9f7TMSeZ7l3k//77lbi8fDofY7Wvsd4fY7Wrs9rfn+93t9bvj9fv9w/P3J9fv9sfLD83fHWK//zD/ofs9HKbX7dPX7yXTz7OuUrro+v721F1dwHQfXf/hcj/NO15fjtN9/8i67qzn2fL117GEj4ABABqjAAIANEYBBABojAIIANAYBRAAoDEKIABAYxRAAIDGKIAAAI1RAAEAGqMAAgA0RgEEAGiMAggA0BgFEACgMQogAEBjrhav4bflGWK8jH+vHeAJMmWNiHi3dgCYrR5PwLoOx9P/1g7ShMUFcBzHPA0QAOAVGIZh0TtXHwEDADRGAQQAaIwCCADQmDKO49oZAAB4QbP3AG42m/1ms9k/ZxgAAB63tIPNOgp4s9nsb25u+ml6u932S0IAAHCezWazr7Uu+hrfrIVrrV0pJUopsTQAAADnm3bCLaG8AQAkUsryP8GsAAIANEYBBABozKyDQMZxLNO/IPGv4AAAcvF3AAEAGuMjYACAxiiAAACNUQABABoz6yCQyXQgCAAAL2vJgbiLCmBERPycswN+/fnaCeb7/doBFngbP60dYbYv4z9rR5jlq7UDLPBNfLN2hNn+/q+/rB1htj//7o9rR5jll3++WzvCbN//8I+1I8z29g/frh1htr/++Le1I8xWumX/DMRHwAAAjVEAAQAaowACADRGAQQAaIwCCADQGAUQAKAxCiAAQGMUQACAxiiAAACNUQABABqjAAIANEYBBABojAIIANAYBRAAoDFlHMfZCw/DUJ8xCwAAZxrHscxd9mrNO1/TMAxV9pcn+8vLmjtC9rVkzZ41d4Tsa8mefcnyPgIGAGiMAggA0BgFEACgMYsOAgEAIJ8UewCHYagZjziecmfNH5H3SO/s2zxj9lprbDab/do5niLrtp5kzZ5xu9daYxiGmm2Mn8q2zSPyv45ecu7FRwF/apmP0InIe5R0RM4ni4hfj5ls4ydr9mP5q6WUw9pZzpV1W088Pl9OrTXevHmzH8exTG90ttttv3aup8g6XiLyvo5e+vhOsQcws0tu/6/VJT/gHpM1eyklttttyuxZZR0rGXMfx3eqwveaeB39NFIUwKy//HEcy3TKlv/S37mcI/PPkDk7nCPjGJ/2BGYrgxm39STz62jEZfeXiyuA922sLL/8S/5FP+a+7NPlS/+ZHtruWcdMlifrzOOddWUZ43eVUuLm5qbP+D3ALM/nr80l95eL+w5gxieFyd3smZ7k7ubM9B2d17TdM2eHc2Qa45Ose/4mmZ7P78qYOYuLK4B3nTbnbIMgc/bMsm/303eKGfNnkX2cZJZtjE97/oZhqKWUQ9YimFHmx+mlZ/d3AAEAGvN/5d8Dz7M5voAAAAAASUVORK5CYII='>"
      ],
      "text/plain": [
       "<IPython.core.display.HTML object>"
      ]
     },
     "metadata": {},
     "output_type": "display_data"
    },
    {
     "name": "stdout",
     "output_type": "stream",
     "text": [
      "geo\n"
     ]
    },
    {
     "data": {
      "text/html": [
       "<img src='data:image/png;base64,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'>"
      ],
      "text/plain": [
       "<IPython.core.display.HTML object>"
      ]
     },
     "metadata": {},
     "output_type": "display_data"
    },
    {
     "name": "stdout",
     "output_type": "stream",
     "text": [
      "terra\n"
     ]
    },
    {
     "data": {
      "text/html": [
       "<img src='data:image/png;base64,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'>"
      ],
      "text/plain": [
       "<IPython.core.display.HTML object>"
      ]
     },
     "metadata": {},
     "output_type": "display_data"
    },
    {
     "name": "stdout",
     "output_type": "stream",
     "text": [
      "relief\n"
     ]
    },
    {
     "data": {
      "text/html": [
       "<img src='data:image/png;base64,iVBORw0KGgoAAAANSUhEUgAAAoAAAABQCAYAAACJbMQlAAAFVElEQVR4nO3dsXLjVBQG4HvkhR3aLWjkLWCoKBm2YoYCZlsaejpegIrH4DV4rlgN75AVha3EMXasSMbyyf2+jMeyrnR9Il/Lf2TLia7rCgAA9WiWLgAAgOsSAAEAKiMAAgBURgAEAKiMAAgAUBkBEACgMgIgAEBlBEAAgMoIgAAAlREAAQAqIwACAFRGAAQAqIwACABQGQEQAKAyAiAAQGUEQACAyryZs3Lbtv2lCgEAYLyu62LqurMC4KPYXUopsTddDqbjxPwn655rn9P3DdQVUUrTbC/RPE7vX07Nf2iL8euc7esC8y9Z18H8aKI00ZdVlNJEv50dpayi397dbt7j7VJWzV5blLJqHqeb6He399sPlo9SmqZ/ej/NXttDHc/UdWT5S/b1sPxBW0QpUZrSlNj+RJSnP83T2zG27cgyz/V9ou2/dR3c55P2CW2leb7ug7Zf/vy+rPpSVn0pzcH1mOmHeZ+2j1lE7J7iT68jYju8Iw6mzy271x5RojnVftBHEw/1HOtrf/65us729Wz7S36Hl9W139d2N3tkP3xq/v7tc/v3K/QVR5cZ0deRZWJKXc+9hp1rn9X3qe3a7K135HKqbW9+jFl+ZF8PNZ3pK0b3db6uMX1FzHsT11vAAACVEQABACojAAIAVEYABACojAAIAFAZARAAoDICIABAZQRAAIDKCIAAAJURAAEAKiMAAgBURgAEAKiMAAgAUBkBEACgMm8u002/uzxenVwMXqAvpdzvLgDAZcwOgF3XxSUKAQBgnLZtZx1W8xYwAEBlBEAAgMoIgAAAlYmu65auAQCAK5p8BHC9Xt+v12snZwIAXNncDDbpLOD1en1/d3e3GqY3m81qThEAAIyzXq/v+76f9TG+SSv3fd9ERImIMrcAAADGGw7CzSG8AQAkEjH/K5gFQACAygiAAACVmXQSSNd1MfwLEv8KDgAgF98DCABQGW8BAwBURgAEAKiMAAgAUJlJJ4EMhhNBAAC4rjkn4s4KgKl9/tXSFUz33U9LVzDdb78vXcFkf/z4z9IlTPLrN++WLmGyD29/WLqEyf7+6+elS5js48d26RImefdl3v1689nXS5cw3dtvl65gstUXH5YuYbK5XwbtLWAAgMoIgAAAlREAAQAqIwACAFRGAAQAqIwACABQGQEQAKAyAiAAQGUEQACAygiAAACVEQABACojAAIAVEYABACojAAIAFCZ6Lpu8spt2/YXrAUAgJG6roup675Z8s6X1LZtr/brU/v1Za27FLUvJWvtWesuRe1LyV77nPW9BQwAUBkBEACgMgIgAEBlZp0EAgBAPimOALZt22c843ioO2v9peQ90zv7Ns9Ye9/3Zb1e3y9dx0tk3daDrLVn3O5935e2bftsY3xftm1eSv7X0Vuue/ZZwP+3zGfolJL3LOlScu4sSnk6ZrKNn6y178JfHxGflq5lrKzbeuD5eT1935f379/fd10Xwx86m81mtXRdL5F1vJSS93X01sd3iiOAmd1y+n+tbvkJd07W2iOibDablLVnlXWsZKx7N75TBb7XxOvo/yNFAMz64HddF8MlW/23/pfLGJl/h8y1wxgZx/hwJDBbGMy4rQeZX0dLue38cnMB8NjGyvLg3/IDfc6x2ofbt/47ndruWcdMlp115vHOsrKM8UMRUe7u7lYZPweYZX/+2txyfrm5zwBm3CkMDmvPtJM7rDPTZ3Re03bPXDuMkWmMD7Ie+Rtk2p8fylhzFjcXAA/tJ+dsgyBz7Zll3+77fylmrD+L7OMks2xjfDjy17ZtHxGfsgbBjDI/T2+9dt8DCABQmX8Bn9sSTypjn0IAAAAASUVORK5CYII='>"
      ],
      "text/plain": [
       "<IPython.core.display.HTML object>"
      ]
     },
     "metadata": {},
     "output_type": "display_data"
    },
    {
     "name": "stdout",
     "output_type": "stream",
     "text": [
      "globe\n"
     ]
    },
    {
     "data": {
      "text/html": [
       "<img src='data:image/png;base64,iVBORw0KGgoAAAANSUhEUgAAAoAAAABQCAYAAACJbMQlAAAFaklEQVR4nO3dvW7bVhgG4O/4J3FQpEGDFi1KZUjmZgpQdO7WrbmOXkKvJECvo3svIHOnThanDumWDJZPh5gGrdiIQiamvpznAQj+iEf8RB9RryhRLn3fBwAA7ThYugAAAG6XAAgA0BgBEACgMQIgAEBjBEAAgMYIgAAAjREAAQAaIwACADRGAAQAaIwACADQGAEQAKAxAiAAQGMEQACAxgiAAACNEQABABojAAIANOZoTuOu6+rHKgQAgN31fV+mtp0VACMiXkS+DPjqq+lt35xEvL63zLYztn19EvEm4f7qvlim7f3jiC/vLLPt7xd6zJ96f90/jrh/wzo///4w4smTiCdP4ttvvounJw/i6cmD6A7vxd04ipN6HHfrUZzUo7hbj+NkNH1UI2rdXBni/GzasivzZxGXy9/Ob68bV+7v7GK997eNeh7nNWITNTY14qy+HW9qjU0M8xfLosbZcNvF+Dwiotaow2H/crpG1GE0TNdhlcvpqPVy1WF63Daibq1/tW0drTfcNq7l6n1c0/am9cb3t73dK9veehzX1FlrHc0fRql3IuqdKBdDXI6Po8T2stF65SjKwUEcHBxE2R5KeXfZ1hCj8eV0Kdcv35q+7n7KqO07t43vf1RbjGqN7XbXLB+2czA87humx/Pj8U1DREy+fZe2S5m7fR8BAwA0RgAEAGiMAAgA0BgBEACgMQIgAEBjBEAAgMYIgAAAjREAAQAaIwACADRGAAQAaIwACADQGAEQAKAxAiAAQGMEQACAxpS+7yc37rqufsRaAADYUd/3ZWrboyU3DgDAh5t7Es5HwAAAjREAAQAaIwACADRm1kUgAADkM/kM4Gq12qxWq83HLAYAgPebm8EmXQW8Wq02p6enh8P0er0+nFMEAAC7Wa1Wm1rrrK/xTWpcaz0opUQpJeYWAADA7oaTcHMIbwAAiZQy/yeYBUAAgMYIgAAAjZl0EUjf92X4FyT+FRwAQC5+BxAAoDE+AgYAaIwACADQGAEQAKAxky4CGQwXggAAcLvmXIg7KwBGRLyInBnw1VdLVzDdy2dLVzBd5tq//mnpCqb59fHSFUz32w9LVzDdf3/+snQJk/3198ulS5jk9T//Ll3CZI9//GPpEiZ79vz50iVM9vDhw6VLmGzuj0H7CBgAoDECIABAYwRAAIDGCIAAAI0RAAEAGiMAAgA0RgAEAGiMAAgA0BgBEACgMQIgAEBjBEAAgMYIgAAAjREAAQAaIwACADSm9H0/uXHXdfUj1gIAwI76vi9T2x4tufEldV1X1X771H77stYdofalZK09a90Ral9K9trntPcRMABAYwRAAIDGCIAAAI2ZdREIAAD5pDgD2HVdzXjF8VB31voj8l7pnX2fZ6y91hqr1WqzdB0fIuu+HmStPeN+r7VG13U1Wx8fy7bPI/K/ju5z3bOvAv7UMl+hE5H3KumInAeLiKt9Jlv/yVr7RfirpZTzpWvZVdZ9PfD8vD211nj06NGm7/syvNFZr9eHS9f1IbL2l4i8r6P73r9TnAHMbJ/T/+dqn59w75O19lJKrNfrlLVnlbWvZKz7on+nCnyfE6+jn0aKAJj1j9/3fRmGbPXv+zuXXWR+DJlrh11k7OPDmcBsYTDjvh5kfh2N2O/8sncB8LqdleWPv89/6Pe5rvZhft8f0037PWufyXKwztzfWVaWPr6tlBKnp6eHGb8HmOV4/rnZ5/yyd98BzHhQGGzXnukgt11npu/ofE77PXPtsItMfXyQ9czfINPxfFvGmrPYuwC4bZycs3WCzLVnln2/j98pZqw/i+z9JLNsfXw489d1XS2lnGcNghllfp7ue+1+BxAAoDH/A6ytDhVqhr4KAAAAAElFTkSuQmCC'>"
      ],
      "text/plain": [
       "<IPython.core.display.HTML object>"
      ]
     },
     "metadata": {},
     "output_type": "display_data"
    },
    {
     "name": "stdout",
     "output_type": "stream",
     "text": [
      "earth\n"
     ]
    },
    {
     "data": {
      "text/html": [
       "<img src='data:image/png;base64,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'>"
      ],
      "text/plain": [
       "<IPython.core.display.HTML object>"
      ]
     },
     "metadata": {},
     "output_type": "display_data"
    },
    {
     "name": "stdout",
     "output_type": "stream",
     "text": [
      "etopo1\n"
     ]
    },
    {
     "data": {
      "text/html": [
       "<img src='data:image/png;base64,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'>"
      ],
      "text/plain": [
       "<IPython.core.display.HTML object>"
      ]
     },
     "metadata": {},
     "output_type": "display_data"
    },
    {
     "name": "stdout",
     "output_type": "stream",
     "text": [
      "cubhelix\n"
     ]
    },
    {
     "data": {
      "text/html": [
       "<img src='data:image/png;base64,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'>"
      ],
      "text/plain": [
       "<IPython.core.display.HTML object>"
      ]
     },
     "metadata": {},
     "output_type": "display_data"
    },
    {
     "name": "stdout",
     "output_type": "stream",
     "text": [
      "hot\n"
     ]
    },
    {
     "data": {
      "text/html": [
       "<img src='data:image/png;base64,iVBORw0KGgoAAAANSUhEUgAAAoAAAABQCAYAAACJbMQlAAAEGklEQVR4nO3dYW4qNxQGUDvJLjzZR7uPtvuXwMvguX8yUhqlCg8TPDf3HAkpkZjwjTHDx4BJ7b0XAADyeFodAACAx1IAAQCSUQABAJJRAAEAklEAAQCSUQABAJJRAAEAklEAAQCSUQABAJJRAAEAklEAAQCSUQABAJJRAAEAklEAAQCSUQABAJJRAAEAknmZ2bi1Nu4VBACA6/Xe663bThXAUkqpX1ye7nCdo/yNe9xOlJyP2pcoYxplX+tPmTxHueOOkvNR+xJlTKPsa31/pacFP7vttZm+9zZqfSoz5rYGACAcBRAAIBkFEAAgGQUQACAZBRAAIBkFEAAgGQUQACAZBRAAIBkFEAAgGQUQACAZBRAAIBkFEAAgGQUQACAZBRAAIJmX2T8w3i7AAXhAwoGMUspldQj41HQB7L3XewQBAOA6rbWpl/veAgYASEYBBABIRgEEAEim9t5XZwAA4IFuPgO4bdtl2zbLmwAAHmy2g920CnjbtsvpdHrefz6fz88zIQAAuM62bZcxxtTH+G7aeIzxVGsttdYyGwAAgOvtJ+FmKG8AAIHUOv8VzAogAEAyCiAAQDI3LQLpvdf9X5D4V3AAALH4HkAAgGS8BQwAkIwCCACQjAIIAJDMTYtAdvtCEAAAHmtmIe5UAYzsj9UBJvy5OsCEyNmjzpnXbXWCCSbMGlHHPWruUkopf60OMOGf1QEm/L06wM1mvwzaW8AAAMkogAAAySiAAADJKIAAAMkogAAAySiAAADJKIAAAMkogAAAySiAAADJKIAAAMkogAAAySiAAADJKIAAAMkogAAAydTe+80bt9bGHbMAAHCl3nu9dduXlTe+UmttyP54sj9e1NylyL5K1OxRc5ci+yrRs89s7y1gAIBkFEAAgGQUQACAZKYWgQAAEE+IM4CttRFxxfGeO2r+UuKu9I4+5hGzjzHKtm2X1Tl+R9Sx3kXNHnHcxxiltTaizfH3oo15KfGfR4+ce3oV8HeLvEKnlLirpEuJebAo5b9zJtr8iZr9rfyNWuuv1VmuFXWsdx6fjzPGKK+vr5fee91f6JzP5+fVuX5H1PlSStzn0aPP7xBnACM7cvv/qY78gPtK1Oy11nI+n0NmjyrqXImY+21+hyp8P4nn0e8RogBGvfN773W/RMt/9Fcu14i8D5GzwzUizvH9TGC0MhhxrHeRn0dLOXZ/OVwB/Gywotz5R76jv/JZ9v33o+/T/4171DkT5WAdeb6zVpQ5/lGttZxOp+eInwOMcjz/aY7cXw73GcCIB4Xdx+yRDnIfc0b6jM5PGvfI2eEakeb4LuqZv12k4/lHETNHcbgC+NH75hxtEkTOHln0cX//SjFi/iiiz5PIos3x/cxfa23UWn9FLYIRRX6cHj277wEEAEjmX4Qa2EN9ujL2AAAAAElFTkSuQmCC'>"
      ],
      "text/plain": [
       "<IPython.core.display.HTML object>"
      ]
     },
     "metadata": {},
     "output_type": "display_data"
    },
    {
     "name": "stdout",
     "output_type": "stream",
     "text": [
      "cool\n"
     ]
    },
    {
     "data": {
      "text/html": [
       "<img src='data:image/png;base64,iVBORw0KGgoAAAANSUhEUgAAAoAAAABQCAYAAACJbMQlAAAEP0lEQVR4nO3dUXLaSBQF0O7YW8j8SN7/wqB/JmsgPT/RlEORGNS2pMc7p8plB4NyaRpxEZJcW2sFAIA8vu0dAACAbSmAAADJKIAAAMkogAAAySiAAADJKIAAAMkogAAAySiAAADJKIAAAMkogAAAySiAAADJKIAAAMkogAAAySiAAADJKIAAAMkogAAAybyO3Hiapv5ZQQAAuF9rra697VABLKWU0nup72rg8vP195uX9VLqn34XaFl/vf6N30XKutn9fvT/vnHZs8yPZ5lrjy5r9Th9wrIO+5jeuCzkY/To9Z9lDB9dvjEPmXWvZdX/b72Oj4ABAJJRAAEAklEAAQCSUQABAJJRAAEAklEAAQCSUQAB/qZ/fJVdlgUwQAEEDmHsjFZftyyAZ6QAAgAkowACACSjAAIAJKMAAgAkowACACSjAAIAJPM6vIRafzu1ldNcAQAc23ABbK055RYAwIamaRra5uYjYACAZBRAAIBkFEAAgGRqa23vDAAAbGj1FsB5ni/zPF8+MwwAAB8b7WCrjgKe5/lyOp1elp/P5/PLSAgAAO4zz/Ol9z60G9+qG/fev9VaS621jAYAAOB+y0a4EcobAEAgtY6fglkBBABIRgEEAEhm1UEgrbW6/AkSfwoOACAW5wEEAEjGR8AAAMkogAAAySiAAADJrDoIZLEcCAIAwLZGDsQdKoCllFJ6zA74/d+9E6z3/cfeCdaLnP2foNnN9X1Ezm6uby/yfImcPepcL6WUWsZOwuIjYACAZBRAAIBkFEAAgGQUQACAZBRAAIBkFEAAgGQUQACAZBRAAIBkFEAAgGQUQACAZBRAAIBkFEAAgGQUQACAZBRAAIBkXoeXUOsnxNjej70DDIicHQDY33ABbK2FbIDTNHXZtyf79qLmLkX2vUTNHjV3KbLvJXr2kdv7CBgAIBkFEAAgGQUQACCZ2lrbOwMAABsKsQVwmqY+urPjHpbcUfOXMr6T6V6ij3nE7L33Ms/zZe8cj4g61ouo2SOOe++9TNPUo83x96KNeSnxX0ePnHv8NDBfLPIROqXEPUq6lJgri1J+nzPR5k/U7L/KX6+1/tw7y72ijvXC83M7vffy9vZ2aa3V5Y3O+Xx+2TvXI6LOl1Livo4efX6H2AIY2ZHb/7M68hPuI1Gz11rL+XwOmT2qqHMlYu5f8ztU4XsmXke/RogCGPXBb63V5Sta/qO/c7lH5PsQOTvcI+IcX7YERiuDEcd6Efl1tJRj95fDFcBbgxXlwT/yA/2RW9mXfx/9Pv1p3KPOmSgr68jznX1FmePXaq3ldDq9RNwPMMr6/Nkcub8cbh/AiCuFxXX2SCu565yR9tF5pnGPnB3uEWmOL6Ju+VtEWp9fi5g5isMVwGvvm3O0SRA5e2TRx/39O8WI+aOIPk8iizbHly1/0zT1WuvPqEUwosjP06Nndx5AAIBk/gP4+9qGeX0SLwAAAABJRU5ErkJggg=='>"
      ],
      "text/plain": [
       "<IPython.core.display.HTML object>"
      ]
     },
     "metadata": {},
     "output_type": "display_data"
    },
    {
     "name": "stdout",
     "output_type": "stream",
     "text": [
      "copper\n"
     ]
    },
    {
     "data": {
      "text/html": [
       "<img src='data:image/png;base64,iVBORw0KGgoAAAANSUhEUgAAAoAAAABQCAYAAACJbMQlAAAEp0lEQVR4nO3dzXraRhQG4JnYq3aTbivlPnJ5uVeYrrvqjkwXtVxMMRaIIh2f933y4/Ag5dNoEJ8FwrW1VgAAyOPL2gEAAHgsBRAAIBkFEAAgGQUQACAZBRAAIBkFEAAgGQUQACAZBRAAIBkFEAAgGQUQACAZBRAAIBkFEAAgGQUQACAZBRAAIBkFEAAgGQUQACCZ5yULD8PQ7xUEAID5Wmv11mUXFcBJLaWUWsuUotbp9lpefr3c5+W2N/c5t2w9uv90e329/7n1v79sPfm/3mY4t/73l52xjQvXdSnrteN1Kev9x+uDnEf3u7Rv52/z/cZrzr49n/PMeJW5Yz9njtxvvObs2/M5/zte99zGe479nGNHmPl1sq5rjkNrjNelx8Lcdc15LFze5uv27dzxuvxYmDdHrnm8v5dz7v54VV//+Hcjjjf63fscrfyq+8xd/60Zzi17a4Zzyz46w/JxqN9/lCW8BAwAkIwCCACQjAIIAJCMAggAkIwCCACQjAIIAJCMAggAkIwCCACQjAIIAJCMAggAkIwCCACQjAIIAJCMAggAkIwCCACQzPM9VtJLKaX3f/5+veHNFwAAbMTiAthaq/cIAgDAPMMwLDrL5iVgAIBkFEAAgGQUQACAZGprbe0MAAA80M1nAMdxPIzjeLhnGAAAPra0g910FfA4jofdbvc0fb3f75+WhAAAYJ5xHA+990Vv47tp4d77l1prqbWWpQEAAJhvOgm3hPIGABBIrcs/glkBBABIRgEEAEjmpotAWmt1+hEkfhQcAEAsPgcQACAZLwEDACSjAAIAJKMAAgAkc9NFIJPpQhAAAB5ryYW4iwpgZL9//WXtCDcbfvt17Qg3M+6PFzV3KebLWqJmjzxfvgYd81JKKbKvon7/sWh5LwEDACSjAAIAJKMAAgAkowACACSjAAIAJKMAAgAkowACACSjAAIAJKMAAgAkowACACSjAAIAJKMAAgAkowACACSjAAIAJPO8doC1/PHnX2tHuFnk7ADA+hYXwNZavUeQRxuGocv+eLI/XtTcpci+lqjZo+YuRfa1RM++ZHkvAQMAJKMAAgAkowACACRTW2trZwAA4IFCnAEchqEvfbPjGqbcUfOXsvxNpmuJPuYRs/feyziOh7VzXCPqWE+iZo847r33MgxDjzbHj0Ub81LiP49uOffmPwYm8hU6pcS9SrqUmAeLUt7OmWjzJ2r2l/LXa60/184yV9Sxnnh8Pk7vvXz79u3QWqvTNzr7/f5p7VzXiDpfSon7PLr1+R3iDGBkW27/n9WWH3AfiZq91lr2+33I7FFFnSsRc7/M71CF7zPxPPr/CFEAo+781lqdfkfLv/XvXOaIvA2Rs8McEef4dCYwWhmMONaTyM+jpWy7v2yuAJ4brCg7f8s7+iPnsk//3vo2vTfuUedMlIN15PnOuqLM8VO11rLb7Z4ivg8wyvH8s9lyf9ncewAjHhQmp9kjHeROc0Z6j85nGvfI2WGOSHN8EvXM3yTS8fxUxMxRbK4AnjpuztEmQeTskUUf9+PvFCPmjyL6PIks2hyfzvwNw9BrrT+jFsGIIj9Ot57d5wACACTzN4nS1zEOqMA5AAAAAElFTkSuQmCC'>"
      ],
      "text/plain": [
       "<IPython.core.display.HTML object>"
      ]
     },
     "metadata": {},
     "output_type": "display_data"
    },
    {
     "name": "stdout",
     "output_type": "stream",
     "text": [
      "gray\n"
     ]
    },
    {
     "data": {
      "text/html": [
       "<img src='data:image/png;base64,iVBORw0KGgoAAAANSUhEUgAAAoAAAABQCAYAAACJbMQlAAAEBUlEQVR4nO3d3U7jOhQGUHvgFeAm4f0frPUVz9DxuZlInA4jOg0Te3evJSEKUtMP102/5o/aWisAAOTxY3QAAACOpQACACSjAAIAJKMAAgAkowACACSjAAIAJKMAAgAkowACACSjAAIAJKMAAgAkowACACSjAAIAJKMAAgAkowACACSjAAIAJKMAAgAk87znzsuy9O8KAgDA7Vpr9d777iqAm1rrb7evv9/6u4jLeuSsHttjH7WskVlnG4tZlxUp66zLmi3PrMuKlHXUsj7+fA+7gAEAklEAAQCSUQABAJJRAAEAklEAAQCSUQABAJJRAAEAklEAgSnsvabVv1oWwCNSAAEAklEAAQCSUQABAJJRAAEAklEAAQCSUQABAJJ5/o6F9N4/vQ0AwHx2F8DWmgtuAQAcaFmWXVvc7AIGAEhGAQQASEYBBABIprbWRmcAAOBAd28BXNf1sq7r5TvDAADwtb0d7K6zgNd1vZxOp6ft9vl8ftoTAgCA26zreum97zqM7647995/1FpLrbXsDQAAwO22jXB7KG8AAIHUuv8SzAogAEAyCiAAQDJ3nQTSWqvbvyDxr+AAAGJxHUAAgGTsAgYASEYBBABIRgEEAEjmrpNANtuJIAAAHGvPibi7CmBkLy8voyPcTfYxXl9fR0e4S+Qxl30Mc/14so8Rda6Xsv9i0HYBAwAkowACACSjAAIAJKMAAgAkowACACSjAAIAJKMAAgAkowACACSjAAIAJKMAAgAkowACACSjAAIAJKMAAgAkowACACTzPDrAKO/v76Mj3C1ydgBgvN0FsLVWvyPI0ZZl6bIfT/bjRc1diuyjRM0eNXcpso8SPfue+9sFDACQjAIIAJCMAggAkExtrY3OAADAgUJsAVyWpe892HGELXfU/KXsP8h0lOhjHjF7772s63oZneNvRB3rTdTsEce9916WZenR5vhH0ca8lPjvozPnnv4yMJHP0Ckl7lnSpcRcWZTy/zkTbf5Ezf6r/PVa68/RWW4Vdaw3Xp/H6b2Xt7e3S2utbh90zufz0+hcfyPqfCkl7vvo7PM7xBbAyGZu/49q5hfcV6Jmr7WW8/kcMntUUedKxNy/5neowvdIvI/+GyEKYNQnv7VWt69o+Wf/5HKLyH9D5Oxwi4hzfNsSGK0MRhzrTeT30VLm7i/TFcDPBivKkz/zE/2Vz7JvP8/+N/1p3KPOmSgr68jznbGizPFrtdZyOp2eIh4HGGV9/mhm7i/THQMYcaWwuc4eaSV3nTPSMTqPNO6Rs8MtIs3xTdQtf5tI6/NrETNHMV0BvPaxOUebBJGzRxZ93D9+UoyYP4ro8ySyaHN82/K3LEuvtf6MWgQjivw6nT276wACACTzHy/I1yHCngRPAAAAAElFTkSuQmCC'>"
      ],
      "text/plain": [
       "<IPython.core.display.HTML object>"
      ]
     },
     "metadata": {},
     "output_type": "display_data"
    },
    {
     "name": "stdout",
     "output_type": "stream",
     "text": [
      "split\n"
     ]
    },
    {
     "data": {
      "text/html": [
       "<img src='data:image/png;base64,iVBORw0KGgoAAAANSUhEUgAAAoAAAABQCAYAAACJbMQlAAAEcElEQVR4nO3dYVLiShQG0O7RXSRuQDfJJp0NSC+D6fdDU08Z1JA4Jtd7ThVV2rHDpWnCR6CxttYKAAB5/Nq6AAAAvpcACACQjAAIAJCMAAgAkIwACACQjAAIAJCMAAgAkIwACACQjAAIAJCMAAgAkIwACACQjAAIAJCMAAgAkIwACACQjAAIAJCMAAgAkMztms7DMPSvKgQAgPlaa3Vp31UBsJRSDodeev/7Ukq52P686bo+1+/r+vbn6/ma9vl93vv7t7f32j7z9rWu/f9t69s/7vN8n/19ea99SR/7yryveuHyXvtH2+zLvi621/rmUmp93n7W/tG2Re0Xti1uP9t2bfu1fd60ffT3M/rMbn/Z9iXttV687z9qX7KvejiUNbwFDACQjAAIAJCMAAgAkIwACACQjAAIAJCMAAgAkIwACACQjAAIAJCMAAgAkIwACACQjAAIAJCMAAgAkIwACACQjAAIAJBMba0t7jwMQ//CWgAAmKm1Vpf2vd3yygEAuN7ak3DeAgYASEYABABIRgAEAEhm1SIQAADiWXwGcBzH0ziOp68sBgCAz63NYItWAY/jeHp6erqZfj4ejzdrigAAYJ5xHE+991Uf41vUuff+q9Zaaq1lbQEAAMw3nYRbQ3gDAAik1vVfwSwAAgAkIwACACSzaBFIa61O/4LEv4IDAIjF9wACACTjLWAAgGQEQACAZARAAIBkFi0CmUwLQQAA+F5rFuKuCoCllHI4xMyAj4+PW5ew2OPj761LWOz377i1lxJ1zkStu5RS4s6X+60LWOFh6wIWilp3KaXc38edMfcPcUf+IXDt9XBY1d9bwAAAyQiAAADJCIAAAMkIgAAAyQiAAADJCIAAAMkIgAAAyQiAAADJCIAAAMkIgAAAyQiAAADJCIAAAMkIgAAAyQiAAADJ1Nba4s7DMPQvrAUAgJlaa3Vp39str3xLwzB0tX8/tX+/qHWXovatRK09at2lqH0r0Wtf099bwAAAyQiAAADJCIAAAMmsWgQCAEA8Ic4ADsPQI644nuqOWn8pcVd6Rx/ziLX33ss4jqet67hG1LGeRK094rj33sswDD3aHH8t2piXEv95dM91r14F/K9FXqFTStxV0qXEPFiU8nbORJs/UWt/CX+91vpn61rmijrWE4/P79N7L3d3d6fWWp1e6ByPx5ut67pG1PlSStzn0b3P7xBnACPbc/r/qfb8gPtM1NprreV4PIasPaqocyVi3S/zO1Tg+0k8j/4bIQJg1Du/tVanS7T69/7KZY7ItyFy7TBHxDk+nQmMFgYjjvUk8vNoKfvOL7sLgJcGK8qdv+c7+jOXap9+3/ttem/co86ZKAfryPOdbUWZ4+dqreXp6ekm4ucAoxzPf5o955fdfQYw4kFhcl57pIPceZ2RPqPzk8Y9cu0wR6Q5Pol65m8S6Xh+LmLNUewuAJ57nZyjTYLItUcWfdxfv1KMWH8U0edJZNHm+HTmbxiGXmv9EzUIRhT5cbr32n0PIABAMv8BmYrkFaRs/Z8AAAAASUVORK5CYII='>"
      ],
      "text/plain": [
       "<IPython.core.display.HTML object>"
      ]
     },
     "metadata": {},
     "output_type": "display_data"
    },
    {
     "name": "stdout",
     "output_type": "stream",
     "text": [
      "polar\n"
     ]
    },
    {
     "data": {
      "text/html": [
       "<img src='data:image/png;base64,iVBORw0KGgoAAAANSUhEUgAAAoAAAABQCAYAAACJbMQlAAAEJUlEQVR4nO3dbVLbPBgFUKmwC5sNtPtfStkA0TJSvT9az/BCW1ILLD8858xkpqQTc6Mozo2/qK21AgBAHl9mBwAA4FgKIABAMgogAEAyCiAAQDIKIABAMgogAEAyCiAAQDIKIABAMgogAEAyCiAAQDIKIABAMgogAEAyCiAAQDIKIABAMgogAEAyCiAAQDL3Iw9elqW/VxAAAG7XWqt7HztUAH/qpdby6lbK6/v+dv+ex3z0/Z/9d0ca8yOewxmfd9ZMRy6r9P769qf7//Z/M5cV6XefMdMRy8o6Hlmf3wGZtlXYXnYBAwAkowACACSjAAIAJKMAAgAkowACACSjAAIAJKMAAsAs22U+4GAKIFPU0QsYAQC7KYAAAMkogAAAySiAAADJKIAAAMkogAAAySiAAADJ3I8vopbeXcoIACCK4QLYWnNFNwCAAy3LMrTpzS5gAIBkFEAAgGQUQACAZGprbXYGAAAOtHsL4Lqu13Vdr+8ZBgCAt412sF1nAa/ren16errb/n25XO5GQgAAcJt1Xa+996HD+HY9uPf+pdZaaq1lNAAAALfbNsKNUN4AAAKpdfwSzAogAEAyCiAAQDK7TgJprdXtT5D4U3AAALG4DiAAQDJ2AQMAJKMAAgAkowACACSz6ySQzXYiCAAAxxo5EXeoAP4UswN+/To7wX7fvs1OsJ9xP54xn+T799kJ9nt8nJ1gH2M+h3GfYvQSLHYBAwAkowACACSjAAIAJKMAAgAkowACACSjAAIAJKMAAgAkowACACSjAAIAJKMAAgAkowACACSjAAIAJKMAAgAkowACACRzP76IOr6ICR4fZyfYL3J2AGC+4QLYWgvZAJdl6bIfT/bjRc1diuyzRM0eNXcpss8SPfvI4+0CBgBIRgEEAEhGAQQASKa21mZnAADgQCG2AC7L0kcPdpxhyx01fynjB5nOEn3MI2bvvZd1Xa+zc/yLqGO9iZo94rj33suyLD3aHH8u2piXEv9z9My53+EyMB8r8hk6pcQ9S7qUmCuLUv4/Z6LNn6jZf5W/Xmv9MTvLraKO9cb78zi99/Lw8HBtrdXti87lcrmbnetfRJ0vpcT9HD37/A6xBTCyM7f/z+rMb7i3RM1eay2XyyVk9qiizpWIuX/N71CF7zPxOfoxQhTAqC9+a61ut2j5z/7N5RaRn0Pk7HCLiHN82xIYrQxGHOtN5M/RUs7dX05XAH83WFFe/DO/0G/5Xfbt57M/pz+Ne9Q5E2VlHXm+M1eUOf5SrbU8PT3dRTwOMMr6/LM5c3853TGAEVcKm5fZI63kXuaMdIzOZxr3yNnhFpHm+Cbqlr9NpPX5SxEzR3G6AvjS8+YcbRJEzh5Z9HF//k0xYv4oos+TyKLN8W3L37Isvdb6I2oRjCjy+/Ts2V0HEAAgmf8A2jnbEyu+bq8AAAAASUVORK5CYII='>"
      ],
      "text/plain": [
       "<IPython.core.display.HTML object>"
      ]
     },
     "metadata": {},
     "output_type": "display_data"
    },
    {
     "name": "stdout",
     "output_type": "stream",
     "text": [
      "red2green\n"
     ]
    },
    {
     "data": {
      "text/html": [
       "<img src='data:image/png;base64,iVBORw0KGgoAAAANSUhEUgAAAoAAAABQCAYAAACJbMQlAAAEJ0lEQVR4nO3dbXLaPBgFUKnJLuxsoN3/UpoNgJZB1R+NZ1Le9A2xE8sPzzkdZlo6kGshzMVfqa21AgBAHt9GBwAAYF8KIABAMgogAEAyCiAAQDIKIABAMgogAEAyCiAAQDIKIABAMgogAEAyCiAAQDIKIABAMgogAEAyCiAAQDIKIABAMgogAEAyCiAAQDKPWx48TVP/rCAAANyutVbXPnZTASyllF5KKbX+9/bR+9c85qvvv/efHWnM91iGIy531kw7Pld/48+/7v+//xv5XJF+9hEz7fFcWccj6/Ltkull1baWXcAAAMkogAAAySiAAADJKIAAAMkogAAAySiAAADJKIAAMMhymQ/YmwLIGHXjBYwAgNUUQACAZBRAAIBkFEAAgGQUQACAZBRAAIBkFEAAgGQetz5BLaWU3v/cAAA4vM0FsLXmgm4AADuapmnTlje7gAEAklEAAQCSUQABAJKprbXRGQAA2NHqLYDzPF/meb58ZhgAAN63tYOtOgt4nufL6XR6WP5+Pp8ftoQAAOA28zxfeu+bDuNb9eDe+7daa6m1lq0BAAC43bIRbgvlDQAgkFq3X4JZAQQASEYBBABIZtVJIK21uvwKEr8KDgAgFtcBBABIxi5gAIBkFEAAgGQUQACAZFadBLJYTgQBAGBfW07E3VQASyklbAP8/n10gvV+/BidYD3jvj9jPsTP8nN0hNWey/PoCKsY8zGM+yAbr8FiFzAAQDIKIABAMgogAEAyCiAAQDIKIABAMgogAEAyCiAAQDIKIABAMgogAEAyCiAAQDIKIABAMgogAEAyCiAAQDIKIABAMo9bn6B+RooRnp9HJ1gvcnYAYLjNBbC1FrIDTtPUZd+f7PuLmrsU2UeJmj1q7lJkHyV69i2PtwsYACAZBRAAIBkFEAAgmdpaG50BAIAdhdgCOE1T33qw4whL7qj5S9l+kOko0cc8Yvbee5nn+TI6x0dEHetF1OwRx733XqZp6tHm+GvRxryU+J+jR869+Szgrxb5DJ1S4p4lXUrMlUUpf8+ZaPMnavaX8tdrrb9GZ7lV1LFeeH/up/denp6eLq21unzROZ/PD6NzfUTU+VJK3M/Ro8/vEFsAIzty+79XR37DvSdq9lprOZ/PIbNHFXWuRMz9Mr9DFb574nP0a4QogFFf/NZaXW7R8h/9m8stIi9D5Oxwi4hzfNkSGK0MRhzrReTP0VKO3V8OVwDfGqwoL/6RX+j3vJV9+ffRl+lf4x51zkRZWUee74wVZY5fq7WW0+n0EPE4wCjr83tz5P5yuGMAI64UFtfZI63krnNGOkbnnsY9cna4RaQ5voi65W8RaX1+LWLmKA5XAK+9bs7RJkHk7JFFH/fX3xQj5o8i+jyJLNocX7b8TdPUa62/ohbBiCK/T4+e3XUAAQCS+Q3W9dsTq+3RRwAAAABJRU5ErkJggg=='>"
      ],
      "text/plain": [
       "<IPython.core.display.HTML object>"
      ]
     },
     "metadata": {},
     "output_type": "display_data"
    },
    {
     "name": "stdout",
     "output_type": "stream",
     "text": [
      "paired\n"
     ]
    },
    {
     "data": {
      "text/html": [
       "<img src='data:image/png;base64,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'>"
      ],
      "text/plain": [
       "<IPython.core.display.HTML object>"
      ]
     },
     "metadata": {},
     "output_type": "display_data"
    },
    {
     "name": "stdout",
     "output_type": "stream",
     "text": [
      "categorical\n"
     ]
    },
    {
     "data": {
      "text/html": [
       "<img src='data:image/png;base64,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'>"
      ],
      "text/plain": [
       "<IPython.core.display.HTML object>"
      ]
     },
     "metadata": {},
     "output_type": "display_data"
    },
    {
     "name": "stdout",
     "output_type": "stream",
     "text": [
      "haxby\n"
     ]
    },
    {
     "data": {
      "text/html": [
       "<img src='data:image/png;base64,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'>"
      ],
      "text/plain": [
       "<IPython.core.display.HTML object>"
      ]
     },
     "metadata": {},
     "output_type": "display_data"
    },
    {
     "name": "stdout",
     "output_type": "stream",
     "text": [
      "jet\n"
     ]
    },
    {
     "data": {
      "text/html": [
       "<img src='data:image/png;base64,iVBORw0KGgoAAAANSUhEUgAAAoAAAABQCAYAAACJbMQlAAAEWElEQVR4nO3d0W3bSBQF0Dd2uiDTQFJP6llvPVtP0oA0ZdizHw4Br9ZBFNIW+fzOAQLLAShejUbUFaWRW+89AACo427vAAAA3JYCCABQjAIIAFCMAggAUIwCCABQjAIIAFCMAggAUIwCCABQjAIIAFCMAggAUIwCCABQjAIIAFCMAggAUIwCCABQjAIIAFCMAggAUMynLRtP0zTeKggAANfrvbe1224qgM8eIqLF88nEu4vLl79vufxBrqu1t939njc96773zPTO+2htxF08RYvnn+93+SnuYvzv8m329/r/3+Z2/37ftx+P241BGyPiKSJGPP98r8u32Mev9rdnjuL7Xju9jnrT3/u6HmKbu43bAwCQjAIIAFCMAggAUIwCCABQjAIIAFCMAggAUIwCCABQjAIIAFCMAggAUIwCCABQjAIIAFCMAggAUIwCCABQjAIIAFDMp+1X8bD9KioZEfG4dwg+KtMLgGtsLoC99/YWQQAAuM40TWPL9t4CBgAoRgEEAChGAQQAKKb13vfOAADADa0+AzjP8+M8zxYcAgDc2NYOtmoV8DzPj6fT6X65fD6f77eEAADgOvM8P44xNn2Mb9XGY4y71lq01mJrAAAArrechNtCeQMASKS17V/BrAACABSjAAIAFLNqEUjvvS1/gsSfggMAyMX3AAIAFOMtYACAYhRAAIBiFEAAgGJWLQJZLAtBAAC4rS0LcTcVwGd/bb+KXXzbO8B6X77unWC9xMOeNfuXr9/3jrDat/hn7wirZc7+9fuPvSOsk3fIU2fPOl0iUg97/L1xe28BAwAUowACABSjAAIAFKMAAgAUowACABSjAAIAFKMAAgAUowACABSjAAIAFKMAAgAUowACABSjAAIAFKMAAgAUowACABTTeu+rN56mabxhFgAArtR7b2u3/bTnzvc0TdOQ/fZkv72suSNk30vW7FlzR8i+l+zZt2zvLWAAgGIUQACAYhRAAIBiNi0CAQAgnxRnAKdpGhlXHC+5s+aPyLvSO/uYZ8w+xoh5nh/3zvEnso71Imv2jOM+xohpmka2Of5StjGPyP88euTcm1cBv7fMK3Qi8q6Sjsh5sIj475zJNn+yZv9Z/kZr7WnvLNfKOtYLj8/bGWPE58+fH3vvbXmhcz6f7/fO9SeyzpeIvM+jR5/fKc4AZnbk9v9RHfkB9ztZs7fW4nw+p8yeVda5kjH3z/mdqvB9JJ5H30eKApj1zu+9t+VftvxHf+Vyjcy3IXN2uEbGOb6cCcxWBjOO9SLz82jEsfvL4Qrga4OV5c4/8h39O69lX34/+m361bhnnTNZDtaZ5zv7yjLHL7XW4nQ63Wf8HGCW4/lHc+T+crjPAGY8KCwus2c6yF3mzPQZnY807pmzwzUyzfFF1jN/i0zH80sZM2dxuAJ46WVzzjYJMmfPLPu4v3ylmDF/FtnnSWbZ5vhy5m+aptFae8paBDPK/Dg9enbfAwgAUMy/cvla4d+h9RUAAAAASUVORK5CYII='>"
      ],
      "text/plain": [
       "<IPython.core.display.HTML object>"
      ]
     },
     "metadata": {},
     "output_type": "display_data"
    },
    {
     "name": "stdout",
     "output_type": "stream",
     "text": [
      "panoply\n"
     ]
    },
    {
     "data": {
      "text/html": [
       "<img src='data:image/png;base64,iVBORw0KGgoAAAANSUhEUgAAAoAAAABQCAYAAACJbMQlAAAFJElEQVR4nO3dQW7jZBgG4O9PKyE2sAa7OySGDeIcbDkBHIBTIQ7BhlMgzWIWSI3XaNYzqVlMPEozSevamdpf/+eRotiO7bx1/yZvk7gtXdcFAAD12CwdAACA56UAAgBURgEEAKiMAggAUBkFEACgMgogAEBlFEAAgMoogAAAlVEAAQAqowACAFRGAQQAqIwCCABQGQUQAKAyCiAAQGUUQACAyiiAAACVuZ6zcdM0/aWCAAAwXtd1Zeq2swpgRMT116+jlBJlUyI25eN02ZSIEdOl7Lc7nL7o/iLKJqKU/fUmIg6mh9vmrPfJuvvpeMJ6+y/jwcvJdTYj1zuz/pj7/XiJff79cLu37OC2KcsO9zlr2ZnrT7KPyXji+sH7emydOD3/SZ44ui4n1j2134eWP2HdUk7PH25zbv7esRo5f5jh3PyH6bso8S5KvP94vTmaL/EuNkfzZ5f37w+WnVvv/D5P3XeJXUR/FxH9/vru4Lq/Pz9mnUfnT+3ngXX6/sPNsV/tEpdL7uv4cvfA/JjpS6x36ra7o+lTy45vf2x+yjZT9rmCZcMwXOPl+Fs/ZgiNGTpPHbpjpn+NebwFDABQGQUQAKAyCiAAQGUUQACAyiiAAACVUQABACqjAAIAVEYBBACojAIIAFAZBRAAoDIKIABAZRRAAIDKKIAAAJVRAAEAKnM9dwfv3766RA4AAJ7J7ALYdV25RBAAAMZpmqafs723gAEAKqMAAgBURgEEAKhM6bpu6QwAADyjya8Atm27a9t2d8kwAAA8bm4Hm3QWcNu2u9vb26thervdXs0JAQDAOG3b7vq+n/Uxvkkb932/KaVEKSXmBgAAYLzhRbg5lDcAgERKmf8nmBVAAIDKKIAAAJWZdBJI13Vl+Bck/hUcAEAu/g4gAEBlvAUMAFAZBRAAoDIKIABAZSadBDIYTgQBAOB5zTkRd1YBjIi4/ur13F0s4rtfvl86wmQ//rx0gul+eLV0gulumqUTTPPtl0snmO6nL/5YOsJk37z9fekI0/3z39IJpvlr6QAz/Ll0gOn+fbN0gun+XjrADL/N3N5bwAAAlVEAAQAqowACAFRGAQQAqIwCCABQGQUQAKAyCiAAQGUUQACAyiiAAACVUQABACqjAAIAVEYBBACojAIIAFAZBRAAoDKl67rJGzdN018wCwAAI3VdV6Zue73knS+paZpe9ucn+/PLmjtC9qVkzZ41d4TsS8mefc723gIGAKiMAggAUBkFEACgMrNOAgEAIJ8UrwA2TdNnPON4yJ01f0TeM72zH/OM2fu+j7Ztd0vneIqsx3qQNXvG4973fTRN02cb44eyHfOI/M+ja849+yzgzy3zGToRec+Sjsj5YBFxf8xkGz9Zs+/LX19KuVs6y1hZj/XAz+fz6fs+bm5udl3XleEXne12e7V0rqfIOl4i8j6Prn18p3gFMLM1t/+Xas0/cI/Jmr2UEtvtNmX2rLKOlYy59+M7VeF7STyPfh4pCmDWb37XdWW4ZMu/9t9cxsj8NWTODmNkHOPDK4HZymDGYz3I/Dwase7+sroCeOpgZfnmr/kb/ZhT2Yf5tX9N54571jGT5cE683hnWVnG+LFSStze3l5l/Bxglsfzl2bN/WV1nwHM+KAwOM6e6UHuOGemz+i8pOOeOTuMkWmMD7K+8jfI9Hh+LGPmLFZXAI8dNudsgyBz9syyH/fD3xQz5s8i+zjJLNsYH175a5qmL6XcZS2CGWX+OV17dn8HEACgMv8DvxEzflAgu04AAAAASUVORK5CYII='>"
      ],
      "text/plain": [
       "<IPython.core.display.HTML object>"
      ]
     },
     "metadata": {},
     "output_type": "display_data"
    },
    {
     "name": "stdout",
     "output_type": "stream",
     "text": [
      "no_green\n"
     ]
    },
    {
     "data": {
      "text/html": [
       "<img src='data:image/png;base64,iVBORw0KGgoAAAANSUhEUgAAAoAAAABQCAYAAACJbMQlAAAE4klEQVR4nO3dvXLjVBgG4O8k2zJcgJSZ7bdluAUKbgJ67okeboULoGEGJj4VDQUdax+KjQaviTeOlLX05TzPjCaOfuI38rH9RracUmsNAAD6cbN2AAAArksBBADojAIIANAZBRAAoDMKIABAZxRAAIDOKIAAAJ1RAAEAOqMAAgB0RgEEAOiMAggA0BkFEACgMwogAEBnFEAAgM4ogAAAnVEAAQA682bJxsMwtJcKAgDA5WqtZe62iwpgRMTb71tEiQ/HEqevx5cvWfap9eduN10+neKCeZesM3e7M+u0iGjlv6+L503fv8C8cm66WWH+mXVvyuM391PTuWHy0tss2e5a0/RywHNzXmsf3sQhbuL9w/TP0eX3cXtm/vl5H+bfnpl/bv3/X9/H80vsI9ohIh6mdoiI/dHlwyPLp8v7J5afrHd2+TTvkSytHd25H6ZDbGtePFyOo/mn8z617LnrL7me534/d9mS65l7+Vo/43Ta0rLDyfTYvEuWXbrOM5eXKf9MXgIGAOiMAggA0BkFEACgMwogAEBnFEAAgM4ogAAAnVEAAQA6owACAHRGAQQA6IwCCADQGQUQAKAzCiAAQGcUQACAziiAAACdebP0B/z+Y3mJHGxYe5gAgNdhcQGstWqAAABXNAzDomMzXgIGAOiMAggA0BkFEACgM6XWunYGAACuaPYRwHEc9+M47l8yDAAAT1vawWadBTyO4/7+/v52urzb7W6XhAAA4DLjOO5ba4vexjdr49baTSklSimxNAAAAJebDsItobwBACRSyvKPYFYAAQA6owACAHRm1kkgtdYy/QsS/woOACAXnwMIANAZLwEDAHRGAQQA6IwCCADQmVkngUymE0EAALiuJSfiLiqAERFvv0vaAb9ZO8B8f71dO8F8X75bO8F8X3+xdoJ5vlo7wALfxk9rR5jt3d8/rB1hvl/+XDvBPH+sHWCB39YOsMCvawdY4Oe1A8y39CNYvAQMANAZBRAAoDMKIABAZxRAAIDOKIAAAJ1RAAEAOqMAAgB0RgEEAOiMAggA0BkFEACgMwogAEBnFEAAgM4ogAAAnVEAAQA6U2qtszcehqG9YBYAAC5Uay1zt32z5pWvaRiGJvv1yX59WXNHyL6WrNmz5o6QfS3Zsy/Z3kvAAACdUQABADqjAAIAdGbRSSAAAOST4gjgMAwt4xnHU+6s+SPynumdfZ9nzN5ai3Ec92vneI6s+3qSNXvG/d5ai2EYWrYxfizbPo/I/zy65dyLzwL+3DKfoROR9yzpiJwPFhEfj5ls4ydr9ofy10oph7WzXCrrvp64f15Pay3u7u72tdYy/aGz2+1u1871HFnHS0Te59Gtj+8URwAz23L7f622fId7StbspZTY7XYps2eVdaxkzP0wvlMVvtfE8+jnkaIAZr3xa61lmrLl3/pfLpfI/Dtkzg6XyDjGpyOB2cpgxn09yfw8GrHt/rK5AvjYzspy42/5hn7KY9mn77f+O53b71nHTJYH68zjnXVlGeOnSilxf39/m/F9gFkez1+bLfeXzb0HMOODwuQ0e6YHudOcmd6j85r2e+bscIlMY3yS9cjfJNPj+amMmbPYXAE8ddycsw2CzNkzy77fj/9SzJg/i+zjJLNsY3w68jcMQyulHLIWwYwy30+3nt3nAAIAdOZf4IIh54DMEpIAAAAASUVORK5CYII='>"
      ],
      "text/plain": [
       "<IPython.core.display.HTML object>"
      ]
     },
     "metadata": {},
     "output_type": "display_data"
    },
    {
     "name": "stdout",
     "output_type": "stream",
     "text": [
      "wysiwyg\n"
     ]
    },
    {
     "data": {
      "text/html": [
       "<img src='data:image/png;base64,iVBORw0KGgoAAAANSUhEUgAAAoAAAABQCAYAAACJbMQlAAAEhklEQVR4nO3dMZIbRRQG4NfavQAB0YwLCBxTBRmRixNwBCJfgptACtegiDiE09WQcAW0Q+CdKrNlyvL0Wq237/uqusobtPxrtjX6NVJr27IsAQBAHYfRAQAAuCwFEACgGAUQAKAYBRAAoBgFEACgGAUQAKAYBRAAoBgFEACgGAUQAKAYBRAAoBgFEACgGAUQAKAYBRAAoBgFEACgGAUQAKAYBRAAoJjbnsnTNK1PFQQAgPMty9L2zu0qgBERr+L7h5sZM9Z2E/eHQ8doXfPXQ3t7HXXUaGNHaxGHgaMNvv/DR6wRcd8xeuefIuKfYaPF/dCHX/bReuev8XYJjRo9S9foG3GIONwOHDcRh0PHaE8wPz7NA+vM22hftehx6JoNAEA6CiAAQDEKIABAMQogAEAxCiAAQDEKIABAMQogAEAxCiAAQDEKIABAMQogAEAxCiAAQDEKIABAMQogAEAxCiAAQDG3vTfwR/z+FDn2WyPi9DC4OIcfAPLpLoDLsrSnCAIAwHmmaVp75nsLGACgGAUQAKAYBRAAoJi2LMvoDAAAXNDuK4DzPJ/mebb5EwDgwno72K5dwPM8n+7u7m62fx+Px5ueEAAAnGee59O6rl0f49s1eV3XQ2stWmvRGwAAgPNtF+F6KG8AAIm01v8VzAogAEAxCiAAQDG7NoEsy9K2P0HiT8EBAOTiewABAIrxFjAAQDEKIABAMQogAEAxuzaBbLaNIAAAXFbPRtyuAhgR8Spe9d7EEG9e/jo6wm5//TiNjrDb19+OTrDfZ9+MTrDT53+OTrDbF/HT6Ai7vR4doMN3f49OsNNvowN0+GV0gA4//Dw6wX6vX45OsFv7su9LWLwFDABQjAIIAFCMAggAUIwCCABQjAIIAFCMAggAUIwCCABQjAIIAFCMAggAUIwCCABQjAIIAFCMAggAUIwCCABQjAIIAFBMW5Zl9+RpmtYnzAIAwJmWZWl7596O/M9HmqZplf3yZL+8rLkjZB8la/asuSNkHyV79p753gIGAChGAQQAKEYBBAAopmsTCAAA+aS4AjhN05pxx/GWO2v+iLw7vbMf84zZ13WNeZ5Po3N8jKzHepM1e8bjvq5rTNO0Zlvj78p2zCPyP49ec+7uXcCfWuYdOhF5d0lH5DxZRPx3zWRbP1mzP5S/tbV2PzrLubIe643H5+Ws6xovXrw4LcvSthc6x+PxZnSuj5F1vUTkfR699vWd4gpgZtfc/p+ra37AfUjW7K21OB6PKbNnlXWtZMz9sL5TFb7nxPPop5GiAGb95S/L0raRLf+1v3I5R+b7kDk7nCPjGt+uBGYrgxmP9Sbz82jEdfeXqyuA7ztYWX751/yL/pD3Zd9+vvb79H/HPeuayXKyzrzeGSvLGn+stRZ3d3c3GT8HmOV8/txcc3+5us8AZjwpbB5nz3SSe5wz02d0ntNxz5wdzpFpjW+yXvnbZDqfP5YxcxZXVwAfe7c5Z1sEmbNnlv24v/tKMWP+LLKvk8yyrfHtyt80TWtr7T5rEcwo8+P02rP7HkAAgGL+BcebwcokvtuPAAAAAElFTkSuQmCC'>"
      ],
      "text/plain": [
       "<IPython.core.display.HTML object>"
      ]
     },
     "metadata": {},
     "output_type": "display_data"
    },
    {
     "name": "stdout",
     "output_type": "stream",
     "text": [
      "seis\n"
     ]
    },
    {
     "data": {
      "text/html": [
       "<img src='data:image/png;base64,iVBORw0KGgoAAAANSUhEUgAAAoAAAABQCAYAAACJbMQlAAAExklEQVR4nO3dTW7bVhQG0Pvs7KBD0kAnXUGAot1Ix11TgW4io26ioy6iA4tb6KSQXgYxW9vxjywqIq/vOQARhSapT9ST9IkS7TZNUwAAUMfV2gEAALgsBRAAoBgFEACgGAUQAKAYBRAAoBgFEACgGAUQAKAYBRAAoBgFEACgGAUQAKAYBRAAoBgFEACgGAUQAKAYBRAAoBgFEACgGAUQAKCYD0tWHoahnysIAADHm6apnbruogIYEfEpvhxGbC9MS39+jm0ccx0XuZ6lAbayQ7dyx20l56VuS5Z9muS29hZxiBaHiNjH/5dfmvdl/tfzDtHulj/Xdl6f93AbD6/j6yzn2E6LPk/9y79PzXsw/9l5V88u99/8I+b1aHG4t72H8x5N/VHeJ+ddvXjb3nJ7e7+KONyb9lcRh/Zw3lPTm5Z7Ydn9c+u2ty/37DInLvvkMi2i97spll0+HLv8Kz8/nCHLi7mWbO9jLOEjYACAYhRAAIBiFEAAgGIUQACAYhRAAIBiFEAAgGIUQACAYhRAAIBiFEAAgGIUQACAYhRAAIBiFEAAgGIUQACAYhRAAIBiPizdwC/nSFFJv5uAjejPXAZ4vxYXwGma2jmCAABwnGEYFr1j9REwAEAxCiAAQDEKIABAMW2aprUzAABwQScfARzHcT+O4/6cYQAAeN3SDnbSWcDjOO5vb2+v58u73e56SQgAAI4zjuO+977oa3wnrdx7v2qtRWstlgYAAOB480G4JZQ3AIBEWlv+K5gVQACAYhRAAIBiTjoJZJqmNv8JEn8KDgAgF78HEACgGB8BAwAUowACABSjAAIAFHPSSSCz+UQQAAAua8mJuIsKYETEp6UbWMlPawdY4GZcO8ECP68dYIGsgybzPk+c/bf4bu0IJ/v07w9rRzjJn//8uHaE0/3+69oJTvfH92snON1ff6+dYIGPi9b2ETAAQDEKIABAMQogAEAxCiAAQDEKIABAMQogAEAxCiAAQDEKIABAMQogAEAxCiAAQDEKIABAMQogAEAxCiAAQDEKIABAMW2appNXHoahnzELAABHmqapnbruhzWvfE3DMHTZL0/2y8uaO0L2tWTNnjV3hOxryZ59yfo+AgYAKEYBBAAoRgEEAChm0UkgAADkk+II4DAMPeMZx3PurPkj8p7pnX2fZ8zee49xHPdr53iLrPt6ljV7xv3ee49hGHq2MX5ftn0ekf91dMu5F58F/K1lPkMnIu9Z0hE5nywiHo6ZbOMna/a78tdba4e1sxwr676eeXxeTu89bm5u9tM0tfmNzm63u14711tkHS8ReV9Htz6+UxwBzGzL7f+92vID7jVZs7fWYrfbpcyeVdaxkjH33fhOVfjeE6+j30aKApj1zp+mqc1Ttvxbf+dyjMy3IXN2OEbGMT4fCcxWBjPu61nm19GIbfeXzRXAp3ZWljt/y3f0a57KPv9/67fpuf2edcxkebLOPN5ZV5Yx/lhrLW5vb68zfg8wy/P5e7Pl/rK57wBmfFKYPc6e6Unucc5M39F5T/s9c3Y4RqYxPst65G+W6fn8sYyZs9hcAXzsfnPONggyZ88s+36//04xY/4sso+TzLKN8fnI3zAMvbV2yFoEM8r8ON16dr8HEACgmM/OdU67BSURjwAAAABJRU5ErkJggg=='>"
      ],
      "text/plain": [
       "<IPython.core.display.HTML object>"
      ]
     },
     "metadata": {},
     "output_type": "display_data"
    },
    {
     "name": "stdout",
     "output_type": "stream",
     "text": [
      "rainbow\n"
     ]
    },
    {
     "data": {
      "text/html": [
       "<img src='data:image/png;base64,iVBORw0KGgoAAAANSUhEUgAAAoAAAABQCAYAAACJbMQlAAAEXElEQVR4nO3d0XHbRhQF0LeSuwBcS9KEm0jqSTpLGhD3J6mB2nzEyCgae0xxRQJP75wZzsgegrpaLsBLkEu23nsAAFDHw94BAAC4LwUQAKAYBRAAoBgFEACgGAUQAKAYBRAAoBgFEACgGAUQAKAYBRAAoBgFEACgGAUQAKAYBRAAoBgFEACgGAUQAKAYBRAAoBgFEACgmE8zGy/LMt4rCAAAl+u9t2u3nSqAERHPMeI54r/L+cXP37tccp33vK33+n3niBh3znWEsRot/j1X/Pry+J3//wjXfcv1b3W7987QRtxmVh1xj7j0du6d/bbj2WIcdpezK99wV37rlH/vqXikDLfMfOfrtslTcA9zmwMAkI0CCABQjAIIAFCMAggAUIwCCABQjAIIAFCMAvhGPvgQAMhOAQQAKEYBBAAoRgEEAChGAQQAKEYBBAAoRgEEAChGAQQAKObT7A08RHuPHBzZiIjz1wuQll0Z2EwXwN67BggAcEfLskx9N4WXgAEAilEAAQCKUQABAIppvfe9MwAAcEdXnwFc1/W8rqvFZAAAdzbbwa5aBbyu6/np6elx+/l0Oj3OhAAA4DLrup7HGFNv47tq4zHGQ2stWmsxGwAAgMttJ+FmKG8AAIm0Nv8RzAogAEAxCiAAQDFXLQLpvbftK0h8FRwAQC4+BxAAoBgvAQMAFKMAAgAUowACABRz1SKQzbYQBACA+5pZiDtVACMiRuTsgL/tHWDC73sHmPDnT3snmPDr3gGu9OWvvRNMyDzb82b/En/vHeEqv+wdYMLPf+ydYELeqZ46++xHsHgJGACgGAUQAKAYBRAAoBgFEACgGAUQAKAYBRAAoBgFEACgGAUQAKAYBRAAoBgFEACgGAUQAKAYBRAAoBgFEACgGAUQAKCY1nu/euNlWcY7ZgEA4EK993bttp/2/OV7WpZlyH5/st9f1twRsu8la/asuSNk30v27DPbewkYAKAYBRAAoBgFEACgmKlFIAAA5JPiDOCyLCPjiuMtd9b8EXlXemcf84zZxxixrut57xxvkXWsN1mzZxz3MUYsyzKyzfGXso15RP7H0SPnnl4FfGuZV+hE5F0lHZHzYBHx/zmTbf5kzf61/I3W2vPeWS6Vdaw39s/7GWPE58+fz733tj3ROZ1Oj3vneous8yUi7+Po0ed3ijOAmR25/X9UR97hfiRr9tZanE6nlNmzyjpXMub+Or9TFb6PxOPobaQogFnv/N572y7Z8h/9mcslMv8NmbPDJTLO8e1MYLYymHGsN5kfRyOO3V8OVwC/NVhZ7vwj39E/8q3s27+P/jd9b9yzzpksB+vM8519ZZnjr7XW4unp6THj+wCzHM8/miP3l8O9BzDjQWHzOnumg9zrnJneo/ORxj1zdrhEpjm+yXrmb5PpeP5axsxZHK4AvvayOWebBJmzZ5Z93F8+U8yYP4vs8ySzbHN8O/O3LMtorT1nLYIZZd5Pj57d5wACABTzD1DoTV3zAg+1AAAAAElFTkSuQmCC'>"
      ],
      "text/plain": [
       "<IPython.core.display.HTML object>"
      ]
     },
     "metadata": {},
     "output_type": "display_data"
    },
    {
     "name": "stdout",
     "output_type": "stream",
     "text": [
      "nih\n"
     ]
    },
    {
     "data": {
      "text/html": [
       "<img src='data:image/png;base64,iVBORw0KGgoAAAANSUhEUgAAAoAAAABQCAYAAACJbMQlAAAFa0lEQVR4nO3dv3LrRBQH4LN2qCho6ORLywPwQjQ0zPAQdLwAM7wKD0DF0NBTxWqpaC5gL0Ws4CjJtSP5Rj7Z78vsWH9Wyom8sX+WraT0fR8AALRjtXQBAAC8LgEQAKAxAiAAQGMEQACAxgiAAACNEQABABojAAIANEYABABojAAIANAYARAAoDECIABAYwRAAIDGCIAAAI0RAAEAGiMAAgA0RgAEAGjMzZyNu66rlyoEAIDz9X1fpm47KwBGRJRYxTo+idWhrR/c3lx43c2D+fG6iFXsYx+72MV+9DVe9rjPOUvO2c//y+7S8eq+1VhFRHmw7OG6p1t9Zpuntytn7TNi/cL5c5e9oE8pEatyKLkcdRkvO9yW0fx9v6eWPbftc/urd229j1jtD/OH6fXR9Mk+h9v1aP39dif2dd9nqGeYjqNl8bDPKh73OzV/cj+j+VIjyu7Q9o+n45nlL+1TdhFxuk+J+qitPrgszuz3f9/T/e7a+jCih3YTZTR/vL6M5o/Xlyf6D/Plmf09/n7rqLGud21V90fTNdaH+VUcTdcPTB/6reqwzyemH/V5+H1LrRH7u7s/9kdtPH/uskvt50PtJX3n7qMe2lPTp9Zfum+NqMNtjG4Pp3se3J7qN3M/wxmmOrNdYh/1cJf+HRH/jG7Pmf4YfXcxj7eAAQAaIwACADRGAAQAaIwACADQGAEQAKAxAiAAQGMEQACAxgiAAACNEQABABojAAIANEYABABojAAIANAYARAAoDECIABAY27m7qDGPv6N9xHx/gLl0JQaEbuliyCjemgATDM7APZ9Xy5RCAAA5+m6btbrYG8BAwA0RgAEAGiMAAgA0JjS9/3SNQAA8IomnwHcbDa7zWbjGk4AgFc2N4NNugp4s9nsbm9v18P0drtdzykCAIDzbDabXa111sf4Jm1ca12VUqKUEnMLAADgfMNJuDmENwCAREqZ/yeYBUAAgMYIgAAAjZl0EUjf92X4FyT+FRwAQC7+DiAAQGO8BQwA0BgBEACgMQIgAEBjJl0EMhguBAEA4HXNuRB3VgDM7Kv4YekSJvstPl26hOk++3rpCqb7Zrt0BdN89+vSFUz2+Rc/LV3CZN/HX0uXMNm3v/y+dAnT/Lh0AdPtfl66gun++HPpCqb7cukCFuQtYACAxgiAAACNEQABABojAAIANEYABABojAAIANAYARAAoDECIABAYwRAAIDGCIAAAI0RAAEAGiMAAgA0RgAEAGiMAAgA0JjS9/3kjbuuqxesBQCAM/V9X6Zue7PkN19S13VV7a9P7a8va90Ral9K1tqz1h2h9qVkr33O9t4CBgBojAAIANAYARAAoDGzLgIBACCfFGcAu66rGa84HurOWn9E3iu9sx/zjLXXWmOz2eyWruMlsh7rQdbaMx73Wmt0XVezjfFj2Y55RP7n0Wuue/ZVwB9b5it0IvJeJR2R88Ei4uGYyTZ+stZ+CH+1lLJfupZzZT3WA7+fr6fWGu/evdv1fV+GFzrb7Xa9dF0vkXW8ROR9Hr328Z3iDGBm15z+36pr/oU7JWvtpZTYbrcpa88q61jJWPdhfKcKfG+J59GPI0UAzHrn931fhpat/mt/5XKOzD9D5trhHBnH+HAmMFsYzHisB5mfRyOuO79cXQB86mBlufOv+Y4+5anah/lr/5meO+5Zx0yWB+vM451lZRnjY6WUuL29XWf8HGCWx/O35przy9V9BjDjg8JgXHumB7lxnZk+o/OWjnvm2uEcmcb4IOuZv0Gmx/OxjDVncXUBcOw4OWcbBJlrzyz7cT9+pZix/iyyj5PMso3x4cxf13W1lLLPGgQzyvx7eu21+zuAAACN+Q/woNJO93nPYAAAAABJRU5ErkJggg=='>"
      ],
      "text/plain": [
       "<IPython.core.display.HTML object>"
      ]
     },
     "metadata": {},
     "output_type": "display_data"
    }
   ],
   "source": [
    "#Plot each map in the list\n",
    "for name in maps:\n",
    "    print name\n",
    "    #Load as continuous colourmap\n",
    "    cbar1.colourmap(name)\n",
    "    #Load as discrete colourmap\n",
    "    cbar2.colourmap(name, discrete=True, range=[-6,6])\n",
    "    lv.display(resolution=[640,80], transparent=True)"
   ]
  },
  {
   "cell_type": "code",
   "execution_count": null,
   "metadata": {
    "collapsed": true,
    "deletable": true,
    "editable": true
   },
   "outputs": [],
   "source": []
  }
 ],
 "metadata": {
  "kernelspec": {
   "display_name": "Python 2",
   "language": "python",
   "name": "python2"
  },
  "language_info": {
   "codemirror_mode": {
    "name": "ipython",
    "version": 2
   },
   "file_extension": ".py",
   "mimetype": "text/x-python",
   "name": "python",
   "nbconvert_exporter": "python",
   "pygments_lexer": "ipython2",
   "version": "2.7.10"
  }
 },
 "nbformat": 4,
 "nbformat_minor": 0
}
