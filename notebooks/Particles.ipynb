{
 "cells": [
  {
   "cell_type": "markdown",
   "metadata": {},
   "source": [
    "Particle based simulation tutorial\n",
    "=================="
   ]
  },
  {
   "cell_type": "markdown",
   "metadata": {},
   "source": [
    "**Import LavaVu and create a Viewer object**"
   ]
  },
  {
   "cell_type": "code",
   "execution_count": null,
   "metadata": {
    "scrolled": true
   },
   "outputs": [],
   "source": [
    "import lavavu\n",
    "lv = lavavu.Viewer()"
   ]
  },
  {
   "cell_type": "markdown",
   "metadata": {},
   "source": [
    "**Create an initial set of random points and velocities**"
   ]
  },
  {
   "cell_type": "code",
   "execution_count": null,
   "metadata": {
    "scrolled": true
   },
   "outputs": [],
   "source": [
    "import random\n",
    "import math\n",
    "\n",
    "count = 1000 #Number of particles\n",
    "positions = []\n",
    "velocity = []\n",
    "\n",
    "for p in range(0,count):\n",
    "    #Random positions, with height offset of 3 added to y component\n",
    "    positions.append([random.uniform(-0.05,0.05), 3 + random.uniform(-0.05,.05), random.uniform(-0.05,0.05)])\n",
    "\n",
    "    #Random velocities for the points\n",
    "    velocity.append([random.gauss(0,0.04), random.gauss(0,0.04), random.gauss(0,0.04)])\n"
   ]
  },
  {
   "cell_type": "markdown",
   "metadata": {},
   "source": [
    "**Apply some global settings**"
   ]
  },
  {
   "cell_type": "code",
   "execution_count": null,
   "metadata": {
    "scrolled": true
   },
   "outputs": [],
   "source": [
    "#lv[\"gpucache\"] = True        #Enable caching all data on GPU for speed (don't use for very large datasets)\n",
    "lv[\"background\"] = \"#eeeeee\" #Set the plot background colour\n",
    "lv[\"axis\"] = False\n",
    "lv[\"border\"] = False\n",
    "\n",
    "#Here we can set a fixed bounding box\n",
    "#Without this the bounding box is elastic and calculated to fit the geometry\n",
    "#lv[\"min\"] = [-1.0, -1.0, -1.0]\n",
    "#lv[\"max\"] = [1.0, 1.0, 1.0]"
   ]
  },
  {
   "cell_type": "markdown",
   "metadata": {},
   "source": [
    "**Plot ground plane and axis lines as an example of some static data (not time-varying)**\n",
    "\n",
    "This data remains in the visualisation regardless of the time step and must be loaded first, before the time varying data."
   ]
  },
  {
   "cell_type": "code",
   "execution_count": null,
   "metadata": {
    "scrolled": false
   },
   "outputs": [],
   "source": [
    "lines = lv.lines(colours=\"red green blue\")\n",
    "lines.vertices([[-1.0, 0, 0], [1.0, 0, 0], [0, -1.0, 0], [0, 1.0, 0], [0, 0, -1.0], [0, 0, 1.0]])\n",
    "\n",
    "ground = lv.triangles(\"ground\", colour=\"darkgrey\", cullface=False, dims=[2,2]);\n",
    "gplane = [[-5, -5], [5, 5]]\n",
    "ground.vertices([[gplane[0][0], 0.0, gplane[0][1]], \n",
    "                 [gplane[1][0], 0.0, gplane[0][1]],\n",
    "                 [gplane[0][0], 0.0, gplane[1][1]],\n",
    "                 [gplane[1][0], 0.0, gplane[1][1]]])\n",
    "\n",
    "#Load an initial camera viewpoint\n",
    "lv.translation(0.0, 0.0, -15)\n",
    "lv.rotation(32, 0, 0)\n",
    "\n",
    "#Plot an image to view the static elements we've loaded\n",
    "lv.display(resolution=(500,400))"
   ]
  },
  {
   "cell_type": "markdown",
   "metadata": {},
   "source": [
    "**Setup the particle drawing object**"
   ]
  },
  {
   "cell_type": "code",
   "execution_count": null,
   "metadata": {
    "scrolled": true
   },
   "outputs": [],
   "source": [
    "#Plot time varying data: points\n",
    "points = lv.points(pointsize=5, pointtype=\"shiny\", opacity=0.75)\n",
    "\n",
    "#Apply a colourmap, cubeHelix() generates a map with monotonically increasing luminance\n",
    "cmap = points.colourmap(lavavu.cubeHelix()) #, range=[0,0.1])\n",
    "\n",
    "#Add a colour bar\n",
    "points.colourbar()\n",
    "\n"
   ]
  },
  {
   "cell_type": "code",
   "execution_count": null,
   "metadata": {
    "scrolled": true
   },
   "outputs": [],
   "source": [
    "#Add a tracer visualisation to track particle positions\n",
    "tracercount = len(positions)//50 #Track only the first 10% of the particles\n",
    "tracers = lv.tracers(steps=300, scaling=0.5, glyphs=2, colourmap=\"red orange green\", dims=[tracercount,0])"
   ]
  },
  {
   "cell_type": "markdown",
   "metadata": {},
   "source": [
    "**Advect the random particles and reload the positions for each time step**"
   ]
  },
  {
   "cell_type": "code",
   "execution_count": null,
   "metadata": {
    "scrolled": true
   },
   "outputs": [],
   "source": [
    "#This is a very simple toy particle simulation for the sake of demonstration only\n",
    "steps = 300 #Number of steps to run for\n",
    "for s in range(steps):\n",
    "    values = []\n",
    "    #Loop through particles\n",
    "    for i in range(len(positions)):\n",
    "        p = positions[i]\n",
    "        v = velocity[i]\n",
    "        \n",
    "        for c in range(3):\n",
    "            #Advect\n",
    "            p[c] = p[c] + v[c]\n",
    "            \n",
    "            #Apply drag\n",
    "            v[c] *= 0.99\n",
    "\n",
    "        #Bounce off floor\n",
    "        if p[1] < 0:\n",
    "            p[1] = 0\n",
    "            v[1] = -0.9*v[1]\n",
    "                \n",
    "        #Gravity\n",
    "        v[1] -= 0.001\n",
    "\n",
    "        #Values for the points: velocity magnitude\n",
    "        #these values will be used to colour the points\n",
    "        values.append(math.sqrt(v[0]*v[0] + v[1]*v[1] + v[2]*v[2]))\n",
    "\n",
    "    #Add a new time step\n",
    "    lv.addstep()\n",
    "\n",
    "    #Load updated positions and values\n",
    "    points.vertices(positions)\n",
    "    points.values(values, \"velocitymag\")\n",
    "    \n",
    "    #Load tracer position data\n",
    "    tracers.vertices(positions[0:tracercount])\n",
    "        "
   ]
  },
  {
   "cell_type": "markdown",
   "metadata": {},
   "source": [
    "**Get the timestep information**"
   ]
  },
  {
   "cell_type": "code",
   "execution_count": null,
   "metadata": {
    "scrolled": true
   },
   "outputs": [],
   "source": [
    "lv.timestep(0)\n",
    "steps = lv.timesteps()\n",
    "print(len(steps))\n",
    "print(steps[0:10])"
   ]
  },
  {
   "cell_type": "markdown",
   "metadata": {},
   "source": [
    "**Filters allow elements to be filtered based on their data sets**"
   ]
  },
  {
   "cell_type": "code",
   "execution_count": null,
   "metadata": {
    "scrolled": true
   },
   "outputs": [],
   "source": [
    "#Clear filters\n",
    "points[\"filters\"] = []\n",
    "\n",
    "#Filter to a range of values\n",
    "myfilter = points.includemap('velocitymag', (0.0, 1.0))\n",
    "\n",
    "#points[\"opacitymap\"] = \"rgba(0,0,0,0) rgba(0,0,0,1)\"\n",
    "#points[\"opacityby\"] = \"velocitymag\""
   ]
  },
  {
   "cell_type": "markdown",
   "metadata": {},
   "source": [
    "**Build a control panel to view and modify the visualisation**"
   ]
  },
  {
   "cell_type": "code",
   "execution_count": null,
   "metadata": {
    "scrolled": false
   },
   "outputs": [],
   "source": [
    "lv.control.Panel()\n",
    "lv.control.TimeStepper()\n",
    "lv.control.Range(\"scalepoints\", range=(1,10))\n",
    "points.control.Range(\"pointsize\")\n",
    "points.control.Range(\"opacity\")\n",
    "points.control.Filter(myfilter)\n",
    "points.control.List(\"pointtype\")\n",
    "tracers.control.Checkbox(\"flat\", label=\"Flat Tracers\")\n",
    "tracers.control.Range(\"scaling\", label=\"Tracer Arrow Size\", range=(0.1,3), step=0.1)\n",
    "lv.control.ObjectList()\n",
    "lv.control.show()"
   ]
  },
  {
   "cell_type": "markdown",
   "metadata": {},
   "source": [
    "**Get the current camera state**\n",
    "\n",
    "This outputs the commands necessary to restore the camera to its current settings, which can be copied and pasted to save a viewpoint for re-use"
   ]
  },
  {
   "cell_type": "code",
   "execution_count": null,
   "metadata": {},
   "outputs": [],
   "source": [
    "lv.camera()"
   ]
  },
  {
   "cell_type": "markdown",
   "metadata": {},
   "source": [
    "**Create a video animation**\n",
    "\n",
    "Before generating a video we change adjust the visualistion in the interactive view, or use a previously saved camera to set a nicer viewpoint as follows:"
   ]
  },
  {
   "cell_type": "code",
   "execution_count": null,
   "metadata": {
    "scrolled": true
   },
   "outputs": [],
   "source": [
    "lv.translation(-0.0697, 0.569, -14.536)\n",
    "lv.rotation(0.14, 0.3, 0.02, 0.94)"
   ]
  },
  {
   "cell_type": "code",
   "execution_count": null,
   "metadata": {},
   "outputs": [],
   "source": [
    "#lv.video(resolution=(500,400), fps=30)"
   ]
  },
  {
   "cell_type": "code",
   "execution_count": null,
   "metadata": {},
   "outputs": [],
   "source": [
    "#lv.webgl()"
   ]
  },
  {
   "cell_type": "code",
   "execution_count": null,
   "metadata": {},
   "outputs": [],
   "source": []
  }
 ],
 "metadata": {
  "kernelspec": {
   "display_name": "Python 3",
   "language": "python",
   "name": "python3"
  },
  "language_info": {
   "codemirror_mode": {
    "name": "ipython",
    "version": 3
   },
   "file_extension": ".py",
   "mimetype": "text/x-python",
   "name": "python",
   "nbconvert_exporter": "python",
   "pygments_lexer": "ipython3",
   "version": "3.6.5"
  },
  "widgets": {
   "state": {},
   "version": "1.0.0"
  }
 },
 "nbformat": 4,
 "nbformat_minor": 1
}
