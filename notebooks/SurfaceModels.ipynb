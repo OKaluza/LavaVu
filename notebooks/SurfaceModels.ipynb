{
 "cells": [
  {
   "cell_type": "markdown",
   "metadata": {},
   "source": [
    "# Loading Surface Models in OBJ format\n",
    "\n",
    "#### An example showing loading and viewing of the dataset included in this PeerJ article https://peerj.com/articles/355/\n",
    "### *\"An interactive three dimensional approach to anatomical description—the jaw musculature of the Australian laughing kookaburra (Dacelo novaeguineae)\"*  Michelle R. Quayle, David G. Barnes, Owen L. Kaluza, Colin R. McHenry 2014\n",
    "\n",
    "LavaVu includes built in support for loading 3D surface models in Wavefront OBJ files.\n",
    "\n",
    "For other formats/sources of surface data we can load them using python libraries and send them to LavaVu but this is covered in other tutorials."
   ]
  },
  {
   "cell_type": "markdown",
   "metadata": {},
   "source": [
    "**First we create a data structure to organise the data elements and recreate the muscle groups from the paper**"
   ]
  },
  {
   "cell_type": "code",
   "execution_count": null,
   "metadata": {
    "collapsed": false
   },
   "outputs": [],
   "source": [
    "#Organise the data by muscle group and provide group names and colours for elements\n",
    "dataset = {}\n",
    "dataset[\"\"] = [(\"Mandible.obj\", [233,215,182]),\n",
    "               (\"Cranium-reduced-100k.obj\", [233,215,182])]\n",
    "\n",
    "dataset[\"Depressor Muscles\"] = [(\"1. Depressor Mandibulae.obj\", [0.82,0.05,0.11])]\n",
    "\n",
    "dataset[\"Temporal muscles\"] = [(\"2. Adductor Mandibulae Externus profundus.obj\", [0.93,0.40,0.43]),\n",
    "    (\"3. Adductor Mandibulae Externus superficialis.obj\", [0.76,0.49,0.48]),\n",
    "    (\"4. Unnamed Temporal muscle.obj\", [0.70,0.29,0.30]),\n",
    "    (\"5. Adductor Mandibulae Posterior.obj\", [1.00,0.00,0.46])]\n",
    "\n",
    "dataset[\"Pseudotemporalis muscles\"] = [(\"6. Pseudotemporalis superficialis.obj\", [0.91,0.43,0.46,1.0]),\n",
    "    (\"7. Pseudotemporalis profundus.obj\", [0.87,0.64,0.67,1.0])]\n",
    "\n",
    "dataset[\"Dorsal Pterygoid muscles\"] = [(\"8. Pterygoideus Dorsalis Medialis anterior.obj\", [0.89,0.56,0.76,1.0]),\n",
    "    (\"9. Pterygoideus Dorsalis Medialis posterior.obj\", [1.00,0.00,0.10,1.0]),\n",
    "    (\"10. Pterygoideus Dorsalis Lateralis.obj\", [0.89,0.33,0.67,1.0])]\n",
    "\n",
    "dataset[\"Pterygoid Muscles\"] = [(\"11. Pterygoideus Ventralis Medialis.obj\", [1.00,0.59,0.00,1.0]),\n",
    "    (\"12. Pterygoideus Ventralis lateralis.obj\", [0.91,0.47,0.25,1.0]), \n",
    "    (\"13. Pterygoideus Ventralis lateralis Part2.obj\", [0.86,0.58,0.36,1.0]),\n",
    "    (\"14. Pterygoideus Ventralis lateralis Part3.obj\", [0.78,0.49,0.32,1.0])]"
   ]
  },
  {
   "cell_type": "markdown",
   "metadata": {},
   "source": [
    "**Now lets download the data set from github**"
   ]
  },
  {
   "cell_type": "code",
   "execution_count": null,
   "metadata": {
    "collapsed": false
   },
   "outputs": [],
   "source": [
    "#Download the files if they don't already exist\n",
    "source = 'https://github.com/cave2/websurfer/raw/master/examples/quayle_kookaburra/'\n",
    "import os\n",
    "import urllib\n",
    "for group in dataset:\n",
    "    for el in dataset[group]:\n",
    "        fn = el[0]\n",
    "        if not os.path.exists(fn):\n",
    "            print(\"Downloading: \" + fn)\n",
    "            urllib.urlretrieve (source + fn, fn)"
   ]
  },
  {
   "cell_type": "markdown",
   "metadata": {},
   "source": [
    "**Import LavaVu and create a Viewer**\n",
    "\n",
    "The returned Viewer object can be used to set global properties  \n",
    "The available properties are listed here https://github.com/OKaluza/LavaVu/wiki/Property-Reference"
   ]
  },
  {
   "cell_type": "code",
   "execution_count": null,
   "metadata": {
    "collapsed": false
   },
   "outputs": [],
   "source": [
    "#Load LavaVu, setting a custom background colour\n",
    "import lavavu\n",
    "lv = lavavu.Viewer(background=\"grey80\")\n",
    "#Show the version\n",
    "print lavavu.version\n",
    "\n",
    "#With this setting the OBJ loader will ignore the normals \n",
    "#in the OBJ file and recalculate them, it's usually not necessary but\n",
    "#the downloaded model only has facet normals on the vertices.\n",
    "#We get nicer lighting by getting LavaVu to calculate the correct vertex normals.\n",
    "lv[\"trisplit\"] = 1\n",
    "\n",
    "#Flip the Y and Z axes on surface load\n",
    "lv[\"swapyz\"] = True"
   ]
  },
  {
   "cell_type": "markdown",
   "metadata": {},
   "source": [
    "**Load the OBJ files**\n",
    "\n",
    "The first two files are loaded with the Viewer object, files loaded this way will automatically have a visualisation object created for each file loaded\n",
    "\n",
    "The rest of the files are ordered by their muscle group, we create a visualisation object to hold the group and then load all the related files into that object"
   ]
  },
  {
   "cell_type": "code",
   "execution_count": null,
   "metadata": {
    "collapsed": false
   },
   "outputs": [],
   "source": [
    "#Start with the Viewer object\n",
    "obj = lv\n",
    "for group in dataset:\n",
    "    #Has a group name? create a vis object for the group\n",
    "    if len(group):\n",
    "        print(\"Creating:\" + group)\n",
    "        #Following files will be loaded into this object\n",
    "        # creating a composite of the loaded surfaces\n",
    "        obj = lv.add(group)\n",
    "\n",
    "    #Load the list of files\n",
    "    for el in dataset[group]:\n",
    "        fn = el[0]\n",
    "        colour = el[1]\n",
    "        obj.file(fn, colours=[colour])\n",
    "        if len(group): obj[\"opacity\"] = 1.0"
   ]
  },
  {
   "cell_type": "markdown",
   "metadata": {},
   "source": [
    "**Lets have a look at what we have so far**\n",
    "\n",
    "The display function renders an image and shows it inline in the notebook, the output resolution can optionally be specified"
   ]
  },
  {
   "cell_type": "code",
   "execution_count": null,
   "metadata": {
    "collapsed": false
   },
   "outputs": [],
   "source": [
    "lv.display(resolution=[900,400])"
   ]
  },
  {
   "cell_type": "markdown",
   "metadata": {},
   "source": [
    "**Script commands can be used to control the viewer state**\n",
    "\n",
    "Here we set the camera rotation and translation, turn off the border and axis and turn on the key listing rendered objects \n",
    "\n",
    "See the wiki for a list of the available commands https://github.com/OKaluza/LavaVu/wiki/Scripting-Commands-Reference"
   ]
  },
  {
   "cell_type": "code",
   "execution_count": null,
   "metadata": {
    "collapsed": false
   },
   "outputs": [],
   "source": [
    "lv.translation(0, 0, -80)\n",
    "lv.rotation(0, 180, 0)\n",
    "\n",
    "lv.border(0)\n",
    "lv.axis('off')\n",
    "lv.list('objects')\n",
    "\n",
    "lv.display(resolution=[900,400])"
   ]
  },
  {
   "cell_type": "markdown",
   "metadata": {},
   "source": [
    "**Modify visualisation objects**\n",
    "\n",
    "We can get the list of loaded objects and retrieve them by name\n",
    "\n",
    "Properties can also be set on vis objects (https://github.com/OKaluza/LavaVu/wiki/Property-Reference)"
   ]
  },
  {
   "cell_type": "code",
   "execution_count": null,
   "metadata": {
    "collapsed": false
   },
   "outputs": [],
   "source": [
    "print(lv.objects)\n",
    "\n",
    "mandible = lv.objects[\"Mandible\"]\n",
    "cranium = lv.objects[\"Cranium-reduced-100k\"]\n",
    "\n",
    "mandible[\"opacity\"] = 0.5\n",
    "cranium[\"opacity\"] = 0.5\n",
    "\n",
    "lv.reload() #Some settings (eg: opacity) require data to be refreshed before they take effect\n",
    "lv.display(resolution=[900,400])"
   ]
  },
  {
   "cell_type": "markdown",
   "metadata": {},
   "source": [
    "**Interactive controls**\n",
    "\n",
    "An interactive window can be displayed allowing mouse interaction with the viewer within the notebook\n",
    "\n",
    "All the properties and commands mentioned above can be attached to HTML controls which adjust the display properties"
   ]
  },
  {
   "cell_type": "code",
   "execution_count": null,
   "metadata": {
    "collapsed": false
   },
   "outputs": [],
   "source": [
    "lv.control.Panel() #Panel includes a right-aligned interactive window with a container for controls to the left\n",
    "lv.control.ObjectList()\n",
    "lv.control.Range('alpha', label=\"Global Opacity\")\n",
    "cranium.control.Range('opacity', label=\"Cranium Opacity\", command=\"reload\")\n",
    "lv.control.Range('specular', range=(0,1), step=0.1, value=0)\n",
    "lv.control.DualRange(['xmin', 'xmax'], label=\"x clip\", step=0.01, values=[0.0,1.0])\n",
    "lv.control.DualRange(['ymin', 'ymax'], label=\"y clip\", step=0.01, values=[0.0,1.0])\n",
    "lv.control.DualRange(['zmin', 'zmax'], label=\"z clip\", step=0.01, values=[0.0,1.0])\n",
    "lv.control.Range(command='background', range=(0,1), step=0.1, value=0.8)\n",
    "lv.control.Checkbox(command=\"list objects\", label=\"Key\", value=True)\n",
    "lv.control.show() #Show the control panel, including the viewer window\n",
    "lv.translation(0, 0, -120) #Zoom out a little to fit the smaller view window"
   ]
  },
  {
   "cell_type": "code",
   "execution_count": null,
   "metadata": {
    "collapsed": true
   },
   "outputs": [],
   "source": []
  }
 ],
 "metadata": {
  "kernelspec": {
   "display_name": "Python 2",
   "language": "python",
   "name": "python2"
  },
  "language_info": {
   "codemirror_mode": {
    "name": "ipython",
    "version": 2
   },
   "file_extension": ".py",
   "mimetype": "text/x-python",
   "name": "python",
   "nbconvert_exporter": "python",
   "pygments_lexer": "ipython2",
   "version": "2.7.10"
  }
 },
 "nbformat": 4,
 "nbformat_minor": 0
}
