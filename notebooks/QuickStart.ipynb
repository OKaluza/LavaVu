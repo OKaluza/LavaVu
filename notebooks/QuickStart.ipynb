{
 "cells": [
  {
   "cell_type": "markdown",
   "metadata": {},
   "source": [
    "\n",
    "LavaVu: python API quickstart guide\n",
    "---\n",
    "The LavaVu python interface provides a python style, object oriented way of working with 4D visualisations. All the objects you work with have properties that control how the visualisation is rendered which can be added, read or modified like a python dictionary. \n",
    "\n",
    "The Viewer Object\n",
    "---\n",
    "\n",
    "The first object you need to create is the Viewer() which defines a viewing frame and an OpenGL rendering context. Using this we can then create drawing objects that can then be used to load rendering data.\n",
    "\n",
    "Properties set on the Viewer control the global rendering state as well as the highest level scope for setting object properties. They are listed on the wiki here by category:\n",
    "https://github.com/OKaluza/LavaVu/wiki/Property-Reference\n",
    "\n",
    "Other actions that change the visualisation are possible via functions on the viewer object or the drawing objects.\n",
    "These include the set of scripting commands understood by LavaVu which are listed here\n",
    "https://github.com/OKaluza/LavaVu/wiki/Scripting-Commands-Reference\n",
    "\n",
    "These can be called as methods on the Viewer object, eg: lv.rotate('x', 90)"
   ]
  },
  {
   "cell_type": "markdown",
   "metadata": {},
   "source": [
    "#### Create a viewer\n",
    "\n",
    "Additionally, let's set the background and resolution by passing them to the constructor"
   ]
  },
  {
   "cell_type": "code",
   "execution_count": null,
   "metadata": {},
   "outputs": [],
   "source": [
    "import lavavu\n",
    "lv = lavavu.Viewer(background=\"white\", resolution=(400,300))"
   ]
  },
  {
   "cell_type": "markdown",
   "metadata": {},
   "source": [
    "Images and video can be created from the viewer as well as opening interactive views.\n",
    "If running in an IPython notebook, images and video can be displayed inline."
   ]
  },
  {
   "cell_type": "code",
   "execution_count": null,
   "metadata": {},
   "outputs": [],
   "source": [
    "#Save an image inline\n",
    "lv.display()\n",
    "\n",
    "#Save an image to disk, optionally at a different resolution\n",
    "lv.image(\"output.png\", resolution=(500,500))"
   ]
  },
  {
   "cell_type": "markdown",
   "metadata": {},
   "source": [
    "#### Creating objects\n",
    "\n",
    "Objects associate a set of rendering properties with a collection of rendering data (vertices etc)\n",
    "\n",
    "Available object creation functions are:\n",
    "  **points, lines, triangles, quads, shapes, vectors, tracers, volume, labels**\n"
   ]
  },
  {
   "cell_type": "code",
   "execution_count": null,
   "metadata": {},
   "outputs": [],
   "source": [
    "pts = lv.points(\"myparticles\", pointsize=10)"
   ]
  },
  {
   "cell_type": "code",
   "execution_count": null,
   "metadata": {},
   "outputs": [],
   "source": [
    "surf = lv.triangles(\"mymesh\")"
   ]
  },
  {
   "cell_type": "markdown",
   "metadata": {},
   "source": [
    "#### Load some data\n",
    "This can be in a python list or for numerical data - a numpy array or anything that can be trivially converted to a numpy array"
   ]
  },
  {
   "cell_type": "code",
   "execution_count": null,
   "metadata": {},
   "outputs": [],
   "source": [
    "pts.vertices([[0,0,1], [1,1,1], [0,1,1], [1,0,1]])\n",
    "surf.vertices([[0,0.25,0], [1,0,1], [1,0.75,0], [0,0.25,1], [0.5,0.5,0.5]])\n",
    "surf.indices([[0,2,4], [4,2,1], [0,4,3], [3,4,1]])"
   ]
  },
  {
   "cell_type": "code",
   "execution_count": null,
   "metadata": {},
   "outputs": [],
   "source": [
    "lv.reload() #Because we have new data since last display\n",
    "lv.display()"
   ]
  },
  {
   "cell_type": "markdown",
   "metadata": {},
   "source": [
    "Functions for data loading expect either scalar (1d) or vector (3d) data.\n",
    "\n",
    "Most functions expect floating point values, all of which will be converted to 32 bit single precision.\n",
    "\n",
    "3d vector data is interpreted as a list of coord triples [[x0,y0,z0], [x1, y1, z1]...] \n",
    "If passed split coord arrays arrange in a list/array [[x0,x1...], [y0, y1...], [z0, z1...]] this will be detected automatically if the first dimension of the passed array is 3 and the last dimension is != 3, the array will be reshaped before loading.\n",
    "\n",
    "Available data loading functions are:\n",
    " - **vertices**: 3d vertex data, float. The vertices to plot.\n",
    " - **normals**: 3d normal data, float. normals for meshes, if not provided will be calculated automatically\n",
    " - **vectors**: 3d vector data, float. Vector field data.\n",
    " - **indices**: integer index data referencing the indices of vertices to use for plotting, when provided will lookup vertices to plot from this array instead of just plotting them in their memory order\n",
    " - **colours**: either 32 bit integer data defining an array of ARGB colours or a list of strings that will be parsed as colours. Colour strings can be either names from https://en.wikipedia.org/wiki/X11_color_names (with spaces removed) or HTML style colour values in either hex \"#RRGGBB\" or decimal \"rgb(R,G,B)\" or \"rgba(R,G,B,A)\"\n",
    " - **labels**: string data to label vertices\n",
    " - **values**: scalar data, this function has an additional label argument to name the data as multiple scalar fields can be loaded under different labels.\n",
    " - **texcoords**: 2d texture coord data, float. Coordinates to map texture to a mesh.\n",
    " - **rgb**: colour data as 8 bit integer array [r0,g0,b0, r1,g1.b1,....]\n",
    " - **luminance**: luminance values as 8 bit integer array \n",
    "\n",
    "#### Loading additional data arrays\n",
    "Here we'll colour our two objects in two different ways\n"
   ]
  },
  {
   "cell_type": "code",
   "execution_count": null,
   "metadata": {},
   "outputs": [],
   "source": [
    "pts.colours([\"red\", \"blue\"])\n",
    "\n",
    "surf.values([0.25, 0, 0.75, 0.25, 0.5], \"height\")\n",
    "cm = surf.colourmap(\"diverge\")"
   ]
  },
  {
   "cell_type": "markdown",
   "metadata": {},
   "source": [
    "In the first instance we load a literal colour value for each vertex. As there are not enough values for each vertex, they are spread over the range evenly, so each colour is applied to two vertices.\n",
    "\n",
    "In the second, we provide an additional data field containing the height of each vertex (y coord) and then apply a colour map.\n",
    "\n",
    "The label *height* we apply to the field can be used to switch between which field to use to colour the data, this is defined by the \"colourby\" property and defaults to the first scalar value data set loaded.\n",
    "For example, to load and switch to colouring by a new field named *temperature*\n",
    "\n",
    "    surf.values(\"temperatue\", [20, 16, 27, 18])\n",
    "    surf[\"colourby\"] = \"temperature\"\n",
    "   \n",
    "The colourmap() function will apply a colourmap to an object to map the values of the field to colours, the data passed can be:\n",
    "\n",
    "A name of a predefined colourmap, see: https://github.com/OKaluza/LavaVu/blob/master/notebooks/ColourMaps.ipynb\n",
    "\n",
    "    surf.colourmap(\"diverge\")\n",
    "    \n",
    "A list of colour strings, these will be evenly spaced over the map:\n",
    "\n",
    "    surf.colourmap(\"red green blue\")\n",
    "    \n",
    "A list of colour positions and value strings:\n",
    "\n",
    "    surf.colourmap([(0, \"black\"), (0.25, \"yellow\"), (1, \"red\")])\n",
    "    \n",
    "Colours can also include an alpha value for transparency, either by using the HTML rgba(R,G,B,A\\[0,1\\]) format or appending a colon and the alpha value to a hex or X11 colour name value.\n",
    "\n",
    "    surf.colourmap(\"rgab(255,0,0,0.5) #0000ff:0.5\")\n",
    "\n",
    "The return value of colourmap() is a ColourMap object which can be used to later modify the colourmap:"
   ]
  },
  {
   "cell_type": "code",
   "execution_count": null,
   "metadata": {},
   "outputs": [],
   "source": [
    "#Set the opacity of the last colour to 0.0 (transparent)\n",
    "cm.colours[-1][3] = 0.0"
   ]
  },
  {
   "cell_type": "markdown",
   "metadata": {},
   "source": [
    "A colour bar can be plotted with the colourbar() function:"
   ]
  },
  {
   "cell_type": "code",
   "execution_count": null,
   "metadata": {},
   "outputs": [],
   "source": [
    "cb = surf.colourbar()"
   ]
  },
  {
   "cell_type": "code",
   "execution_count": null,
   "metadata": {
    "scrolled": false
   },
   "outputs": [],
   "source": [
    "lv.reload() #Because we have new data since last display\n",
    "lv.display()"
   ]
  },
  {
   "cell_type": "markdown",
   "metadata": {},
   "source": [
    "Once interactive mode is entered, control moves to the viewer window and no more python commands can be executed until it is exited \\[ESC\\]\\[ENTER\\]\n",
    "\n",
    "An inline interactive mode is provided for IPython notebooks where the interactive window is displayed inline within a cell. This operates in the background and python commands can continue to be issued."
   ]
  },
  {
   "cell_type": "code",
   "execution_count": null,
   "metadata": {},
   "outputs": [],
   "source": [
    "if lavavu.is_notebook():\n",
    "    lv.window() #Displays an interactive window in IPython\n",
    "else:\n",
    "    lv.interactive() #Opens an external interactive view"
   ]
  },
  {
   "cell_type": "markdown",
   "metadata": {},
   "source": [
    "Control widgets can also be created to interactively manipulate rendering properties from IPython:\n"
   ]
  },
  {
   "cell_type": "code",
   "execution_count": null,
   "metadata": {},
   "outputs": [],
   "source": [
    "if lavavu.is_notebook():\n",
    "    lv.control.Range(command=\"background\")\n",
    "    lv.control.show()"
   ]
  },
  {
   "cell_type": "markdown",
   "metadata": {},
   "source": [
    "More about properties\n",
    "---\n",
    "All the available properties are listed here:\n",
    "https://github.com/OKaluza/LavaVu/wiki/Property-Reference\n",
    "\n",
    "Properties can be passed as arguments to the function used to create the object or set using the python dictionary syntax afterwards.\n",
    "\n",
    "Property values \"cascade\", meaning a property that is only defined on a specific type of object, can still be set at a broader scope (such as globally or on a timestep), where it will define a default value for all objects within that scope. If not set at any level the properties fall back to their default values.\n",
    "Available scopes are: global, timestep, view, object, colourmap"
   ]
  },
  {
   "cell_type": "markdown",
   "metadata": {},
   "source": [
    "More about geometry types\n",
    "---\n",
    " - **points** : each vertex is a point\n",
    " - **lines**: each pair of vertices is a line, or if \"link\" property is true, each element block of vertices is a single joined line. Element blocks can be defined automatically by setting the \"dims\" property to a value [N] which will cause a new block to start once N vertices are loaded into the active one. Blocks of different sizes can be defined by calling the append() function on an object to explicitly start a new block.  \n",
    " - **triangles**: each vertex triple is a triangle, or if indices provided each index triple referencing the vertex array is a triangle. If \"dims\"=[width, height] is specified, instead plotted as a regular grid mesh where vertices are the grid points.\n",
    " - **quads**: Plots a regular grid as for triangles but using quads, requires \"dims\"=[width, height] to be set\n",
    " - **vectors**: Plots vector arrows at each vertex, requires a vector field to be loaded.\n",
    " - **tracers**: Plots tracer lines or arrows over time-varying point vertices.\n",
    " - **shapes**: Plots ellipsoids or cuboids at each vertex. Data fields or properties can be used to define their dimensions.\n",
    " - **volume**: Volume render a cube of data or a set of slices.\n",
    " - **labels**: as points, but the points are hidden to allow label data to be displayed without other geometry being plotted.\n",
    "\n",
    "> NOTE: The function used to create the object only specifies how the\n",
    "> subsequent data loaded will be rendered, the objects themselves are\n",
    "> all the same. This can be changed after object creation with the\n",
    "> \"geometry\" property, so to load a triangle mesh into our 'pts' object,\n",
    "> we can set pts[\"geometry\"] = \"triangles\" before loading the mesh data. Both the points and the mesh will be plotted with the properties of the pts object.\n"
   ]
  },
  {
   "cell_type": "markdown",
   "metadata": {},
   "source": [
    "Time Varying data\n",
    "---\n",
    "When loading data, there is initially no time dimension defined. All geometry loaded at this point is considered fixed in time and will always be rendered.\n",
    "\n",
    "To define a time step, call the addstep() function, properties can also be passed to this function which will apply to this timestep only:\n",
    "\n",
    "    lv.addstep(title=\"1/1/2018\")\n",
    "\n",
    "All data subsequently loaded will be considered temporal and displayed only when its timestep is set to the active one:"
   ]
  },
  {
   "cell_type": "code",
   "execution_count": null,
   "metadata": {},
   "outputs": [],
   "source": [
    "falling = lv.points(\"falling\", pointsize=20, pointtype=\"sphere\", colour=\"green\")\n",
    "\n",
    "for time in range(0,20):\n",
    "    lv.addstep(time)\n",
    "    height = 1.0 - 0.05*time\n",
    "    falling.vertices([0.5, height, 0.5])"
   ]
  },
  {
   "cell_type": "markdown",
   "metadata": {},
   "source": [
    "Timestep information can also be retrieved and set as follows:"
   ]
  },
  {
   "cell_type": "code",
   "execution_count": null,
   "metadata": {},
   "outputs": [],
   "source": [
    "print(lv.steps)\n",
    "lv.step = 5 #Attempt to set timestep 5 (if not found, nearest match will be selected)\n",
    "print(\"Current timestep: \", lv[\"timestep\"])\n",
    "lv.display()"
   ]
  },
  {
   "cell_type": "markdown",
   "metadata": {},
   "source": [
    "Video output\n",
    "---\n",
    "Videos can be created with the video() function, the default action is to record all frames from current timestep until last, so first return to the start:"
   ]
  },
  {
   "cell_type": "code",
   "execution_count": null,
   "metadata": {},
   "outputs": [],
   "source": [
    "lv.step = 0\n",
    "lv.video()"
   ]
  },
  {
   "cell_type": "code",
   "execution_count": null,
   "metadata": {},
   "outputs": [],
   "source": []
  }
 ],
 "metadata": {
  "kernelspec": {
   "display_name": "Python 2",
   "language": "python",
   "name": "python2"
  },
  "language_info": {
   "codemirror_mode": {
    "name": "ipython",
    "version": 2
   },
   "file_extension": ".py",
   "mimetype": "text/x-python",
   "name": "python",
   "nbconvert_exporter": "python",
   "pygments_lexer": "ipython2",
   "version": "2.7.9"
  }
 },
 "nbformat": 4,
 "nbformat_minor": 1
}
