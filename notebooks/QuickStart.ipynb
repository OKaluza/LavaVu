{
 "cells": [
  {
   "cell_type": "markdown",
   "metadata": {},
   "source": [
    "\n",
    "LavaVu: python API quickstart guide\n",
    "---\n",
    "The LavaVu python interface provides a python style, object oriented way of working with 4D visualisations. All the objects you work with have properties that control how the visualisation is rendered which can be added, read or modified like a python dictionary. \n",
    "\n",
    "The Viewer Object\n",
    "---\n",
    "\n",
    "The first object you need to create is the Viewer() which defines a viewing frame and an OpenGL rendering context. Using this we can then create drawing objects that can then be used to load rendering data.\n",
    "\n",
    "Properties set on the Viewer control the global rendering state as well as the highest level scope for setting object properties. They are listed on the wiki here by category:\n",
    "https://github.com/OKaluza/LavaVu/wiki/Property-Reference\n",
    "\n",
    "Other actions that change the visualisation are possible via functions on the viewer object or the drawing objects.\n",
    "These include the set of scripting commands understood by LavaVu which are listed here\n",
    "https://github.com/OKaluza/LavaVu/wiki/Scripting-Commands-Reference\n",
    "\n",
    "These can be called as methods on the Viewer object, eg: lv.rotate('x', 90)"
   ]
  },
  {
   "cell_type": "markdown",
   "metadata": {},
   "source": [
    "#### Create a viewer\n",
    "\n",
    "Additionally, let's set the background and resolution by passing them to the constructor"
   ]
  },
  {
   "cell_type": "code",
   "execution_count": 17,
   "metadata": {},
   "outputs": [],
   "source": [
    "import lavavu\n",
    "lv = lavavu.Viewer(background=\"white\", resolution=(400,300))"
   ]
  },
  {
   "cell_type": "markdown",
   "metadata": {},
   "source": [
    "Images and video can be created from the viewer as well as opening interactive views.\n",
    "If running in an IPython notebook, images and video can be displayed inline."
   ]
  },
  {
   "cell_type": "code",
   "execution_count": 18,
   "metadata": {},
   "outputs": [
    {
     "data": {
      "text/html": [
       "<img src='data:image/png;base64,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'>"
      ],
      "text/plain": [
       "<IPython.core.display.HTML object>"
      ]
     },
     "metadata": {},
     "output_type": "display_data"
    },
    {
     "data": {
      "text/plain": [
       "'output.png'"
      ]
     },
     "execution_count": 18,
     "metadata": {},
     "output_type": "execute_result"
    }
   ],
   "source": [
    "#Save an image inline\n",
    "lv.display()\n",
    "\n",
    "#Save an image to disk, optionally at a different resolution\n",
    "lv.image(\"output.png\", resolution=(500,500))"
   ]
  },
  {
   "cell_type": "code",
   "execution_count": 19,
   "metadata": {},
   "outputs": [],
   "source": [
    "lv[\"opacity\"] = 0.5"
   ]
  },
  {
   "cell_type": "markdown",
   "metadata": {},
   "source": [
    "#### Creating objects\n",
    "\n",
    "Objects associate a set of rendering properties with a collection of rendering data (vertices etc)\n",
    "\n",
    "Available object creation functions are:\n",
    "  **points, lines, triangles, quads, shapes, vectors, tracers, volume, labels**\n"
   ]
  },
  {
   "cell_type": "code",
   "execution_count": 20,
   "metadata": {},
   "outputs": [],
   "source": [
    "pts = lv.points(\"myparticles\") #, pointsize=10)"
   ]
  },
  {
   "cell_type": "code",
   "execution_count": 21,
   "metadata": {},
   "outputs": [],
   "source": [
    "surf = lv.triangles(\"mymesh\")\n",
    "\n",
    "surf[\"opacity\"] = 1.0"
   ]
  },
  {
   "cell_type": "markdown",
   "metadata": {},
   "source": [
    "#### Load some data\n",
    "This can be in a python list or for numerical data - a numpy array or anything that can be trivially converted to a numpy array"
   ]
  },
  {
   "cell_type": "code",
   "execution_count": 22,
   "metadata": {},
   "outputs": [],
   "source": [
    "pts.vertices([[0,0,1], [1,1,1], [0,1,1], [1,0,1]])\n",
    "surf.vertices([[0,0.25,0], [1,0,1], [1,0.75,0], [0,0.25,1], [0.5,0.5,0.5]])\n",
    "surf.indices([[0,2,4], [4,2,1], [0,4,3], [3,4,1]])"
   ]
  },
  {
   "cell_type": "code",
   "execution_count": 23,
   "metadata": {},
   "outputs": [
    {
     "data": {
      "text/html": [
       "<img src='data:image/png;base64,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'>"
      ],
      "text/plain": [
       "<IPython.core.display.HTML object>"
      ]
     },
     "metadata": {},
     "output_type": "display_data"
    }
   ],
   "source": [
    "lv.reload() #Because we have new data since last display\n",
    "lv.display()"
   ]
  },
  {
   "cell_type": "markdown",
   "metadata": {},
   "source": [
    "Functions for data loading expect either scalar (1d) or vector (3d) data.\n",
    "\n",
    "Most functions expect floating point values, all of which will be converted to 32 bit single precision.\n",
    "\n",
    "3d vector data is interpreted as a list of coord triples [[x0,y0,z0], [x1, y1, z1]...] \n",
    "If passed split coord arrays arrange in a list/array [[x0,x1...], [y0, y1...], [z0, z1...]] this will be detected automatically if the first dimension of the passed array is 3 and the last dimension is != 3, the array will be reshaped before loading.\n",
    "\n",
    "Available data loading functions are:\n",
    " - **vertices**: 3d vertex data, float. The vertices to plot.\n",
    " - **normals**: 3d normal data, float. normals for meshes, if not provided will be calculated automatically\n",
    " - **vectors**: 3d vector data, float. Vector field data.\n",
    " - **indices**: integer index data referencing the indices of vertices to use for plotting, when provided will lookup vertices to plot from this array instead of just plotting them in their memory order\n",
    " - **colours**: either 32 bit integer data defining an array of ARGB colours or a list of strings that will be parsed as colours. Colour strings can be either names from https://en.wikipedia.org/wiki/X11_color_names (with spaces removed) or HTML style colour values in either hex \"#RRGGBB\" or decimal \"rgb(R,G,B)\" or \"rgba(R,G,B,A)\"\n",
    " - **labels**: string data to label vertices\n",
    " - **values**: scalar data, this function has an additional label argument to name the data as multiple scalar fields can be loaded under different labels.\n",
    " - **texcoords**: 2d texture coord data, float. Coordinates to map texture to a mesh.\n",
    " - **rgb**: colour data as 8 bit integer array [r0,g0,b0, r1,g1.b1,....]\n",
    " - **luminance**: luminance values as 8 bit integer array \n",
    "\n",
    "#### Loading additional data arrays\n",
    "Here we'll colour our two objects in two different ways\n"
   ]
  },
  {
   "cell_type": "code",
   "execution_count": 24,
   "metadata": {},
   "outputs": [],
   "source": [
    "pts.colours([\"red\", \"blue\"])\n",
    "\n",
    "surf.values([0.25, 0, 0.75, 0.25, 0.5], \"height\")\n",
    "cm = surf.colourmap(\"diverge\")"
   ]
  },
  {
   "cell_type": "markdown",
   "metadata": {},
   "source": [
    "In the first instance we load a literal colour value for each vertex. As there are not enough values for each vertex, they are spread over the range evenly, so each colour is applied to two vertices.\n",
    "\n",
    "In the second, we provide an additional data field containing the height of each vertex (y coord) and then apply a colour map.\n",
    "\n",
    "The label *height* we apply to the field can be used to switch between which field to use to colour the data, this is defined by the \"colourby\" property and defaults to the first scalar value data set loaded.\n",
    "For example, to load and switch to colouring by a new field named *temperature*\n",
    "\n",
    "    surf.values(\"temperatue\", [20, 16, 27, 18])\n",
    "    surf[\"colourby\"] = \"temperature\"\n",
    "   \n",
    "The colourmap() function will apply a colourmap to an object to map the values of the field to colours, the data passed can be:\n",
    "\n",
    "A name of a predefined colourmap, see: https://github.com/OKaluza/LavaVu/blob/master/notebooks/ColourMaps.ipynb\n",
    "\n",
    "    surf.colourmap(\"diverge\")\n",
    "    \n",
    "A list of colour strings, these will be evenly spaced over the map:\n",
    "\n",
    "    surf.colourmap(\"red green blue\")\n",
    "    \n",
    "A list of colour positions and value strings:\n",
    "\n",
    "    surf.colourmap([(0, \"black\"), (0.25, \"yellow\"), (1, \"red\")])\n",
    "    \n",
    "Colours can also include an alpha value for transparency, either by using the HTML rgba(R,G,B,A\\[0,1\\]) format or appending a colon and the alpha value to a hex or X11 colour name value.\n",
    "\n",
    "    surf.colourmap(\"rgab(255,0,0,0.5) #0000ff:0.5\")\n",
    "\n",
    "The return value of colourmap() is a ColourMap object which can be used to later modify the colourmap:"
   ]
  },
  {
   "cell_type": "code",
   "execution_count": 25,
   "metadata": {},
   "outputs": [],
   "source": [
    "#Set the opacity of the last colour to 0.0 (transparent)\n",
    "cm.colours[-1][3] = 0.0"
   ]
  },
  {
   "cell_type": "markdown",
   "metadata": {},
   "source": [
    "A colour bar can be plotted with the colourbar() function:"
   ]
  },
  {
   "cell_type": "code",
   "execution_count": 26,
   "metadata": {},
   "outputs": [],
   "source": [
    "cb = surf.colourbar()"
   ]
  },
  {
   "cell_type": "code",
   "execution_count": 27,
   "metadata": {
    "scrolled": false
   },
   "outputs": [
    {
     "data": {
      "text/html": [
       "<img src='data:image/png;base64,iVBORw0KGgoAAAANSUhEUgAAAZAAAAEsCAIAAABi1XKVAAAgAElEQVR4nO29aZCe13Ue+NzWYlorJVn7wkWSRVmkKEabTVAiQE0mjq14NBPFspOpytg1seK4ajxT82Nc82PQiJPU/JgpTSV2ypEzVZ6ZxI5jO3IURyLFBQ2SAMUd4L4A3Vga6AU7QAAEQbxnftx7zj3n3vt+3Q10o/v7+jxFNr7vfe/6ft99vuece+69gYjgcDgcw4Cx1W6Aw+FwLBZrmrCOHcPhw6vdCIdj/eDwYRw7ttqNGIQ3rnYDBuHiRTz22JM33HD1ajfE4VgXOPHCC7d84Qur3YpBCGvchzU1NQXguuuuW+2GOBwjjqEYa2vaJIy47rrr4qN0OBwrhKmpqTVOVRFDQFhwznI4VhLDwlYYFsKCc5bDsTIYIrbCEBEWnLMcjuXGcLEVhouw4JzlcCwfho6tMHSEBecsh2M5MIxshWEkLDhnORyXhyFlKwwpYcE5y+G4VAwvW2F4CQvOWQ7H0jHUbIWhJiw4ZzkcS8GwsxWGnbDgnOVwLA4jwFYYAcKCc5bDsRBGg60wGoQF5yyHox8jw1YYGcKCc5bD0cIosRVGibDgnOVwWIwYW2HECAvOWQ4HY/TYCqNHWHDOcjhGlK0wkoQF5yzH+saoshVGlbDgnOVYrxhhtsIIExacsxzrD6PNVhhtwoJzlmM9YeTZCiNPWHDOcqwPrAe2wnogLDhnOUYd64StsE4IC85ZjtHF+mErrB/CgnOWYxSxrtgK64qw4JzlGC2sN7bCeiMsOGc5RgXrkK2wDgkLzlmO4cf6ZCusT8KCc5ZjmLFu2QrrlrDgnOUYTqxntsJ6Jiw4ZzmGDeucrbDOCQvOWY7hgbMVnLDgnOUYBjhbRThhAc5ZjrUNZyuBE1aCc5ZjbcLZSsMJK8M5y7HW4GxVwAnLwDnLsXbgbFXDCauEc5ZjLcDZqgknrAacsxyrC2erPjhhteGc5VgtOFsNgBNWL5yzHFcezlaD4YQ1CM5ZjisJZ6sF4YS1AJyzHFcGzlaLgRPWwnDOcqw0nK0WCSesRcE5y7FycLZaPJywFgvnLMdKwNlqSXDCWgKcsxzLC2erpcIJa2lwznIsF5ytLgFOWEuGc5bj8uFsdWlwwroUOGc5LgfOVpcMJ6xLhHOW49LgbHU5cMK6dDhnOZYKZ6vLhBPWZcE5y7F4OFtdPpywLhfOWY7FwNlqWeCEtQxwznIMhrPVcsEJa3ngnOXog7PVMsIJa9ngnOWo4Wy1vHDCWk44Zzk0nK2WHU5YywznLEeEs9VKwAlr+eGc5XC2WiE4Ya0InLPWM5ytVg5OWCsF56z1CWerFYUT1grCOWu9wdlqpfHG1W7AiMM5a13B2Wql4YR1JeDf4/UA/2W6AnCT0OFwDA2csBwOx9DACcvhcAwNnLAcDsfQwAnL4XAMDZywHA7H0MAJy+FwDA2csBwOx9DACcvhcAwNnLAcDsfQwAnL4XAMDZywHA7H0MAJy+FwDA2csBwOx9DACcvhcAwNnLAcDsfQwAnL4XAMDZywHA7H0MAJy+FwDA2csBwOx9DACcvhcAwNnLAcDsfQwAnL4XAMDZywHA7H0MAJy+FwDA2csBwOx9DACcvhcAwNnLAcDsfQwAnL4XAMDZywHA7H0MAJy+FwDA2csBwOx9DACcvhcAwNnLAcDsfQwAnL4XAMDZywHA7H0MAJy+FwDA2csBwOx9DACcvhcAwNnLAcDsfQ4I2r3QCHY7hB1FHXAbj66qtXuy2jDycsh+MSQd3Fi6+/DqIQAkJ4x9vfttotGn04YTkcS0Z38fWLr50n6oAQQqAQQhhDCNR1YczdLCsIJyyHYwnoXr9w4fw5ungRIURhBQJCoEAhBOrGnLBWFE5YDseicPHCaxfOnelev4AQMlsh0NhYIAqBKITXL3RvfuObVrulowwnLIdjAVx87fz5s6e6C68hjCGEgAAKCIECQhjDRUKyCgNC6C6+PvYGH1YrBX+yDkcvXn/t1fOnT7x+4XwIYwBCILCwiuSF0CGA+WssOGGtMPzJOhwNvH7+3LlTx15/7dWQ6IkQRFiFEAJAoPSawlggimkuvHr2jW++arWbP7JwwnI4DC68evbcySMXzp9jqgqGqihdibEMzF+JziJ/XXz9whvck7UycMJyOBIunDtz5sT866+ehVAVLD1RJi+5GCcIkz+LAkK4eOE1J6wVghOWw4HXzr1y5tjshXNnIkmFMIZAQEj/MUMBiI4qdRGU0geEDggIeO3s6Tf/5FtXu0+jCScsx7rGa2dPnz4yc+HcKylSAQAo+6fAHivhLOrS/CACwhgld9ZFEVwUxkKg82dP/8Rb3r7KfRtFOGE51inOnzl1+sjB186ejtHq7IFCmgFEdFhlMRVX4IDtPgQAF9MtEWXsjL94/jycsFYATliOdYfzZ06emj9w/swphLEQZwCN9QdCFwBCAPHKm5ygi9HtHHg1Bso8xZOG4cL5c6vdy9GEE5ZjHeHVV06cnNt//szJOMHH7JMW1iTGYZICIQSi7MBiPmIlBg5lEKrKlmMIr75y8qq3vXO1ezxqcMJyrAu8evr4idm9r75ykpfURGhtBQQS6w+Zm2JCgva1RyEWQqCxeCElUAEQF14964S17HDCcow4zp0+fmJm8tXTJwBkQkFySBG7pvi/CMrcBDYAi1CsxHFdXPzMTq4cAHHhVbcKlx9OWI6RxblTx44f2nPu9HEAeWeFhEhJXQiBRD0piRSdUkpSAUpGJatQSAoIZEPhESiEsyePveWd7169BzCCcMJyjCDOnTp6dPrlc6ePp/ADBAKS0WfEVGIgMIGJG4vifGFedlO4rgrzMOYCBQpKml149SycsJYVTliOkcLZk0eOHnjp3KmjWTRRoDjnlxkF4r0KiKqL4nJBRCHFZh4hxVi1uEm5rnKUFrR7/vy5MxdePfumq96ymk9ktOCE5RgRnD155Mj+F86ePJL2q4o8xK6mxD4qcj16r5J/nUBhDEQqUlTILakyxMgFZSSaSUNZr8M1xiuvnXPCWk44YTmGHmdOHD68//mzJ49EKw6Upvu0bkpcI0jKCAgpqCGFOASASDjIyKjMepSNykhNzH3J4Y6x5McHnT42/9Z3/dSVfyajCicsxxDjzIn5+b3PnT15mNcqq/k9EmEE6As5/gDarRWTsaWHzEpajkHCHaDMQktklBYVEs9EvnbujC8tXC44YTmGEq8cn5/f+8yZE/NBqCoiuquIotechVVIziVhMXGcJyjR1H6d3gYkKzK95M1lFJFJtYnXzp99xQlrueCE5RgyvHJ8bm7q6TPH56OLnLJ3iojjP4nllpofFJKS9wKmtRw7WiVh5hIXlUwvZpWWSSrGeaW4h1NH5t7+nvdfiUezDuCE5RgavHJ8bnZy1yvH5yBkoZAYJhAoR1HxRaWthIoorcmJ1l2y7OI+DFGgJfUUTTueXgws4kIskgMjVGncHn5L4fzZV37iLX5q4TLACcsxBDh9bHZ2z85Xjs9lOojskNgj8VThkcp3xVRTRBOEe/JEIZSfXl6oINLoSKegpheDON1Z6ulYh/T6/JnTTljLAicsx5rG6WMzM7ufPH18ljeBQWSZxC9iB6YdqqIyglVTaUKQFBnxnCF7xjmqPRt9xMYm85HSULJBgwrCSl6zFPiOMBbEw0U4MT/zjvd+cDWf46jACcuxRnH62MzBl5945dgMQmHVRZdViBvtKRIDkCgqyShGIjXlwEoJKK3MybHuAtZmlQM+l1q5tKCSdTwzmZTXq2dOX/VW3yHrcuGE5VhzOHX00MGXHz99dCbtQyUmX3QeAZS2fRGFZSJEQayJgGwFKpEF4R6ZTdSaLC8eLNxeA6YUG9fFtxW7cGLu4Aeuv2GlH93IwwnLsYZw6ujB6ZceO310Ji1wIcqkwaqJZ/6ipxysqZjLYkFKH2mplBNkp7hmMTEsrXko847GKqSQHVV5elGui7MsstjZV05d0Uc5onDCcqwJnDpy8MBLj546ejDFVfG6vsQ1TAiGcpikOg5eIF6RoxEvRJeTMtySXz0tx5GkHNBQRjXkdTlqqxm1w19SgCTRWHI9UAxyoHB8dvpdH/jIcj+59QUnLMcq4+SRgwdefOTU0YMAAkIXKPEHG4NJIUVeIYSALhEQ+7VKLmO2YUYDQlfafmrNn3CTKkFYLPu/xAmfkW3GwoeVTNIUIJ8E3NnTJ52wLhNOWI5Vw8kj0/tfePjUkYNJTUWjq9PTfwCUswj5uiyFSaFSlQNeWXwcRWrFV0NIWe+77O0n7CU1iJUopmI2APOaRePeIoSzp08u9yNcd3DCcqwCTh6Z3vf8QyePHESasdOhTgFEBfsU5qHWRCSbwsA44AGjmERzietLJ5ToB2FJE+egNqWRGHpuH6rpwr55QwB09ND+93zoY8v8NNcTnLAcVxQnDh/Y9/xDJ49MR6ZCEj4pHKqjtOovgDpRWGlHBWQGUtYi/48c+ZA4jqlJizUrrDioQfvoTQiEhKfqzHqnh0xMvDy6XNxjr589ffI9K/yERxtOWI4rhBOHD+x9bsfJIwcAqBk7FZ0Z37CFlzzvZDUVT+OxG8uGH8il5IWyEqucZ9R6Kc0PIissQLxj4DKyqmp45WukfvDcIgV65eTxy3iEDicsx8rjxOH9e5/bfuLwAdYaMTAcaZkwRyJwpFR6xz6nGHeFTu9rVfiklPACYLhMkqTy7A0155jdUgAk0CHPINpE8i69IGl9UoM8dYgQOHY0GZaHD+5774evWbaHu87ghOVYQRw/vH/q2QdPHN6f7D9KoilRFTKJZEKJREHocnRDDkBIBp52YsVDJGIq9lRlP5VQEnvSueJ4MQeYmsQporTyXmlvP5g9xUKE3YZZBUnoWcQzJ487YV0ynLAcK4Lj8/smn33gxOEDipmsXGFq4Bgq9p2bUAbWWdbrHlfUcEHMUVKmsuy6cqMZkNZ1Vm9lVglIDjVuKZuteuut0kIEMrvqnUl1jwPwysnjZ06deOs7rl7qI3XACcux7IhUdXx+HwAz75bc45F8qBOzjAJ7rMjOCwrN8UIcCHNlLSU0lIQQcxlxNENX6C/rg4ewo75lXFcmkWgrVk9SMYc2BImdt0xIrNtCeOXkcSesS4MTlmPZcGx+3+Qz9x8/vD9fSvqIT+6L15IJmOw8gvZYxeTo+Kj4XAg0lYUuzt6REJOKeohJk6kYUBSdJRtzUA4SZbYr5hmV+LISkMuQhTuVJ75eAARgbv/k+z963RKerIPhhOVYBhyb37fnmfuPze8DKx9ArKcYoMDr/5BIhx3pKSagg3YRsccqcUtAQIcU2UCKqlJVEtcgDi51UbOecpPndiZZlV4qM09KVDYoKyzr/FLvRXEJd2nPWmDH1ysnj7/tne+63Oe+/uCE5bgsHJvfu/vp+5MBCIDFE7JDHSH7y6Hc3pSjGaKVqAw95IAoNryy+acnBXUJYuuFDrlCXuiTjM4ux1BRjuwkHRtRKS8U3itxfpmTeMxWELz5lnGDsTOeAl454YR1KXDCclwijs3tffnpbUlVGbWhEgWZPCNJ1iX60mZVUOl5yxc1jwhjn4En7JKA4pckk4zI0Vwpt3GuS805AadochOS7Vr44FUBwXa7ZLRygTXRoX27P3DN9Yt60A4FJyzHknF0bu/up7cdVaqqsKKq60lsJaeS8q9bB3zeXD0HZEVvFBAUqQUpMcQACDFBs9/K6C91UgWQGasMs+IKm9wENAnI+K1y+soytJcB4PSJY2+/2g+yXxqcsBxLwNG5vS8zVRleCjLBh2zZNciLd0uX9xLPntkm7cyScvG+LVy8ONpZw0hNpDRM9mGFoP1fEhmqi2LHfI4H1URTBWOwhlNPoHThK5WmY7VyKgRywroUOGE5FoWjc3tfenri6Fzhq4IZhRHsxilKSIM6T6oB2Y+eGYP0nCDEAZ/iTrP3ShxkgZBjF4LSX8alXnro9Z4KXJrYoiaqS7bsk1gsbkAOGCWeqVSWZ6JCZZuaWgMOTr38oWs/sdgPwAHACcuxII7M7X3pqYmjc3uBLJmYPhQR8Du9WthGMwmr6UAqnvgHkumHAGRNlBZDC40xc3XsMpd5vU6t7ckzdnqiMN3N83mRqRLdsOOfTT6QhI2ZeAU5n0d6TsqK1I659g5aTMyRs3Z/+DrnrCXACcvRiyNze1/cNXF0fm++xNIlG1DpunqtRZdmrKBTcyJS8aTML5Q28EwlsO+L2CcVklNKTEBOzqShVuaEQNmxlbxZHYeh5taRDScVzVUFkGb1pC1HSs03k5XWEZ99WCHHsp48ftQJa0lwwnI0cGRu7wu7th6Z2wuWPAmGpJTd1UNeNlQp3w4SjVBOBSLLJ+XjEvpK3inKgQugwDu4sINMNFsIskmNOLZI9nFI9RoPPazTSq1w5FlC1m+dcsXlADK2DUWFlS55e5zPyWNHFvgkHBZOWA6DI7NTzz81EakKpUrQc/MqignWLW3n1VRmlUYcQWwFsgtdSyQ+00Fq4OtqJWBiLRFN3J7QSUNYw3WR1nRwVkwcQpcuGyrlWQDuCO/bLq56nmowixBTFGrcx5nytCEo382GcMCByZc+ev1PL/SxOBKcsBwJh2enns+qKoJ3zRsEpbPyBR6k7IjKCZGTZyd0dj1Rx/N4UPyVWC057FmJMe2RSByxWGUrLJ4rTFfIxJLqYhJJieYi9mqxg63YmUsJsUJ/JToLyOsljQqzS6NPHjv6UY/HWjScsByJqg7P7s2XlmL6sdApsmYflnXMAxD/k9hxSdF0lMd19moLFXFEfAdk9zvzI2+2hcx0UM4kzaskzqms3nSPslc8k2oqioSEJfgipC24WH8xVQIBWejl7Wmy/48IOHHUrcIlwAlrXePw7NRzO7cenp0yoeqlvylU1wGIEFLbS8U0A8mrRXwkhYQgm11lPZUpI9mDEsogs30BADrqgiYfWZso+kzts6yVlp7M44pYYCnDMCczBmk29pRtKMZojmuQdsgUKZuf+3a/eM0nPtX3GTk0nLDWKQ7PTj27877Ds1Ns4bRllJmMg0iDnINlkMquzciGOanJS9UZaYtUMnZfdyruIWVI0QkswyS4K3JDDmIoyYUjFVK0Kis1TSjSKv1YSNGfinbP0RmWgYSVkj4TXsu2oSJIOnHsyDVwwloUnLDWHeZnp57bed/8zBSQvcHaYLIe9PyavUjyXpl7VF+O/qHiOqrksn9fMbYDswPxMkJ1Sk1QziflmyfDMkERHFulciZYDhez9qO8zg621KyOeO0ya7RETEp/GcoD75acH2BqXY5+CABw/MhhOBYHJ6x1hPnZqWefvG9+dgqWPgQEWbqSEJTPpdiZuHai96knLr0t4qhIYAMaIsEY+y5wQyFvU5wBTLwVOuLiZFkMScy6lATI49BzllCrFFkocWgYG6/K4uXm5ZlE5IxJf4kozXOF6UXY+/IL137yhsZH4rBwwloXmJ+ZfGZnpCoZuoCQh6GV/DIFSVnvlnFUU6hz9ZEXaabqc+Qjm1mUoqIUlyDxD7vylT2o1wGKzYi4kVY2NVlhcSvY/6a3oOmQYyjYXGRTj5kpkaR2u/NZz3ktZGa3HOgqDRfujzVPvvS8E9Zi4IQ14pifmXr6yXujqgJg/eg6rCqhFepZXC+cTUXI+4Bb8U/pC9Pr9sq9Dor49SRSgsQ3ARA1pHhGyue4+FhDVkWU7EoJ44rEyOu2eeZSb+klDeB2SowVX9NOPcq/A+JEQzISuRd56SIRhXD86JF3veen4BgIJ6yRxVykquyrShjgRw/aMQShj5w2p1NXdcymTB3Gm4PJq8eRL6TB0oq3pEkKJ6CLtTKnQbFBx2akMGF2jbHJmZVOUj+8w0JWfMJNar1O5cJnIciUFVmNNysUDk68qe1HZlG9iOf4kcNOWAvCCWsEMTcz+fST985FqhJJweAzH+K9YG/l13pIq1ssNXI6bQE2i0hZqMe3ZUmtuBEyiSrRhOxoV5suSAA6cXM4bou4r0LI6eicmJmNwNRS2flBufCJZxb5CebduVJDQ6ZUlk+xUlkFFNSsAfj4sNzJ3S8+d/2nPg3HQDhhjRTmZiafeuLeuWwAAnbjJv7lT/pkgB/dep/6ec2Sl3lXZsnk1VdapeMiMwhxBEBWH3J4gAgZWd8jthjrrHw6arxuNinNion4cJv0iHjHeRUllpuojxpLC6qZodI1pkYKIsGyamObNkjHgHDsyOF3/9R74eiHE9aIYHZm8qkn7p2dmSxljDHSFD1kplIjXCUs3kFna9BSqeNUqmSuSXa1R4KIDFgdlwvuYqOVT132h++EeHjCsAx7quK2hPvYLgNA6AJ7wVldBUN50mqSLAg8hygkF0uNTZAALEouKrvq2ayLZpYF4IS1IJywhh6zM5O7nrh3bmYyvlVOF0MHyqriu5lf6miGfKf3VrxvDDpFPdbQ04qqEfeQaVR70HILKFtObHKBjUKw6corX9izXsZt8QJpIZ2suShrMVFtisSDMgNZMTGV8W6p2fxT8fS5k3mbQFaOsUZjWr70/HOfuOFn4OiHE9YQY3Zmcufj98zNTGYaaYZXCRQdWBLR4qgiL0MiBXmZ6nrDRHVAuG1hxx7qVENmCl2aOkIr8V1aJpNPkk8ZkgHYGR935Ac2IUPmqdTQmI/yvCE/ByRO0SupEeJiRuZU5fyyTMebRBB70phB9UxhyIcDxdKOHjn8HhdZ/XDCGkrMHpp88ol7RFVFZB9uej9YGWnyKu7pbAWvmVzmlkqkJiJR0JqtN4uo6h/Jo/xNYkEJ2eStR7NLLru3uJV13FZsVT5QmpUa70fKzKL948jtKIVYDiLVqxlZEMqEplrZrY3EJNMCgPDS88/+3Fc2tp+rwwlr6DBzaHLn4/fMzEwGBMNCdeS5Na+0UbZIZQQY8ipuqRCE6lbR6D7i7A8fFaMNOX5B21jJb9Rl5xHYZjRRBimL4XEulkJ1i6L7PHco0WBUX0HnTaUnbaWW5chOV6LqwH685G4jaSjnypssH5mfh6MfTlhDg5lDk08+fs/MzCSyo7YYhBFqpyZruICliPEoNcgrr6LTCWy8lSmhoryy2NwaJaO67AYvSU07kaqpxxRoldYP5j4SE7Vi5MDzjDmoPXucOMSDpFYOjeA2Ka8Xh8inprHLPz2uripHPPnmSeYQOHU6EM8eRiPxxeee/dTPfKZ+eg44YQ0FZg5NPvn43TOH2ACsbT3KLxtiSu5SLcQKWmnaaLFOWPKqM6k6G40LjaRiHnEFRhZxvdb4CoC4tUNXtJjFEaEIN5VqhIy5WoROuafAt/JmEak+2eNGbGFSbiowa2eGi6QaKLBVmH83SOYcTd+SWDx8eP5TcMJqwwlrTWPm0OTjj909MzOJaJJEKG+0+lmv7+offfAvvL4royVQTV5ZiRU+qcp86/d5BaEFW12lwHRMpXHMk9U8uheJO/KKmCAJSNxbkFk5WRYtcaTZ7ZUyZupIUkqZo2ryr9ZoErEe2FxULJRi4fOPStp/whjHahbk8PwcHD1wwlqjOHRozxOP3ZNVlRoCAh3PqfaBkrvZSRRpoLprSmYJkkaeZqgkG8Rp1WI9iDsn32rHkXJ1Ys7BrAFqLVTUVUhweKQCys+BX0bzKh+1KlRuuT0HbDLvSEsoExmboJJH7RvBDSEpnN1Tie+TZ0qC7zm6NYuxIB+TOnwxPP/sM5/+zI1wVHDCWnM4dGjy8UfvPnRo0jJMyRTBMkV1187uQQ1XDDAqwapNk5dyHEMRC2XGpGaTytaqKvJmVGXLdSRqW9lFkUOhA5APodclR5IhymHurIkklQ7s7BKJmRgubkmmGwlYZXNRihICBViJZR+WFoAmNRLPBflAxJd/eH7+024UtuCEtYZw6NCeSFVGHgGwVlK80PJzQ8b0oIk/wNhRZXSCfk89xCcu7XhF3VEZWYfkvrCeqhukylP1dUwZXKpqRbLZWBFJoJYqO7ISn4iThRXJOV1WfBFCCCHFr7NqI/A6QQnJyt4rprxMwdxECXYnRY+cgIIYnSk1rwpKJvG8W4U9cMJaEzh0aM+jiaqA1og2kqcmL/0mJpeXC5HX4mmxzpwXIsvdXvJSN3PcelmmZSQj3wpzWMyuFEEqC6H5elosmY4sBOktaHJ8gTYL+YbajibV1IlkVcSkY1mTAZidaDnoo+HIV0pLi11xjYEIePaZpz9z401wWDhhrTIKqgJQUUybJnrIy8qlUnmx0mlLnMHRCaVBmnPposWiIpWg1Z12Li2mchVNc5jvZQ1kHdkyYyi7OBhjk4h95ZmeCFF5pVYaJ5d2WIWKklIZeT8Hu7cEe8eiUMvEBOW94+alBT7z8/NuFNZwwlo1HDxYUZUZywvqI4JMefWQV2HcSamllafNLvDwLmXbQq6lOm3VikXMNmai6owVaROW5NUSPiGyT8pt0iTSIG24cVOTPhLSAsni59DFGqznTaLcma9CyBvA5wzCU+k5hqJK6ICLgDA3Nzc/N/e+978fDgUnrFVApKqDh/YAUEOyjlVHpY9ClSDdCZa8KhIZZNwFNWrihTZZcckkE3W6jZzEvisotleyGdJQGXuEmGq5iJskfJB0D6HL3BvyimmIdBJJFfuctQ7y/jNgfVfaiXmHsECdNDganGxvpgI7yg8861GlJ/MxjUET3Nz8vBNWASesK4qDB/c8/Ojdhw7uKW+UUQUlCzDIJggqe05Tc59milBxgyFFvszsYOWMahjZPGJ/6QutTiheKC7nfIWnP5hXasaAQnkrO56y7gmJlbT3PZlqIW1fI34rJjIJZ1WSNJGdOvUmrq7R+jOfkQEumXMBWv6BQggdB8LyM1C6DHj6qaduusndWAZOWFcIBw/uefiRuw8e3IMQyhGIASKlMuHKAVRnrzZUWAp56WoKdhhYb12PKbkx21j2Kb8j00TzBKooetW8IIorvk3KKIQotZBZiTcFJK2qwCdFaCs0ryJM/vPrcBcAACAASURBVHhuIBRBJx0XeYp1lbFAM43ywmwuUcVAGO97+pjm5ube7yJLwQlrxXHm7LG/+N6d0wf3yI8twONwgYUyBcrohZYrqrCe6qAEk7qMdB9k3OkyWu2s/UoqXyMWVAyu3EhlJWVj0PavX3gan5fKn+3oVK+4wCVOigmGguyWrLIQAejYr89tCOmAeq6sS7OUab953VUT3kV5swfoXwnlTJMgVtCsE5aFE9YKYvrgnocf+dH0wT3xN7Yx1krTjKC8HWVxpe1W6BJmMz36LXnZwpq1q2JLAirbrt4XV0LLX541E5G9KSPXkJdkVVZw6l8vCULTnKWzkIUbkX6UBLEfeY8FRUt6eyzr1+etbLidyRKUX6O0ZEdsQ9lvmWWh6pTxi5Hu8a5dT9382c/CwXDCWhFMH9zzUKIqKHcso7kNXmmaWcOtnQDKdjMlFhcApeyoZaC1Br+UNWipMxTT2dVBlUQqFw9VrS7i5k0jaxXWYGZpPzORmGMy75fXS4u+TIXxJhDQ27UXqatwB+64cp+JqVn76XNHpcy0xIgLNDIcAcDs7NwHPuAiK8EJa5kxfXDPQw//aPrg7qZRZn5i49hrOpgHmVfNBDCiorkPjHpBavSFitrU4G9EStiqrVJUwUmq6prDUJNXQNnNHpZkkcVVhspM1O3XrBSIuqSkolecrTQgB6XHBB3xjlsFy5hdG9g2TGuAWDrq7SAMweXzivgpBR32lfJQ4SmbnXPCynDCWjYcSFRlghX0T2XT8bxAIFXD8CnJqzWwtf2VJYkRRzzqGlpPYRHGnW6bSkODY7WKeU0V00nyj8pWx3OIhrK39KxfsPySad1EM/A/xkeeQucpdyzNNkZK0RanhHTpRnE3GvFcJKRmDMbY0MybslDniZ1Pfe5mtwoTnLCWAQem9zz08I8OcLBCk3fQ4qZK2vBPNKeqSsivK/KKKfIrddKMBP+oshqNbEYhSL6+MDEeqKQyBW22ZfUid4udIYy1a3th1rsoKhN70DRKr6kWB3YVUxoCOhGqensYqVTvqZxtQ9LOdDYtuXziyNJIN0oScq74HBJ78epCSnfyAxAKy/HxT+586pbPOWcBTliXiQPTe3Y8fNcBq6oGbZfOGCCs1KDVttUg8rI3a/lDrSD4rBLM8EpFqLBzKitvzieaVGJG6Xcqbz95lZ0pyKvqdHZgl3d1xsigQotikQVZuMN7w1PIn1myJnMEuhRISaOFVK3QUPqoqEsbNQduSrn9vNGGyoSUFUVgPRYCHZqdvQVOWIAT1iXjwPSe7Q//6MD0HoAZpcVNIgR0glJYoRBWVSHJb9PirXIsNVzmKC27mvt6pF/IyfVJ7jaSK9cuI1ZXrfvZFyNG3K5stTULsQoxN5JSN1QvoHuc7pZiTbbTSqHq1S7vimgQcldJ5nxla0POQqxn814zWTHxY4T2UvEShcCZ+CQdpjAiHJyZLR/meoUT1pKxf3rPdlFVRvrnNAO9UW12q6yh0Bz7RsuIc0Sl6197CGqwmzV6LHmhJi8y2SmHB9RkXM0JhoJTSo8e1XkVS1pUK7G1/GkuwAy2NKWeOiBuWmwDzVkrCXckP71pmNr4L5JPyK0on4kWXJGKDNvLA8kCUD2Kx5/c9flbbsa6hxPWEhCpav90Xlgz0OLrNbjAg7NP8rSopzAbm8JKD5KyBKWFsvFVJCgYpF7Bp5wtegGQ1hTSgnJDwXwvRg8MdtgVBl2jp1yv9ILkruSsNncuSuMdEngNH4vHwAmjYEoTF6FTM4RFURydVT4x5I1vchbVXhUaT5QrTt3Kk4wHZ+Y+fwscTliLwv7pPQ9aqopYUFWhn7yQf3pLi8wifWl1KfZ2i5vsvp2wyghqNi1fKtktN7PamoovUJkgXbPkiPJBGSuSYxSoxygu3rd3LiRmGROVWjrXhFON0Rfbxy5zvi890I582fOBbKuiNC3iOMQ8zJ9d0UFrUXK4ibJps+v94KxbhYAT1oLYP73ngR8XqmrJxITsZhGp35Zni9rrapBhVSqvNAxYwvTEoMKMa9gB2b9IMFVIVRsaZmmeiDPHhZnelWLKEF8r3rWYWNC7eAZ1l5CUTCS1XArbiSHw1g4kNFeahxKiwFvWZLUJ5fxi2kyBC8LCTPhBTWdkKlPLHLTa0s+NHn1i1xf/2nq3Cp2werFveveDP75rX6YqGW+DiGkxaRYnrBruJI3QSNNIULmcqKxOG18tj32hIgdxk6XKeK3lU9PkBfWgyrxFcVVnDfHlioionk/kvIrEQlaD+imVri6e74syKt9Kys4Y41lnSdyW9JOva98/IfvRkFUVoKJMmRCnZ2a/CCcsR4V903se+PFd+6ZjtLodGRb6yz0gjYplXgzvNFgDVYKKGthoyT/plZBRhliuRfpnzMZmDIEh4sZso6pChpoxgawg4nYi+Y9MfaUluFBnbc5aW6mC9LMkYxebulgOU+0xVDGf+rZsXJOsuo5rMD8Qek4w5GUHKsiB8nORCNgQpn2u0AmrwL7p3ff/+K59B+IMYL5OgDLl2nlJ3eudBFSenVCNgjTS4k83T26pwSVl9QqN/EZ93Xk8N/1nKo8MGJIoa77S3BymSbIiLyphpWy1gp4IoXCN133sQ+Ff49hMXZkK+woiqiiRDoezKys4b+QgxwelFla/AKkBHbdZcx+pNvBBGNwC2U4w7e0nFiVYbbHNyClj4Q8/vuvLn1/XIssJK2Hf9O5tYgDmaR0Dyv/0ElNKotLUJVlTK4/JViZlyLQsrkJooEVELY+VTVJwU4C92NqgqmyGJS9bQk1eXU4NI5DYDLLCLF8IemjbrCjoiW05XVinnrlQq5YzutmBqJNmppU6+mNhTsldy7TLsgi8cFGWABXqKabKLcwMFZ8Fp4xS7MeP73TCWu/YN71720OJqmQgmGDOBnnxl1UPgMpCsh7uxXBKIJumRxNZOqWikFS3VmdUViSl63pyjww3WXFoS1iAvEJZYXE+a9kCzs7XGzGupvmFFWn4PDTdZ7kHWQGpScNkvZNQTHoCsjepsu/EEJQvQy4nLxVQ7RbKkxN+FEGnyIrskg+6g9kLP31o9iMf+gDWK9Y1Ye2d3r3tobv2TsdNYACY8QmYGW0egb32SR3iQIVSyIUvShBB+TVUmtJeK3001O6FFWe1sILuprhlyvanbCI0tLCqK1A1EMAzcUFGZN3IkOq2Pwjp96DQl2WPGt3JvWqGknIAF6eO4RpUVRaU4ymk+HhuskopxRC6wKsF0y9AKHRTV+2eHO/y8c8k0syUDTow44S1/rD3QKYqNXj5SwmgwQsxxWDlpX6p+R1VMqEldnIMuTEKK1VVCJbiErFBJwZGkSDkuuWVEVb5J1/aX/S05DBtJeV2DWgnQc1XtjY7paK8+Lap7Mi+bSWWe6KorL9M6VCRSHpSL7eNOK/ctR5GLUWZhLqqdyFw9HyUXdVyBFsm18Wpdjy28+c+/zmsV6w7wtp7YPfWQlU1WAkFecnViAHKqxhmQCFDQpEmVGlaBKfURrpUl1OZb8EySxX7HqpeRPIavKVMrT7qppYcKsmo0U4hrwU1bK6kQWbc3lB+EAPCMoLK26XMosuiFNLhVvJd4N8ullFCa5bqFfMWXiyjUqGeLWxZuov50oFDsx9dryJrHRFWoqoDu+1ItcRUDcVGRDjMgFTz93y3X3k1yav8ci6R4FrqTLonhgzUIVfpj3VX5Tx63BmjTgKIQjEcpXGDdlKVzvYlIPAsf9WVovcDrtAgK7I86yxxhTwHoi5arAFsmabgc25oyz0v1pvdckt9sBSCbButpwWRHG1BW5fyCavsME9+vxPWaGNKqCrCyOwWeVXjQvmSSuXVUhvpN1VXoce/IZ04RnvNRl3UYtSZaoVuf0NYQXw3sWFKpdQFFNRDxVRgab+IsCqammqS4dnD1VJFJYdUYaZIlPQk5pu8K/pjd7lRtMkzd+CVOim6nZ3girzkBUGt7Cn8+8GuBIjhEVwOTxrGfyTUNM/U6ihTfkAPPrpzwxfWqVU44oQVqWrqQLmzQvmVSldLawLyA9yQVDZvH3npX9rQIB2bNRTvbVFaVQG8dcIgVVX0tU9Y8Q97papa5B2zmT60t4HOfSnIK2itRaK0igKKKgaRV8DgDU4bTvTigVefb6eeUKdEW+pZ4KXJheedEDd4SCt0YmEhb9MsTsW4X3M5OZAX9zCiAEtFJ2YEsP/g7Mc+vB5F1sgS1tSB3fc9dNeUqCrId6ukB5VgYfJCn1qx1EHNKgryquq3IzUrJuMRr4qiYHPr3kiuiqsrYVVQX4s1+mSg6mBbWFUGLIIteQDXqAbLZ1PwS/XjYSRxra0qajOflUQSJB0mJCJrccA8Ip+C/jhUIYH1GpnSg8g3SZapM0CKDWxAylOSx7bvkBPWqGDqwO57RVXVVs5i5u/QGmMtDuqL9MkJyhx5/OUf+SY55EuamKq5S/u2VlUyfqjxLBqkjFxh1eqKvHq4iV8uTF6WWerW2NnAOi167T71xiSoQvbzXQq5UyZvaJuHiuvtPqXSuY65KMQdTatAiCybRLOrL6UYj1x55rIHHtn5lS+uR6twpAhr6sDue3doVSVc0LKeULIS+n7pW+SFKuXgdXa5MJOxJoL0j40Fl5xaoJkS44Xs2S3trJiwqK5x7lbK2C+sqjGH7PUXN08q3kjFXjqmqkfyvlyLKP8Us7JCf3UdFo3AsepzjsVa8ZzqJFZGQa9t5iOjoR5BGXUFQE8TBqkly7TA/EW5DYbFKLu0CLj/kZ1f/dK646wRIazJA7vv3XHn5AG1CYwZnCzv4x2FPlaC/fKjlayeQR+czNxPf9nc6CGvdhtssuxTI7nZx4N6+A9II4WWaUJjIy2TgAIoiKVT2LCpbeXkXUxXtkSRXZN7FuCmklJzRX0lmLvay5WnF7QBHXgzUkDFW0F5sNIPhxB4onRR6xKlGuujFHdCucWK2vgzzXf3Hpz5Kpywhg2TB3bfu/2uSVFVWZgryrDkJcFA4MGwoPLSUIp9UeS18EFeucELsknRkvStrsy9ct/kXmJKbxrEBEBHdBexYHHwcRGF/ZUrqIjIFNLqVyWsLHk181T8V4HKzpZym9SLUNypHma6zswVIIufeWFPUljWf46oxZD+D5RP9NGPDVFPdZAgDxMOJtbo3oNzjZ6OOoaYsCYP7L57+51TB+x+Va3B0Ete/NVtWXmSOSkOTtPaPkFYKQSTtwLxmcCSuC+hGrB5DLf6tRAxVWO1pc6q8Vyl6Xg1XC69TV6m8XkgVq1rXrKarNUjUmmCvmHL0E0va2DLrMqnY2uTRirIi4SDhD+CeOW7AKS9+6B3ZzbkyO1nRUzBPKtcD7dE1F31ixho4pGdG9eZVTiUhDW5f/fdO+6a3L+7+pUUuVSwUpu8Gr/GLS4olxrHL1OlzET3V6fglAMvSz1J0W+E9kvF3gY3iKkqqo+Y1IBtCCIlRAqr0CgFqYa0CVTVVHfDCp9BVGvf9jjjqgeVG2a3dU5XVfxBV/U9Npzyh2esNkL2xndAPi4nZiLlpmeuQggpekvJOrMbamyyCN0iJqvD3ukZOGGtZezZv/ueHXdO7mdVpSdVzA/VoNj04vfuUrgA5qc+NEYTf/FssoY7JjZ3oNmoaWJAg0NoJMvDqd2BQeRVBZ2bGkkVVP5wSKV2d6qez6LKXTNL2ZICrciPIouSRTWFws42ys9H4TFIezGyRlIszWaxCGFucpzmyxyle26cYizT1IMoZKTdNxkhhMnpdWcVDg1h7dm/++4dd+6pttYryYc/5UoWKGLT9+wgN6uaF8lxGOyUyZf0IrJMSpVBsKDPSxpMtsH9AWKWmFRl1vOWN1QZFGsm7FE9RsUQVD5DQo+BphKLgJAn1tCm9pJVZiS9sAlIZa/4u6bL/sOEiGcMCJ2IR/kQdNiFVl7yoQsfmT1IRa2qkF6SU7/0LKqWX2l68b6Hd97x5XUksoaAsPbs33339rv26BBQ5F9mqq7CXK1dBHbotE9baAiZQiWoa4a8WpLHDKd0qUzW5GBQduS2qbBucKv8LBFSLqaGpkkoJedf86JtQSXM9QnL5M8l6ME6cCojtacpt2IufSOIfhNlY9sfgiTQuUj4kLhQux8pdybkWu0j5qeRNiPNrveURA7n0l3gH9FsJVJXnMShf25jCj2BmD6zzOxCylPTM3DCWjvYc2D3D3/8gyyOBA1RY77qLQZpsoq2IRqssRQXkrzvYyVbnUpGZScqGi04ouC4ckDny9RLXrlMvcOMbq39MUB5qQxPkDT5UWjyytLMpin6Uqm3vsdeZGkuzUkiVP1ipH8blFtZhVR++jqLClagoCYKxc8lFenvHDdEva4Fqz5Wh/MFdbhhLioAe6Znp6Znr/vIeol6X+uE9fGPfuL//Op3ANy1/U4AP9p+V6lo0CavchPeMmVzgOspm3Jgy9f3ks3GipUMeVF/X+yVsl5e+6aTNskLQGicWV+NXULo5TgNUVVW3oQyDbfbHsOl69PagS/mtw0RLQ+T2g9TcwCJsOJLgXlcSTMjL3PDTZ0qRWwd8byiWh5FWrJxS1v6WDoSJClSuEO8rjgqxazmK7HQWNGe9URYgaj+Bq0hTE1NXXfddcXFu7bfxX8r8tIIzVdNoirUiv1t1CWUueXLrqQEaovHKC9zwy6MG5AsNbVoFTWTtVregBpIvZrKltC//iin7COvsrR2w6j9/JtVl0dX2OUx9tiIxFU9v3PcnqCsLV1k9RnxSy6U8nvxymczLvCR9pRnXjRPmc+r+qqF6lmG4hH97//jr2E50BxuawprXWE18Tc2/A35y+T1o4I7gKyINKzGag4oNRFPkpaza41lyiTdgB7zavFmI2jhZDGVSLPQX9ogjuDsCyRjBaCSFSOrZe7VqzVtzcXd3GKC4ZNGCEKrBBOBoWLucyaOl4P9FBvCiqVXxeHqQ2RfIJ8joS2+FNIRmSst6AEfTBHfydbMoJaiFI1F5pcpT2Fmp/+e6dmPrw+RNZSEpaHJ687tPwJw144WeWmo32F1Tb4H+mppKVQlmkFL6ctKwTitlb4rx0iOR0U/eQnHJSZtkpfZn68sDa3S0IsWsdrCmLw4QahWIEK3NXBTVYxuQ4A1NVmLNbKvvfdUwTzue6iHl59L21AGnbS+Cfm6sA1Tiq1A3Pn6KBCCLCXkv/yHGc88hByElb/S9gkGgAiTB9YLYQ2lSbgYMHndPVg42GuB/+lLWYX1NUdLnbu1tqN/zY+phcqUDR5pJJOhWMfx95fWj95kdpwutrRgtU+8Fv/Vwzm9lzKDei03DX2X9MojXI30QVYh8odvrUIq0jR+w9THl4O1lMWnX5vPRaVVJ+6aT1TClIVYs1BMaf6P/+nX6s4sFW4Srhp+fsN/KX/v3H43gDt33I3SjGlrp/5I0XyttSK3SKm+xmaIpZ97Kg9FMWn4VdJKpL7pqo6FkulNbHgsLk15UV8ytLVPI5ntUt2GlKI0JDtJrs4xq55DTNDQno2Iq5RGi768mVbZfCzOKszvKR/SJSeMCQ/BmrRqeWIAdRJ1H3Qf7TY01c5CQTEXgD0HZj/+0dEXWSNLWBo/v+Gvy99IXj/ccU+DTtqGn/6lMykVL4UqX11m9sMQ5IeccgRPW7QZ86P83ttG8quQ81ksnbwg0/s5laH1srlVc8qeLMosrYIe7GA3xfWgsSdqqVvjAklZCi/ipdVolSC3QG8YGhklLic0nk6l74I6sQIqaD4SWKy4iw0D8jbK0pT8TVSmIifZvT4Ia2RNwsXgh9vvAXDnjnsAqO9CNYrKC3nAaxi9b1K3tFgrhskGHJXxpHwnmBxVnQT7Xt1QNkXdNqsXbL36fETDUo0w8UYp+qya4lnk9b2D5xajTVTNqBoJwnUVLZH3ZCvqaTdyGkt5g3PoLPnHIGT3VlAfX/XTVHzMmUJVrKn9YVMrg6SE/+t//rW6XUuCm4RrGn9zw38hfyN5/XDHvQ1Jpb6exVKekrwagmXBiDAzVk0SI22McwP5pQ7gyjRSpImtJNUBkium1NwUXXN1eL2IDGWiFUwR8ptBpzRKMpMGhaoKnKRhEub21JqRm6TYojhWx3aLyxWnflYwNgZVPYRqLYRynVOxZ0PK3qmK7OZZzFaaYYHAAXRcbQiVVzQg7D4w+4lRF1nrWmH14Yfb7wXwgx33ArC/yNVgY1CmrYY+UNfKX8UyYVOzlHsD14dv9haux2QQw6RCM/7Ajsz+3lWZ5PTiJvKzanFwWZo630HLE9Mj7mRLxzX2DmqkKnVdZLpGmFtpkNYRfKVAraVuyC1fSHapVUK5MVGxWv0FED7xsQ/+D7/8873dXQRcYQ0l/uaGr8nfH2y/F8APd9wHwH6vG+vUOA1EeTUcLm1C6wtZCCZLexlNWaKuraE4JGYIdTojghoaBzoUoNdKMiqmRRlKoAHt4d0qt66oWHvEs2ydSiPqTF3KHWTiGLCFc7CF2O7YYqvGylY7mprz48+yK26jrMhY9rlm/33+7skGgWI9xjQv758t6x85uMJaAn6w/T4AP0jkBe2cMp6vctCFKnEzZdb2OllA9Y/KX3x49aRj69NVdFOvN7bJ2sqLbRxVWn+l2tCtmpdHqH4oanQbK6xFOuZOoW6KtuezTlGmMRlb1qi5EtD/YLnd/EkF+wR0i3XUgtJa5WKG8lcr5K9GIfQIv3jrLb+w4dLXQq+p4dbElVBYE69MbHzbxitQ0UrjFzbcIX9/sOM+An6wYytQfsWa+94O9nkNSDlIo1WDRg6hUAE9bR1EpbpJg7BSaymZNsj0ksD4srVzDo/qoGuVf/QEQxqPsjjOOMv0LGUazYZq9cCHfXo1CRYWnn0iBS+K5i0ZMBdS1K1ziwgi/WELiwXKz5QAvbeWZnP2eakgCFARK6vbFF48MPsLZYNGCitOWOOnxre9tG3jFzaudEVXGL9w6x0AfvHWOwD85x1b498g30ozRNW3jb+e8j7oG4IcAFGkhE1ZHI9sBhy7qCMnhCKNaaOiGxFBLfKS/3vFiDLQSGQcgh32zV6YBxBayezeD+q+WUtQZkI2msgmKkxCtEnQaFBTd+NT487GQkhrMWIZxVGzoXGchy4wZG+9tEhdSV0zHxPRSwdG3CpccZMwvBzwOra+ZevGazZeQva1r1E1pqamnpvZC+A/75jga9VPvf0XFVWUsKPUDLAq6YC3+ZttREGbGtItJYKCLkFy0MACW8W1WUm4gxouOZNYKLwxzNuqyqarLjWc+pWhXT2bOo15W7CQxGTYrwFrWn4s9a7btZIChLlSq7QzHgHA1zd87uuXahWu/eG2sgprfO843gGcx5YXt1waYQ0R4ocdP+9fvHUTgL/aMYFIXto6Y+2U0TrrMKOVsjq1sJIAjWGfrUtFXvq+1YOmajLR51IBGzQ5bVmt/vnXmZueeOVjtr0wwodSaXkBTKPJPfKnbhunUZqYigyk+6YzlQlLW5fzESivhxfizoFa8WIg8DJp6HJUMBdlASdtIGU5Ugjhxf2zX99Qd3ZEsLIKKzwU8EngAvACtl5/KSJr7VN+xILtjOT1Vzu2xbfyjSsVx6DtDVQym7LUPlZHNNlB249GedU6q5G1nClrTik0phELQtT1mtIs7/BLQxMNycZ1UnnRJFPx45StqmwSFo2inLmsTpmf9hEOaCGpj8/0FLLbFSFtR5MKJt2ceDfrsmAKTAz6h//Lf4dLwtofbiursDZ/YjPeim0Xtt3+qds3fmjjita1iljMx/z1WzfK37/aMUHAX+24P94yX2q1/0mTvPJX3G6WUHpXtOtnYWmDyAeK+Pp4s1YuZtWLyqljHQ15lQ0oJFW9LrpM1jiIJ/Ovbk2Pqip3obGqKoj8UTJ0gRaJ6lE6rXyikK22hNXUjIoNJcs9IBGUdk4wizfVBK7r+w/u/KXbRnPf5CsR1jD+2vj4m8cvLe/ap/zLbOF/2rENwH+K5NVaUa22e2ubW4M0WvuzFTnQb4qS8uYuIPq0XGl4fyCEyMkGnZitVUOfEcc5le4JZbK6aC1R0ptKADZQ29rV9aZBSvlmNloLD1peWthqsD4tKHYyGBqVBhkVyh38v3/n77c7NBBrf7h54Ohl4fI/4L916+3yN5LX93fc3/C/8o+z/uFv6Robr9AcCa2UJXlpw2qxh7+aH/l6Ro+Nm2q/hIos0h7BLYGWKCAoU6hxPoh6Alp5CX2Y5po4r/yT0cNUag60EdDPdp7qS0t5qRVe8a49TjWov1UXdNHxJrcoe/SI6IX9szd8bASX6ThhXTqW/edIk9f3d9wPwvd33N8QG8qQUMM2p2mQF7U1GuqUQl6FXanSpUHetyqQU8arcWQDJSvV9fa1kIqxmo04UTtcvlWbSocJI5WncnBpkofPfq1+DSomKkgwVFeqBiTChjqkPlKVmg9hOku7laafDrOVO7cqhHzQNMRsjFU7YV0KJiYmAOBWABgfHx8fH1/R6q4kVlo8/9KtXwXwSxu+CuD72+8H8P0dD/DNptFHdkmNNV1CO9iqWfUiF9Z01W6ictcKGXDdXHWf7ss80aatckscHvULHlmkmyLvySTLj6XRNFJtq5xxZs5OrqRDwIxJSIHrU+SXPX2xCfwTxLsqJzUpTvhcKR80nT9YSnF5BHzvgV3fGEU31soS1saNGzdt2nT7Xbcn5hoVXGFTP9JW/Psftz8AQ15oWC/IlgLJe8097Mq1OqllnUFtjN9Dc6wsEhfwD36oF/QBijcNpbWok8qbDWLSGrBhD5b3ijtUXKKyUm0hBpYxuSRmh6pwEruvXu2oGl7u6sd9DJDjwnL4aPGwEjfZk6KzMx6g5/fPfnrkRNaKm4S33347/hm2bNuydevWla7rymB1HZP/1YavyN9IXv9xx4M2SaUT5FiNZIVA6wQ5+IvsecTZ+BBbL5uiuoCKv1rJiIdcYVaRHn75MpR4qBeE7aH7XQAAEMJJREFUS1YoM7J5LqE8huwkynuB5vWUOl/DuqwOoE4VWKfSAHlmmZH0rZqp+dAJth/Bn442DHVFgXORLPghAsLz+0aQsK7ELGH4atj6j7du3LjxEvKutWmLtdYewV9ufxAN8kI5JOz0eWim0SkF2iE9MGU+0qpKZq6IcGuU11pB2VrpXX15g6mXZCyXyRrMkkVgTzepoPomxIXfOJXaUpfWu+rHoXxwzWgG1eJMeiHIDwCn/Df/698f2NoSa/brLbgiTvfbcGlstdawlj/Ob2y4Tf5G8vrLHdvlbh4FZpQYq01S1vIhBL2rnE1rLyHIOaBVqUaz9Jyy01AuOVNMkHtAilxabSkuMUMWjFPlbOoeXWnO2lBoZJ9TvR1Qo50k68mJ9P4Yape+SGq5aem9eYysHbN767l9sz9zzUiJLJ8lXCzWMlsV0OT1ve3bYckrITmAZcA3ojHFgqw3nEKTGrSssKsCs9ZQmZPiWCBUAqqR9nKZTFrRrNdIS1WYitQtzEZVWPFYyKRT1rHljgrt+CyjsGT9E6VV0mLMdlxnWqtjLFWttohCUltOWJeCzeObr0AtK4ohYqsC//WGDfI3ktf3duxI97TGWcQGfonRFM01o6jkSmdTpou2TCmRtV3hyVLJDI/ofSDq8spmk3aXsTlWxU+VdVJVmr5eQ3RSTY7K1SZkbdog0SIUnxUhhOReLNzwIYROtTUtQZTOWcb88wee+uZXR2qu0BXWwhhetiqgyes/bN+BSF4NvuknL2vHLRh6KnmbwaINNVeFZTVOby5EnyYBLXZ0V+LrbPyVyqh02OtculNl8wAVtBXYHrTPapAzXlu4QnhpQ9H8W8I+McpNDazLukDKooRQI7EZ+ef37/rmV2+uqx9SOGEtgJFhqwL/zYZb5W8kr/+w/aFGunoDv7bvaeEQUOpLySe2VyXqy/3rB/sCC9SbgjW0lWlL5QL5QGazBFqVqJqWn09rmrLlL2s640011tYTlahbHBk68BQHnzIt5ce7oPDMvtlvwglrfWBU2aqAJq+/yORVuZYI1uMT0fJAyYA2O0O1nF96oC9ioy7LNUrYtGcAiiJMmbSAw77NQVTksaAinT5LsFJ2BDT2NVQFRVPQuuFzY4jypg4qlET3MQB4Zt9cu4rhhBNWL9YJWxX42xtulb9/sf0h+QugHPDyqvSa27daPzQ2YleSrc01UUcY31BOq4ZyTXuk3NIN33ngXth668j1zEGF0Gqhzthjlup/K2d8Li254eNxYQVzxadC4t6qLOKY6E/v3/WtUbEKnbDaWJ9sVeBvb/g5+fvn2x8C8OfbfxxvhZAHX3PLPbDJw8OstoZagotTNrfE6TkLh9mkIZQo25JVIxuUpK7qGdRMK4pbM3dV8e6hnC20alHvdVU2mJMkb3qePeyqlHkdvLi3VPPVPll4Zu+sE9Yow9mqxjc3/Jz8jbT1Zw8yeXGaSq2kIVQoJ7KGIFg6tTxjMWU+oyH0hF/UVbeK6mGIfCmYDlX7+dXMAliXXMW2RfoQuYR6k4lO7FQDinVMxF6/7FxPzc1pOpGlhKdHyCp0wirhbLUgvrnhZ+VvpK0/2/5wvJV90pARGYdbP9HEgcl6ob3FICctN8+pykTvpeJOw2FfrwLg7ug5u36TN78rHXDJnmXlJTtci5IyBVW8atYYcHwWWAZydvHzJ+OxAwIvvfqTbbt+9fZREFlOWAbOVkvF37ntZ+Xvnz34MFnyUv6rPJKbcV4qoaYkFPRANmlOmZEXBoUiYe3/tlt39sej24qaUs5GXdV2rtGAimjIbMvVo7wKUtTUJoahVEQEc+IOADyzdw63V8UOIZywMpytLhN/57YvA/jl274M4N8/+DCAf7/9EaCgLqg5Le0mbu66iYZmKRSHKRJRgbRM0b7Ig1wTtGWq/UyKqUQWVfVWhdmU6nIp7lQAl21fSUy2De0ZxmKj+JTmqVGxCp2wEpytlhe/rMjrTyN5PfgIgNqgsiNRvynPRmwJJUbvJEBKxjanWpgdL7RUmmGWipW4tP6ZQpu3coSZKrO9WbeE5zGNlz6HWRFlM9AybKqat4kFiPDHE0/93Y2fHdjmIYATFuBstcL41m1flr9/+uAjAP7dg48oq6092yij2HJDgNoSJ6aE9f9kSoJlMbVHGKehxhrDaIeWW0EoM1asrYKyVEMLcZcqbXvWMg/XOaW10oc88aoCbmUbQt39wPuaRpfZv9m2ywlrRTAxMbFlS9o/69d//ddXeiMtZ6sriW/d9iX5++8efATAnz74KIm3SuSWJa96VwnYYSxJtVipMyhF1gyVaG+2p4rsnUasmx2Ul8rkSoUpX1uDqdjnJQ8kMMUmumS6jpHuaZso0kFkVLjhA57aO/fZa9/fejRDg7HVbkADcS+aiYmJTZs2/fZv/3Zxd9+ybl7qbLWK+JXbvvQrt33pe7/zW3/5O7/1rdu+9K3bvtQhxP/Ao5WiG54tK0Jo/ZdTEhERurRDcSAukIsNiFlikcocJaCLO9Yg5yVS/+WKqEv/mews+1KrOsll8qJL/2VG6qTBpFtCuiXIbYhlpqfSBSJQJ7dSv2LiVGbsV0d4au/Qe7LWosICsHXr1hDC5s2bb77ZzMUeGh8/sGXL9MaN123e/KHL3mPL2Wrt4Fdu+6L8/ZMHHgXwJw8+1kgXhYQxJW1QEifsxHhDsdy68j0p2jIuIOtH08toONyhUFgDJjSzXywERHuzzGvFoVJe1EiW9ZuJeMjtkkVROXYX/9/EU//tkFuFK0JY+rCJ8fHx13938uwbxpsp+/yW24ENwLZt27594sS5q6+W62/btu0GABMT5ycmpjZu/MjmzW+6VNpytlqz+NWvfFH+/nEir8frZGoBHaogVWNikqaWQb7yMmbdlknNNJk3Ddf0hm5oF7tim7QNPPMjG6d1s4NuU9GYyHLJANRueN5jC7v2zt08zFbhyiqsLVu2ALf9k9/9f5ea8Z9u2vQg0fj4+MOf+9w3vvENuf6G8fEwMXEeOAW87/bbna1GHn/3K1+Uv3/8wGMA/u0DSXnl2AKogU1oBqkybPBEz85fZZkAtULn9bSd1nfJjM2FoXqtWmuIRbioIirNhvJCdvNLV4wbnpuUcsS0u6aGm7BWcE/3TZs2Abdt3fq7S804Pj6+cePG6Mm65ZZbvvOd78gOyyfGx/ds2fLuzZuvu4wTw5ytRgD/NpGXVV566CcTz9h4hdmY5Ri1I+wLzsvFG1JJ04q9A6lJkepiY04TmjjTv40DMjhnFa6hqg5MWfw47tny9/pauvaHxkoR1qZNm4CPbd36/7RrXWAnf4fDsdZxBc6vqbEiJmE8hbCPrSJu+M7OsUABCAFjAWMgBIyFdIhBCBhrvEAALeIFQqAQMDbgBSdbxAuEQGO9LzAWT1QY+CIAY4HMi3b6hVsekJ9SzwsE0IAXqfsLJRvra3nPUyo/rzi51xGIqKPu4kXqQF18Q2NjY5C7hNdee406Qpfu/8Sb30wdSYJz514lIuqIOiKin7zqJ9MUfkcgnD59Jk6YxTRve9vbpVgiOnnyFPEtEN75zqvj/FpMcOzoMSIQYsl4z7vfg5QVIMzPH+bJOCLC+973vuhUiv7ymZkZpM4BhA988INgrxMB09MHU0VAR/jIhz+S7iIQsHffPvA0JRGuufYacPgoEfZMToFjzYjo+o9/QocyvPTSy3k+kfDTP/0pEmOQ8MILL5LkBT796Z/JdxGeeebZ+DZmv/Gmm5KzDAHArl1PUz7ANdx88+cIgZ2D4YknnyQCT3eG7373u8tNG4vCshHW+Pjkli2HgJ8AdgK/sSrs63A4RhvLQ1gTE0e3bJkEfhIYA8aA35SJwlE6nt7hcKwulo2wgA54A/BG4EvAl8bHb1qWkh0Oh0OwXCYhAReBq3g2ormUwuFwOC4Ly0NY4+Of2rbt+MTEWeBNAG3e/OFlKdYxvOBYpORHHxsboxgXSYECvf766+JEp47e9KY3oYMsqzl//jXqCNTFNFdddRUl3ziB6MyZc5IRRG9721spLj8BgejUqdNyl4je+c53UMoIIhw/diJ66zsCiN717nfHbPHu0SNHU0aACO9973ujcz+6qOdm52XpDwgf/MAHSHnZDx2c4QaCiD784Q9LSCcR9u+fRjyokUDANR+7Buw4B2Fq715ZJ9QRrr/+uhw4Cry8ezeUl/2Tn/xkjGSIb1966cWOQAggdMANN9ygvOx47rnnxMVOwGdu/Iz2sj/99NMd79fcAZ+9+WZxzxPCrp07u7yiKPy1W26huPAohHp7nyuGZXO6b936s+Pju4E3btx49caNVy+cweFwOJaI5QxrGB//xDKW5nA4HAXW4m4NDofD0YQTlsPhGBqs4FrCQbX60hyHY8gxOktzFoNF9nZJqzHX/tJNx3rAv57YBeBfTzwV3+YjpguYzWXQfJ33cChu1au163XaeY10CDJlCX16Bf3G1276jTtulFyLH0GrpTlWTWEtO2E5WznWICJ5/eHWRF68TxcAw2L16YSkEtqUxZYMQV3lvRvijTZLys20BcQT//RX5OaSCGt9KazlhbOVY23iv994s/yNtPWHE0+h2uWmse87kA+1532t0N7kKy3Jjgh9KXOVesud8Njk/Beuf99S+7VaGAXCcrZyDAX+wabPyt/vbn0KwHe3Pp3uFUyVNBPVe2CRTVxvjdU87AcAyeH1mv9Aj00NE2Gtjq5bPBYkI2crx7DjXxXkxSBlPAKwyohfBXMlWGFlT/FRXGa39Nv5z74VL6/90TTcCmvtP1+HY0F8e9Nn5e+/2vo0CH/A5GXPw26YjfrgH6hdTyvlpfaSz8eKxQVU4dHJ+S8OichaBcKamJiYmJiQTZAvGc5WjtHDtzfdBODbd9wE4A/uexrAH2x9pmCqyiZqePHrxGqGUQ6pCHFn5UenegmrOVqLU2ZiGgCXP6gXxJUOHI2HpCKdT3HpcLZyjDz+4R03/cM7btr5u7+685/86rfvuPHbm25MJxjyhCD/l5ZOdwDi+uTGiYoh38rn6IQuBKLw+/c822zAgqM1Xp9Y1qNCB+MNV3iDvT/6oz+69tprx8fH9+7dG5l7cPoTJ068613vKi46WznWG7543fu/eN37f/OOm37zjpuA8Pnr3v/o5OHIQYgnHSoKY5g4L9KeK77KOzcEAF+6/n3FcOsbraKkrr322o0bN05MTMSDY6699toVfAQAhtGH5WzlWOf4zTtuBPCP7rgRwL+89xkAv3/fMwBAwfq8MkPJbKOZY5OIVsLDk4d/a4nN0BQWdc+2bdu2bt16SX1aLIaMsJytHA6Nf/S1G+Xv70fyupftO/atk/FumZiIxGgBj0zOL7XqLVu2RJ4SwXUFwt9Xk7CW6p9ztnI4BuC3vnaj/P29e58F8Hv3GPIS6Aj7juMh/sU9z37942/pK7wYrePj45s3b46vF+PbWS6sQhzWpk2bbr/99kWqRyEpZyuH49Lwe/c8S0xhGmoxUADw5evf+4//+jXFKCtGq6zI2bRpk4xf8c1v3rx5pZlrOAJHna0cjmXBv7jnWQD//J7n0nsbafqjb39hjQ+0ISAsAGv8ITocw4h/Hsnr7kxef+vjb/nOP/jF1WzTQljbhHX48JOPPXb1DTesdjscjhFH1Fyvn7nqf/t7X3vve1e7Nf1Y24R17BguXsRafn4Oxwjh8GG84Q1497tXux39WNuE5XA4HAq+p7vD4Rga/P9VsywmAhdX/wAAAABJRU5ErkJggg=='>"
      ],
      "text/plain": [
       "<IPython.core.display.HTML object>"
      ]
     },
     "metadata": {},
     "output_type": "display_data"
    }
   ],
   "source": [
    "lv.reload() #Because we have new data since last display\n",
    "lv.display()"
   ]
  },
  {
   "cell_type": "markdown",
   "metadata": {},
   "source": [
    "More about properties\n",
    "---\n",
    "All the available properties are listed here:\n",
    "https://github.com/OKaluza/LavaVu/wiki/Property-Reference\n",
    "\n",
    "Properties can be passed as arguments to the function used to create the object or set using the python dictionary syntax afterwards.\n",
    "\n",
    "Property values \"cascade\", meaning a property that is only defined on a specific type of object, can still be set at a broader scope (such as globally or on a timestep), where it will define a default value for all objects within that scope. If not set at any level the properties fall back to their default values.\n",
    "Available scopes are: global, timestep, view, object, colourmap"
   ]
  },
  {
   "cell_type": "markdown",
   "metadata": {},
   "source": [
    "More about geometry types\n",
    "---\n",
    " - **points** : each vertex is a point\n",
    " - **lines**: each pair of vertices is a line, or if \"link\" property is true, each element block of vertices is a single joined line. Element blocks can be defined automatically by setting the \"dims\" property to a value [N] which will cause a new block to start once N vertices are loaded into the active one. Blocks of different sizes can be defined by calling the append() function on an object to explicitly start a new block.  \n",
    " - **triangles**: each vertex triple is a triangle, or if indices provided each index triple referencing the vertex array is a triangle. If \"dims\"=[width, height] is specified, instead plotted as a regular grid mesh where vertices are the grid points.\n",
    " - **quads**: Plots a regular grid as for triangles but using quads, requires \"dims\"=[width, height] to be set\n",
    " - **vectors**: Plots vector arrows at each vertex, requires a vector field to be loaded.\n",
    " - **tracers**: Plots tracer lines or arrows over time-varying point vertices.\n",
    " - **shapes**: Plots ellipsoids or cuboids at each vertex. Data fields or properties can be used to define their dimensions.\n",
    " - **volume**: Volume render a cube of data or a set of slices.\n",
    " - **labels**: as points, but the points are hidden to allow label data to be displayed without other geometry being plotted.\n",
    "\n",
    "> NOTE: The function used to create the object only specifies how the\n",
    "> subsequent data loaded will be rendered, the objects themselves are\n",
    "> all the same. This can be changed after object creation with the\n",
    "> \"geometry\" property, so to load a triangle mesh into our 'pts' object,\n",
    "> we can set pts[\"geometry\"] = \"triangles\" before loading the mesh data. Both the points and the mesh will be plotted with the properties of the pts object.\n"
   ]
  },
  {
   "cell_type": "markdown",
   "metadata": {},
   "source": [
    "Time Varying data\n",
    "---\n",
    "When loading data, there is initially no time dimension defined. All geometry loaded at this point is considered fixed in time and will always be rendered.\n",
    "\n",
    "To define a time step, call the addstep() function, properties can also be passed to this function which will apply to this timestep only:\n",
    "\n",
    "    lv.addstep(title=\"1/1/2018\")\n",
    "\n",
    "All data subsequently loaded will be considered temporal and displayed only when its timestep is set to the active one:"
   ]
  },
  {
   "cell_type": "code",
   "execution_count": 30,
   "metadata": {},
   "outputs": [],
   "source": [
    "falling = lv.points(\"falling\", pointsize=20, pointtype=\"sphere\", colour=\"green\")\n",
    "\n",
    "for time in range(0,20):\n",
    "    lv.addstep(time)\n",
    "    height = 1.0 - 0.05*time\n",
    "    falling.vertices([0.5, height, 0.5])"
   ]
  },
  {
   "cell_type": "markdown",
   "metadata": {},
   "source": [
    "Timestep information can also be retrieved and set as follows:"
   ]
  },
  {
   "cell_type": "code",
   "execution_count": 31,
   "metadata": {},
   "outputs": [
    {
     "name": "stdout",
     "output_type": "stream",
     "text": [
      "[0, 1, 2, 3, 4, 5, 6, 7, 8, 9, 10, 11, 12, 13, 14, 15, 16, 17, 18, 19]\n",
      "Current timestep:  5\n"
     ]
    },
    {
     "data": {
      "text/html": [
       "<img src='data:image/png;base64,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'>"
      ],
      "text/plain": [
       "<IPython.core.display.HTML object>"
      ]
     },
     "metadata": {},
     "output_type": "display_data"
    }
   ],
   "source": [
    "print(lv.steps)\n",
    "lv.step = 5 #Attempt to set timestep 5 (if not found, nearest match will be selected)\n",
    "print(\"Current timestep: \", lv[\"timestep\"])\n",
    "lv.display()"
   ]
  },
  {
   "cell_type": "markdown",
   "metadata": {},
   "source": [
    "### Interaction\n",
    "An inline interactive mode is provided for IPython notebooks where the interactive window is displayed inline within a cell. This operates in the background and python commands can continue to be issued.\n",
    "\n",
    "Control widgets can also be created to interactively manipulate rendering properties from IPython, such as active timestep\n",
    "\n",
    "An interactive window allows mouse control to adjust the viewpoint"
   ]
  },
  {
   "cell_type": "code",
   "execution_count": null,
   "metadata": {},
   "outputs": [],
   "source": [
    "lv.control.TimeStepper()\n",
    "lv.window()"
   ]
  },
  {
   "cell_type": "code",
   "execution_count": null,
   "metadata": {},
   "outputs": [],
   "source": []
  }
 ],
 "metadata": {
  "kernelspec": {
   "display_name": "Python 3",
   "language": "python",
   "name": "python3"
  },
  "language_info": {
   "codemirror_mode": {
    "name": "ipython",
    "version": 3
   },
   "file_extension": ".py",
   "mimetype": "text/x-python",
   "name": "python",
   "nbconvert_exporter": "python",
   "pygments_lexer": "ipython3",
   "version": "3.6.6"
  }
 },
 "nbformat": 4,
 "nbformat_minor": 1
}
