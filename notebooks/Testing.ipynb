{
 "cells": [
  {
   "cell_type": "code",
   "execution_count": null,
   "metadata": {
    "scrolled": false
   },
   "outputs": [],
   "source": [
    "import lavavu\n",
    "print(lavavu.version)\n",
    "print(lavavu.__file__)"
   ]
  },
  {
   "cell_type": "code",
   "execution_count": null,
   "metadata": {
    "collapsed": true,
    "scrolled": true
   },
   "outputs": [],
   "source": [
    "lv = lavavu.Viewer(background=\"white\")"
   ]
  },
  {
   "cell_type": "code",
   "execution_count": null,
   "metadata": {
    "collapsed": true,
    "scrolled": true
   },
   "outputs": [],
   "source": [
    "lv.test()"
   ]
  },
  {
   "cell_type": "code",
   "execution_count": null,
   "metadata": {
    "scrolled": true
   },
   "outputs": [],
   "source": [
    "print(lv.objects)\n"
   ]
  },
  {
   "cell_type": "code",
   "execution_count": null,
   "metadata": {
    "collapsed": true,
    "scrolled": true
   },
   "outputs": [],
   "source": [
    "points = lv.objects[\"particles\"]"
   ]
  },
  {
   "cell_type": "code",
   "execution_count": null,
   "metadata": {
    "collapsed": true,
    "scrolled": true
   },
   "outputs": [],
   "source": [
    "lv.list()\n",
    "#lv.hide(3, 4, 5, 6)\n",
    "points[\"pointsize\"] = 6\n",
    "lv[\"pointtype\"] = \"sphere\"\n",
    "lv.rotate('y', 45)"
   ]
  },
  {
   "cell_type": "code",
   "execution_count": null,
   "metadata": {
    "collapsed": true,
    "scrolled": true
   },
   "outputs": [],
   "source": [
    "#Clear filters\n",
    "points[\"filters\"] = []\n",
    "#Filter out a range of values\n",
    "myfilter = points.excludemap('demo colours', (0.4, 0.6))\n",
    "lv.redraw()"
   ]
  },
  {
   "cell_type": "code",
   "execution_count": null,
   "metadata": {
    "scrolled": false
   },
   "outputs": [],
   "source": [
    "lv.control.Panel()\n",
    "#tabs = lv.control.Tabs()\n",
    "\n",
    "points.control.Range(\"pointsize\", range=(1.,10), step=0.5, command=\"reload\") #Requires a reload if set on obj\n",
    "points.control.Filter(myfilter)\n",
    "lv.control.Range(command=\"scale y\", value=1, range=(1.,10), step=1)\n",
    "lv.control.Range(command=\"reset;rotate x\", value=0, label=\"Spin\", range=(0, 360), step=1)\n",
    "lv.control.ObjectList()\n",
    "\n",
    "o = lv.control.ObjectSelect()\n",
    "oc = o.control.ColourMapList()\n",
    "#o.control.Checkbox(\"visible\")\n",
    "#o.control.Range(\"opacity\", range=(0.,1.), step=0.01, command=\"reload\")\n",
    "\n",
    "tabs = lv.control.Tabs()\n",
    "tabs.tab(\"Point\")\n",
    "points.control.Range(\"pointsize\", range=(1.,10), step=0.5, command=\"reload\")\n",
    "tabs.tab(\"Surface\")\n",
    "points.control.Checkbox(\"wireframe\")\n",
    "tabs.tab(\"Volume\")\n",
    "points.control.Range(\"density\", range=(0.,100.), step=1)\n",
    "\n",
    "lv.control.show()"
   ]
  },
  {
   "cell_type": "code",
   "execution_count": null,
   "metadata": {
    "collapsed": true
   },
   "outputs": [],
   "source": [
    "lv.list('colourmaps')"
   ]
  },
  {
   "cell_type": "code",
   "execution_count": null,
   "metadata": {},
   "outputs": [],
   "source": [
    "lv.select(\"Z-cross-section\")\n",
    "lv.props()\n",
    "obj = lv.objects[\"Z-cross-section\"]\n",
    "print(obj)\n",
    "obj.reload()"
   ]
  },
  {
   "cell_type": "code",
   "execution_count": null,
   "metadata": {
    "scrolled": false
   },
   "outputs": [],
   "source": [
    "lines = lv.objects[\"line-segments\"]\n",
    "print(lines[\"colourmap\"])\n",
    "lines.colourmap(lavavu.cubeHelix())\n",
    "cb = lines.colourbar()"
   ]
  },
  {
   "cell_type": "code",
   "execution_count": null,
   "metadata": {
    "scrolled": false
   },
   "outputs": [],
   "source": [
    "points.control.List([\"\", \"blur\", \"smooth\", \"sphere\", \"shiny\", \"flat\"], property=\"pointtype\", command=\"reload\")\n",
    "points.control.ColourMapList()\n",
    "points.control.ColourMaps()\n",
    "lv.control.Command()\n",
    "lv.control.Entry(command=\"title\")\n",
    "lv.control.show()"
   ]
  },
  {
   "cell_type": "code",
   "execution_count": null,
   "metadata": {
    "collapsed": true,
    "scrolled": true
   },
   "outputs": [],
   "source": [
    "#lv.interactive()\n",
    "#lv.reset()\n",
    "#lv.show(\"lines\")\n",
    "#lv.serve()"
   ]
  },
  {
   "cell_type": "code",
   "execution_count": null,
   "metadata": {},
   "outputs": [],
   "source": [
    "print(lv.objects)"
   ]
  },
  {
   "cell_type": "code",
   "execution_count": null,
   "metadata": {
    "scrolled": false
   },
   "outputs": [],
   "source": [
    "points[\"pointsize\"] = 5\n",
    "#points[\"colourmap\"] = \"ocean\"\n",
    "print(points)\n",
    "lv.reload()\n",
    "lv.control.update()\n",
    "lv.redisplay()"
   ]
  },
  {
   "cell_type": "code",
   "execution_count": null,
   "metadata": {
    "scrolled": false
   },
   "outputs": [],
   "source": [
    "lv.figures"
   ]
  },
  {
   "cell_type": "code",
   "execution_count": null,
   "metadata": {
    "collapsed": true,
    "scrolled": false
   },
   "outputs": [],
   "source": [
    "fig1 = lv.Figure(\"MyFigure\", lv.objects.list)\n",
    "fig2 = lv.Figure(\"ptslines\", [points])"
   ]
  },
  {
   "cell_type": "code",
   "execution_count": null,
   "metadata": {},
   "outputs": [],
   "source": [
    "print(lv.objects)\n",
    "print(points == lv.objects[\"particles\"])"
   ]
  },
  {
   "cell_type": "code",
   "execution_count": null,
   "metadata": {
    "collapsed": true
   },
   "outputs": [],
   "source": [
    "fig1[\"alpha\"] = 0.5"
   ]
  },
  {
   "cell_type": "code",
   "execution_count": null,
   "metadata": {},
   "outputs": [],
   "source": [
    "fig1.show(resolution=[400,300])"
   ]
  },
  {
   "cell_type": "code",
   "execution_count": null,
   "metadata": {},
   "outputs": [],
   "source": [
    "fig2[\"alpha\"] = 1\n",
    "fig2[\"scalepoints\"] = 0.5\n",
    "#lv.reset()\n",
    "fig2.save()\n",
    "fig2.show(resolution=[500,400])"
   ]
  },
  {
   "cell_type": "code",
   "execution_count": null,
   "metadata": {
    "collapsed": true
   },
   "outputs": [],
   "source": []
  }
 ],
 "metadata": {
  "kernelspec": {
   "display_name": "Python 3",
   "language": "python",
   "name": "python3"
  },
  "language_info": {
   "codemirror_mode": {
    "name": "ipython",
    "version": 3
   },
   "file_extension": ".py",
   "mimetype": "text/x-python",
   "name": "python",
   "nbconvert_exporter": "python",
   "pygments_lexer": "ipython3",
   "version": "3.6.3"
  },
  "widgets": {
   "state": {},
   "version": "1.0.0"
  }
 },
 "nbformat": 4,
 "nbformat_minor": 1
}
