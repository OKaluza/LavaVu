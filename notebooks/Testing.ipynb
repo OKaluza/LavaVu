{
 "cells": [
  {
   "cell_type": "code",
   "execution_count": null,
   "metadata": {
    "collapsed": false
   },
   "outputs": [],
   "source": [
    "import lavavu"
   ]
  },
  {
   "cell_type": "code",
   "execution_count": null,
   "metadata": {
    "collapsed": false
   },
   "outputs": [],
   "source": [
    "lv = lavavu.Viewer()"
   ]
  },
  {
   "cell_type": "code",
   "execution_count": null,
   "metadata": {
    "collapsed": false
   },
   "outputs": [],
   "source": [
    "lv.test()"
   ]
  },
  {
   "cell_type": "code",
   "execution_count": null,
   "metadata": {
    "collapsed": false
   },
   "outputs": [],
   "source": [
    "lv.get()\n",
    "print lv.objects"
   ]
  },
  {
   "cell_type": "code",
   "execution_count": null,
   "metadata": {
    "collapsed": false
   },
   "outputs": [],
   "source": [
    "points = lv.objects[\"particles\"]"
   ]
  },
  {
   "cell_type": "code",
   "execution_count": null,
   "metadata": {
    "collapsed": false
   },
   "outputs": [],
   "source": [
    "lv.list()\n",
    "#lv.hide(3, 4, 5, 6)\n",
    "points[\"pointsize\"] = 6\n",
    "lv[\"pointtype\"] = \"sphere\"\n",
    "lv[\"background\"] = \"white\"\n",
    "lv.rotate('y', 45)"
   ]
  },
  {
   "cell_type": "code",
   "execution_count": null,
   "metadata": {
    "collapsed": false
   },
   "outputs": [],
   "source": [
    "#Clear filters\n",
    "points[\"filters\"] = []\n",
    "#Filter out a range of values\n",
    "myfilter = points.excludemap('demo colours', (0.4, 0.6))\n",
    "lv.redraw()"
   ]
  },
  {
   "cell_type": "code",
   "execution_count": null,
   "metadata": {
    "collapsed": false,
    "scrolled": false
   },
   "outputs": [],
   "source": [
    "import control\n",
    "panel = control.Panel(lv)\n",
    "panel.add(control.Range(points, \"pointsize\", range=(1.,10), step=0.5, command=\"reload\")) #Requires a reload if set on obj\n",
    "panel.add(control.Filter(points, myfilter))\n",
    "panel.add(control.Range(lv, command=\"scale y\", value=1, range=(1.,10), step=1))\n",
    "panel.add(control.Range(lv, command=\"reset;rotate x\", value=0, label=\"Spin\", range=(0, 360), step=1))\n",
    "panel.add(control.ObjectList(lv))\n",
    "panel.show()"
   ]
  },
  {
   "cell_type": "code",
   "execution_count": null,
   "metadata": {
    "collapsed": false
   },
   "outputs": [],
   "source": [
    "#lv.interactive()\n",
    "#lv.reset()\n",
    "#lv.show(\"lines\")\n",
    "#lv.serve()"
   ]
  },
  {
   "cell_type": "code",
   "execution_count": null,
   "metadata": {
    "collapsed": false
   },
   "outputs": [],
   "source": [
    "#lv.objects[\"line-segments\"][\"visible\"] = False\n",
    "#lv.display(resolution=(1024,768))"
   ]
  },
  {
   "cell_type": "code",
   "execution_count": null,
   "metadata": {
    "collapsed": true
   },
   "outputs": [],
   "source": []
  }
 ],
 "metadata": {
  "kernelspec": {
   "display_name": "Python 2",
   "language": "python",
   "name": "python2"
  },
  "language_info": {
   "codemirror_mode": {
    "name": "ipython",
    "version": 2
   },
   "file_extension": ".py",
   "mimetype": "text/x-python",
   "name": "python",
   "nbconvert_exporter": "python",
   "pygments_lexer": "ipython2",
   "version": "2.7.9"
  }
 },
 "nbformat": 4,
 "nbformat_minor": 0
}
