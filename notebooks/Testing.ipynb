{
 "cells": [
  {
   "cell_type": "code",
   "execution_count": null,
   "metadata": {
    "collapsed": false,
    "deletable": true,
    "editable": true
   },
   "outputs": [],
   "source": [
    "import lavavu"
   ]
  },
  {
   "cell_type": "code",
   "execution_count": null,
   "metadata": {
    "collapsed": false,
    "deletable": true,
    "editable": true
   },
   "outputs": [],
   "source": [
    "lv = lavavu.Viewer(background=\"white\")"
   ]
  },
  {
   "cell_type": "code",
   "execution_count": null,
   "metadata": {
    "collapsed": false,
    "deletable": true,
    "editable": true
   },
   "outputs": [],
   "source": [
    "lv.test()"
   ]
  },
  {
   "cell_type": "code",
   "execution_count": null,
   "metadata": {
    "collapsed": false,
    "deletable": true,
    "editable": true
   },
   "outputs": [],
   "source": [
    "print lv.getobjects()"
   ]
  },
  {
   "cell_type": "code",
   "execution_count": null,
   "metadata": {
    "collapsed": false,
    "deletable": true,
    "editable": true
   },
   "outputs": [],
   "source": [
    "points = lv.objects[\"particles\"]"
   ]
  },
  {
   "cell_type": "code",
   "execution_count": null,
   "metadata": {
    "collapsed": false,
    "deletable": true,
    "editable": true
   },
   "outputs": [],
   "source": [
    "lv.list()\n",
    "#lv.hide(3, 4, 5, 6)\n",
    "points[\"pointsize\"] = 6\n",
    "lv[\"pointtype\"] = \"sphere\"\n",
    "lv.rotate('y', 45)"
   ]
  },
  {
   "cell_type": "code",
   "execution_count": null,
   "metadata": {
    "collapsed": false,
    "deletable": true,
    "editable": true
   },
   "outputs": [],
   "source": [
    "#Clear filters\n",
    "points[\"filters\"] = []\n",
    "#Filter out a range of values\n",
    "myfilter = points.excludemap('demo colours', (0.4, 0.6))\n",
    "lv.redraw()"
   ]
  },
  {
   "cell_type": "code",
   "execution_count": null,
   "metadata": {
    "collapsed": false,
    "deletable": true,
    "editable": true
   },
   "outputs": [],
   "source": [
    "lv.control.Panel()\n",
    "points.control.Range(\"pointsize\", range=(1.,10), step=0.5, command=\"reload\") #Requires a reload if set on obj\n",
    "points.control.Filter(myfilter)\n",
    "lv.control.Range(command=\"scale y\", value=1, range=(1.,10), step=1)\n",
    "lv.control.Range(command=\"reset;rotate x\", value=0, label=\"Spin\", range=(0, 360), step=1)\n",
    "lv.control.ObjectList()\n",
    "lv.control.show()"
   ]
  },
  {
   "cell_type": "code",
   "execution_count": null,
   "metadata": {
    "collapsed": false,
    "deletable": true,
    "editable": true
   },
   "outputs": [],
   "source": [
    "lines = lv.objects[\"line-segments\"]\n",
    "lines.colourmap(lavavu.cubeHelix())\n",
    "cb = lines.colourbar()"
   ]
  },
  {
   "cell_type": "code",
   "execution_count": null,
   "metadata": {
    "collapsed": false,
    "deletable": true,
    "editable": true
   },
   "outputs": [],
   "source": [
    "lv.control.clear()\n",
    "points.control.List([\"\", \"blur\", \"smooth\", \"sphere\", \"shiny\", \"flat\"], property=\"pointtype\", command=\"reload\")\n",
    "points.control.ColourMaps()\n",
    "lv.control.Command()\n",
    "lv.control.Entry(command=\"title\")\n",
    "lv.control.show()"
   ]
  },
  {
   "cell_type": "code",
   "execution_count": null,
   "metadata": {
    "collapsed": false,
    "deletable": true,
    "editable": true
   },
   "outputs": [],
   "source": [
    "#lv.interactive()\n",
    "#lv.reset()\n",
    "#lv.show(\"lines\")\n",
    "#lv.serve()"
   ]
  },
  {
   "cell_type": "code",
   "execution_count": null,
   "metadata": {
    "collapsed": true,
    "deletable": true,
    "editable": true
   },
   "outputs": [],
   "source": []
  }
 ],
 "metadata": {
  "kernelspec": {
   "display_name": "Python 2",
   "language": "python",
   "name": "python2"
  },
  "language_info": {
   "codemirror_mode": {
    "name": "ipython",
    "version": 2
   },
   "file_extension": ".py",
   "mimetype": "text/x-python",
   "name": "python",
   "nbconvert_exporter": "python",
   "pygments_lexer": "ipython2",
   "version": "2.7.12+"
  }
 },
 "nbformat": 4,
 "nbformat_minor": 0
}
